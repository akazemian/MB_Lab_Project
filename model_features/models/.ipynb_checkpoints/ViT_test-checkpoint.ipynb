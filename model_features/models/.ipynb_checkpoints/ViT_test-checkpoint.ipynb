{
 "cells": [
  {
   "cell_type": "code",
   "execution_count": 7,
   "id": "6cca3979-1be0-464c-af8a-c8ee9dde545e",
   "metadata": {},
   "outputs": [
    {
     "data": {
      "text/plain": [
       "torch.Size([1, 768])"
      ]
     },
     "execution_count": 7,
     "metadata": {},
     "output_type": "execute_result"
    }
   ],
   "source": [
    "import timm\n",
    "import torch\n",
    "\n",
    "\n",
    "transformer = timm.create_model('vit_base_patch16_224', pretrained=False)\n",
    "transformer.head = torch.nn.Identity()\n",
    "im = torch.Tensor(1,3,224,224)\n",
    "\n",
    "transformer(im).shape"
   ]
  },
  {
   "cell_type": "code",
   "execution_count": 11,
   "id": "a1898077-e521-499f-bcb6-114a038b8682",
   "metadata": {},
   "outputs": [
    {
     "ename": "AttributeError",
     "evalue": "'VisionTransformer' object has no attribute 'features'",
     "output_type": "error",
     "traceback": [
      "\u001b[0;31m---------------------------------------------------------------------------\u001b[0m",
      "\u001b[0;31mAttributeError\u001b[0m                            Traceback (most recent call last)",
      "Cell \u001b[0;32mIn[11], line 1\u001b[0m\n\u001b[0;32m----> 1\u001b[0m \u001b[38;5;28mprint\u001b[39m(\u001b[43mtransformer\u001b[49m\u001b[38;5;241;43m.\u001b[39;49m\u001b[43mfeatures\u001b[49m)\n",
      "File \u001b[0;32m~/miniconda3/envs/bonner-lab-new/lib/python3.10/site-packages/torch/nn/modules/module.py:1614\u001b[0m, in \u001b[0;36mModule.__getattr__\u001b[0;34m(self, name)\u001b[0m\n\u001b[1;32m   1612\u001b[0m     \u001b[38;5;28;01mif\u001b[39;00m name \u001b[38;5;129;01min\u001b[39;00m modules:\n\u001b[1;32m   1613\u001b[0m         \u001b[38;5;28;01mreturn\u001b[39;00m modules[name]\n\u001b[0;32m-> 1614\u001b[0m \u001b[38;5;28;01mraise\u001b[39;00m \u001b[38;5;167;01mAttributeError\u001b[39;00m(\u001b[38;5;124m\"\u001b[39m\u001b[38;5;124m'\u001b[39m\u001b[38;5;132;01m{}\u001b[39;00m\u001b[38;5;124m'\u001b[39m\u001b[38;5;124m object has no attribute \u001b[39m\u001b[38;5;124m'\u001b[39m\u001b[38;5;132;01m{}\u001b[39;00m\u001b[38;5;124m'\u001b[39m\u001b[38;5;124m\"\u001b[39m\u001b[38;5;241m.\u001b[39mformat(\n\u001b[1;32m   1615\u001b[0m     \u001b[38;5;28mtype\u001b[39m(\u001b[38;5;28mself\u001b[39m)\u001b[38;5;241m.\u001b[39m\u001b[38;5;18m__name__\u001b[39m, name))\n",
      "\u001b[0;31mAttributeError\u001b[0m: 'VisionTransformer' object has no attribute 'features'"
     ]
    }
   ],
   "source": [
    "print(transformer.features)"
   ]
  },
  {
   "cell_type": "code",
   "execution_count": null,
   "id": "c206ae93-7eec-43fe-a796-a34769edc240",
   "metadata": {},
   "outputs": [],
   "source": [
    "from timm.models.vision_transformer import VisionTransformer, _cfg\n",
    "\n",
    "custom_config = _cfg()\n",
    "custom_config.url = None  # No pre-trained weights\n",
    "\n",
    "# Increase the embedding dimension (width)\n",
    "custom_config.embed_dim = model.embed_dim * 2\n",
    "\n",
    "# Adjust the number of heads in multi-head attention\n",
    "custom_config.num_heads = model.num_heads * 2\n",
    "\n",
    "# Increase the size of the hidden layers in the MLP\n",
    "custom_config.mlp_ratio = model.mlp_ratio * 2\n",
    "\n",
    "\n",
    "\n",
    "custom_model = VisionTransformer(\n",
    "    img_size=224, patch_size=16, embed_dim=custom_config.embed_dim, \n",
    "    depth=model.depth, num_heads=custom_config.num_heads, \n",
    "    mlp_ratio=custom_config.mlp_ratio, num_classes=custom_config.num_classes\n",
    ")\n",
    "\n",
    "# Modify the final classification layer\n",
    "transformer.head = torch.nn.Identity()\n"
   ]
  }
 ],
 "metadata": {
  "kernelspec": {
   "display_name": "Python 3 (ipykernel)",
   "language": "python",
   "name": "python3"
  },
  "language_info": {
   "codemirror_mode": {
    "name": "ipython",
    "version": 3
   },
   "file_extension": ".py",
   "mimetype": "text/x-python",
   "name": "python",
   "nbconvert_exporter": "python",
   "pygments_lexer": "ipython3",
   "version": "3.10.9"
  }
 },
 "nbformat": 4,
 "nbformat_minor": 5
}
