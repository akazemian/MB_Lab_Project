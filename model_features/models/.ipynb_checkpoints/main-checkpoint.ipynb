{
 "cells": [
  {
   "cell_type": "code",
   "execution_count": 1,
   "id": "ee6a010a-5336-4e00-9f0e-dcb401d5af7a",
   "metadata": {},
   "outputs": [],
   "source": [
    "import torch\n",
    "import os\n",
    "import sys\n",
    "sys.path.append(os.getenv('MODELS_ROOT_PATH'))\n",
    "\n",
    "from expansion import Expansion5L"
   ]
  },
  {
   "cell_type": "code",
   "execution_count": 3,
   "id": "7fb7f8ff-72d9-48a0-8cb6-9efa252991b7",
   "metadata": {},
   "outputs": [
    {
     "name": "stdout",
     "output_type": "stream",
     "text": [
      "torch.Size([1, 36000])\n"
     ]
    }
   ],
   "source": [
    "device = 'cpu'\n",
    "\n",
    "expansion_model = Expansion5L(filters_5 = 1000, device=device).Build()\n",
    "image = torch.rand(1,3,224,224)\n",
    "features = expansion_model(image.to(device))\n",
    "print(features.shape)"
   ]
  },
  {
   "cell_type": "code",
   "execution_count": null,
   "id": "ddd06ccb-9edd-40df-baaa-3135919cc7a0",
   "metadata": {},
   "outputs": [],
   "source": []
  }
 ],
 "metadata": {
  "kernelspec": {
   "display_name": "Python 3 (ipykernel)",
   "language": "python",
   "name": "python3"
  },
  "language_info": {
   "codemirror_mode": {
    "name": "ipython",
    "version": 3
   },
   "file_extension": ".py",
   "mimetype": "text/x-python",
   "name": "python",
   "nbconvert_exporter": "python",
   "pygments_lexer": "ipython3",
   "version": "3.10.13"
  }
 },
 "nbformat": 4,
 "nbformat_minor": 5
}
