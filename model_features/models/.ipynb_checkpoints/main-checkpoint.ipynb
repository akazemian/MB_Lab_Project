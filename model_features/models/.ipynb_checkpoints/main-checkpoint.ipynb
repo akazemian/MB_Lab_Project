{
 "cells": [
  {
   "cell_type": "code",
   "execution_count": 1,
   "id": "ee6a010a-5336-4e00-9f0e-dcb401d5af7a",
   "metadata": {},
   "outputs": [],
   "source": [
    "import torch\n",
    "import os\n",
    "import sys\n",
    "sys.path.append(os.getenv('MODELS_ROOT_PATH'))\n",
    "\n",
    "from expansion import Expansion5L"
   ]
  },
  {
   "cell_type": "code",
   "execution_count": 3,
   "id": "7fb7f8ff-72d9-48a0-8cb6-9efa252991b7",
   "metadata": {},
   "outputs": [
    {
     "name": "stdout",
     "output_type": "stream",
     "text": [
      "torch.Size([1, 36000])\n"
     ]
    }
   ],
   "source": [
    "device = 'cpu'\n",
    "\n",
    "expansion_model = Expansion5L(self, \n",
    "                              filters_5 = 3000, # number of filters in the last convolution layer of the mdoel\n",
    "                              init_type = 'kaiming_uniform', # initialization type used for random filters\n",
    "                              non_linearity:str='relu',\n",
    "                              gpool = False, # whether global pooling is applied oto the output \n",
    "                              device=device).Build()\n",
    "\n",
    "image = torch.rand(1,3,224,224)\n",
    "features = expansion_model(image.to(device))\n",
    "print(features.shape)"
   ]
  },
  {
   "cell_type": "code",
   "execution_count": null,
   "id": "ddd06ccb-9edd-40df-baaa-3135919cc7a0",
   "metadata": {},
   "outputs": [],
   "source": [
    "Desktop/untrained_models_of_visual_cortex/model_features/models"
   ]
  },
  {
   "cell_type": "code",
   "execution_count": 1,
   "id": "75d3c97b-43bc-4264-a3d8-70afcda21c32",
   "metadata": {},
   "outputs": [
    {
     "name": "stdout",
     "output_type": "stream",
     "text": [
      "torch.Size([1, 1080000])\n"
     ]
    }
   ],
   "source": [
    "import torch\n",
    "import os\n",
    "import sys\n",
    "sys.path.append(os.getenv('MODELS_ROOT_PATH'))\n",
    "from expansion import Expansion5L\n",
    "\n",
    "\n",
    "FILTERS_DICT = {\n",
    "                'curvature':\n",
    "                    {'n_ories':12,'n_curves':3,'gau_sizes':(5,),'spatial_fre':[1.2]},\n",
    "                'gabor':\n",
    "                    {'n_ories':12,'num_scales':3},\n",
    "                'random':\n",
    "                    {'filters':3000}\n",
    "               }\n",
    "                \n",
    "\n",
    "\n",
    "\n",
    "device = 'cuda'\n",
    "\n",
    "#layer 1 vars\n",
    "filters_1_type = 'curvature'\n",
    "filters_1_params = {'n_ories':12,\n",
    "                    'n_curves':3,\n",
    "                    'gau_sizes':(5,),'spatial_fre':[1.2]}\n",
    "\n",
    "\n",
    "filters_1_type = 'random'#'curvature'\n",
    "filters_1_params = \n",
    "\n",
    "#layer 2 vars\n",
    "filters_2=1000\n",
    "#layer 3 vars\n",
    "filters_3=3000\n",
    "#layer 4 vars\n",
    "filters_4=5000\n",
    "#layer 5 vars\n",
    "filters_5=30000\n",
    "\n",
    "# other vars\n",
    "init_type:str = 'kaiming_uniform' # one of ['kaiming_uniform', 'kaiming_normal', 'orthogonal', 'xavier_uniform', 'xavier_normal', 'uniform','normal']\n",
    "non_linearity= 'relu' # one of ['zscore', 'leaky_relu', 'relu', 'gelu', 'abs', 'elu','none']\n",
    "gpool=False # if there is global max pooling on for the model output, default (False) makes use of spatial information\n",
    "\n",
    "\n",
    "expansion_model = Expansion5L(filters_1_type=filters_1_type,\n",
    "                              filters_1_params= filters_1_params,\n",
    "                              filters_2=filters_2,\n",
    "                              filters_3=filters_3,\n",
    "                              filters_4=filters_4,\n",
    "                              filters_5=filters_5,\n",
    "                              init_type= init_type,\n",
    "                              gpool=gpool,\n",
    "                              non_linearity=non_linearity,\n",
    "                              device=device).Build()\n",
    "\n",
    "image = torch.rand(1,3,224,224)\n",
    "features = expansion_model(image.to(device))\n",
    "print(features.shape)"
   ]
  },
  {
   "cell_type": "code",
   "execution_count": null,
   "id": "22815256-aeac-48d2-a656-8c715b4f344b",
   "metadata": {},
   "outputs": [],
   "source": []
  }
 ],
 "metadata": {
  "kernelspec": {
   "display_name": "Python 3 (ipykernel)",
   "language": "python",
   "name": "python3"
  },
  "language_info": {
   "codemirror_mode": {
    "name": "ipython",
    "version": 3
   },
   "file_extension": ".py",
   "mimetype": "text/x-python",
   "name": "python",
   "nbconvert_exporter": "python",
   "pygments_lexer": "ipython3",
   "version": "3.10.13"
  }
 },
 "nbformat": 4,
 "nbformat_minor": 5
}
