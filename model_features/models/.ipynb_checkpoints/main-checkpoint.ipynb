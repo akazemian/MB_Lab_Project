{
 "cells": [
  {
   "cell_type": "code",
   "execution_count": 2,
   "id": "ee6a010a-5336-4e00-9f0e-dcb401d5af7a",
   "metadata": {},
   "outputs": [],
   "source": [
    "import torch\n",
    "import os\n",
    "import sys\n",
    "sys.path.append(os.getenv('MODELS_ROOT_PATH'))\n",
    "\n",
    "from expansion import Expansion5L"
   ]
  },
  {
   "cell_type": "code",
   "execution_count": 12,
   "id": "7fb7f8ff-72d9-48a0-8cb6-9efa252991b7",
   "metadata": {},
   "outputs": [
    {
     "name": "stdout",
     "output_type": "stream",
     "text": [
      "torch.Size([1, 10800])\n",
      "tensor(1.1912e+15, grad_fn=<MeanBackward0>) tensor(3.6851e+12, grad_fn=<StdBackward0>)\n"
     ]
    }
   ],
   "source": [
    "device = 'cpu'\n",
    "\n",
    "expansion_model = Expansion5L(filters_5 = 300, # number of filters in the last convolution layer of the mdoel\n",
    "                              init_type = 'uniform', #initialization type used for random filters\n",
    "                              non_linearity='relu',\n",
    "                              gpool = False, # whether global pooling is applied oto the output \n",
    "                              device=device).Build()\n",
    "\n",
    "image = torch.rand(1,3,224,224)\n",
    "features = expansion_model(image.to(device))\n",
    "print(features.shape)\n"
   ]
  },
  {
   "cell_type": "code",
   "execution_count": 1,
   "id": "79715f9a-8fc6-4eb3-abf5-7ca43e3c42cd",
   "metadata": {},
   "outputs": [
    {
     "name": "stdout",
     "output_type": "stream",
     "text": [
      "kaiming_normal:  mean: 0.106800586  std: 0.15253124\n",
      "orthogonal:  mean: 0.03441133  std: 0.045856092\n",
      "xavier_uniform:  mean: 0.010577467  std: 0.01633689\n",
      "xavier_normal:  mean: 0.010685693  std: 0.014749113\n",
      "uniform:  mean: 1286186900000000.0  std: 524851880000000.0\n",
      "normal:  mean: 12747900.0  std: 17589626.0\n"
     ]
    }
   ],
   "source": [
    "import numpy as np\n",
    "import xarray as xr\n",
    "\n",
    "device = 'cpu'\n",
    "TYPES = ['kaiming_normal', 'orthogonal', 'xavier_uniform', 'xavier_normal', 'uniform','normal']\n",
    "\n",
    "for init_type in TYPES:\n",
    "    #features = xr.open_dataset(f'/data/atlas/.cache/activations/expansion_features=300_layers=5_dataset=naturalscenes_{init_type}',engine='netcdf4')\n",
    "    expansion_model = Expansion5L(filters_5 = 300, # number of filters in the last convolution layer of the mdoel\n",
    "                              init_type = init_type, #initialization type used for random filters\n",
    "                              non_linearity='relu',\n",
    "                              gpool = False, # whether global pooling is applied oto the output \n",
    "                              device=device).Build()\n",
    "\n",
    "    print(f'{init_type}:', ' mean:',features.mean().detach().numpy(), ' std:',features.std().detach().numpy())"
   ]
  }
 ],
 "metadata": {
  "kernelspec": {
   "display_name": "Python 3 (ipykernel)",
   "language": "python",
   "name": "python3"
  },
  "language_info": {
   "codemirror_mode": {
    "name": "ipython",
    "version": 3
   },
   "file_extension": ".py",
   "mimetype": "text/x-python",
   "name": "python",
   "nbconvert_exporter": "python",
   "pygments_lexer": "ipython3",
   "version": "3.10.13"
  }
 },
 "nbformat": 4,
 "nbformat_minor": 5
}
