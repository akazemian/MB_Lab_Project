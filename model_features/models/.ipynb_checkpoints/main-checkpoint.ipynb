{
 "cells": [
  {
   "cell_type": "code",
   "execution_count": 1,
   "id": "4a9d5249-5165-4c4e-bbd3-886274bb4318",
   "metadata": {
    "editable": true,
    "slideshow": {
     "slide_type": ""
    },
    "tags": []
   },
   "outputs": [],
   "source": [
    "import torch\n",
    "from expansion import Expansion5L\n",
    "image = torch.rand(1,3,224,224)"
   ]
  },
  {
   "cell_type": "code",
   "execution_count": 7,
   "id": "ee6a010a-5336-4e00-9f0e-dcb401d5af7a",
   "metadata": {
    "editable": true,
    "slideshow": {
     "slide_type": ""
    },
    "tags": []
   },
   "outputs": [],
   "source": [
    "device = 'cuda'\n",
    "expansion_model = Expansion5L(filters_5=3000, device = device).build()"
   ]
  },
  {
   "cell_type": "code",
   "execution_count": 8,
   "id": "f593eeb9-c1bb-4390-bb86-5319d6d03da7",
   "metadata": {
    "editable": true,
    "slideshow": {
     "slide_type": ""
    },
    "tags": []
   },
   "outputs": [
    {
     "name": "stdout",
     "output_type": "stream",
     "text": [
      "Model(\n",
      "  (conv1): WaveletConvolution()\n",
      "  (pool1): AvgPool2d(kernel_size=2, stride=2, padding=0)\n",
      "  (conv2): Conv2d(108, 1000, kernel_size=(7, 7), stride=(1, 1), bias=False)\n",
      "  (pool2): AvgPool2d(kernel_size=2, stride=2, padding=0)\n",
      "  (conv3): Conv2d(1000, 3000, kernel_size=(5, 5), stride=(1, 1), bias=False)\n",
      "  (pool3): AvgPool2d(kernel_size=2, stride=2, padding=0)\n",
      "  (conv4): Conv2d(3000, 5000, kernel_size=(3, 3), stride=(1, 1), bias=False)\n",
      "  (pool4): AvgPool2d(kernel_size=2, stride=2, padding=0)\n",
      "  (conv5): Conv2d(5000, 3000, kernel_size=(3, 3), stride=(1, 1), bias=False)\n",
      "  (pool5): AvgPool2d(kernel_size=4, stride=1, padding=0)\n",
      "  (nl): NonLinearity()\n",
      "  (last): Output()\n",
      ")\n"
     ]
    }
   ],
   "source": [
    "print(expansion_model)"
   ]
  },
  {
   "cell_type": "code",
   "execution_count": 9,
   "id": "90c19048-3e07-42ca-b105-25979f999830",
   "metadata": {
    "editable": true,
    "slideshow": {
     "slide_type": ""
    },
    "tags": []
   },
   "outputs": [
    {
     "name": "stdout",
     "output_type": "stream",
     "text": [
      "torch.Size([1, 108000])\n"
     ]
    }
   ],
   "source": [
    "features = expansion_model(image.to(device))\n",
    "print(features.shape)"
   ]
  },
  {
   "cell_type": "code",
   "execution_count": 10,
   "id": "8e3ebab9-103b-4561-960d-b3e8f1865ce9",
   "metadata": {
    "editable": true,
    "slideshow": {
     "slide_type": ""
    },
    "tags": []
   },
   "outputs": [
    {
     "data": {
      "text/plain": [
       "torch.Size([1, 108000])"
      ]
     },
     "execution_count": 10,
     "metadata": {},
     "output_type": "execute_result"
    }
   ],
   "source": [
    "from fully_connected import FullyConnected5L\n",
    "fc = FullyConnected5L(features_5=3000).build()\n",
    "\n",
    "fc(image).shape"
   ]
  },
  {
   "cell_type": "code",
   "execution_count": 11,
   "id": "57a6568f-a60b-423c-8681-e8cb4dad6cf6",
   "metadata": {
    "editable": true,
    "slideshow": {
     "slide_type": ""
    },
    "tags": []
   },
   "outputs": [
    {
     "data": {
      "text/plain": [
       "torch.Size([1, 9216])"
      ]
     },
     "execution_count": 11,
     "metadata": {},
     "output_type": "execute_result"
    }
   ],
   "source": [
    "from alexnet import AlexNet\n",
    "\n",
    "alexnet = AlexNet().build()\n",
    "alexnet(image).shape"
   ]
  },
  {
   "cell_type": "code",
   "execution_count": 2,
   "id": "532f3a66-3821-4d33-9af0-e5949172c066",
   "metadata": {},
   "outputs": [
    {
     "data": {
      "text/plain": [
       "torch.Size([1, 11760])"
      ]
     },
     "execution_count": 2,
     "metadata": {},
     "output_type": "execute_result"
    }
   ],
   "source": [
    "from vit import CustomViT\n",
    "\n",
    "vit = CustomViT(out_features = 60).build()\n",
    "vit(image).shape"
   ]
  },
  {
   "cell_type": "code",
   "execution_count": null,
   "id": "b11b9a07-6cea-401c-a7f1-9dd0b04ad294",
   "metadata": {},
   "outputs": [],
   "source": [
    "from "
   ]
  }
 ],
 "metadata": {
  "kernelspec": {
   "display_name": "Python 3 (ipykernel)",
   "language": "python",
   "name": "python3"
  },
  "language_info": {
   "codemirror_mode": {
    "name": "ipython",
    "version": 3
   },
   "file_extension": ".py",
   "mimetype": "text/x-python",
   "name": "python",
   "nbconvert_exporter": "python",
   "pygments_lexer": "ipython3",
   "version": "3.10.13"
  }
 },
 "nbformat": 4,
 "nbformat_minor": 5
}
