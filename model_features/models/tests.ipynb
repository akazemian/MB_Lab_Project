{
 "cells": [
  {
   "cell_type": "code",
   "execution_count": 3,
   "id": "ee6a010a-5336-4e00-9f0e-dcb401d5af7a",
   "metadata": {},
   "outputs": [],
   "source": [
    "import warnings\n",
    "warnings.filterwarnings('ignore')\n",
    "import os\n",
    "import sys\n",
    "sys.path.append(os.getenv('MODELS_ROOT_PATH'))\n",
    "from alexnet import Alexnet\n",
    "from alexnet_untrained import AlexnetU\n",
    "from expansion import Expansion5L\n",
    "from fully_connected import FullyConnected5L\n",
    "from expansion_fully_random import FullyRandom5L\n",
    "from ViT import CustomViT\n",
    "import torch"
   ]
  },
  {
   "cell_type": "code",
   "execution_count": 4,
   "id": "7fb7f8ff-72d9-48a0-8cb6-9efa252991b7",
   "metadata": {},
   "outputs": [
    {
     "name": "stdout",
     "output_type": "stream",
     "text": [
      "patch embed shape torch.Size([1, 196, 768])\n",
      "block output shape torch.Size([1, 197, 768])\n",
      "block output shape torch.Size([1, 197, 768])\n",
      "block output shape torch.Size([1, 197, 768])\n",
      "block output shape torch.Size([1, 197, 768])\n",
      "block output shape torch.Size([1, 197, 768])\n",
      "block output shape torch.Size([1, 197, 768])\n",
      "block output shape torch.Size([1, 197, 768])\n",
      "block output shape torch.Size([1, 197, 768])\n",
      "block output shape torch.Size([1, 197, 768])\n",
      "block output shape torch.Size([1, 197, 768])\n",
      "block output shape torch.Size([1, 197, 768])\n",
      "block output shape torch.Size([1, 197, 60])\n",
      "block output shape torch.Size([1, 197, 60])\n",
      "final output shape torch.Size([1, 11760])\n",
      "torch.Size([1, 11760])\n"
     ]
    }
   ],
   "source": [
    "device = 'cpu'\n",
    "\n",
    "vit = CustomViT(use_wavelets=False, out_features = 60, block = 11).Build()\n",
    "\n",
    "image = torch.rand(1,3,224,224)\n",
    "features = vit(image.to(device))\n",
    "print(features.shape)"
   ]
  },
  {
   "cell_type": "code",
   "execution_count": null,
   "id": "ddd06ccb-9edd-40df-baaa-3135919cc7a0",
   "metadata": {},
   "outputs": [],
   "source": [
    "Desktop/untrained_models_of_visual_cortex/model_features/models"
   ]
  }
 ],
 "metadata": {
  "kernelspec": {
   "display_name": "Python 3 (ipykernel)",
   "language": "python",
   "name": "python3"
  },
  "language_info": {
   "codemirror_mode": {
    "name": "ipython",
    "version": 3
   },
   "file_extension": ".py",
   "mimetype": "text/x-python",
   "name": "python",
   "nbconvert_exporter": "python",
   "pygments_lexer": "ipython3",
   "version": "3.10.13"
  }
 },
 "nbformat": 4,
 "nbformat_minor": 5
}
