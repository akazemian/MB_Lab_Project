{
 "cells": [
  {
   "cell_type": "code",
   "execution_count": 1,
   "id": "ee6a010a-5336-4e00-9f0e-dcb401d5af7a",
   "metadata": {},
   "outputs": [],
   "source": [
    "import torch\n",
    "import os\n",
    "import sys\n",
    "sys.path.append(os.getenv('MODELS_ROOT_PATH'))\n",
    "\n",
    "from expansion import Expansion5L\n",
    "\n",
    "FILTERS_1_DICT = {\n",
    "                'curvature':\n",
    "                    {'n_ories':12,'n_curves':3,'gau_sizes':(5,),'spatial_fre':[1.2]},\n",
    "                'gabor':\n",
    "                    {'n_ories':12,'num_scales':3},\n",
    "                'random':\n",
    "                    {'filters':30}\n",
    "               }"
   ]
  },
  {
   "cell_type": "code",
   "execution_count": 2,
   "id": "dbcd98b7-e9f1-46ce-abe9-af09bba13f9d",
   "metadata": {},
   "outputs": [],
   "source": [
    "device = 'cuda'\n",
    "\n",
    "#layer 1 vars\n",
    "filters_1_type = 'curvature' # can do one of ['curvature','gabor','random']\n",
    "filters_1_params = FILTERS_1_DICT[filters_1_type]\n",
    "\n",
    "#layer 2 vars\n",
    "filters_2=1000\n",
    "#layer 3 vars\n",
    "filters_3=3000\n",
    "#layer 4 vars\n",
    "filters_4=5000\n",
    "#layer 5 vars\n",
    "filters_5=3000 # VARIABLE\n",
    "\n",
    "# other vars\n",
    "init_type = 'kaiming_uniform' # VARIABLE\n",
    "non_linearity= 'relu' # VARIABLE\n",
    "gpool=False # if there is global max pooling on for the model output, default (False) makes use of spatial information\n"
   ]
  },
  {
   "cell_type": "code",
   "execution_count": 5,
   "id": "7fb7f8ff-72d9-48a0-8cb6-9efa252991b7",
   "metadata": {},
   "outputs": [
    {
     "name": "stdout",
     "output_type": "stream",
     "text": [
      "torch.Size([1, 102, 223, 223])\n",
      "torch.Size([1, 108000])\n"
     ]
    }
   ],
   "source": [
    "\n",
    "expansion_model = Expansion5L(filters_1_type='coif',\n",
    "                              filters_2=filters_2,\n",
    "                              filters_3=filters_3,\n",
    "                              filters_4=filters_4,\n",
    "                              filters_5=filters_5,\n",
    "                              init_type= init_type,\n",
    "                              gpool=gpool,\n",
    "                              non_linearity=non_linearity,\n",
    "                              device=device).Build()\n",
    "\n",
    "\n",
    "image = torch.rand(1,3,224,224)\n",
    "features = expansion_model(image.to(device))\n",
    "print(features.shape)\n"
   ]
  },
  {
   "cell_type": "code",
   "execution_count": null,
   "id": "0c1dd3e3-c845-4e56-b58e-55f6334ec045",
   "metadata": {},
   "outputs": [],
   "source": []
  }
 ],
 "metadata": {
  "kernelspec": {
   "display_name": "Python 3 (ipykernel)",
   "language": "python",
   "name": "python3"
  },
  "language_info": {
   "codemirror_mode": {
    "name": "ipython",
    "version": 3
   },
   "file_extension": ".py",
   "mimetype": "text/x-python",
   "name": "python",
   "nbconvert_exporter": "python",
   "pygments_lexer": "ipython3",
   "version": "3.10.13"
  }
 },
 "nbformat": 4,
 "nbformat_minor": 5
}
