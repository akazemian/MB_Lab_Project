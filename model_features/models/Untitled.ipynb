{
 "cells": [
  {
   "cell_type": "code",
   "execution_count": 1,
   "id": "d9e99237-7a7b-4047-a265-ee72dec7d825",
   "metadata": {},
   "outputs": [],
   "source": [
    "import torch\n",
    "import os\n",
    "import sys\n",
    "ROOT = os.getenv('BONNER_ROOT_PATH')\n",
    "sys.path.append(ROOT)\n",
    "from model_features.models.scat_transform import ScatTransformKymatio as st"
   ]
  },
  {
   "cell_type": "code",
   "execution_count": 5,
   "id": "86d8b7b7-ab99-4d6e-ab13-e3db6b737438",
   "metadata": {},
   "outputs": [],
   "source": [
    "X = torch.Tensor(5,3,224, 224)"
   ]
  },
  {
   "cell_type": "code",
   "execution_count": 5,
   "id": "9614f8bc-37d9-4e0d-bad2-118fa643d2e9",
   "metadata": {},
   "outputs": [
    {
     "data": {
      "text/plain": [
       "4"
      ]
     },
     "execution_count": 5,
     "metadata": {},
     "output_type": "execute_result"
    }
   ],
   "source": [
    "28//6"
   ]
  },
  {
   "cell_type": "code",
   "execution_count": 8,
   "id": "91137f91-9fa8-4b75-94f4-86f88c666386",
   "metadata": {},
   "outputs": [],
   "source": [
    "model = st(J=2, L=8, M=224, N=224, pool_size = 4, global_pool=False).Build()"
   ]
  },
  {
   "cell_type": "code",
   "execution_count": 9,
   "id": "934d78ab-5f54-4e68-8724-9cee3c2e774f",
   "metadata": {},
   "outputs": [
    {
     "name": "stdout",
     "output_type": "stream",
     "text": [
      "torch.Size([5, 3, 81, 56, 56])\n",
      "torch.Size([5, 243, 14, 14])\n"
     ]
    }
   ],
   "source": [
    "out = model(X)"
   ]
  },
  {
   "cell_type": "code",
   "execution_count": 8,
   "id": "e38ebda7-394d-422a-b6be-b703ff7db7aa",
   "metadata": {},
   "outputs": [
    {
     "data": {
      "text/plain": [
       "torch.Size([1, 11907])"
      ]
     },
     "execution_count": 8,
     "metadata": {},
     "output_type": "execute_result"
    }
   ],
   "source": [
    "out.shape"
   ]
  },
  {
   "cell_type": "code",
   "execution_count": 9,
   "id": "8146a765-ed4a-434b-ac13-3c50d6f1934d",
   "metadata": {},
   "outputs": [
    {
     "data": {
      "text/plain": [
       "torch.Size([1, 11907])"
      ]
     },
     "execution_count": 9,
     "metadata": {},
     "output_type": "execute_result"
    }
   ],
   "source": [
    "out.shape"
   ]
  },
  {
   "cell_type": "code",
   "execution_count": null,
   "id": "b2204973-e90c-4f3d-9a66-73049695f5b9",
   "metadata": {},
   "outputs": [],
   "source": []
  }
 ],
 "metadata": {
  "kernelspec": {
   "display_name": "Python 3 (ipykernel)",
   "language": "python",
   "name": "python3"
  },
  "language_info": {
   "codemirror_mode": {
    "name": "ipython",
    "version": 3
   },
   "file_extension": ".py",
   "mimetype": "text/x-python",
   "name": "python",
   "nbconvert_exporter": "python",
   "pygments_lexer": "ipython3",
   "version": "3.10.9"
  }
 },
 "nbformat": 4,
 "nbformat_minor": 5
}
