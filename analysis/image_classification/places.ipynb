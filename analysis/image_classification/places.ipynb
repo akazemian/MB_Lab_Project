{
 "cells": [
  {
   "cell_type": "code",
   "execution_count": 4,
   "id": "e62b407e-ac0c-4340-b5b3-c432d23b6c3a",
   "metadata": {},
   "outputs": [],
   "source": [
    "import torchvision\n",
    "import os "
   ]
  },
  {
   "cell_type": "code",
   "execution_count": 5,
   "id": "ed5f4b87-52ff-43e9-96a3-fa4059aa2d51",
   "metadata": {},
   "outputs": [],
   "source": [
    "# torchvision.datasets.Places365(root= '/data/atlas/datasets/places', \n",
    "#                                split= 'val', \n",
    "#                                small = True, \n",
    "#                                download = True) "
   ]
  },
  {
   "cell_type": "code",
   "execution_count": 6,
   "id": "7e5f72e7-32f2-46c1-a503-4d9c1640419b",
   "metadata": {},
   "outputs": [],
   "source": [
    "with open('/data/atlas/datasets/places/places365_val.txt', \"r\") as file:\n",
    "    content = file.read()\n",
    "annotations = content.split('\\n')"
   ]
  },
  {
   "cell_type": "code",
   "execution_count": 7,
   "id": "34593a1a-39c3-4838-87f4-3c74871010d6",
   "metadata": {},
   "outputs": [],
   "source": [
    "images_dict = {}\n",
    "cats = []\n",
    "for annotation in annotations:\n",
    "    image = annotation.split(' ')[0]\n",
    "    cat = annotation.split(' ')[1]\n",
    "    images_dict[image] = int(cat)"
   ]
  },
  {
   "cell_type": "code",
   "execution_count": 14,
   "id": "64855e4b-ac9f-47bf-8ad2-df86bd60f1d2",
   "metadata": {},
   "outputs": [],
   "source": [
    "import random \n",
    "pc_images = random.sample(os.listdir('/data/atlas/datasets/places/val_256'),10000)"
   ]
  },
  {
   "cell_type": "code",
   "execution_count": null,
   "id": "2b04a068-b9d4-47c0-a974-1695c8b54eb2",
   "metadata": {},
   "outputs": [],
   "source": []
  }
 ],
 "metadata": {
  "kernelspec": {
   "display_name": "Python 3",
   "language": "python",
   "name": "python3"
  },
  "language_info": {
   "codemirror_mode": {
    "name": "ipython",
    "version": 3
   },
   "file_extension": ".py",
   "mimetype": "text/x-python",
   "name": "python",
   "nbconvert_exporter": "python",
   "pygments_lexer": "ipython3",
   "version": "3.7.16"
  }
 },
 "nbformat": 4,
 "nbformat_minor": 5
}
