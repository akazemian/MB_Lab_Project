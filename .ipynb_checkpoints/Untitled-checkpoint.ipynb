{
 "cells": [
  {
   "cell_type": "code",
   "execution_count": 82,
   "id": "d9e99237-7a7b-4047-a265-ee72dec7d825",
   "metadata": {},
   "outputs": [],
   "source": [
    "import torch\n",
    "import os\n",
    "import sys\n",
    "ROOT = os.getenv('BONNER_ROOT_PATH')\n",
    "sys.path.append(ROOT)\n",
    "from model_features.models.scat_transform import ScatTransformKymatio as st\n",
    "from model_features.models.learned_scaterring.main import load_model"
   ]
  },
  {
   "cell_type": "code",
   "execution_count": 83,
   "id": "c8c59e8a-2c87-45a3-9567-2081ce316690",
   "metadata": {},
   "outputs": [
    {
     "name": "stdout",
     "output_type": "stream",
     "text": [
      "140 tensor(63.0580, device='cuda:0')\n"
     ]
    },
    {
     "data": {
      "text/plain": [
       "<All keys matched successfully>"
      ]
     },
     "execution_count": 83,
     "metadata": {},
     "output_type": "execute_result"
    }
   ],
   "source": []
  },
  {
   "cell_type": "code",
   "execution_count": 84,
   "id": "9ef98f60-1c8a-4f3e-a9d1-73967976a001",
   "metadata": {},
   "outputs": [],
   "source": []
  },
  {
   "cell_type": "code",
   "execution_count": 97,
   "id": "b4b89dfb-ead4-493d-a4b7-5dd2118eb7c9",
   "metadata": {},
   "outputs": [],
   "source": [
    "import re\n",
    "num_layers = 11\n",
    "\n",
    "path = '/data/atlas/rainbow_models/Pr_Norm/batchsize_128_lrfreq_45_best.pth.tar'\n",
    "model = load_model()\n",
    "checkpoint = torch.load(path)\n",
    "state_dict = checkpoint[\"state_dict\"]\n",
    "state_dict = {key.replace(\"(0, 0)\", \"0\"): value for key, value in state_dict.items()}\n",
    "checkpoint[\"state_dict\"] = state_dict\n",
    "model.load_state_dict(checkpoint['state_dict'])\n",
    "m = model[:num_layers+1]\n",
    "\n",
    "\n",
    "num_params = 0\n",
    "for layer in range(1,num_layers+1):\n",
    "\n",
    "    module = str(m[layer][-2])\n",
    "    match = re.search(r'out_channels=(\\d+)R', module)\n",
    "    out_channels = int(match.group(1))\n",
    "    print(out_channels)\n",
    "    num_params += out_channels"
   ]
  },
  {
   "cell_type": "code",
   "execution_count": 104,
   "id": "ddcf8f7b-0984-451d-98db-27c5e148cccf",
   "metadata": {},
   "outputs": [
    {
     "data": {
      "text/plain": [
       "3360"
      ]
     },
     "execution_count": 104,
     "metadata": {},
     "output_type": "execute_result"
    }
   ],
   "source": [
    "num_params"
   ]
  },
  {
   "cell_type": "code",
   "execution_count": 9,
   "id": "8146a765-ed4a-434b-ac13-3c50d6f1934d",
   "metadata": {},
   "outputs": [
    {
     "data": {
      "text/plain": [
       "torch.Size([1, 11907])"
      ]
     },
     "execution_count": 9,
     "metadata": {},
     "output_type": "execute_result"
    }
   ],
   "source": [
    "out.shape"
   ]
  },
  {
   "cell_type": "code",
   "execution_count": null,
   "id": "b2204973-e90c-4f3d-9a66-73049695f5b9",
   "metadata": {},
   "outputs": [],
   "source": []
  }
 ],
 "metadata": {
  "kernelspec": {
   "display_name": "Python 3 (ipykernel)",
   "language": "python",
   "name": "python3"
  },
  "language_info": {
   "codemirror_mode": {
    "name": "ipython",
    "version": 3
   },
   "file_extension": ".py",
   "mimetype": "text/x-python",
   "name": "python",
   "nbconvert_exporter": "python",
   "pygments_lexer": "ipython3",
   "version": "3.10.9"
  }
 },
 "nbformat": 4,
 "nbformat_minor": 5
}
