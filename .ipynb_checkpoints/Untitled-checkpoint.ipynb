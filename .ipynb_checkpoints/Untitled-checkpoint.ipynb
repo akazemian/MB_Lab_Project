{
 "cells": [
  {
   "cell_type": "markdown",
   "id": "4e05872a-720f-4c30-986a-28c52a5e0c5a",
   "metadata": {},
   "source": [
    "### generating nsd sample ids:"
   ]
  },
  {
   "cell_type": "code",
   "execution_count": 19,
   "id": "fcab6c0f-6deb-437d-a1db-47e9f460e04a",
   "metadata": {},
   "outputs": [],
   "source": [
    "# \n",
    "# import os    \n",
    "# import pickle\n",
    "# import random\n",
    "\n",
    "# with open('/home/akazemi3/Desktop/MB_Lab_Project/model_evaluation/predicting_brain_data/benchmarks/nsd_ids_shared', 'rb') as f:\n",
    "#     ids_shared = pickle.load(f)\n",
    "    \n",
    "# images = []\n",
    "# for im in os.listdir('/data/shared/datasets/allen2021.natural_scenes/images'):\n",
    "#     image = im.strip('.png')\n",
    "#     if image not in ids_shared:\n",
    "#         images.append(image)\n",
    "        \n",
    "# sample_nsd_ids_30000 = random.sample(images, 30000)\n",
    "\n",
    "# with open('/home/akazemi3/Desktop/MB_Lab_Project/model_evaluation/predicting_brain_data/benchmarks/nsd_ids_unshared_sample=30000', 'wb') as f:\n",
    "#     pickle.dump(sample_nsd_ids_30000, f)"
   ]
  },
  {
   "cell_type": "code",
   "execution_count": null,
   "id": "8ea68f7e-3dc5-44cc-85c0-2bec01f5969e",
   "metadata": {},
   "outputs": [],
   "source": []
  }
 ],
 "metadata": {
  "kernelspec": {
   "display_name": "Python 3 (ipykernel)",
   "language": "python",
   "name": "python3"
  },
  "language_info": {
   "codemirror_mode": {
    "name": "ipython",
    "version": 3
   },
   "file_extension": ".py",
   "mimetype": "text/x-python",
   "name": "python",
   "nbconvert_exporter": "python",
   "pygments_lexer": "ipython3",
   "version": "3.10.9"
  }
 },
 "nbformat": 4,
 "nbformat_minor": 5
}
