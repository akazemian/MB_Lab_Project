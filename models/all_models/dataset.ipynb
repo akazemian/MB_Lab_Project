{
 "cells": [
  {
   "cell_type": "code",
   "execution_count": 3,
   "id": "57fd78af-506b-4b3c-aff2-cf2c05a9d76a",
   "metadata": {},
   "outputs": [],
   "source": [
    "path = '/home/akazemi3/Desktop/MB_Lab_Project/'\n",
    "import sys\n",
    "sys.path.append(path)\n",
    "\n",
    "from PIL import Image\n",
    "import torchvision\n",
    "import torch\n",
    "from torch import nn\n",
    "import xarray as xr\n",
    "import numpy as np\n",
    "import os\n",
    "import pickle\n",
    "\n",
    "local_path = '/data/atlas/neural_data/naturalscenes'\n",
    "neural_data = '/data/rgautha1/cache/bonner-caching/neural-dimensionality/data/dataset=allen2021.natural_scenes/resolution=1pt8mm.preprocessing=fithrf_GLMdenoise_RR/'"
   ]
  },
  {
   "cell_type": "code",
   "execution_count": 5,
   "id": "fe8a2c88-bf1e-4417-903b-d274991a6f84",
   "metadata": {},
   "outputs": [],
   "source": [
    "with open(\"/data/atlas/neural_data/nsd_shared_ids\",'rb') as f:\n",
    "    shared_ids = pickle.load(f)"
   ]
  },
  {
   "cell_type": "code",
   "execution_count": null,
   "id": "1dfeb499-6df9-430e-b761-d329c0d736c1",
   "metadata": {},
   "outputs": [
    {
     "name": "stdout",
     "output_type": "stream",
     "text": [
      "subject: 0\n",
      "subject_0_ventral_visual\n",
      "subject: 1\n",
      "subject_1_ventral_visual\n",
      "subject: 2\n",
      "subject_2_ventral_visual\n"
     ]
    }
   ],
   "source": [
    "# for s in range(8):\n",
    "    \n",
    "#     print('subject:',s)\n",
    "#     identifier = f'subject_{s}_ventral_visual'\n",
    "\n",
    "#     ventral = xr.open_dataset(os.path.join(neural_data,f'roi=streams-ventral/preprocessed/z_score=session.average_across_reps=True/subject={s}.nc'))\n",
    "#     general = xr.open_dataset(os.path.join(neural_data,f'roi=general/preprocessed/z_score=session.average_across_reps=True/subject={s}.nc'))\n",
    "\n",
    "\n",
    "#     general_ids = [int(str(general.x.values[i]) + str(general.y.values[i]) + str(general.z.values[i])) for i in range(len(general.neuroid))]\n",
    "#     ventral_ids = [int(str(ventral.x.values[i]) + str(ventral.y.values[i]) + str(ventral.z.values[i])) for i in range(len(ventral.neuroid))]\n",
    "\n",
    "\n",
    "#     general_xyz = general.assign_coords(xyz = ('neuroid',np.array(general_ids)))\n",
    "#     ventral_xyz = ventral.assign_coords(xyz = ('neuroid',np.array(ventral_ids)))\n",
    "\n",
    "#     intersection_ids = ventral_xyz.neuroid[np.isin(ventral_xyz.xyz,general_xyz.xyz)].values\n",
    "#     ventral_visual = ventral.sel(neuroid=intersection_ids)\n",
    "\n",
    "#     print(identifier)\n",
    "#     ventral_visual.to_netcdf(os.path.join(local_path,identifier))"
   ]
  },
  {
   "cell_type": "code",
   "execution_count": 6,
   "id": "3a8baf20-a251-48ca-8e08-31c8a1540601",
   "metadata": {},
   "outputs": [],
   "source": [
    "# for s in range(8):\n",
    "    \n",
    "#     identifier = f'subject_{s}_ventral_visual_unshared_new'\n",
    "#     ds = xr.open_dataset(f'/data/atlas/neural_data/naturalscenes/{identifier}')\n",
    "#     ds = ds.assign_coords({'stimulus_id':ds.stimulus_id})\n",
    "#     ds_unshared = ds.where(~(ds.stimulus_id.isin(shared_ids)),drop=True)\n",
    "#     ds_shared = ds.where(ds.stimulus_id.isin(shared_ids),drop=True)\n",
    "    \n",
    "#     ds_unshared.to_netcdf(os.path.join(local_path,f'subject_{s}_ventral_visual_unshared_new.nc'))    \n",
    "#     #ds_shared.to_netcdf(os.path.join(local_path,f'subject_{s}_ventral_visual_shared_new.nc'))    "
   ]
  },
  {
   "cell_type": "code",
   "execution_count": null,
   "id": "c91e9fa6-ef1e-4767-8f8c-0f5ae7e0c702",
   "metadata": {},
   "outputs": [],
   "source": []
  }
 ],
 "metadata": {
  "kernelspec": {
   "display_name": "Python 3",
   "language": "python",
   "name": "python3"
  },
  "language_info": {
   "codemirror_mode": {
    "name": "ipython",
    "version": 3
   },
   "file_extension": ".py",
   "mimetype": "text/x-python",
   "name": "python",
   "nbconvert_exporter": "python",
   "pygments_lexer": "ipython3",
   "version": "3.7.16"
  }
 },
 "nbformat": 4,
 "nbformat_minor": 5
}
