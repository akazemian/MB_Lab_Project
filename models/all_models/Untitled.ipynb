{
 "cells": [
  {
   "cell_type": "code",
   "execution_count": 47,
   "id": "57fd78af-506b-4b3c-aff2-cf2c05a9d76a",
   "metadata": {},
   "outputs": [],
   "source": [
    "path = '/home/akazemi3/Desktop/MB_Lab_Project/'\n",
    "import sys\n",
    "sys.path.append(path)\n",
    "\n",
    "\n",
    "import torchvision\n",
    "from models.layer_operations.output import Output\n",
    "import torch\n",
    "from torch import nn\n",
    "torch.manual_seed(0)\n",
    "torch.cuda.manual_seed(0)\n",
    "model = torchvision.models.alexnet(pretrained=False)"
   ]
  },
  {
   "cell_type": "code",
   "execution_count": 61,
   "id": "bbf954e8-ea9c-41cf-ad71-1f903e6f4abe",
   "metadata": {},
   "outputs": [],
   "source": [
    "class Model(nn.Module):\n",
    "    \n",
    "    \n",
    "    def __init__(self,\n",
    "                c5: nn.Module,\n",
    "                r5: nn.Module,\n",
    "                mp5: nn.Module,\n",
    "                last: nn.Module,\n",
    "                print_shape: bool = False\n",
    "                ):\n",
    "        \n",
    "        super(Model, self).__init__()\n",
    "        \n",
    "        self.c5 = c5\n",
    "        self.r5 = r5\n",
    "        self.mp5 = mp5\n",
    "        self.last = last\n",
    "        self.print_shape = print_shape\n",
    "        \n",
    "        \n",
    "    def forward(self, x:nn.Module):\n",
    "                \n",
    "        x = x.float()\n",
    "        \n",
    "        # extract activations from L4\n",
    "        activation = {}\n",
    "        def get_activation(name):\n",
    "            def hook(model, input, output):\n",
    "                activation[name] = output.detach()\n",
    "            return hook\n",
    "\n",
    "        model.features[9].register_forward_hook(get_activation('features.9'))\n",
    "        output = model(x)\n",
    "        \n",
    "        x = activation['features.9']\n",
    "        if self.print_shape:\n",
    "            print('layer 4', x.shape)        \n",
    "        \n",
    "        x = self.c5(x)\n",
    "        if self.print_shape:\n",
    "            print('conv5', x.shape)        \n",
    "        \n",
    "        x = self.r5(x)\n",
    "        if self.print_shape:\n",
    "            print('relu5', x.shape)        \n",
    "        \n",
    "        x = self.mp5(x)    \n",
    "        if self.print_shape:\n",
    "            print('maxpool5', x.shape)\n",
    "        \n",
    "        x = self.last(x)\n",
    "        if self.print_shape:\n",
    "            print('output', x.shape)\n",
    "        \n",
    "        return x    \n",
    "\n",
    "\n",
    "    \n",
    "class AlexnetUntrained:\n",
    "\n",
    "    \n",
    "    def __init__(self, filters_5 = 20000):\n",
    "    \n",
    "        self.filters_5 = filters_5        \n",
    "\n",
    "    \n",
    "    def Build(self):\n",
    "        \n",
    "        c5 = nn.Conv2d(256, self.filters_5, kernel_size=(3, 3), stride=(1, 1), padding=(1, 1))\n",
    "        r5 = nn.ReLU(inplace=True)\n",
    "        mp5 = nn.MaxPool2d(kernel_size=3, stride=2, padding=0, dilation=1, ceil_mode=False)\n",
    "        last = Output()\n",
    "\n",
    "        return Model(c5,r5,mp5,last)  "
   ]
  },
  {
   "cell_type": "code",
   "execution_count": 57,
   "id": "0e44c8cb-5fa8-4675-a68b-1a4fb67455b7",
   "metadata": {},
   "outputs": [],
   "source": [
    "alexnetU = AlexnetUntrained(filters_5 = 50000).Build()"
   ]
  },
  {
   "cell_type": "code",
   "execution_count": 58,
   "id": "c57fc7a7-253a-41ac-b794-f72743d2edd7",
   "metadata": {},
   "outputs": [],
   "source": [
    "x = torch.rand(10,3,224,224)"
   ]
  },
  {
   "cell_type": "code",
   "execution_count": 60,
   "id": "efa8a368-7d2f-43da-b585-a9d6eeb27513",
   "metadata": {},
   "outputs": [
    {
     "data": {
      "text/plain": [
       "torch.Size([10, 50000, 6, 6])"
      ]
     },
     "execution_count": 60,
     "metadata": {},
     "output_type": "execute_result"
    }
   ],
   "source": [
    "alexnetU(x).shape"
   ]
  },
  {
   "cell_type": "code",
   "execution_count": null,
   "id": "60fc65e2-82a4-415a-95f0-aabcf7f399d4",
   "metadata": {},
   "outputs": [],
   "source": []
  }
 ],
 "metadata": {
  "kernelspec": {
   "display_name": "Python 3",
   "language": "python",
   "name": "python3"
  },
  "language_info": {
   "codemirror_mode": {
    "name": "ipython",
    "version": 3
   },
   "file_extension": ".py",
   "mimetype": "text/x-python",
   "name": "python",
   "nbconvert_exporter": "python",
   "pygments_lexer": "ipython3",
   "version": "3.7.16"
  }
 },
 "nbformat": 4,
 "nbformat_minor": 5
}
