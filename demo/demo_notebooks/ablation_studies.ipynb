{
 "cells": [
  {
   "cell_type": "code",
   "execution_count": 2,
   "metadata": {},
   "outputs": [
    {
     "name": "stderr",
     "output_type": "stream",
     "text": [
      "/home/atlask/Desktop/untrained_models_of_visual_cortex/code/model_activations/activation_extractor.py:21: UserWarning: my warning\n",
      "  warnings.warn('my warning')\n"
     ]
    }
   ],
   "source": [
    "import os\n",
    "import pickle\n",
    "\n",
    "from config import RESULTS_PATH\n",
    "from demo.model_configs import analysis_cfg as cfg\n",
    "from code.encoding_score.init_type import init_type_\n",
    "from code.encoding_score.linear_models import linear_models_\n",
    "from code.encoding_score.local_connectivity import local_connectivity_\n",
    "from code.encoding_score.non_linearity import non_linearity_\n",
    "from code.encoding_score.random_models import random_models_"
   ]
  },
  {
   "cell_type": "code",
   "execution_count": 3,
   "metadata": {},
   "outputs": [],
   "source": [
    "DATASET = \"majajhong_demo\"\n",
    "DEVICE = 'cuda'\n",
    "BATCH_SIZE = 50"
   ]
  },
  {
   "cell_type": "code",
   "execution_count": 7,
   "metadata": {},
   "outputs": [
    {
     "name": "stderr",
     "output_type": "stream",
     "text": [
      "2024-06-27 15:12:02,146 - INFO - Model: expansion_features=3_layers=5_dataset=majajhong_demo, Region: IT\n",
      "2024-06-27 15:12:03,064 - INFO - Activations already exist\n",
      "2024-06-27 15:12:03,065 - INFO - Predicting neural data from model activations...\n",
      "100%|██████████| 2/2 [00:00<00:00, 41943.04it/s]\n",
      "  0%|          | 0/2 [00:00<?, ?it/s]\n",
      "2024-06-27 15:12:03,143 - INFO - Model: expansion_features=3_layers=5_dataset=majajhong_demo_kaiming_normal, Region: IT\n",
      "2024-06-27 15:12:04,043 - INFO - Activations already exist\n",
      "2024-06-27 15:12:04,044 - INFO - Predicting neural data from model activations...\n",
      "100%|██████████| 2/2 [00:00<00:00, 7717.21it/s]\n",
      "  0%|          | 0/2 [00:00<?, ?it/s]\n",
      "2024-06-27 15:12:04,120 - INFO - Model: expansion_features=3_layers=5_dataset=majajhong_demo_xavier_uniform, Region: IT\n",
      "2024-06-27 15:12:05,033 - INFO - Activations already exist\n",
      "2024-06-27 15:12:05,034 - INFO - Predicting neural data from model activations...\n",
      "100%|██████████| 2/2 [00:00<00:00, 46345.90it/s]\n",
      "  0%|          | 0/2 [00:00<?, ?it/s]\n",
      "2024-06-27 15:12:05,108 - INFO - Model: expansion_features=3_layers=5_dataset=majajhong_demo_xavier_normal, Region: IT\n",
      "2024-06-27 15:12:06,012 - INFO - Activations already exist\n",
      "2024-06-27 15:12:06,012 - INFO - Predicting neural data from model activations...\n",
      "100%|██████████| 2/2 [00:00<00:00, 46863.73it/s]\n",
      "  0%|          | 0/2 [00:00<?, ?it/s]\n",
      "2024-06-27 15:12:06,092 - INFO - Bootstrap r-values already exist\n"
     ]
    },
    {
     "data": {
      "text/html": [
       "<div>\n",
       "<style scoped>\n",
       "    .dataframe tbody tr th:only-of-type {\n",
       "        vertical-align: middle;\n",
       "    }\n",
       "\n",
       "    .dataframe tbody tr th {\n",
       "        vertical-align: top;\n",
       "    }\n",
       "\n",
       "    .dataframe thead th {\n",
       "        text-align: right;\n",
       "    }\n",
       "</style>\n",
       "<table border=\"1\" class=\"dataframe\">\n",
       "  <thead>\n",
       "    <tr style=\"text-align: right;\">\n",
       "      <th></th>\n",
       "      <th>model</th>\n",
       "      <th>features</th>\n",
       "      <th>pcs</th>\n",
       "      <th>init_type</th>\n",
       "      <th>nl_type</th>\n",
       "      <th>score</th>\n",
       "      <th>lower</th>\n",
       "      <th>upper</th>\n",
       "    </tr>\n",
       "  </thead>\n",
       "  <tbody>\n",
       "    <tr>\n",
       "      <th>0</th>\n",
       "      <td>expansion_features=3_layers=5_dataset=majajhon...</td>\n",
       "      <td>3</td>\n",
       "      <td>None</td>\n",
       "      <td>kaiming_uniform</td>\n",
       "      <td>relu</td>\n",
       "      <td>tensor(-0.0775)</td>\n",
       "      <td>-0.268117</td>\n",
       "      <td>0.121221</td>\n",
       "    </tr>\n",
       "    <tr>\n",
       "      <th>1</th>\n",
       "      <td>expansion_features=3_layers=5_dataset=majajhon...</td>\n",
       "      <td>3</td>\n",
       "      <td>None</td>\n",
       "      <td>kaiming_normal</td>\n",
       "      <td>relu</td>\n",
       "      <td>tensor(-0.0957)</td>\n",
       "      <td>-0.275498</td>\n",
       "      <td>0.093600</td>\n",
       "    </tr>\n",
       "    <tr>\n",
       "      <th>2</th>\n",
       "      <td>expansion_features=3_layers=5_dataset=majajhon...</td>\n",
       "      <td>3</td>\n",
       "      <td>None</td>\n",
       "      <td>xavier_uniform</td>\n",
       "      <td>relu</td>\n",
       "      <td>tensor(-0.0918)</td>\n",
       "      <td>-0.272510</td>\n",
       "      <td>0.096775</td>\n",
       "    </tr>\n",
       "    <tr>\n",
       "      <th>3</th>\n",
       "      <td>expansion_features=3_layers=5_dataset=majajhon...</td>\n",
       "      <td>3</td>\n",
       "      <td>None</td>\n",
       "      <td>xavier_normal</td>\n",
       "      <td>relu</td>\n",
       "      <td>tensor(-0.0951)</td>\n",
       "      <td>-0.274589</td>\n",
       "      <td>0.093384</td>\n",
       "    </tr>\n",
       "  </tbody>\n",
       "</table>\n",
       "</div>"
      ],
      "text/plain": [
       "                                               model features   pcs  \\\n",
       "0  expansion_features=3_layers=5_dataset=majajhon...        3  None   \n",
       "1  expansion_features=3_layers=5_dataset=majajhon...        3  None   \n",
       "2  expansion_features=3_layers=5_dataset=majajhon...        3  None   \n",
       "3  expansion_features=3_layers=5_dataset=majajhon...        3  None   \n",
       "\n",
       "         init_type nl_type            score     lower     upper  \n",
       "0  kaiming_uniform    relu  tensor(-0.0775) -0.268117  0.121221  \n",
       "1   kaiming_normal    relu  tensor(-0.0957) -0.275498  0.093600  \n",
       "2   xavier_uniform    relu  tensor(-0.0918) -0.272510  0.096775  \n",
       "3    xavier_normal    relu  tensor(-0.0951) -0.274589  0.093384  "
      ]
     },
     "metadata": {},
     "output_type": "display_data"
    }
   ],
   "source": [
    "# initialization types\n",
    "init_type_(DATASET, cfg, BATCH_SIZE, DEVICE)\n",
    "\n",
    "file_name = 'init_types'\n",
    "file_path = os.path.join(RESULTS_PATH, f'{file_name}_majajhong_demo_IT.pkl')\n",
    "with open(file_path, 'rb') as file:\n",
    "    init_types_df = pickle.load(file)\n",
    "display(init_types_df)"
   ]
  },
  {
   "cell_type": "code",
   "execution_count": 8,
   "metadata": {},
   "outputs": [
    {
     "name": "stderr",
     "output_type": "stream",
     "text": [
      "2024-06-27 15:12:40,779 - INFO - Model: expansion_linear_features=3_layers=5_dataset=majajhong_demo, Region: IT\n",
      "2024-06-27 15:12:41,732 - INFO - Loading processed images...\n",
      "2024-06-27 15:12:41,757 - INFO - Extracting activations...\n",
      "100%|██████████| 1/1 [00:03<00:00,  3.02s/it]\n",
      "2024-06-27 15:12:44,775 - INFO - Model activations are saved in cache\n",
      "2024-06-27 15:12:44,855 - INFO - Predicting neural data from model activations...\n",
      "100%|██████████| 2/2 [00:00<00:00, 25.21it/s]\n",
      "100%|██████████| 2/2 [00:00<00:00, 24.44it/s]\n",
      "2024-06-27 15:12:44,939 - INFO - Computing bootstrap distribution of r-values...\n"
     ]
    },
    {
     "name": "stdout",
     "output_type": "stream",
     "text": [
      "/home/atlask/data/atlas/.cache expansion_linear_features=3_layers=5_dataset=majajhong_demo\n",
      "/home/atlask/data/atlas/.cache expansion_linear_features=3_layers=5_dataset=majajhong_demo\n",
      "/home/atlask/data/atlas/.cache expansion_linear_features=3_layers=5_dataset=majajhong_demo\n",
      "/home/atlask/data/atlas/.cache expansion_linear_features=3_layers=5_dataset=majajhong_demo\n"
     ]
    },
    {
     "name": "stderr",
     "output_type": "stream",
     "text": [
      "100%|██████████| 2/2 [00:03<00:00,  1.75s/it]\n",
      "2024-06-27 15:12:48,443 - INFO - Bootstrap r-values are now saved in cache\n"
     ]
    },
    {
     "data": {
      "text/html": [
       "<div>\n",
       "<style scoped>\n",
       "    .dataframe tbody tr th:only-of-type {\n",
       "        vertical-align: middle;\n",
       "    }\n",
       "\n",
       "    .dataframe tbody tr th {\n",
       "        vertical-align: top;\n",
       "    }\n",
       "\n",
       "    .dataframe thead th {\n",
       "        text-align: right;\n",
       "    }\n",
       "</style>\n",
       "<table border=\"1\" class=\"dataframe\">\n",
       "  <thead>\n",
       "    <tr style=\"text-align: right;\">\n",
       "      <th></th>\n",
       "      <th>model</th>\n",
       "      <th>features</th>\n",
       "      <th>pcs</th>\n",
       "      <th>init_type</th>\n",
       "      <th>nl_type</th>\n",
       "      <th>score</th>\n",
       "      <th>lower</th>\n",
       "      <th>upper</th>\n",
       "    </tr>\n",
       "  </thead>\n",
       "  <tbody>\n",
       "    <tr>\n",
       "      <th>0</th>\n",
       "      <td>expansion_linear_features=3_layers=5_dataset=m...</td>\n",
       "      <td>3</td>\n",
       "      <td>None</td>\n",
       "      <td>kaiming_uniform</td>\n",
       "      <td>relu</td>\n",
       "      <td>tensor(-0.0441)</td>\n",
       "      <td>-0.207202</td>\n",
       "      <td>0.128901</td>\n",
       "    </tr>\n",
       "  </tbody>\n",
       "</table>\n",
       "</div>"
      ],
      "text/plain": [
       "                                               model features   pcs  \\\n",
       "0  expansion_linear_features=3_layers=5_dataset=m...        3  None   \n",
       "\n",
       "         init_type nl_type            score     lower     upper  \n",
       "0  kaiming_uniform    relu  tensor(-0.0441) -0.207202  0.128901  "
      ]
     },
     "metadata": {},
     "output_type": "display_data"
    }
   ],
   "source": [
    "# linear models'\n",
    "linear_models_(DATASET, cfg, BATCH_SIZE, DEVICE)  \n",
    "file_name = 'linear_model'\n",
    "file_path = os.path.join(RESULTS_PATH, f'{file_name}_majajhong_demo_IT.pkl')\n",
    "with open(file_path, 'rb') as file:\n",
    "    linear_model_df = pickle.load(file)\n",
    "display(linear_model_df)"
   ]
  },
  {
   "cell_type": "code",
   "execution_count": 11,
   "metadata": {},
   "outputs": [
    {
     "name": "stderr",
     "output_type": "stream",
     "text": [
      "2024-06-27 15:15:00,509 - INFO - Model: expansion_features=3_layers=5_dataset=majajhong_demo_shuffled, Region: IT\n",
      "2024-06-27 15:15:01,436 - INFO - Activations already exist\n",
      "2024-06-27 15:15:01,437 - INFO - Predicting neural data from model activations...\n",
      "100%|██████████| 2/2 [00:00<00:00, 49932.19it/s]\n",
      "  0%|          | 0/2 [00:00<?, ?it/s]\n",
      "2024-06-27 15:15:01,440 - INFO - Bootstrap r-values already exist\n"
     ]
    },
    {
     "data": {
      "text/html": [
       "<div>\n",
       "<style scoped>\n",
       "    .dataframe tbody tr th:only-of-type {\n",
       "        vertical-align: middle;\n",
       "    }\n",
       "\n",
       "    .dataframe tbody tr th {\n",
       "        vertical-align: top;\n",
       "    }\n",
       "\n",
       "    .dataframe thead th {\n",
       "        text-align: right;\n",
       "    }\n",
       "</style>\n",
       "<table border=\"1\" class=\"dataframe\">\n",
       "  <thead>\n",
       "    <tr style=\"text-align: right;\">\n",
       "      <th></th>\n",
       "      <th>model</th>\n",
       "      <th>features</th>\n",
       "      <th>pcs</th>\n",
       "      <th>init_type</th>\n",
       "      <th>nl_type</th>\n",
       "      <th>score</th>\n",
       "      <th>lower</th>\n",
       "      <th>upper</th>\n",
       "    </tr>\n",
       "  </thead>\n",
       "  <tbody>\n",
       "    <tr>\n",
       "      <th>0</th>\n",
       "      <td>expansion_features=3_layers=5_dataset=majajhon...</td>\n",
       "      <td>3</td>\n",
       "      <td>None</td>\n",
       "      <td>kaiming_uniform</td>\n",
       "      <td>relu</td>\n",
       "      <td>tensor(-0.0934)</td>\n",
       "      <td>-0.265674</td>\n",
       "      <td>0.093651</td>\n",
       "    </tr>\n",
       "  </tbody>\n",
       "</table>\n",
       "</div>"
      ],
      "text/plain": [
       "                                               model features   pcs  \\\n",
       "0  expansion_features=3_layers=5_dataset=majajhon...        3  None   \n",
       "\n",
       "         init_type nl_type            score     lower     upper  \n",
       "0  kaiming_uniform    relu  tensor(-0.0934) -0.265674  0.093651  "
      ]
     },
     "metadata": {},
     "output_type": "display_data"
    }
   ],
   "source": [
    "# local connectivity\n",
    "local_connectivity_(DATASET, cfg, BATCH_SIZE, DEVICE) \n",
    "file_name = 'shuffled_data'\n",
    "file_path = os.path.join(RESULTS_PATH, f'{file_name}_majajhong_demo_shuffled_IT.pkl')\n",
    "with open(file_path, 'rb') as file:\n",
    "    local_connectivity_df = pickle.load(file)\n",
    "display(local_connectivity_df)  "
   ]
  },
  {
   "cell_type": "code",
   "execution_count": 13,
   "metadata": {},
   "outputs": [
    {
     "name": "stderr",
     "output_type": "stream",
     "text": [
      "2024-06-27 15:15:42,094 - INFO - Model: fully_random_features=3_layers=5_dataset=majajhong_demo\n",
      "2024-06-27 15:15:43,683 - INFO - Activations already exist\n",
      "2024-06-27 15:15:43,683 - INFO - Predicting neural data from model activations...\n",
      "100%|██████████| 2/2 [00:00<00:00, 49056.19it/s]\n",
      "  0%|          | 0/2 [00:00<?, ?it/s]\n",
      "2024-06-27 15:15:43,685 - INFO - Bootstrap r-values already exist\n"
     ]
    },
    {
     "data": {
      "text/html": [
       "<div>\n",
       "<style scoped>\n",
       "    .dataframe tbody tr th:only-of-type {\n",
       "        vertical-align: middle;\n",
       "    }\n",
       "\n",
       "    .dataframe tbody tr th {\n",
       "        vertical-align: top;\n",
       "    }\n",
       "\n",
       "    .dataframe thead th {\n",
       "        text-align: right;\n",
       "    }\n",
       "</style>\n",
       "<table border=\"1\" class=\"dataframe\">\n",
       "  <thead>\n",
       "    <tr style=\"text-align: right;\">\n",
       "      <th></th>\n",
       "      <th>model</th>\n",
       "      <th>features</th>\n",
       "      <th>pcs</th>\n",
       "      <th>init_type</th>\n",
       "      <th>nl_type</th>\n",
       "      <th>score</th>\n",
       "      <th>lower</th>\n",
       "      <th>upper</th>\n",
       "    </tr>\n",
       "  </thead>\n",
       "  <tbody>\n",
       "    <tr>\n",
       "      <th>0</th>\n",
       "      <td>fully_random_features=3_layers=5_dataset=majaj...</td>\n",
       "      <td>3</td>\n",
       "      <td>None</td>\n",
       "      <td>kaiming_uniform</td>\n",
       "      <td>relu</td>\n",
       "      <td>tensor(-0.0295)</td>\n",
       "      <td>-0.196715</td>\n",
       "      <td>0.165459</td>\n",
       "    </tr>\n",
       "  </tbody>\n",
       "</table>\n",
       "</div>"
      ],
      "text/plain": [
       "                                               model features   pcs  \\\n",
       "0  fully_random_features=3_layers=5_dataset=majaj...        3  None   \n",
       "\n",
       "         init_type nl_type            score     lower     upper  \n",
       "0  kaiming_uniform    relu  tensor(-0.0295) -0.196715  0.165459  "
      ]
     },
     "metadata": {},
     "output_type": "display_data"
    }
   ],
   "source": [
    "# random models\n",
    "random_models_(DATASET, cfg, 3, DEVICE) \n",
    "file_name = 'random_model'\n",
    "file_path = os.path.join(RESULTS_PATH, f'{file_name}_majajhong_demo_IT.pkl')\n",
    "with open(file_path, 'rb') as file:\n",
    "    random_models_df = pickle.load(file)\n",
    "display(random_models_df)"
   ]
  },
  {
   "cell_type": "code",
   "execution_count": 14,
   "metadata": {},
   "outputs": [
    {
     "name": "stderr",
     "output_type": "stream",
     "text": [
      "2024-06-27 15:16:00,194 - INFO - Model: expansion_features=3_layers=5_dataset=majajhong_demo, Region: IT\n",
      "2024-06-27 15:16:01,136 - INFO - Activations already exist\n",
      "2024-06-27 15:16:01,136 - INFO - Predicting neural data from model activations...\n",
      "100%|██████████| 2/2 [00:00<00:00, 15768.06it/s]\n",
      "  0%|          | 0/2 [00:00<?, ?it/s]\n",
      "2024-06-27 15:16:01,218 - INFO - Model: expansion_features=3_layers=5_dataset=majajhong_demo_gelu, Region: IT\n",
      "2024-06-27 15:16:02,163 - INFO - Loading processed images...\n",
      "2024-06-27 15:16:02,185 - INFO - Extracting activations...\n",
      "100%|██████████| 1/1 [00:02<00:00,  2.79s/it]\n",
      "2024-06-27 15:16:04,973 - INFO - Model activations are saved in cache\n",
      "2024-06-27 15:16:05,054 - INFO - Predicting neural data from model activations...\n",
      "100%|██████████| 2/2 [00:00<00:00, 22.64it/s]\n",
      "100%|██████████| 2/2 [00:00<00:00, 21.94it/s]\n",
      "2024-06-27 15:16:05,246 - INFO - Model: expansion_features=3_layers=5_dataset=majajhong_demo_elu, Region: IT\n"
     ]
    },
    {
     "name": "stdout",
     "output_type": "stream",
     "text": [
      "/home/atlask/data/atlas/.cache expansion_features=3_layers=5_dataset=majajhong_demo_gelu\n",
      "/home/atlask/data/atlas/.cache expansion_features=3_layers=5_dataset=majajhong_demo_gelu\n",
      "/home/atlask/data/atlas/.cache expansion_features=3_layers=5_dataset=majajhong_demo_gelu\n",
      "/home/atlask/data/atlas/.cache expansion_features=3_layers=5_dataset=majajhong_demo_gelu\n"
     ]
    },
    {
     "name": "stderr",
     "output_type": "stream",
     "text": [
      "2024-06-27 15:16:06,208 - INFO - Loading processed images...\n",
      "2024-06-27 15:16:06,227 - INFO - Extracting activations...\n",
      "100%|██████████| 1/1 [00:02<00:00,  2.98s/it]\n",
      "2024-06-27 15:16:09,207 - INFO - Model activations are saved in cache\n",
      "2024-06-27 15:16:09,294 - INFO - Predicting neural data from model activations...\n",
      "100%|██████████| 2/2 [00:00<00:00, 21.70it/s]\n",
      "100%|██████████| 2/2 [00:00<00:00, 21.19it/s]\n",
      "2024-06-27 15:16:09,491 - INFO - Model: expansion_features=3_layers=5_dataset=majajhong_demo_abs, Region: IT\n"
     ]
    },
    {
     "name": "stdout",
     "output_type": "stream",
     "text": [
      "/home/atlask/data/atlas/.cache expansion_features=3_layers=5_dataset=majajhong_demo_elu\n",
      "/home/atlask/data/atlas/.cache expansion_features=3_layers=5_dataset=majajhong_demo_elu\n",
      "/home/atlask/data/atlas/.cache expansion_features=3_layers=5_dataset=majajhong_demo_elu\n",
      "/home/atlask/data/atlas/.cache expansion_features=3_layers=5_dataset=majajhong_demo_elu\n"
     ]
    },
    {
     "name": "stderr",
     "output_type": "stream",
     "text": [
      "2024-06-27 15:16:10,454 - INFO - Loading processed images...\n",
      "2024-06-27 15:16:10,478 - INFO - Extracting activations...\n",
      "100%|██████████| 1/1 [00:03<00:00,  3.09s/it]\n",
      "2024-06-27 15:16:13,573 - INFO - Model activations are saved in cache\n",
      "2024-06-27 15:16:13,663 - INFO - Predicting neural data from model activations...\n",
      "100%|██████████| 2/2 [00:00<00:00, 21.37it/s]\n",
      "100%|██████████| 2/2 [00:00<00:00, 20.94it/s]\n",
      "2024-06-27 15:16:13,860 - INFO - Model: expansion_features=3_layers=5_dataset=majajhong_demo_leaky_relu, Region: IT\n"
     ]
    },
    {
     "name": "stdout",
     "output_type": "stream",
     "text": [
      "/home/atlask/data/atlas/.cache expansion_features=3_layers=5_dataset=majajhong_demo_abs\n",
      "/home/atlask/data/atlas/.cache expansion_features=3_layers=5_dataset=majajhong_demo_abs\n",
      "/home/atlask/data/atlas/.cache expansion_features=3_layers=5_dataset=majajhong_demo_abs\n",
      "/home/atlask/data/atlas/.cache expansion_features=3_layers=5_dataset=majajhong_demo_abs\n"
     ]
    },
    {
     "name": "stderr",
     "output_type": "stream",
     "text": [
      "2024-06-27 15:16:14,848 - INFO - Loading processed images...\n",
      "2024-06-27 15:16:14,877 - INFO - Extracting activations...\n",
      "100%|██████████| 1/1 [00:03<00:00,  3.42s/it]\n",
      "2024-06-27 15:16:18,300 - INFO - Model activations are saved in cache\n",
      "2024-06-27 15:16:18,392 - INFO - Predicting neural data from model activations...\n",
      "100%|██████████| 2/2 [00:00<00:00, 23.20it/s]\n",
      "100%|██████████| 2/2 [00:00<00:00, 22.53it/s]\n",
      "2024-06-27 15:16:18,582 - INFO - Computing bootstrap distribution of r-values...\n"
     ]
    },
    {
     "name": "stdout",
     "output_type": "stream",
     "text": [
      "/home/atlask/data/atlas/.cache expansion_features=3_layers=5_dataset=majajhong_demo_leaky_relu\n",
      "/home/atlask/data/atlas/.cache expansion_features=3_layers=5_dataset=majajhong_demo_leaky_relu\n",
      "/home/atlask/data/atlas/.cache expansion_features=3_layers=5_dataset=majajhong_demo_leaky_relu\n",
      "/home/atlask/data/atlas/.cache expansion_features=3_layers=5_dataset=majajhong_demo_leaky_relu\n"
     ]
    },
    {
     "name": "stderr",
     "output_type": "stream",
     "text": [
      "100%|██████████| 2/2 [00:03<00:00,  1.79s/it]\n",
      "100%|██████████| 2/2 [00:03<00:00,  1.78s/it]\n",
      "100%|██████████| 2/2 [00:03<00:00,  1.85s/it]\n",
      "100%|██████████| 2/2 [00:03<00:00,  1.81s/it]\n",
      "100%|██████████| 2/2 [00:03<00:00,  1.79s/it]\n",
      "2024-06-27 15:16:36,635 - INFO - Bootstrap r-values are now saved in cache\n"
     ]
    },
    {
     "data": {
      "text/html": [
       "<div>\n",
       "<style scoped>\n",
       "    .dataframe tbody tr th:only-of-type {\n",
       "        vertical-align: middle;\n",
       "    }\n",
       "\n",
       "    .dataframe tbody tr th {\n",
       "        vertical-align: top;\n",
       "    }\n",
       "\n",
       "    .dataframe thead th {\n",
       "        text-align: right;\n",
       "    }\n",
       "</style>\n",
       "<table border=\"1\" class=\"dataframe\">\n",
       "  <thead>\n",
       "    <tr style=\"text-align: right;\">\n",
       "      <th></th>\n",
       "      <th>model</th>\n",
       "      <th>features</th>\n",
       "      <th>pcs</th>\n",
       "      <th>init_type</th>\n",
       "      <th>nl_type</th>\n",
       "      <th>score</th>\n",
       "      <th>lower</th>\n",
       "      <th>upper</th>\n",
       "    </tr>\n",
       "  </thead>\n",
       "  <tbody>\n",
       "    <tr>\n",
       "      <th>0</th>\n",
       "      <td>expansion_features=3_layers=5_dataset=majajhon...</td>\n",
       "      <td>3</td>\n",
       "      <td>None</td>\n",
       "      <td>kaiming_uniform</td>\n",
       "      <td>relu</td>\n",
       "      <td>tensor(-0.0775)</td>\n",
       "      <td>-0.272760</td>\n",
       "      <td>0.135513</td>\n",
       "    </tr>\n",
       "    <tr>\n",
       "      <th>1</th>\n",
       "      <td>expansion_features=3_layers=5_dataset=majajhon...</td>\n",
       "      <td>3</td>\n",
       "      <td>None</td>\n",
       "      <td>kaiming_uniform</td>\n",
       "      <td>gelu</td>\n",
       "      <td>tensor(-0.0943)</td>\n",
       "      <td>-0.277360</td>\n",
       "      <td>0.115777</td>\n",
       "    </tr>\n",
       "    <tr>\n",
       "      <th>2</th>\n",
       "      <td>expansion_features=3_layers=5_dataset=majajhon...</td>\n",
       "      <td>3</td>\n",
       "      <td>None</td>\n",
       "      <td>kaiming_uniform</td>\n",
       "      <td>elu</td>\n",
       "      <td>tensor(-0.0606)</td>\n",
       "      <td>-0.235756</td>\n",
       "      <td>0.134658</td>\n",
       "    </tr>\n",
       "    <tr>\n",
       "      <th>3</th>\n",
       "      <td>expansion_features=3_layers=5_dataset=majajhon...</td>\n",
       "      <td>3</td>\n",
       "      <td>None</td>\n",
       "      <td>kaiming_uniform</td>\n",
       "      <td>abs</td>\n",
       "      <td>tensor(-0.0457)</td>\n",
       "      <td>-0.227620</td>\n",
       "      <td>0.161018</td>\n",
       "    </tr>\n",
       "    <tr>\n",
       "      <th>4</th>\n",
       "      <td>expansion_features=3_layers=5_dataset=majajhon...</td>\n",
       "      <td>3</td>\n",
       "      <td>None</td>\n",
       "      <td>kaiming_uniform</td>\n",
       "      <td>leaky_relu</td>\n",
       "      <td>tensor(-0.0842)</td>\n",
       "      <td>-0.268070</td>\n",
       "      <td>0.127141</td>\n",
       "    </tr>\n",
       "  </tbody>\n",
       "</table>\n",
       "</div>"
      ],
      "text/plain": [
       "                                               model features   pcs  \\\n",
       "0  expansion_features=3_layers=5_dataset=majajhon...        3  None   \n",
       "1  expansion_features=3_layers=5_dataset=majajhon...        3  None   \n",
       "2  expansion_features=3_layers=5_dataset=majajhon...        3  None   \n",
       "3  expansion_features=3_layers=5_dataset=majajhon...        3  None   \n",
       "4  expansion_features=3_layers=5_dataset=majajhon...        3  None   \n",
       "\n",
       "         init_type     nl_type            score     lower     upper  \n",
       "0  kaiming_uniform        relu  tensor(-0.0775) -0.272760  0.135513  \n",
       "1  kaiming_uniform        gelu  tensor(-0.0943) -0.277360  0.115777  \n",
       "2  kaiming_uniform         elu  tensor(-0.0606) -0.235756  0.134658  \n",
       "3  kaiming_uniform         abs  tensor(-0.0457) -0.227620  0.161018  \n",
       "4  kaiming_uniform  leaky_relu  tensor(-0.0842) -0.268070  0.127141  "
      ]
     },
     "metadata": {},
     "output_type": "display_data"
    }
   ],
   "source": [
    "# non linearities\n",
    "non_linearity_(DATASET, cfg, BATCH_SIZE, DEVICE)  \n",
    "file_name = 'non_linearity'\n",
    "file_path = os.path.join(RESULTS_PATH, f'{file_name}_majajhong_demo_IT.pkl')\n",
    "with open(file_path, 'rb') as file:\n",
    "    non_linearity_df = pickle.load(file)\n",
    "display(non_linearity_df)\n"
   ]
  }
 ],
 "metadata": {
  "kernelspec": {
   "display_name": "final_test",
   "language": "python",
   "name": "python3"
  },
  "language_info": {
   "codemirror_mode": {
    "name": "ipython",
    "version": 3
   },
   "file_extension": ".py",
   "mimetype": "text/x-python",
   "name": "python",
   "nbconvert_exporter": "python",
   "pygments_lexer": "ipython3",
   "version": "3.10.14"
  }
 },
 "nbformat": 4,
 "nbformat_minor": 2
}
