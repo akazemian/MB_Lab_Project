{
 "cells": [
  {
   "cell_type": "code",
   "execution_count": 3,
   "metadata": {},
   "outputs": [
    {
     "name": "stderr",
     "output_type": "stream",
     "text": [
      "/home/atlask/Desktop/untrained_models_of_visual_cortex/code/model_activations/activation_extractor.py:21: UserWarning: my warning\n",
      "  warnings.warn('my warning')\n"
     ]
    }
   ],
   "source": [
    "import pickle\n",
    "import os\n",
    "\n",
    "from config import RESULTS_PATH\n",
    "from demo.model_configs import model_cfg as cfg\n",
    "from code.encoding_score.pretrained_alexnet import pretrained_alexnet_\n",
    "from code.encoding_score.untrained_models import untrained_models_"
   ]
  },
  {
   "cell_type": "code",
   "execution_count": 4,
   "metadata": {},
   "outputs": [],
   "source": [
    "DATASET = \"majajhong_demo\"\n",
    "DEVICE = 'cuda'\n",
    "BATCH_SIZE = 50"
   ]
  },
  {
   "cell_type": "code",
   "execution_count": 5,
   "metadata": {},
   "outputs": [
    {
     "name": "stderr",
     "output_type": "stream",
     "text": [
      "2024-06-27 14:39:54,912 - INFO - Model: alexnet_conv1_layers=1_features=64_dataset=majajhong_demo, Region: IT\n",
      "2024-06-27 14:39:55,351 - INFO - Activations already exist\n",
      "2024-06-27 14:39:55,351 - INFO - Model: alexnet_conv2_layers=2_features=192_dataset=majajhong_demo, Region: IT\n",
      "2024-06-27 14:39:55,352 - INFO - Activations already exist\n",
      "2024-06-27 14:39:55,352 - INFO - Model: alexnet_conv3_layers=3_features=384_dataset=majajhong_demo, Region: IT\n",
      "2024-06-27 14:39:55,352 - INFO - Activations already exist\n",
      "2024-06-27 14:39:55,353 - INFO - Model: alexnet_conv4_layers=4_features=256_dataset=majajhong_demo, Region: IT\n",
      "2024-06-27 14:39:55,353 - INFO - Activations already exist\n",
      "2024-06-27 14:39:55,353 - INFO - Model: alexnet_conv5_layers=5_features=256_dataset=majajhong_demo, Region: IT\n",
      "2024-06-27 14:39:55,354 - INFO - Activations already exist\n",
      "2024-06-27 14:39:55,354 - INFO - Predicting neural data from model activations...\n"
     ]
    },
    {
     "name": "stdout",
     "output_type": "stream",
     "text": [
      "/home/atlask/data/atlas/.cache alexnet_conv1_layers=1_features=64_dataset=majajhong_demo\n"
     ]
    },
    {
     "name": "stderr",
     "output_type": "stream",
     "text": [
      "100%|██████████| 2/2 [00:00<00:00, 13.45it/s]\n"
     ]
    },
    {
     "name": "stdout",
     "output_type": "stream",
     "text": [
      "best_layer: alexnet_conv1_layers=1_features=64_dataset=majajhong_demo\n",
      "/home/atlask/data/atlas/.cache alexnet_conv2_layers=2_features=192_dataset=majajhong_demo\n"
     ]
    },
    {
     "name": "stderr",
     "output_type": "stream",
     "text": [
      "100%|██████████| 2/2 [00:00<00:00, 52.72it/s]\n"
     ]
    },
    {
     "name": "stdout",
     "output_type": "stream",
     "text": [
      "best_layer: alexnet_conv2_layers=2_features=192_dataset=majajhong_demo\n",
      "/home/atlask/data/atlas/.cache alexnet_conv3_layers=3_features=384_dataset=majajhong_demo\n"
     ]
    },
    {
     "name": "stderr",
     "output_type": "stream",
     "text": [
      "100%|██████████| 2/2 [00:00<00:00, 49.51it/s]\n"
     ]
    },
    {
     "name": "stdout",
     "output_type": "stream",
     "text": [
      "best_layer: alexnet_conv2_layers=2_features=192_dataset=majajhong_demo\n",
      "/home/atlask/data/atlas/.cache alexnet_conv4_layers=4_features=256_dataset=majajhong_demo\n"
     ]
    },
    {
     "name": "stderr",
     "output_type": "stream",
     "text": [
      "100%|██████████| 2/2 [00:00<00:00, 52.18it/s]\n"
     ]
    },
    {
     "name": "stdout",
     "output_type": "stream",
     "text": [
      "best_layer: alexnet_conv2_layers=2_features=192_dataset=majajhong_demo\n",
      "/home/atlask/data/atlas/.cache alexnet_conv5_layers=5_features=256_dataset=majajhong_demo\n"
     ]
    },
    {
     "name": "stderr",
     "output_type": "stream",
     "text": [
      "100%|██████████| 2/2 [00:00<00:00, 52.57it/s]\n"
     ]
    },
    {
     "name": "stdout",
     "output_type": "stream",
     "text": [
      "best_layer: alexnet_conv2_layers=2_features=192_dataset=majajhong_demo\n"
     ]
    },
    {
     "name": "stderr",
     "output_type": "stream",
     "text": [
      "100%|██████████| 2/2 [00:00<00:00, 19691.57it/s]\n",
      "2024-06-27 14:39:55,710 - INFO - Computing bootstrap distribution of r-values...\n",
      "100%|██████████| 2/2 [00:03<00:00,  1.75s/it]\n",
      "2024-06-27 14:39:59,210 - INFO - Bootstrap r-values are now saved in cache\n"
     ]
    }
   ],
   "source": [
    "# pretrained alexnet\n",
    "pretrained_alexnet_(dataset=DATASET, cfg =cfg, batch_size=BATCH_SIZE, device=DEVICE)"
   ]
  },
  {
   "cell_type": "code",
   "execution_count": 11,
   "metadata": {},
   "outputs": [
    {
     "data": {
      "text/html": [
       "<div>\n",
       "<style scoped>\n",
       "    .dataframe tbody tr th:only-of-type {\n",
       "        vertical-align: middle;\n",
       "    }\n",
       "\n",
       "    .dataframe tbody tr th {\n",
       "        vertical-align: top;\n",
       "    }\n",
       "\n",
       "    .dataframe thead th {\n",
       "        text-align: right;\n",
       "    }\n",
       "</style>\n",
       "<table border=\"1\" class=\"dataframe\">\n",
       "  <thead>\n",
       "    <tr style=\"text-align: right;\">\n",
       "      <th></th>\n",
       "      <th>model</th>\n",
       "      <th>features</th>\n",
       "      <th>pcs</th>\n",
       "      <th>init_type</th>\n",
       "      <th>nl_type</th>\n",
       "      <th>score</th>\n",
       "      <th>lower</th>\n",
       "      <th>upper</th>\n",
       "    </tr>\n",
       "  </thead>\n",
       "  <tbody>\n",
       "    <tr>\n",
       "      <th>0</th>\n",
       "      <td>alexnet_conv2_layers=2_features=192_dataset=ma...</td>\n",
       "      <td>None</td>\n",
       "      <td>None</td>\n",
       "      <td>kaiming_uniform</td>\n",
       "      <td>relu</td>\n",
       "      <td>tensor(-0.0265)</td>\n",
       "      <td>-0.184469</td>\n",
       "      <td>0.128172</td>\n",
       "    </tr>\n",
       "  </tbody>\n",
       "</table>\n",
       "</div>"
      ],
      "text/plain": [
       "                                               model features   pcs  \\\n",
       "0  alexnet_conv2_layers=2_features=192_dataset=ma...     None  None   \n",
       "\n",
       "         init_type nl_type            score     lower     upper  \n",
       "0  kaiming_uniform    relu  tensor(-0.0265) -0.184469  0.128172  "
      ]
     },
     "metadata": {},
     "output_type": "display_data"
    }
   ],
   "source": [
    "# printing the output:\n",
    "file_path = os.path.join(RESULTS_PATH, 'alexnet_majajhong_demo_IT.pkl')\n",
    "with open(file_path, 'rb') as file:\n",
    "    alexnet_score = pickle.load(file)\n",
    "display(alexnet_score)"
   ]
  },
  {
   "cell_type": "code",
   "execution_count": 8,
   "metadata": {},
   "outputs": [
    {
     "name": "stderr",
     "output_type": "stream",
     "text": [
      "2024-06-27 14:40:12,246 - INFO - Model: expansion_features=3_layers=5_dataset=majajhong_demo, Region: IT\n",
      "2024-06-27 14:40:13,150 - INFO - Activations already exist\n",
      "2024-06-27 14:40:13,151 - INFO - Predicting neural data from model activations...\n",
      "100%|██████████| 2/2 [00:00<00:00, 52103.16it/s]\n",
      "  0%|          | 0/2 [00:00<?, ?it/s]\n",
      "2024-06-27 14:40:13,153 - INFO - Computing bootstrap distribution of r-values...\n",
      "100%|██████████| 2/2 [00:03<00:00,  1.76s/it]\n",
      "2024-06-27 14:40:16,669 - INFO - Bootstrap r-values are now saved in cache\n",
      "2024-06-27 14:40:16,749 - INFO - Model: fully_connected_features=108_layers=5_dataset=majajhong_demo, Region: IT\n",
      "2024-06-27 14:40:16,925 - INFO - Activations already exist\n",
      "2024-06-27 14:40:16,926 - INFO - Predicting neural data from model activations...\n",
      "100%|██████████| 2/2 [00:00<00:00, 28532.68it/s]\n",
      "  0%|          | 0/2 [00:00<?, ?it/s]\n",
      "2024-06-27 14:40:16,929 - INFO - Computing bootstrap distribution of r-values...\n",
      "100%|██████████| 2/2 [00:03<00:00,  1.82s/it]\n",
      "2024-06-27 14:40:20,571 - INFO - Bootstrap r-values are now saved in cache\n",
      "2024-06-27 14:40:20,653 - INFO - Model: vit_features=12_dataset=majajhong_demo, Region: IT\n",
      "2024-06-27 14:40:22,016 - INFO - Activations already exist\n",
      "2024-06-27 14:40:22,017 - INFO - Predicting neural data from model activations...\n",
      "100%|██████████| 2/2 [00:00<00:00, 49636.73it/s]\n",
      "  0%|          | 0/2 [00:00<?, ?it/s]\n",
      "2024-06-27 14:40:22,019 - INFO - Computing bootstrap distribution of r-values...\n",
      "100%|██████████| 2/2 [00:03<00:00,  1.96s/it]\n",
      "2024-06-27 14:40:25,935 - INFO - Bootstrap r-values are now saved in cache\n"
     ]
    }
   ],
   "source": [
    "# untrained models\n",
    "untrained_models_(dataset=DATASET, cfg = cfg, batch_size=BATCH_SIZE, device=DEVICE)"
   ]
  },
  {
   "cell_type": "code",
   "execution_count": 10,
   "metadata": {},
   "outputs": [
    {
     "data": {
      "text/html": [
       "<div>\n",
       "<style scoped>\n",
       "    .dataframe tbody tr th:only-of-type {\n",
       "        vertical-align: middle;\n",
       "    }\n",
       "\n",
       "    .dataframe tbody tr th {\n",
       "        vertical-align: top;\n",
       "    }\n",
       "\n",
       "    .dataframe thead th {\n",
       "        text-align: right;\n",
       "    }\n",
       "</style>\n",
       "<table border=\"1\" class=\"dataframe\">\n",
       "  <thead>\n",
       "    <tr style=\"text-align: right;\">\n",
       "      <th></th>\n",
       "      <th>model</th>\n",
       "      <th>features</th>\n",
       "      <th>pcs</th>\n",
       "      <th>init_type</th>\n",
       "      <th>nl_type</th>\n",
       "      <th>score</th>\n",
       "      <th>lower</th>\n",
       "      <th>upper</th>\n",
       "    </tr>\n",
       "  </thead>\n",
       "  <tbody>\n",
       "    <tr>\n",
       "      <th>0</th>\n",
       "      <td>expansion_features=3_layers=5_dataset=majajhon...</td>\n",
       "      <td>3</td>\n",
       "      <td>None</td>\n",
       "      <td>kaiming_uniform</td>\n",
       "      <td>relu</td>\n",
       "      <td>tensor(-0.0778)</td>\n",
       "      <td>-0.273876</td>\n",
       "      <td>0.127364</td>\n",
       "    </tr>\n",
       "  </tbody>\n",
       "</table>\n",
       "</div>"
      ],
      "text/plain": [
       "                                               model features   pcs  \\\n",
       "0  expansion_features=3_layers=5_dataset=majajhon...        3  None   \n",
       "\n",
       "         init_type nl_type            score     lower     upper  \n",
       "0  kaiming_uniform    relu  tensor(-0.0778) -0.273876  0.127364  "
      ]
     },
     "metadata": {},
     "output_type": "display_data"
    },
    {
     "data": {
      "text/html": [
       "<div>\n",
       "<style scoped>\n",
       "    .dataframe tbody tr th:only-of-type {\n",
       "        vertical-align: middle;\n",
       "    }\n",
       "\n",
       "    .dataframe tbody tr th {\n",
       "        vertical-align: top;\n",
       "    }\n",
       "\n",
       "    .dataframe thead th {\n",
       "        text-align: right;\n",
       "    }\n",
       "</style>\n",
       "<table border=\"1\" class=\"dataframe\">\n",
       "  <thead>\n",
       "    <tr style=\"text-align: right;\">\n",
       "      <th></th>\n",
       "      <th>model</th>\n",
       "      <th>features</th>\n",
       "      <th>pcs</th>\n",
       "      <th>init_type</th>\n",
       "      <th>nl_type</th>\n",
       "      <th>score</th>\n",
       "      <th>lower</th>\n",
       "      <th>upper</th>\n",
       "    </tr>\n",
       "  </thead>\n",
       "  <tbody>\n",
       "    <tr>\n",
       "      <th>0</th>\n",
       "      <td>fully_connected_features=108_layers=5_dataset=...</td>\n",
       "      <td>3</td>\n",
       "      <td>None</td>\n",
       "      <td>kaiming_uniform</td>\n",
       "      <td>relu</td>\n",
       "      <td>tensor(-0.0948)</td>\n",
       "      <td>-0.281312</td>\n",
       "      <td>0.105367</td>\n",
       "    </tr>\n",
       "  </tbody>\n",
       "</table>\n",
       "</div>"
      ],
      "text/plain": [
       "                                               model features   pcs  \\\n",
       "0  fully_connected_features=108_layers=5_dataset=...        3  None   \n",
       "\n",
       "         init_type nl_type            score     lower     upper  \n",
       "0  kaiming_uniform    relu  tensor(-0.0948) -0.281312  0.105367  "
      ]
     },
     "metadata": {},
     "output_type": "display_data"
    },
    {
     "data": {
      "text/html": [
       "<div>\n",
       "<style scoped>\n",
       "    .dataframe tbody tr th:only-of-type {\n",
       "        vertical-align: middle;\n",
       "    }\n",
       "\n",
       "    .dataframe tbody tr th {\n",
       "        vertical-align: top;\n",
       "    }\n",
       "\n",
       "    .dataframe thead th {\n",
       "        text-align: right;\n",
       "    }\n",
       "</style>\n",
       "<table border=\"1\" class=\"dataframe\">\n",
       "  <thead>\n",
       "    <tr style=\"text-align: right;\">\n",
       "      <th></th>\n",
       "      <th>model</th>\n",
       "      <th>features</th>\n",
       "      <th>pcs</th>\n",
       "      <th>init_type</th>\n",
       "      <th>nl_type</th>\n",
       "      <th>score</th>\n",
       "      <th>lower</th>\n",
       "      <th>upper</th>\n",
       "    </tr>\n",
       "  </thead>\n",
       "  <tbody>\n",
       "    <tr>\n",
       "      <th>0</th>\n",
       "      <td>vit_features=12_dataset=majajhong_demo</td>\n",
       "      <td>12</td>\n",
       "      <td>None</td>\n",
       "      <td>kaiming_uniform</td>\n",
       "      <td>relu</td>\n",
       "      <td>tensor(-0.0009)</td>\n",
       "      <td>-0.156997</td>\n",
       "      <td>0.150402</td>\n",
       "    </tr>\n",
       "  </tbody>\n",
       "</table>\n",
       "</div>"
      ],
      "text/plain": [
       "                                    model features   pcs        init_type  \\\n",
       "0  vit_features=12_dataset=majajhong_demo       12  None  kaiming_uniform   \n",
       "\n",
       "  nl_type            score     lower     upper  \n",
       "0    relu  tensor(-0.0009) -0.156997  0.150402  "
      ]
     },
     "metadata": {},
     "output_type": "display_data"
    }
   ],
   "source": [
    "# printing the output:\n",
    "models = ['expansion', 'fully_connected', 'vit']\n",
    "\n",
    "for model in models:\n",
    "    file_path = os.path.join(RESULTS_PATH, f'{model}_majajhong_demo_IT.pkl')\n",
    "    with open(file_path, 'rb') as file:\n",
    "        untrained_model_score = pickle.load(file)\n",
    "    display(untrained_model_score)"
   ]
  },
  {
   "cell_type": "code",
   "execution_count": null,
   "metadata": {},
   "outputs": [],
   "source": []
  }
 ],
 "metadata": {
  "kernelspec": {
   "display_name": "final_test",
   "language": "python",
   "name": "python3"
  },
  "language_info": {
   "codemirror_mode": {
    "name": "ipython",
    "version": 3
   },
   "file_extension": ".py",
   "mimetype": "text/x-python",
   "name": "python",
   "nbconvert_exporter": "python",
   "pygments_lexer": "ipython3",
   "version": "3.10.14"
  }
 },
 "nbformat": 4,
 "nbformat_minor": 2
}
