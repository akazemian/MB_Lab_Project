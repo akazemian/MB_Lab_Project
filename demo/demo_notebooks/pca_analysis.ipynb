{
 "cells": [
  {
   "cell_type": "code",
   "execution_count": 4,
   "metadata": {},
   "outputs": [],
   "source": [
    "import os\n",
    "import logging\n",
    "import pickle\n",
    "\n",
    "import numpy as np \n",
    "from dotenv import load_dotenv\n",
    "\n",
    "from code.model_activations.models.utils import load_model, load_full_identifier\n",
    "from code.model_activations.activation_extractor import Activations\n",
    "from code.encoding_score.regression.get_betas import NeuralRegression\n",
    "from code.encoding_score.regression.scores_tools import get_bootstrap_rvalues\n",
    "from code.eigen_analysis.compute_pcs import compute_model_pcs\n",
    "from demo.model_configs import analysis_cfg as cfg\n",
    "from config import RESULTS_PATH\n",
    "\n",
    "load_dotenv()\n",
    "CACHE = os.getenv(\"CACHE\")"
   ]
  },
  {
   "cell_type": "code",
   "execution_count": 2,
   "metadata": {},
   "outputs": [],
   "source": [
    "MODEL_NAME = 'expansion'\n",
    "DATASET = 'majajhong_demo'\n",
    "DEVICE = 'cuda'\n",
    "BATCH_SIZE = 50\n",
    "N_BOOTSTRAPS = 1000\n",
    "N_ROWS = cfg[DATASET]['test_data_size']\n",
    "ALL_SAMPLED_INDICES = np.random.choice(N_ROWS, (N_BOOTSTRAPS, N_ROWS), replace=True) "
   ]
  },
  {
   "cell_type": "code",
   "execution_count": 3,
   "metadata": {},
   "outputs": [
    {
     "name": "stderr",
     "output_type": "stream",
     "text": [
      "2024-06-27 15:20:42,663 - INFO - Model: expansion_features=3_layers=5_dataset=majajhong_demo_principal_components=1, Components = 1, Region: IT\n",
      "2024-06-27 15:20:43,678 - INFO - Activations already exist\n",
      "2024-06-27 15:20:43,678 - INFO - Predicting neural data from model activations...\n",
      "100%|██████████| 2/2 [00:00<00:00, 14614.30it/s]\n",
      "  0%|          | 0/2 [00:00<?, ?it/s]\n",
      "2024-06-27 15:20:43,683 - INFO - Model: expansion_features=3_layers=5_dataset=majajhong_demo_principal_components=10, Components = 10, Region: IT\n",
      "2024-06-27 15:20:44,615 - INFO - Loading processed images...\n",
      "2024-06-27 15:20:44,647 - INFO - Extracting activations...\n",
      "100%|██████████| 1/1 [00:03<00:00,  3.21s/it]\n",
      "2024-06-27 15:20:47,862 - INFO - Model activations are saved in cache\n",
      "2024-06-27 15:20:47,945 - INFO - Predicting neural data from model activations...\n",
      "100%|██████████| 2/2 [00:00<00:00, 13.71it/s]\n",
      "100%|██████████| 2/2 [00:00<00:00, 13.50it/s]\n",
      "2024-06-27 15:20:48,095 - INFO - Computing bootstrap distribution of r-values...\n"
     ]
    },
    {
     "name": "stdout",
     "output_type": "stream",
     "text": [
      "/home/atlask/data/atlas/.cache expansion_features=3_layers=5_dataset=majajhong_demo_principal_components=10\n",
      "/home/atlask/data/atlas/.cache expansion_features=3_layers=5_dataset=majajhong_demo_principal_components=10\n",
      "/home/atlask/data/atlas/.cache expansion_features=3_layers=5_dataset=majajhong_demo_principal_components=10\n",
      "/home/atlask/data/atlas/.cache expansion_features=3_layers=5_dataset=majajhong_demo_principal_components=10\n"
     ]
    },
    {
     "name": "stderr",
     "output_type": "stream",
     "text": [
      "100%|██████████| 2/2 [00:03<00:00,  1.78s/it]\n",
      "100%|██████████| 2/2 [00:03<00:00,  1.65s/it]\n",
      "2024-06-27 15:20:54,958 - INFO - Bootstrap r-values are now saved in cache\n"
     ]
    }
   ],
   "source": [
    "for features in cfg[DATASET]['analysis']['pca']['features']:\n",
    "\n",
    "    TOTAL_COMPONENTS = 10 \n",
    "    N_COMPONENTS = list(np.logspace(0, np.log10(TOTAL_COMPONENTS), num=int(np.log10(TOTAL_COMPONENTS)) + 1, base=10).astype(int))\n",
    "    \n",
    "    pca_identifier = load_full_identifier(model_name=MODEL_NAME, \n",
    "                                                features=features, \n",
    "                                                layers=cfg[DATASET]['analysis']['pca']['layers'], \n",
    "                                                dataset=DATASET,\n",
    "                                                principal_components = TOTAL_COMPONENTS)\n",
    "\n",
    "    # compute model PCs using the train set\n",
    "    if not os.path.exists(os.path.join(CACHE,'pca',pca_identifier)):\n",
    "        compute_model_pcs(model_name = MODEL_NAME, \n",
    "                            features = features, \n",
    "                            layers = cfg[DATASET]['analysis']['pca']['layers'], \n",
    "                            dataset = DATASET, \n",
    "                            components = TOTAL_COMPONENTS, \n",
    "                            device = DEVICE,\n",
    "                            batch_size=BATCH_SIZE)\n",
    "        \n",
    "    # project activations onto the computed PCs \n",
    "    for n_components in N_COMPONENTS:\n",
    "        \n",
    "        activations_identifier = load_full_identifier(model_name=MODEL_NAME, \n",
    "                                                features=features, \n",
    "                                                layers=cfg[DATASET]['analysis']['pca']['layers'], \n",
    "                                                dataset=DATASET,\n",
    "                                                principal_components = n_components)            \n",
    "        \n",
    "        logging.info(f\"Model: {activations_identifier}, Components = {n_components}, Region: {cfg[DATASET]['regions']}\")\n",
    "        #load model\n",
    "        model = load_model(model_name=MODEL_NAME, \n",
    "                            features=features, \n",
    "                                layers=cfg[DATASET]['analysis']['pca']['layers'],\n",
    "                                device=DEVICE)\n",
    "\n",
    "        # compute activations and project onto PCs\n",
    "        Activations(model=model, \n",
    "                    dataset=DATASET, \n",
    "                    pca_iden = pca_identifier,\n",
    "                    n_components = n_components, \n",
    "                    batch_size = BATCH_SIZE,\n",
    "                    device= DEVICE).get_array(activations_identifier)  \n",
    "\n",
    "\n",
    "        # predict neural data in a cross validated manner using model PCs\n",
    "        NeuralRegression(activations_identifier=activations_identifier,\n",
    "                            dataset=DATASET,\n",
    "                            region=cfg[DATASET]['regions'],\n",
    "                            device= DEVICE).predict_data()\n",
    "        \n",
    "\n",
    "# get a bootstrap distribution of r-values between predicted and actual neural responses\n",
    "get_bootstrap_rvalues(model_name= MODEL_NAME,\n",
    "                features=cfg[DATASET]['analysis']['pca']['features'],\n",
    "                layers = cfg[DATASET]['analysis']['pca']['layers'],\n",
    "                principal_components=[1,10],\n",
    "                dataset=DATASET, \n",
    "                subjects=cfg[DATASET]['subjects'],\n",
    "                region=cfg[DATASET]['regions'],\n",
    "                all_sampled_indices=ALL_SAMPLED_INDICES,\n",
    "                device=DEVICE,\n",
    "                file_name= 'pca')"
   ]
  },
  {
   "cell_type": "code",
   "execution_count": 5,
   "metadata": {},
   "outputs": [
    {
     "data": {
      "text/html": [
       "<div>\n",
       "<style scoped>\n",
       "    .dataframe tbody tr th:only-of-type {\n",
       "        vertical-align: middle;\n",
       "    }\n",
       "\n",
       "    .dataframe tbody tr th {\n",
       "        vertical-align: top;\n",
       "    }\n",
       "\n",
       "    .dataframe thead th {\n",
       "        text-align: right;\n",
       "    }\n",
       "</style>\n",
       "<table border=\"1\" class=\"dataframe\">\n",
       "  <thead>\n",
       "    <tr style=\"text-align: right;\">\n",
       "      <th></th>\n",
       "      <th>model</th>\n",
       "      <th>features</th>\n",
       "      <th>pcs</th>\n",
       "      <th>init_type</th>\n",
       "      <th>nl_type</th>\n",
       "      <th>score</th>\n",
       "      <th>lower</th>\n",
       "      <th>upper</th>\n",
       "    </tr>\n",
       "  </thead>\n",
       "  <tbody>\n",
       "    <tr>\n",
       "      <th>0</th>\n",
       "      <td>expansion_features=3_layers=5_dataset=majajhon...</td>\n",
       "      <td>3</td>\n",
       "      <td>1</td>\n",
       "      <td>kaiming_uniform</td>\n",
       "      <td>relu</td>\n",
       "      <td>tensor(-0.0860)</td>\n",
       "      <td>-0.269513</td>\n",
       "      <td>0.122117</td>\n",
       "    </tr>\n",
       "    <tr>\n",
       "      <th>1</th>\n",
       "      <td>expansion_features=3_layers=5_dataset=majajhon...</td>\n",
       "      <td>3</td>\n",
       "      <td>10</td>\n",
       "      <td>kaiming_uniform</td>\n",
       "      <td>relu</td>\n",
       "      <td>tensor(-0.0747)</td>\n",
       "      <td>-0.266319</td>\n",
       "      <td>0.139583</td>\n",
       "    </tr>\n",
       "  </tbody>\n",
       "</table>\n",
       "</div>"
      ],
      "text/plain": [
       "                                               model features pcs  \\\n",
       "0  expansion_features=3_layers=5_dataset=majajhon...        3   1   \n",
       "1  expansion_features=3_layers=5_dataset=majajhon...        3  10   \n",
       "\n",
       "         init_type nl_type            score     lower     upper  \n",
       "0  kaiming_uniform    relu  tensor(-0.0860) -0.269513  0.122117  \n",
       "1  kaiming_uniform    relu  tensor(-0.0747) -0.266319  0.139583  "
      ]
     },
     "metadata": {},
     "output_type": "display_data"
    }
   ],
   "source": [
    "# printing the output:\n",
    "file_path = os.path.join(RESULTS_PATH, 'pca_majajhong_demo_IT.pkl')\n",
    "with open(file_path, 'rb') as file:\n",
    "    pca_expansion_score = pickle.load(file)\n",
    "display(pca_expansion_score)"
   ]
  },
  {
   "cell_type": "code",
   "execution_count": null,
   "metadata": {},
   "outputs": [],
   "source": []
  }
 ],
 "metadata": {
  "kernelspec": {
   "display_name": "final_test",
   "language": "python",
   "name": "python3"
  },
  "language_info": {
   "codemirror_mode": {
    "name": "ipython",
    "version": 3
   },
   "file_extension": ".py",
   "mimetype": "text/x-python",
   "name": "python",
   "nbconvert_exporter": "python",
   "pygments_lexer": "ipython3",
   "version": "3.10.14"
  }
 },
 "nbformat": 4,
 "nbformat_minor": 2
}
