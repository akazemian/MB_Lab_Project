{
 "cells": [
  {
   "cell_type": "code",
   "execution_count": 1,
   "id": "518ac500-1d45-47c2-9ee4-64ca4b810244",
   "metadata": {},
   "outputs": [
    {
     "name": "stdout",
     "output_type": "stream",
     "text": [
      "\n"
     ]
    }
   ],
   "source": [
    "import xarray as xr\n",
    "import numpy as np\n",
    "import torch\n",
    "import matplotlib.pyplot as plt\n",
    "import sys\n",
    "\n",
    "path = '/home/akazemi3/Desktop/MB_Lab_Project/'\n",
    "sys.path.append(path)\n",
    "from analysis.neural_data_regression.tools.regression import *\n",
    "\n",
    "from tools.processing import *\n",
    "from tools.loading import *\n",
    "\n",
    "import pandas as pd\n",
    "import seaborn as sns\n",
    "import pickle\n",
    "\n",
    "BEST_ALPHA_PATH = '/data/atlas/regression_alphas'    \n",
    "ROOT_PATH = '/data/atlas/model_scores'"
   ]
  },
  {
   "cell_type": "code",
   "execution_count": 2,
   "id": "33507f35-cf51-4df2-9acc-c03391998204",
   "metadata": {},
   "outputs": [],
   "source": [
    "def get_best_alpha(data_dict,legend_name_dict):\n",
    "    \n",
    "    df = pd.DataFrame()\n",
    "\n",
    "    index = 0\n",
    "    for model_name, model_info in data_dict.items():\n",
    "                \n",
    "        for alpha in model_info['alphas']:\n",
    "\n",
    "            regression = f'Ridge(alpha={alpha})' \n",
    "                \n",
    "\n",
    "            data = xr.open_dataset(os.path.join(ROOT_PATH,f'{model_name}_{regression}'))\n",
    "            r_values = data.where(data.region == region,drop=True).r_value.values\n",
    "            mean_r = np.mean(r_values)\n",
    "            df_tmp =  pd.DataFrame({'mean_score':mean_r,\n",
    "                                    'alpha':alpha,\n",
    "                                    'model':model_name},index=[index])\n",
    "            df = pd.concat([df,df_tmp])\n",
    "            index += 1\n",
    "    \n",
    "    if legend_name_dict is not None:\n",
    "        df.model = df.model.map(legend_name_dict)\n",
    "    \n",
    "    df = df.groupby(['model','alpha']).mean().reset_index()\n",
    "    max_idx = df.groupby(['model']).agg({'mean_score':('idxmax')}).reset_index()['mean_score'].tolist()\n",
    "    df_max_alphas = df.loc[max_idx].reset_index(drop=True)\n",
    "\n",
    "    return df_max_alphas\n",
    "    "
   ]
  },
  {
   "cell_type": "code",
   "execution_count": 3,
   "id": "68416332-136f-4a98-9c88-11f5650f40b0",
   "metadata": {},
   "outputs": [
    {
     "ename": "FileNotFoundError",
     "evalue": "[Errno 2] No such file or directory: b'/data/atlas/model_scores/model_3L_PCA_more_pcs_naturalscenes_zscored_processed_V4_train_Ridge(alpha=100)'",
     "output_type": "error",
     "traceback": [
      "\u001b[0;31m----------------------------------------------------------------------\u001b[0m",
      "\u001b[0;31mKeyError\u001b[0m                             Traceback (most recent call last)",
      "\u001b[0;32m~/.conda/envs/bonner-lab-atlas/lib/python3.7/site-packages/xarray/backends/file_manager.py\u001b[0m in \u001b[0;36m_acquire_with_cache_info\u001b[0;34m(self, needs_lock)\u001b[0m\n\u001b[1;32m    198\u001b[0m             \u001b[0;32mtry\u001b[0m\u001b[0;34m:\u001b[0m\u001b[0;34m\u001b[0m\u001b[0;34m\u001b[0m\u001b[0m\n\u001b[0;32m--> 199\u001b[0;31m                 \u001b[0mfile\u001b[0m \u001b[0;34m=\u001b[0m \u001b[0mself\u001b[0m\u001b[0;34m.\u001b[0m\u001b[0m_cache\u001b[0m\u001b[0;34m[\u001b[0m\u001b[0mself\u001b[0m\u001b[0;34m.\u001b[0m\u001b[0m_key\u001b[0m\u001b[0;34m]\u001b[0m\u001b[0;34m\u001b[0m\u001b[0;34m\u001b[0m\u001b[0m\n\u001b[0m\u001b[1;32m    200\u001b[0m             \u001b[0;32mexcept\u001b[0m \u001b[0mKeyError\u001b[0m\u001b[0;34m:\u001b[0m\u001b[0;34m\u001b[0m\u001b[0;34m\u001b[0m\u001b[0m\n",
      "\u001b[0;32m~/.conda/envs/bonner-lab-atlas/lib/python3.7/site-packages/xarray/backends/lru_cache.py\u001b[0m in \u001b[0;36m__getitem__\u001b[0;34m(self, key)\u001b[0m\n\u001b[1;32m     52\u001b[0m         \u001b[0;32mwith\u001b[0m \u001b[0mself\u001b[0m\u001b[0;34m.\u001b[0m\u001b[0m_lock\u001b[0m\u001b[0;34m:\u001b[0m\u001b[0;34m\u001b[0m\u001b[0;34m\u001b[0m\u001b[0m\n\u001b[0;32m---> 53\u001b[0;31m             \u001b[0mvalue\u001b[0m \u001b[0;34m=\u001b[0m \u001b[0mself\u001b[0m\u001b[0;34m.\u001b[0m\u001b[0m_cache\u001b[0m\u001b[0;34m[\u001b[0m\u001b[0mkey\u001b[0m\u001b[0;34m]\u001b[0m\u001b[0;34m\u001b[0m\u001b[0;34m\u001b[0m\u001b[0m\n\u001b[0m\u001b[1;32m     54\u001b[0m             \u001b[0mself\u001b[0m\u001b[0;34m.\u001b[0m\u001b[0m_cache\u001b[0m\u001b[0;34m.\u001b[0m\u001b[0mmove_to_end\u001b[0m\u001b[0;34m(\u001b[0m\u001b[0mkey\u001b[0m\u001b[0;34m)\u001b[0m\u001b[0;34m\u001b[0m\u001b[0;34m\u001b[0m\u001b[0m\n",
      "\u001b[0;31mKeyError\u001b[0m: [<class 'netCDF4._netCDF4.Dataset'>, ('/data/atlas/model_scores/model_3L_PCA_more_pcs_naturalscenes_zscored_processed_V4_train_Ridge(alpha=100)',), 'r', (('clobber', True), ('diskless', False), ('format', 'NETCDF4'), ('persist', False))]",
      "\nDuring handling of the above exception, another exception occurred:\n",
      "\u001b[0;31mFileNotFoundError\u001b[0m                    Traceback (most recent call last)",
      "\u001b[0;32m<ipython-input-3-eb035d07990c>\u001b[0m in \u001b[0;36m<module>\u001b[0;34m\u001b[0m\n\u001b[1;32m     93\u001b[0m     }\n\u001b[1;32m     94\u001b[0m \u001b[0;34m\u001b[0m\u001b[0m\n\u001b[0;32m---> 95\u001b[0;31m     \u001b[0mdf_best_alpha\u001b[0m \u001b[0;34m=\u001b[0m \u001b[0mget_best_alpha\u001b[0m\u001b[0;34m(\u001b[0m\u001b[0mdata_dict\u001b[0m\u001b[0;34m,\u001b[0m\u001b[0mlegend_name_dict\u001b[0m\u001b[0;34m)\u001b[0m\u001b[0;34m\u001b[0m\u001b[0;34m\u001b[0m\u001b[0m\n\u001b[0m\u001b[1;32m     96\u001b[0m     \u001b[0mprint\u001b[0m\u001b[0;34m(\u001b[0m\u001b[0mregion\u001b[0m\u001b[0;34m)\u001b[0m\u001b[0;34m\u001b[0m\u001b[0;34m\u001b[0m\u001b[0m\n\u001b[1;32m     97\u001b[0m     \u001b[0mprint\u001b[0m\u001b[0;34m(\u001b[0m\u001b[0mdf_best_alpha\u001b[0m\u001b[0;34m)\u001b[0m\u001b[0;34m\u001b[0m\u001b[0;34m\u001b[0m\u001b[0m\n",
      "\u001b[0;32m<ipython-input-2-f7cd9379b312>\u001b[0m in \u001b[0;36mget_best_alpha\u001b[0;34m(data_dict, legend_name_dict)\u001b[0m\n\u001b[1;32m     11\u001b[0m \u001b[0;34m\u001b[0m\u001b[0m\n\u001b[1;32m     12\u001b[0m \u001b[0;34m\u001b[0m\u001b[0m\n\u001b[0;32m---> 13\u001b[0;31m             \u001b[0mdata\u001b[0m \u001b[0;34m=\u001b[0m \u001b[0mxr\u001b[0m\u001b[0;34m.\u001b[0m\u001b[0mopen_dataset\u001b[0m\u001b[0;34m(\u001b[0m\u001b[0mos\u001b[0m\u001b[0;34m.\u001b[0m\u001b[0mpath\u001b[0m\u001b[0;34m.\u001b[0m\u001b[0mjoin\u001b[0m\u001b[0;34m(\u001b[0m\u001b[0mROOT_PATH\u001b[0m\u001b[0;34m,\u001b[0m\u001b[0;34mf'{model_name}_{regression}'\u001b[0m\u001b[0;34m)\u001b[0m\u001b[0;34m)\u001b[0m\u001b[0;34m\u001b[0m\u001b[0;34m\u001b[0m\u001b[0m\n\u001b[0m\u001b[1;32m     14\u001b[0m             \u001b[0mr_values\u001b[0m \u001b[0;34m=\u001b[0m \u001b[0mdata\u001b[0m\u001b[0;34m.\u001b[0m\u001b[0mwhere\u001b[0m\u001b[0;34m(\u001b[0m\u001b[0mdata\u001b[0m\u001b[0;34m.\u001b[0m\u001b[0mregion\u001b[0m \u001b[0;34m==\u001b[0m \u001b[0mregion\u001b[0m\u001b[0;34m,\u001b[0m\u001b[0mdrop\u001b[0m\u001b[0;34m=\u001b[0m\u001b[0;32mTrue\u001b[0m\u001b[0;34m)\u001b[0m\u001b[0;34m.\u001b[0m\u001b[0mr_value\u001b[0m\u001b[0;34m.\u001b[0m\u001b[0mvalues\u001b[0m\u001b[0;34m\u001b[0m\u001b[0;34m\u001b[0m\u001b[0m\n\u001b[1;32m     15\u001b[0m             \u001b[0mmean_r\u001b[0m \u001b[0;34m=\u001b[0m \u001b[0mnp\u001b[0m\u001b[0;34m.\u001b[0m\u001b[0mmean\u001b[0m\u001b[0;34m(\u001b[0m\u001b[0mr_values\u001b[0m\u001b[0;34m)\u001b[0m\u001b[0;34m\u001b[0m\u001b[0;34m\u001b[0m\u001b[0m\n",
      "\u001b[0;32m~/.conda/envs/bonner-lab-atlas/lib/python3.7/site-packages/xarray/backends/api.py\u001b[0m in \u001b[0;36mopen_dataset\u001b[0;34m(filename_or_obj, group, decode_cf, mask_and_scale, decode_times, concat_characters, decode_coords, engine, chunks, lock, cache, drop_variables, backend_kwargs, use_cftime, decode_timedelta)\u001b[0m\n\u001b[1;32m    552\u001b[0m \u001b[0;34m\u001b[0m\u001b[0m\n\u001b[1;32m    553\u001b[0m         \u001b[0mopener\u001b[0m \u001b[0;34m=\u001b[0m \u001b[0m_get_backend_cls\u001b[0m\u001b[0;34m(\u001b[0m\u001b[0mengine\u001b[0m\u001b[0;34m)\u001b[0m\u001b[0;34m\u001b[0m\u001b[0;34m\u001b[0m\u001b[0m\n\u001b[0;32m--> 554\u001b[0;31m         \u001b[0mstore\u001b[0m \u001b[0;34m=\u001b[0m \u001b[0mopener\u001b[0m\u001b[0;34m(\u001b[0m\u001b[0mfilename_or_obj\u001b[0m\u001b[0;34m,\u001b[0m \u001b[0;34m**\u001b[0m\u001b[0mextra_kwargs\u001b[0m\u001b[0;34m,\u001b[0m \u001b[0;34m**\u001b[0m\u001b[0mbackend_kwargs\u001b[0m\u001b[0;34m)\u001b[0m\u001b[0;34m\u001b[0m\u001b[0;34m\u001b[0m\u001b[0m\n\u001b[0m\u001b[1;32m    555\u001b[0m \u001b[0;34m\u001b[0m\u001b[0m\n\u001b[1;32m    556\u001b[0m     \u001b[0;32mwith\u001b[0m \u001b[0mclose_on_error\u001b[0m\u001b[0;34m(\u001b[0m\u001b[0mstore\u001b[0m\u001b[0;34m)\u001b[0m\u001b[0;34m:\u001b[0m\u001b[0;34m\u001b[0m\u001b[0;34m\u001b[0m\u001b[0m\n",
      "\u001b[0;32m~/.conda/envs/bonner-lab-atlas/lib/python3.7/site-packages/xarray/backends/netCDF4_.py\u001b[0m in \u001b[0;36mopen\u001b[0;34m(cls, filename, mode, format, group, clobber, diskless, persist, lock, lock_maker, autoclose)\u001b[0m\n\u001b[1;32m    376\u001b[0m             \u001b[0mnetCDF4\u001b[0m\u001b[0;34m.\u001b[0m\u001b[0mDataset\u001b[0m\u001b[0;34m,\u001b[0m \u001b[0mfilename\u001b[0m\u001b[0;34m,\u001b[0m \u001b[0mmode\u001b[0m\u001b[0;34m=\u001b[0m\u001b[0mmode\u001b[0m\u001b[0;34m,\u001b[0m \u001b[0mkwargs\u001b[0m\u001b[0;34m=\u001b[0m\u001b[0mkwargs\u001b[0m\u001b[0;34m\u001b[0m\u001b[0;34m\u001b[0m\u001b[0m\n\u001b[1;32m    377\u001b[0m         )\n\u001b[0;32m--> 378\u001b[0;31m         \u001b[0;32mreturn\u001b[0m \u001b[0mcls\u001b[0m\u001b[0;34m(\u001b[0m\u001b[0mmanager\u001b[0m\u001b[0;34m,\u001b[0m \u001b[0mgroup\u001b[0m\u001b[0;34m=\u001b[0m\u001b[0mgroup\u001b[0m\u001b[0;34m,\u001b[0m \u001b[0mmode\u001b[0m\u001b[0;34m=\u001b[0m\u001b[0mmode\u001b[0m\u001b[0;34m,\u001b[0m \u001b[0mlock\u001b[0m\u001b[0;34m=\u001b[0m\u001b[0mlock\u001b[0m\u001b[0;34m,\u001b[0m \u001b[0mautoclose\u001b[0m\u001b[0;34m=\u001b[0m\u001b[0mautoclose\u001b[0m\u001b[0;34m)\u001b[0m\u001b[0;34m\u001b[0m\u001b[0;34m\u001b[0m\u001b[0m\n\u001b[0m\u001b[1;32m    379\u001b[0m \u001b[0;34m\u001b[0m\u001b[0m\n\u001b[1;32m    380\u001b[0m     \u001b[0;32mdef\u001b[0m \u001b[0m_acquire\u001b[0m\u001b[0;34m(\u001b[0m\u001b[0mself\u001b[0m\u001b[0;34m,\u001b[0m \u001b[0mneeds_lock\u001b[0m\u001b[0;34m=\u001b[0m\u001b[0;32mTrue\u001b[0m\u001b[0;34m)\u001b[0m\u001b[0;34m:\u001b[0m\u001b[0;34m\u001b[0m\u001b[0;34m\u001b[0m\u001b[0m\n",
      "\u001b[0;32m~/.conda/envs/bonner-lab-atlas/lib/python3.7/site-packages/xarray/backends/netCDF4_.py\u001b[0m in \u001b[0;36m__init__\u001b[0;34m(self, manager, group, mode, lock, autoclose)\u001b[0m\n\u001b[1;32m    324\u001b[0m         \u001b[0mself\u001b[0m\u001b[0;34m.\u001b[0m\u001b[0m_group\u001b[0m \u001b[0;34m=\u001b[0m \u001b[0mgroup\u001b[0m\u001b[0;34m\u001b[0m\u001b[0;34m\u001b[0m\u001b[0m\n\u001b[1;32m    325\u001b[0m         \u001b[0mself\u001b[0m\u001b[0;34m.\u001b[0m\u001b[0m_mode\u001b[0m \u001b[0;34m=\u001b[0m \u001b[0mmode\u001b[0m\u001b[0;34m\u001b[0m\u001b[0;34m\u001b[0m\u001b[0m\n\u001b[0;32m--> 326\u001b[0;31m         \u001b[0mself\u001b[0m\u001b[0;34m.\u001b[0m\u001b[0mformat\u001b[0m \u001b[0;34m=\u001b[0m \u001b[0mself\u001b[0m\u001b[0;34m.\u001b[0m\u001b[0mds\u001b[0m\u001b[0;34m.\u001b[0m\u001b[0mdata_model\u001b[0m\u001b[0;34m\u001b[0m\u001b[0;34m\u001b[0m\u001b[0m\n\u001b[0m\u001b[1;32m    327\u001b[0m         \u001b[0mself\u001b[0m\u001b[0;34m.\u001b[0m\u001b[0m_filename\u001b[0m \u001b[0;34m=\u001b[0m \u001b[0mself\u001b[0m\u001b[0;34m.\u001b[0m\u001b[0mds\u001b[0m\u001b[0;34m.\u001b[0m\u001b[0mfilepath\u001b[0m\u001b[0;34m(\u001b[0m\u001b[0;34m)\u001b[0m\u001b[0;34m\u001b[0m\u001b[0;34m\u001b[0m\u001b[0m\n\u001b[1;32m    328\u001b[0m         \u001b[0mself\u001b[0m\u001b[0;34m.\u001b[0m\u001b[0mis_remote\u001b[0m \u001b[0;34m=\u001b[0m \u001b[0mis_remote_uri\u001b[0m\u001b[0;34m(\u001b[0m\u001b[0mself\u001b[0m\u001b[0;34m.\u001b[0m\u001b[0m_filename\u001b[0m\u001b[0;34m)\u001b[0m\u001b[0;34m\u001b[0m\u001b[0;34m\u001b[0m\u001b[0m\n",
      "\u001b[0;32m~/.conda/envs/bonner-lab-atlas/lib/python3.7/site-packages/xarray/backends/netCDF4_.py\u001b[0m in \u001b[0;36mds\u001b[0;34m(self)\u001b[0m\n\u001b[1;32m    385\u001b[0m     \u001b[0;34m@\u001b[0m\u001b[0mproperty\u001b[0m\u001b[0;34m\u001b[0m\u001b[0;34m\u001b[0m\u001b[0m\n\u001b[1;32m    386\u001b[0m     \u001b[0;32mdef\u001b[0m \u001b[0mds\u001b[0m\u001b[0;34m(\u001b[0m\u001b[0mself\u001b[0m\u001b[0;34m)\u001b[0m\u001b[0;34m:\u001b[0m\u001b[0;34m\u001b[0m\u001b[0;34m\u001b[0m\u001b[0m\n\u001b[0;32m--> 387\u001b[0;31m         \u001b[0;32mreturn\u001b[0m \u001b[0mself\u001b[0m\u001b[0;34m.\u001b[0m\u001b[0m_acquire\u001b[0m\u001b[0;34m(\u001b[0m\u001b[0;34m)\u001b[0m\u001b[0;34m\u001b[0m\u001b[0;34m\u001b[0m\u001b[0m\n\u001b[0m\u001b[1;32m    388\u001b[0m \u001b[0;34m\u001b[0m\u001b[0m\n\u001b[1;32m    389\u001b[0m     \u001b[0;32mdef\u001b[0m \u001b[0mopen_store_variable\u001b[0m\u001b[0;34m(\u001b[0m\u001b[0mself\u001b[0m\u001b[0;34m,\u001b[0m \u001b[0mname\u001b[0m\u001b[0;34m,\u001b[0m \u001b[0mvar\u001b[0m\u001b[0;34m)\u001b[0m\u001b[0;34m:\u001b[0m\u001b[0;34m\u001b[0m\u001b[0;34m\u001b[0m\u001b[0m\n",
      "\u001b[0;32m~/.conda/envs/bonner-lab-atlas/lib/python3.7/site-packages/xarray/backends/netCDF4_.py\u001b[0m in \u001b[0;36m_acquire\u001b[0;34m(self, needs_lock)\u001b[0m\n\u001b[1;32m    379\u001b[0m \u001b[0;34m\u001b[0m\u001b[0m\n\u001b[1;32m    380\u001b[0m     \u001b[0;32mdef\u001b[0m \u001b[0m_acquire\u001b[0m\u001b[0;34m(\u001b[0m\u001b[0mself\u001b[0m\u001b[0;34m,\u001b[0m \u001b[0mneeds_lock\u001b[0m\u001b[0;34m=\u001b[0m\u001b[0;32mTrue\u001b[0m\u001b[0;34m)\u001b[0m\u001b[0;34m:\u001b[0m\u001b[0;34m\u001b[0m\u001b[0;34m\u001b[0m\u001b[0m\n\u001b[0;32m--> 381\u001b[0;31m         \u001b[0;32mwith\u001b[0m \u001b[0mself\u001b[0m\u001b[0;34m.\u001b[0m\u001b[0m_manager\u001b[0m\u001b[0;34m.\u001b[0m\u001b[0macquire_context\u001b[0m\u001b[0;34m(\u001b[0m\u001b[0mneeds_lock\u001b[0m\u001b[0;34m)\u001b[0m \u001b[0;32mas\u001b[0m \u001b[0mroot\u001b[0m\u001b[0;34m:\u001b[0m\u001b[0;34m\u001b[0m\u001b[0;34m\u001b[0m\u001b[0m\n\u001b[0m\u001b[1;32m    382\u001b[0m             \u001b[0mds\u001b[0m \u001b[0;34m=\u001b[0m \u001b[0m_nc4_require_group\u001b[0m\u001b[0;34m(\u001b[0m\u001b[0mroot\u001b[0m\u001b[0;34m,\u001b[0m \u001b[0mself\u001b[0m\u001b[0;34m.\u001b[0m\u001b[0m_group\u001b[0m\u001b[0;34m,\u001b[0m \u001b[0mself\u001b[0m\u001b[0;34m.\u001b[0m\u001b[0m_mode\u001b[0m\u001b[0;34m)\u001b[0m\u001b[0;34m\u001b[0m\u001b[0;34m\u001b[0m\u001b[0m\n\u001b[1;32m    383\u001b[0m         \u001b[0;32mreturn\u001b[0m \u001b[0mds\u001b[0m\u001b[0;34m\u001b[0m\u001b[0;34m\u001b[0m\u001b[0m\n",
      "\u001b[0;32m~/.conda/envs/bonner-lab-atlas/lib/python3.7/contextlib.py\u001b[0m in \u001b[0;36m__enter__\u001b[0;34m(self)\u001b[0m\n\u001b[1;32m    110\u001b[0m         \u001b[0;32mdel\u001b[0m \u001b[0mself\u001b[0m\u001b[0;34m.\u001b[0m\u001b[0margs\u001b[0m\u001b[0;34m,\u001b[0m \u001b[0mself\u001b[0m\u001b[0;34m.\u001b[0m\u001b[0mkwds\u001b[0m\u001b[0;34m,\u001b[0m \u001b[0mself\u001b[0m\u001b[0;34m.\u001b[0m\u001b[0mfunc\u001b[0m\u001b[0;34m\u001b[0m\u001b[0;34m\u001b[0m\u001b[0m\n\u001b[1;32m    111\u001b[0m         \u001b[0;32mtry\u001b[0m\u001b[0;34m:\u001b[0m\u001b[0;34m\u001b[0m\u001b[0;34m\u001b[0m\u001b[0m\n\u001b[0;32m--> 112\u001b[0;31m             \u001b[0;32mreturn\u001b[0m \u001b[0mnext\u001b[0m\u001b[0;34m(\u001b[0m\u001b[0mself\u001b[0m\u001b[0;34m.\u001b[0m\u001b[0mgen\u001b[0m\u001b[0;34m)\u001b[0m\u001b[0;34m\u001b[0m\u001b[0;34m\u001b[0m\u001b[0m\n\u001b[0m\u001b[1;32m    113\u001b[0m         \u001b[0;32mexcept\u001b[0m \u001b[0mStopIteration\u001b[0m\u001b[0;34m:\u001b[0m\u001b[0;34m\u001b[0m\u001b[0;34m\u001b[0m\u001b[0m\n\u001b[1;32m    114\u001b[0m             \u001b[0;32mraise\u001b[0m \u001b[0mRuntimeError\u001b[0m\u001b[0;34m(\u001b[0m\u001b[0;34m\"generator didn't yield\"\u001b[0m\u001b[0;34m)\u001b[0m \u001b[0;32mfrom\u001b[0m \u001b[0;32mNone\u001b[0m\u001b[0;34m\u001b[0m\u001b[0;34m\u001b[0m\u001b[0m\n",
      "\u001b[0;32m~/.conda/envs/bonner-lab-atlas/lib/python3.7/site-packages/xarray/backends/file_manager.py\u001b[0m in \u001b[0;36macquire_context\u001b[0;34m(self, needs_lock)\u001b[0m\n\u001b[1;32m    185\u001b[0m     \u001b[0;32mdef\u001b[0m \u001b[0macquire_context\u001b[0m\u001b[0;34m(\u001b[0m\u001b[0mself\u001b[0m\u001b[0;34m,\u001b[0m \u001b[0mneeds_lock\u001b[0m\u001b[0;34m=\u001b[0m\u001b[0;32mTrue\u001b[0m\u001b[0;34m)\u001b[0m\u001b[0;34m:\u001b[0m\u001b[0;34m\u001b[0m\u001b[0;34m\u001b[0m\u001b[0m\n\u001b[1;32m    186\u001b[0m         \u001b[0;34m\"\"\"Context manager for acquiring a file.\"\"\"\u001b[0m\u001b[0;34m\u001b[0m\u001b[0;34m\u001b[0m\u001b[0m\n\u001b[0;32m--> 187\u001b[0;31m         \u001b[0mfile\u001b[0m\u001b[0;34m,\u001b[0m \u001b[0mcached\u001b[0m \u001b[0;34m=\u001b[0m \u001b[0mself\u001b[0m\u001b[0;34m.\u001b[0m\u001b[0m_acquire_with_cache_info\u001b[0m\u001b[0;34m(\u001b[0m\u001b[0mneeds_lock\u001b[0m\u001b[0;34m)\u001b[0m\u001b[0;34m\u001b[0m\u001b[0;34m\u001b[0m\u001b[0m\n\u001b[0m\u001b[1;32m    188\u001b[0m         \u001b[0;32mtry\u001b[0m\u001b[0;34m:\u001b[0m\u001b[0;34m\u001b[0m\u001b[0;34m\u001b[0m\u001b[0m\n\u001b[1;32m    189\u001b[0m             \u001b[0;32myield\u001b[0m \u001b[0mfile\u001b[0m\u001b[0;34m\u001b[0m\u001b[0;34m\u001b[0m\u001b[0m\n",
      "\u001b[0;32m~/.conda/envs/bonner-lab-atlas/lib/python3.7/site-packages/xarray/backends/file_manager.py\u001b[0m in \u001b[0;36m_acquire_with_cache_info\u001b[0;34m(self, needs_lock)\u001b[0m\n\u001b[1;32m    203\u001b[0m                     \u001b[0mkwargs\u001b[0m \u001b[0;34m=\u001b[0m \u001b[0mkwargs\u001b[0m\u001b[0;34m.\u001b[0m\u001b[0mcopy\u001b[0m\u001b[0;34m(\u001b[0m\u001b[0;34m)\u001b[0m\u001b[0;34m\u001b[0m\u001b[0;34m\u001b[0m\u001b[0m\n\u001b[1;32m    204\u001b[0m                     \u001b[0mkwargs\u001b[0m\u001b[0;34m[\u001b[0m\u001b[0;34m\"mode\"\u001b[0m\u001b[0;34m]\u001b[0m \u001b[0;34m=\u001b[0m \u001b[0mself\u001b[0m\u001b[0;34m.\u001b[0m\u001b[0m_mode\u001b[0m\u001b[0;34m\u001b[0m\u001b[0;34m\u001b[0m\u001b[0m\n\u001b[0;32m--> 205\u001b[0;31m                 \u001b[0mfile\u001b[0m \u001b[0;34m=\u001b[0m \u001b[0mself\u001b[0m\u001b[0;34m.\u001b[0m\u001b[0m_opener\u001b[0m\u001b[0;34m(\u001b[0m\u001b[0;34m*\u001b[0m\u001b[0mself\u001b[0m\u001b[0;34m.\u001b[0m\u001b[0m_args\u001b[0m\u001b[0;34m,\u001b[0m \u001b[0;34m**\u001b[0m\u001b[0mkwargs\u001b[0m\u001b[0;34m)\u001b[0m\u001b[0;34m\u001b[0m\u001b[0;34m\u001b[0m\u001b[0m\n\u001b[0m\u001b[1;32m    206\u001b[0m                 \u001b[0;32mif\u001b[0m \u001b[0mself\u001b[0m\u001b[0;34m.\u001b[0m\u001b[0m_mode\u001b[0m \u001b[0;34m==\u001b[0m \u001b[0;34m\"w\"\u001b[0m\u001b[0;34m:\u001b[0m\u001b[0;34m\u001b[0m\u001b[0;34m\u001b[0m\u001b[0m\n\u001b[1;32m    207\u001b[0m                     \u001b[0;31m# ensure file doesn't get overriden when opened again\u001b[0m\u001b[0;34m\u001b[0m\u001b[0;34m\u001b[0m\u001b[0;34m\u001b[0m\u001b[0m\n",
      "\u001b[0;32msrc/netCDF4/_netCDF4.pyx\u001b[0m in \u001b[0;36mnetCDF4._netCDF4.Dataset.__init__\u001b[0;34m()\u001b[0m\n",
      "\u001b[0;32msrc/netCDF4/_netCDF4.pyx\u001b[0m in \u001b[0;36mnetCDF4._netCDF4._ensure_nc_success\u001b[0;34m()\u001b[0m\n",
      "\u001b[0;31mFileNotFoundError\u001b[0m: [Errno 2] No such file or directory: b'/data/atlas/model_scores/model_3L_PCA_more_pcs_naturalscenes_zscored_processed_V4_train_Ridge(alpha=100)'"
     ]
    }
   ],
   "source": [
    "dataset = 'naturalscenes_zscored_processed'\n",
    "REGIONS = ['V4']\n",
    "# dataset = 'majajhong'\n",
    "# REGIONS = ['V4','IT']\n",
    "mode = 'train'\n",
    "#alpha_file_name = 'model_3L_mp'\n",
    "alpha_file_name = 'model_3L_PCA'\n",
    "\n",
    "\n",
    "                \n",
    "for region in REGIONS:\n",
    "    data_dict = {\n",
    "\n",
    "           f'model_3L_PCA_more_pcs_{dataset}_{region}_{mode}':{'alphas': [10**i for i in range(2,5)]},\n",
    "        \n",
    "        \n",
    "           #f'model_3L_mp_10000_avgpool_{dataset}_{region}_{mode}':{'alphas': [10**i for i in range(1,6)]},\n",
    "           #  f'model_3L_mp_100_{dataset}_{region}_{mode}':{'alphas': [10**i for i in range(6)]},\n",
    "           # f'model_3L_mp_1000_{dataset}_{region}_{mode}':{'alphas': [10**i for i in range(6)]},\n",
    "           #f'model_3L_10000_{dataset}_{region}_{mode}':{'alphas': [10**i for i in range(6)]},\n",
    "           # f'model_3L_mp_100000_{dataset}_{region}_{mode}':{'alphas': [10**i for i in range(2,5)]},\n",
    "        \n",
    "            # f'alexnet_untrained_mp_{dataset}_{region}_{mode}':{'alphas': [10**i for i in range(6)]},\n",
    "            #f'alexnet_mp_{dataset}_{region}_{mode}':{'alphas': [10**i for i in range(6)]},\n",
    "        \n",
    "        \n",
    "        #  f'model_3L_mp_10000_nsd_pca_{dataset}_10_{region}_{mode}':{'alphas': [10**i for i in range(1,5)]},\n",
    "           #  f'model_3L_mp_10000_nsd_pca_{dataset}_100_{region}_{mode}':{'alphas': [10**i for i in range(1,5)]},\n",
    "            # f'model_3L_mp_10000_nsd_pca_{dataset}_256_{region}_{mode}':{'alphas': [10**i for i in range(1,5)]},\n",
    "           #  f'model_3L_mp_10000_nsd_pca_{dataset}_1000_{region}_{mode}':{'alphas': [10**i for i in range(1,5)]},\n",
    "           #  f'model_3L_mp_10000_nsd_pca_{dataset}_5000_{region}_{mode}':{'alphas': [10**i for i in range(1,5)]},\n",
    "           # f'model_3L_mp_10000_nsd_pca_{dataset}_10000_{region}_{mode}':{'alphas': [10**i for i in range(1,4)]},\n",
    "\n",
    "        \n",
    "#             f'model_3L_mp_50000_nsd_pca_{dataset}_10_{region}_{mode}':{'alphas': [10**i for i in range(1,5)]},\n",
    "#             f'model_3L_mp_50000_nsd_pca_{dataset}_100_{region}_{mode}':{'alphas': [10**i for i in range(1,5)]},\n",
    "#             f'model_3L_mp_50000_nsd_pca_{dataset}_256_{region}_{mode}':{'alphas': [10**i for i in range(1,5)]},\n",
    "#             f'model_3L_mp_50000_nsd_pca_{dataset}_1000_{region}_{mode}':{'alphas': [10**i for i in range(1,5)]},\n",
    "#             f'model_3L_mp_50000_nsd_pca_{dataset}_5000_{region}_{mode}':{'alphas': [10**i for i in range(1,5)]},\n",
    "#            f'model_3L_mp_50000_nsd_pca_{dataset}_10000_{region}_{mode}':{'alphas': [10**i for i in range(1,5)]},\n",
    "        \n",
    "            # f'alexnet_untrained_wide_mp_10000_nsd_pca_{dataset}_10_{region}_{mode}':{'alphas': [10**i for i in range(1,5)]},\n",
    "            # f'alexnet_untrained_wide_mp_10000_nsd_pca_{dataset}_100_{region}_{mode}':{'alphas': [10**i for i in range(1,5)]},\n",
    "            # f'alexnet_untrained_wide_mp_10000_nsd_pca_{dataset}_256_{region}_{mode}':{'alphas': [10**i for i in range(1,5)]},\n",
    "            # f'alexnet_untrained_wide_mp_10000_nsd_pca_{dataset}_1000_{region}_{mode}':{'alphas': [10**i for i in range(1,5)]},\n",
    "            # f'alexnet_untrained_wide_mp_10000_nsd_pca_{dataset}_5000_{region}_{mode}':{'alphas': [10**i for i in range(1,5)]},\n",
    "            # f'alexnet_untrained_wide_mp_10000_nsd_pca_{dataset}_10000_{region}_{mode}':{'alphas': [10**i for i in range(1,4)]},\n",
    "\n",
    "#             f'alexnet_mp_nsd_pca_{dataset}_10_{region}_{mode}':{'alphas': [10**i for i in range(1,5)]},\n",
    "#             f'alexnet_mp_nsd_pca_{dataset}_100_{region}_{mode}':{'alphas': [10**i for i in range(1,5)]},\n",
    "#             f'alexnet_mp_nsd_pca_{dataset}_256_{region}_{mode}':{'alphas': [10**i for i in range(1,5)]},\n",
    "    }\n",
    "\n",
    "    legend_name_dict = {\n",
    "            \n",
    "            f'model_3L_PCA_more_pcs_{dataset}_{region}_{mode}':f'model_3L_PCA_more_pcs',\n",
    "        \n",
    "           #f'model_3L_mp_10000_avgpool_{dataset}_{region}_{mode}':f'model_3L_mp_10000_avgpool',\n",
    "            # f'model_3L_mp_100_{dataset}_{region}_{mode}':f'model_3L_mp_100',\n",
    "            # f'model_3L_mp_1000_{dataset}_{region}_{mode}':f'model_3L_mp_1000',\n",
    "            #f'model_3L_10000_{dataset}_{region}_{mode}':f'model_3L_10000',\n",
    "            # f'model_3L_mp_100000_{dataset}_{region}_{mode}':f'model_3L_mp_100000',\n",
    "            # f'alexnet_untrained_mp_{dataset}_{region}_{mode}':'alexnet_untrained_mp',\n",
    "            #f'alexnet_mp_{dataset}_{region}_{mode}':'alexnet_mp',\n",
    "\n",
    "        \n",
    "        \n",
    "        \n",
    "            #  f'model_3L_mp_10000_nsd_pca_{dataset}_10_{region}_{mode}':f'model_3L_mp_10000_nsd_pca_{dataset}_10',\n",
    "           #  f'model_3L_mp_10000_nsd_pca_{dataset}_100_{region}_{mode}':f'model_3L_mp_10000_nsd_pca_{dataset}_100',\n",
    "            # f'model_3L_mp_10000_nsd_pca_{dataset}_256_{region}_{mode}':f'model_3L_mp_10000_nsd_pca_{dataset}_256',\n",
    "           #  f'model_3L_mp_10000_nsd_pca_{dataset}_1000_{region}_{mode}':f'model_3L_mp_10000_nsd_pca_{dataset}_1000',\n",
    "           #  f'model_3L_mp_10000_nsd_pca_{dataset}_5000_{region}_{mode}':f'model_3L_mp_10000_nsd_pca_{dataset}_5000',\n",
    "           # f'model_3L_mp_10000_nsd_pca_{dataset}_10000_{region}_{mode}':f'model_3L_mp_10000_nsd_pca_{dataset}_10000',\n",
    "\n",
    "#             f'model_3L_mp_50000_nsd_pca_{dataset}_10_{region}_{mode}':f'model_3L_mp_50000_nsd_pca_{dataset}_10',\n",
    "#             f'model_3L_mp_50000_nsd_pca_{dataset}_100_{region}_{mode}':f'model_3L_mp_50000_nsd_pca_{dataset}_100',\n",
    "#             f'model_3L_mp_50000_nsd_pca_{dataset}_256_{region}_{mode}':f'model_3L_mp_50000_nsd_pca_{dataset}_256',\n",
    "#             f'model_3L_mp_50000_nsd_pca_{dataset}_1000_{region}_{mode}':f'model_3L_mp_50000_nsd_pca_{dataset}_1000',\n",
    "#             f'model_3L_mp_50000_nsd_pca_{dataset}_5000_{region}_{mode}':f'model_3L_mp_50000_nsd_pca_{dataset}_5000',\n",
    "#            f'model_3L_mp_50000_nsd_pca_{dataset}_10000_{region}_{mode}':f'model_3L_mp_50000_nsd_pca_{dataset}_10000',\n",
    "        \n",
    "            # f'alexnet_untrained_wide_mp_10000_nsd_pca_{dataset}_10_{region}_{mode}':f'alexnet_untrained_wide_mp_10000_nsd_pca_{dataset}_10',\n",
    "            # f'alexnet_untrained_wide_mp_10000_nsd_pca_{dataset}_100_{region}_{mode}': f'alexnet_untrained_wide_mp_10000_nsd_pca_{dataset}_100',\n",
    "            # f'alexnet_untrained_wide_mp_10000_nsd_pca_{dataset}_256_{region}_{mode}':f'alexnet_untrained_wide_mp_10000_nsd_pca_{dataset}_256',\n",
    "            # f'alexnet_untrained_wide_mp_10000_nsd_pca_{dataset}_1000_{region}_{mode}':f'alexnet_untrained_wide_mp_10000_nsd_pca_{dataset}_1000',\n",
    "            # f'alexnet_untrained_wide_mp_10000_nsd_pca_{dataset}_5000_{region}_{mode}':f'alexnet_untrained_wide_mp_10000_nsd_pca_{dataset}_5000',\n",
    "            # f'alexnet_untrained_wide_mp_10000_nsd_pca_{dataset}_10000_{region}_{mode}':f'alexnet_untrained_wide_mp_10000_nsd_pca_{dataset}_10000',\n",
    "\n",
    "#             #  f'alexnet_mp_nsd_pca_{dataset}_10_{region}_{mode}':f'alexnet_mp_nsd_pca_{dataset}_10',\n",
    "            # f'alexnet_mp_nsd_pca_{dataset}_100_{region}_{mode}':f'alexnet_mp_nsd_pca_{dataset}_100',\n",
    "            # f'alexnet_mp_nsd_pca_{dataset}_256_{region}_{mode}':f'alexnet_mp_nsd_pca_{dataset}_256',\n",
    "    }\n",
    "\n",
    "    df_best_alpha = get_best_alpha(data_dict,legend_name_dict)\n",
    "    print(region)\n",
    "    print(df_best_alpha)\n",
    "    # dict_best_alpha = df_best_alpha.set_index(['model']).to_dict()['alpha']\n",
    "    # file = open(os.path.join(BEST_ALPHA_PATH, f'{alpha_file_name}_{dataset}_{region}'),'wb')\n",
    "    # pickle.dump(dict_best_alpha, file)\n",
    "    # file.close()"
   ]
  },
  {
   "cell_type": "code",
   "execution_count": 12,
   "id": "f5702bcd-5026-42f1-b506-87b8c4554681",
   "metadata": {},
   "outputs": [
    {
     "data": {
      "text/plain": [
       "0.19802386560046387"
      ]
     },
     "execution_count": 12,
     "metadata": {},
     "output_type": "execute_result"
    }
   ],
   "source": [
    "xr.open_dataset('/data/atlas/model_scores/model_3L_PCA_naturalscenes_zscored_processed_V4_test_Ridge(alpha=1000)').r_value.values.mean()"
   ]
  },
  {
   "cell_type": "code",
   "execution_count": null,
   "id": "dd8deaa7-d6e2-4c0d-a82e-865f9113a829",
   "metadata": {},
   "outputs": [],
   "source": [
    "xr.open_dataset('/data/atlas/model_scores/model_3L_PCA_naturalscenes_zscored_processed_V4_test_Ridge(alpha=1000)').r_value.values.mean()"
   ]
  }
 ],
 "metadata": {
  "kernelspec": {
   "display_name": "Python 3",
   "language": "python",
   "name": "python3"
  },
  "language_info": {
   "codemirror_mode": {
    "name": "ipython",
    "version": 3
   },
   "file_extension": ".py",
   "mimetype": "text/x-python",
   "name": "python",
   "nbconvert_exporter": "python",
   "pygments_lexer": "ipython3",
   "version": "3.7.16"
  }
 },
 "nbformat": 4,
 "nbformat_minor": 5
}
