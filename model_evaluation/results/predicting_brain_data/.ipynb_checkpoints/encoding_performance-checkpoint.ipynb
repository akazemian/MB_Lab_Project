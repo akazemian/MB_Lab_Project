{
 "cells": [
  {
   "cell_type": "code",
   "execution_count": 1,
   "id": "518ac500-1d45-47c2-9ee4-64ca4b810244",
   "metadata": {},
   "outputs": [],
   "source": [
    "import os\n",
    "import sys\n",
    "ROOT = os.getenv('BONNER_ROOT_PATH')\n",
    "sys.path.append(ROOT)\n",
    "from tools import *\n",
    "import matplotlib.colors as mcolors\n",
    "\n",
    "PREDS_PATH = '/data/atlas/.cache/beta_predictions'\n",
    "PATH_TO_BOOTSTRAP = '/home/akazemi3/Desktop/untrained_models_of_visual_cortex/model_evaluation/results/predicting_brain_data/bootstrap_data'"
   ]
  },
  {
   "cell_type": "code",
   "execution_count": 2,
   "id": "0c3d5e7a-027d-48f8-8fa5-e3330c4417ee",
   "metadata": {},
   "outputs": [],
   "source": [
    "DATASET_INFO_DICT = {\n",
    "    \n",
    "    'naturalscenes':{\n",
    "        'subjects':[i for i in range(8)],\n",
    "        'regions':['ventral visual stream','midventral visual stream','early visual stream'],\n",
    "        'expansion_features':[3,30,300,3000],\n",
    "        'vit_features':[12,5*12, 50*12],\n",
    "        'test_data_size':872\n",
    "    },\n",
    "    \n",
    "    'majajhong':{\n",
    "        'subjects':['Tito','Chabo'],\n",
    "        'regions':['V4','IT'],\n",
    "        'expansion_features':[3,30,300,3000,30000],\n",
    "        'vit_features':[12,5*12, 50*12, 500*12],\n",
    "        'test_data_size':640\n",
    "    }\n",
    "}\n"
   ]
  },
  {
   "cell_type": "markdown",
   "id": "c4c52a38-9aec-4fd3-91c5-a98484e562bb",
   "metadata": {
    "tags": []
   },
   "source": [
    "# Main Results"
   ]
  },
  {
   "cell_type": "markdown",
   "id": "59b84c91-4ef5-4567-9ae2-bff8f1f697ce",
   "metadata": {
    "jp-MarkdownHeadingCollapsed": true
   },
   "source": [
    "#### run bootstrap"
   ]
  },
  {
   "cell_type": "code",
   "execution_count": 3,
   "id": "9a08932d-785a-44bb-bb1a-02d0c5827784",
   "metadata": {},
   "outputs": [
    {
     "name": "stderr",
     "output_type": "stream",
     "text": [
      "100%|███████████████████████████████████| 2/2 [00:00<00:00,  8.30it/s]\n",
      "100%|███████████████████████████████████| 2/2 [00:00<00:00, 10.48it/s]\n",
      "100%|███████████████████████████████████| 2/2 [00:00<00:00, 10.54it/s]\n",
      "100%|███████████████████████████████████| 2/2 [00:00<00:00, 10.54it/s]\n",
      "100%|███████████████████████████████████| 2/2 [00:00<00:00, 10.53it/s]\n",
      "100%|███████████████████████████████████| 2/2 [00:00<00:00, 10.50it/s]\n",
      "100%|███████████████████████████████████| 2/2 [00:00<00:00, 10.56it/s]\n",
      "100%|███████████████████████████████████| 2/2 [00:00<00:00, 10.47it/s]\n",
      "100%|███████████████████████████████████| 2/2 [00:00<00:00, 10.51it/s]\n",
      "100%|███████████████████████████████████| 2/2 [00:00<00:00, 10.50it/s]\n",
      "100%|███████████████████████████████████| 2/2 [00:00<00:00, 10.47it/s]\n",
      "100%|███████████████████████████████████| 2/2 [00:00<00:00, 10.52it/s]\n",
      "100%|███████████████████████████████████| 2/2 [00:00<00:00, 10.44it/s]\n",
      "100%|███████████████████████████████████| 2/2 [00:00<00:00, 10.51it/s]\n",
      "100%|███████████████████████████████████| 2/2 [00:00<00:00, 10.47it/s]\n",
      "100%|███████████████████████████████████| 2/2 [00:00<00:00,  9.96it/s]\n",
      "100%|███████████████████████████████████| 2/2 [00:00<00:00, 10.47it/s]\n",
      "100%|███████████████████████████████████| 2/2 [00:00<00:00, 10.30it/s]\n",
      "100%|███████████████████████████████████| 2/2 [00:00<00:00, 10.35it/s]\n",
      "100%|███████████████████████████████████| 2/2 [00:00<00:00, 10.52it/s]\n",
      "100%|███████████████████████████████████| 2/2 [00:00<00:00,  8.41it/s]\n",
      "100%|███████████████████████████████████| 2/2 [00:00<00:00,  8.44it/s]\n",
      "100%|███████████████████████████████████| 2/2 [00:00<00:00,  8.52it/s]\n",
      "100%|███████████████████████████████████| 2/2 [00:00<00:00,  8.41it/s]\n",
      "100%|███████████████████████████████████| 2/2 [00:00<00:00,  8.55it/s]\n",
      "100%|███████████████████████████████████| 2/2 [00:00<00:00,  8.38it/s]\n",
      "100%|███████████████████████████████████| 2/2 [00:00<00:00,  8.43it/s]\n",
      "100%|███████████████████████████████████| 2/2 [00:00<00:00,  8.55it/s]\n",
      "100%|███████████████████████████████████| 2/2 [00:00<00:00,  8.59it/s]\n",
      "100%|███████████████████████████████████| 2/2 [00:00<00:00,  8.44it/s]\n",
      "100%|███████████████████████████████████| 2/2 [00:00<00:00,  8.54it/s]\n",
      "100%|███████████████████████████████████| 2/2 [00:00<00:00,  8.59it/s]\n",
      "100%|███████████████████████████████████| 2/2 [00:00<00:00,  8.47it/s]\n",
      "100%|███████████████████████████████████| 2/2 [00:00<00:00,  8.49it/s]\n",
      "100%|███████████████████████████████████| 2/2 [00:00<00:00,  8.57it/s]\n",
      "100%|███████████████████████████████████| 2/2 [00:00<00:00,  8.56it/s]\n",
      "100%|███████████████████████████████████| 2/2 [00:00<00:00,  8.58it/s]\n",
      "100%|███████████████████████████████████| 2/2 [00:00<00:00,  8.56it/s]\n",
      "100%|███████████████████████████████████| 2/2 [00:00<00:00,  8.48it/s]\n",
      "100%|███████████████████████████████████| 2/2 [00:00<00:00,  8.56it/s]\n"
     ]
    }
   ],
   "source": [
    "# run bootstrap \n",
    "\n",
    "#dataset = 'naturalscenes'\n",
    "dataset = 'majajhong'\n",
    "info_dict = DATASET_INFO_DICT[dataset]\n",
    "\n",
    "\n",
    "n_rows = info_dict['test_data_size']\n",
    "all_sampled_indices = np.random.choice(n_rows, (1000, n_rows), replace=True) # Sample indices for all bootstraps at once\n",
    "\n",
    "for region in info_dict['regions']:\n",
    "     \n",
    "    # engineered models \n",
    "    get_bootstrap_data(models= ['expansion','expansion_linear','fully_connected'],\n",
    "                        features=info_dict['expansion_features'],\n",
    "                        dataset=dataset, \n",
    "                        subjects=info_dict['subjects'],\n",
    "                        layers = 5,\n",
    "                        file_name = 'engineered',\n",
    "                        region=region,\n",
    "                        all_sampled_indices=all_sampled_indices)\n",
    "    \n",
    "    # vit models\n",
    "    get_bootstrap_data(models= ['ViT'],\n",
    "                        features=info_dict['vit_features'],\n",
    "                        dataset=dataset, \n",
    "                        subjects=info_dict['subjects'],\n",
    "                        layers = 5,\n",
    "                        file_name = 'ViT',\n",
    "                        region=region,\n",
    "                        all_sampled_indices=all_sampled_indices)\n",
    "    \n",
    "    # alexnet\n",
    "    get_bootstrap_data(models=['alexnet'],\n",
    "                        features=[None],\n",
    "                        dataset=dataset, \n",
    "                        subjects=info_dict['subjects'],\n",
    "                        layers='best',\n",
    "                        file_name='alexnet',\n",
    "                        region=region,\n",
    "                        all_sampled_indices=all_sampled_indices)"
   ]
  },
  {
   "cell_type": "markdown",
   "id": "f19b7aa3-64f1-4126-8d79-70a5f75b8b79",
   "metadata": {},
   "source": [
    "#### loading bootstrap data"
   ]
  },
  {
   "cell_type": "code",
   "execution_count": 3,
   "id": "e7bba2e8-fd2e-4351-b170-e1490d72301f",
   "metadata": {},
   "outputs": [],
   "source": [
    "DATASET = 'majajhong' # one of ['majajhong', 'naturalscenes']\n",
    "region = 'IT' # for majajhong: [V4,IT], for naturalscenes: [early visual stream, midventral visual stream, ventral visual stream]"
   ]
  },
  {
   "cell_type": "code",
   "execution_count": 4,
   "id": "c5d82023-8a25-49e0-b363-838650602423",
   "metadata": {},
   "outputs": [],
   "source": [
    "# vit data\n",
    "with open(os.path.join(PATH_TO_BOOTSTRAP,f'bootstrap-results-vit-{DATASET}-{region}-df.pkl'), 'rb') as file:\n",
    "    df_vit = pickle.load(file)\n",
    "    \n",
    "# expansion model and MLP data\n",
    "with open(os.path.join(PATH_TO_BOOTSTRAP,f'bootstrap-results-engineered-{DATASET}-{region}-df.pkl'), 'rb') as file:\n",
    "    df_engineered = pickle.load(file)\n",
    "    \n",
    "# alexnet data\n",
    "with open(os.path.join(PATH_TO_BOOTSTRAP,f'bootstrap-results-alexnet-{DATASET}-{region}-df.pkl'), 'rb') as file:\n",
    "    df_alexnet = pickle.load(file)  "
   ]
  },
  {
   "cell_type": "code",
   "execution_count": 5,
   "id": "e640dd7b-5ad7-4397-a38b-ade025d02bdb",
   "metadata": {},
   "outputs": [],
   "source": [
    "df_engineered['features'] = df_engineered['features'].apply(lambda x: int(x)*36) # multiply by spatial dims\n",
    "df_vit['features'] = df_vit['features'].apply(lambda x: int(x)*196) # multiply by spatial dims\n",
    "df = pd.concat([df_engineered,df_vit]).reset_index(drop=True)\n",
    "\n",
    "names ={'expansion':'Convolution','ViT':'Transformer','fully_connected':'Fully connected'}\n",
    "palette ={'Convolution':'royalblue','Transformer':'palevioletred','Fully connected':'darkviolet'}\n",
    "\n",
    "df['model'] = df['model'].map(names)\n",
    "df['color'] = df['model'].map(palette)\n",
    "\n",
    "df = df.dropna(subset='model').reset_index()"
   ]
  },
  {
   "cell_type": "code",
   "execution_count": 6,
   "id": "6eab0eae-1e05-4dfd-9a1b-2d9430a9d0c3",
   "metadata": {},
   "outputs": [
    {
     "data": {
      "image/png": "[encoded data removed]",
      "text/plain": [
       "<Figure size 600x600 with 1 Axes>"
      ]
     },
     "metadata": {},
     "output_type": "display_data"
    }
   ],
   "source": [
    "rcParams['figure.figsize'] = (6,6)  \n",
    "\n",
    "\n",
    "# main plot\n",
    "ax1 = sns.lineplot(data = df, x='features', y='score', hue='model', marker='o', palette = palette)\n",
    "# adding error bars for the 95% confidence interval\n",
    "for i in range(len(df)):\n",
    "    plt.errorbar(df['features'][i], df['score'][i], \n",
    "                 yerr=[[df['score'][i] - df['lower'][i]], [df['upper'][i] - df['score'][i]]], \n",
    "                 fmt='none', capsize=5, color=df['color'][i])   \n",
    "    \n",
    "# alexnet \n",
    "plt.axhline(y=df_alexnet['score'][0], color='gray', linestyle='--', label='AlexNet')\n",
    "# adding 95% confidence interval \n",
    "plt.fill_between(np.arange(df['features'].min()/3,df['features'].max()*3), \n",
    "                 df_alexnet['lower'], df_alexnet['upper'], color='gray', alpha=0.2)\n",
    "\n",
    "\n",
    "\n",
    "plt.ylim(0,0.45) if DATASET == 'naturalscenes' else plt.ylim(0,0.65)\n",
    "plt.xlabel('')\n",
    "plt.ylabel('')\n",
    "plt.xlim(df['features'].min()/3,df['features'].max()*3)\n",
    "plt.xticks(size=15)\n",
    "plt.yticks(size=15)\n",
    "ax1.set_xscale(\"log\")        \n",
    "ax1.legend(frameon=False,fontsize=12) if region == 'V4' else ax1.legend_.remove()\n",
    "plt.savefig(f'figures/main_results_{DATASET}_{region}.png', dpi=200) \n",
    "plt.show()"
   ]
  },
  {
   "cell_type": "markdown",
   "id": "c7c5ce6d-a9f1-42ab-8141-5087f27103dc",
   "metadata": {
    "jp-MarkdownHeadingCollapsed": true,
    "tags": []
   },
   "source": [
    "# PCA"
   ]
  },
  {
   "cell_type": "markdown",
   "id": "ffd4b3a8-9a2d-4fae-bbcd-82524851c19f",
   "metadata": {
    "jp-MarkdownHeadingCollapsed": true
   },
   "source": [
    "#### run bootstrap "
   ]
  },
  {
   "cell_type": "code",
   "execution_count": 6,
   "id": "470b848b-0808-42f2-92c0-99f4464edab7",
   "metadata": {},
   "outputs": [
    {
     "name": "stdout",
     "output_type": "stream",
     "text": [
      "expansion_features=3_layers=5_dataset=majajhong_principal_components=1\n"
     ]
    },
    {
     "name": "stderr",
     "output_type": "stream",
     "text": [
      "  0%|                                           | 0/2 [00:00<?, ?it/s]\n"
     ]
    },
    {
     "name": "stdout",
     "output_type": "stream",
     "text": [
      "FILE NOT FOUND expansion_features=3_layers=5_dataset=majajhong_principal_components=1 V4\n",
      "expansion_features=3_layers=5_dataset=majajhong_principal_components=10\n"
     ]
    },
    {
     "name": "stderr",
     "output_type": "stream",
     "text": [
      "  0%|                                           | 0/2 [00:00<?, ?it/s]\n"
     ]
    },
    {
     "name": "stdout",
     "output_type": "stream",
     "text": [
      "FILE NOT FOUND expansion_features=3_layers=5_dataset=majajhong_principal_components=10 V4\n",
      "expansion_features=3_layers=5_dataset=majajhong_principal_components=100\n"
     ]
    },
    {
     "name": "stderr",
     "output_type": "stream",
     "text": [
      "  0%|                                           | 0/2 [00:00<?, ?it/s]\n"
     ]
    },
    {
     "name": "stdout",
     "output_type": "stream",
     "text": [
      "FILE NOT FOUND expansion_features=3_layers=5_dataset=majajhong_principal_components=100 V4\n",
      "expansion_features=3_layers=5_dataset=majajhong_principal_components=1000\n"
     ]
    },
    {
     "name": "stderr",
     "output_type": "stream",
     "text": [
      "  0%|                                           | 0/2 [00:00<?, ?it/s]\n"
     ]
    },
    {
     "name": "stdout",
     "output_type": "stream",
     "text": [
      "FILE NOT FOUND expansion_features=3_layers=5_dataset=majajhong_principal_components=1000 V4\n",
      "expansion_features=30_layers=5_dataset=majajhong_principal_components=1\n"
     ]
    },
    {
     "name": "stderr",
     "output_type": "stream",
     "text": [
      "  0%|                                           | 0/2 [00:00<?, ?it/s]\n"
     ]
    },
    {
     "name": "stdout",
     "output_type": "stream",
     "text": [
      "FILE NOT FOUND expansion_features=30_layers=5_dataset=majajhong_principal_components=1 V4\n",
      "expansion_features=30_layers=5_dataset=majajhong_principal_components=10\n"
     ]
    },
    {
     "name": "stderr",
     "output_type": "stream",
     "text": [
      "  0%|                                           | 0/2 [00:00<?, ?it/s]\n"
     ]
    },
    {
     "name": "stdout",
     "output_type": "stream",
     "text": [
      "FILE NOT FOUND expansion_features=30_layers=5_dataset=majajhong_principal_components=10 V4\n",
      "expansion_features=30_layers=5_dataset=majajhong_principal_components=100\n"
     ]
    },
    {
     "name": "stderr",
     "output_type": "stream",
     "text": [
      "  0%|                                           | 0/2 [00:00<?, ?it/s]\n"
     ]
    },
    {
     "name": "stdout",
     "output_type": "stream",
     "text": [
      "FILE NOT FOUND expansion_features=30_layers=5_dataset=majajhong_principal_components=100 V4\n",
      "expansion_features=30_layers=5_dataset=majajhong_principal_components=1000\n"
     ]
    },
    {
     "name": "stderr",
     "output_type": "stream",
     "text": [
      "  0%|                                           | 0/2 [00:00<?, ?it/s]\n"
     ]
    },
    {
     "name": "stdout",
     "output_type": "stream",
     "text": [
      "FILE NOT FOUND expansion_features=30_layers=5_dataset=majajhong_principal_components=1000 V4\n",
      "expansion_features=300_layers=5_dataset=majajhong_principal_components=1\n"
     ]
    },
    {
     "name": "stderr",
     "output_type": "stream",
     "text": [
      "  0%|                                           | 0/2 [00:00<?, ?it/s]\n"
     ]
    },
    {
     "name": "stdout",
     "output_type": "stream",
     "text": [
      "FILE NOT FOUND expansion_features=300_layers=5_dataset=majajhong_principal_components=1 V4\n",
      "expansion_features=300_layers=5_dataset=majajhong_principal_components=10\n"
     ]
    },
    {
     "name": "stderr",
     "output_type": "stream",
     "text": [
      "  0%|                                           | 0/2 [00:00<?, ?it/s]\n"
     ]
    },
    {
     "name": "stdout",
     "output_type": "stream",
     "text": [
      "FILE NOT FOUND expansion_features=300_layers=5_dataset=majajhong_principal_components=10 V4\n",
      "expansion_features=300_layers=5_dataset=majajhong_principal_components=100\n"
     ]
    },
    {
     "name": "stderr",
     "output_type": "stream",
     "text": [
      "  0%|                                           | 0/2 [00:00<?, ?it/s]\n"
     ]
    },
    {
     "name": "stdout",
     "output_type": "stream",
     "text": [
      "FILE NOT FOUND expansion_features=300_layers=5_dataset=majajhong_principal_components=100 V4\n",
      "expansion_features=300_layers=5_dataset=majajhong_principal_components=1000\n"
     ]
    },
    {
     "name": "stderr",
     "output_type": "stream",
     "text": [
      "  0%|                                           | 0/2 [00:00<?, ?it/s]\n"
     ]
    },
    {
     "name": "stdout",
     "output_type": "stream",
     "text": [
      "FILE NOT FOUND expansion_features=300_layers=5_dataset=majajhong_principal_components=1000 V4\n",
      "expansion_features=3000_layers=5_dataset=majajhong_principal_components=1\n"
     ]
    },
    {
     "name": "stderr",
     "output_type": "stream",
     "text": [
      "  0%|                                           | 0/2 [00:00<?, ?it/s]\n"
     ]
    },
    {
     "name": "stdout",
     "output_type": "stream",
     "text": [
      "FILE NOT FOUND expansion_features=3000_layers=5_dataset=majajhong_principal_components=1 V4\n",
      "expansion_features=3000_layers=5_dataset=majajhong_principal_components=10\n"
     ]
    },
    {
     "name": "stderr",
     "output_type": "stream",
     "text": [
      "  0%|                                           | 0/2 [00:00<?, ?it/s]\n"
     ]
    },
    {
     "name": "stdout",
     "output_type": "stream",
     "text": [
      "FILE NOT FOUND expansion_features=3000_layers=5_dataset=majajhong_principal_components=10 V4\n",
      "expansion_features=3000_layers=5_dataset=majajhong_principal_components=100\n"
     ]
    },
    {
     "name": "stderr",
     "output_type": "stream",
     "text": [
      "  0%|                                           | 0/2 [00:00<?, ?it/s]\n"
     ]
    },
    {
     "name": "stdout",
     "output_type": "stream",
     "text": [
      "FILE NOT FOUND expansion_features=3000_layers=5_dataset=majajhong_principal_components=100 V4\n",
      "expansion_features=3000_layers=5_dataset=majajhong_principal_components=1000\n"
     ]
    },
    {
     "name": "stderr",
     "output_type": "stream",
     "text": [
      "  0%|                                           | 0/2 [00:00<?, ?it/s]\n"
     ]
    },
    {
     "name": "stdout",
     "output_type": "stream",
     "text": [
      "FILE NOT FOUND expansion_features=3000_layers=5_dataset=majajhong_principal_components=1000 V4\n",
      "expansion_features=30000_layers=5_dataset=majajhong_principal_components=1\n"
     ]
    },
    {
     "name": "stderr",
     "output_type": "stream",
     "text": [
      "  0%|                                           | 0/2 [00:00<?, ?it/s]\n"
     ]
    },
    {
     "name": "stdout",
     "output_type": "stream",
     "text": [
      "FILE NOT FOUND expansion_features=30000_layers=5_dataset=majajhong_principal_components=1 V4\n",
      "expansion_features=30000_layers=5_dataset=majajhong_principal_components=10\n"
     ]
    },
    {
     "name": "stderr",
     "output_type": "stream",
     "text": [
      "  0%|                                           | 0/2 [00:00<?, ?it/s]\n"
     ]
    },
    {
     "name": "stdout",
     "output_type": "stream",
     "text": [
      "FILE NOT FOUND expansion_features=30000_layers=5_dataset=majajhong_principal_components=10 V4\n",
      "expansion_features=30000_layers=5_dataset=majajhong_principal_components=100\n"
     ]
    },
    {
     "name": "stderr",
     "output_type": "stream",
     "text": [
      "  0%|                                           | 0/2 [00:00<?, ?it/s]\n"
     ]
    },
    {
     "name": "stdout",
     "output_type": "stream",
     "text": [
      "FILE NOT FOUND expansion_features=30000_layers=5_dataset=majajhong_principal_components=100 V4\n",
      "expansion_features=30000_layers=5_dataset=majajhong_principal_components=1000\n"
     ]
    },
    {
     "name": "stderr",
     "output_type": "stream",
     "text": [
      "  0%|                                           | 0/2 [00:00<?, ?it/s]\n"
     ]
    },
    {
     "name": "stdout",
     "output_type": "stream",
     "text": [
      "FILE NOT FOUND expansion_features=30000_layers=5_dataset=majajhong_principal_components=1000 V4\n",
      "expansion_features=3_layers=5_dataset=majajhong_principal_components=1\n"
     ]
    },
    {
     "name": "stderr",
     "output_type": "stream",
     "text": [
      "100%|███████████████████████████████████| 2/2 [00:00<00:00,  6.13it/s]\n"
     ]
    },
    {
     "name": "stdout",
     "output_type": "stream",
     "text": [
      "expansion_features=3_layers=5_dataset=majajhong_principal_components=10\n"
     ]
    },
    {
     "name": "stderr",
     "output_type": "stream",
     "text": [
      "100%|███████████████████████████████████| 2/2 [00:00<00:00,  8.41it/s]\n"
     ]
    },
    {
     "name": "stdout",
     "output_type": "stream",
     "text": [
      "expansion_features=3_layers=5_dataset=majajhong_principal_components=100\n"
     ]
    },
    {
     "name": "stderr",
     "output_type": "stream",
     "text": [
      "100%|███████████████████████████████████| 2/2 [00:00<00:00,  8.50it/s]\n"
     ]
    },
    {
     "name": "stdout",
     "output_type": "stream",
     "text": [
      "expansion_features=3_layers=5_dataset=majajhong_principal_components=1000\n"
     ]
    },
    {
     "name": "stderr",
     "output_type": "stream",
     "text": [
      "  0%|                                           | 0/2 [00:00<?, ?it/s]\n"
     ]
    },
    {
     "name": "stdout",
     "output_type": "stream",
     "text": [
      "FILE NOT FOUND expansion_features=3_layers=5_dataset=majajhong_principal_components=1000 IT\n",
      "expansion_features=30_layers=5_dataset=majajhong_principal_components=1\n"
     ]
    },
    {
     "name": "stderr",
     "output_type": "stream",
     "text": [
      "100%|███████████████████████████████████| 2/2 [00:00<00:00,  8.44it/s]\n"
     ]
    },
    {
     "name": "stdout",
     "output_type": "stream",
     "text": [
      "expansion_features=30_layers=5_dataset=majajhong_principal_components=10\n"
     ]
    },
    {
     "name": "stderr",
     "output_type": "stream",
     "text": [
      "100%|███████████████████████████████████| 2/2 [00:00<00:00,  8.48it/s]\n"
     ]
    },
    {
     "name": "stdout",
     "output_type": "stream",
     "text": [
      "expansion_features=30_layers=5_dataset=majajhong_principal_components=100\n"
     ]
    },
    {
     "name": "stderr",
     "output_type": "stream",
     "text": [
      "100%|███████████████████████████████████| 2/2 [00:00<00:00,  8.49it/s]\n"
     ]
    },
    {
     "name": "stdout",
     "output_type": "stream",
     "text": [
      "expansion_features=30_layers=5_dataset=majajhong_principal_components=1000\n"
     ]
    },
    {
     "name": "stderr",
     "output_type": "stream",
     "text": [
      "100%|███████████████████████████████████| 2/2 [00:00<00:00,  8.41it/s]\n"
     ]
    },
    {
     "name": "stdout",
     "output_type": "stream",
     "text": [
      "expansion_features=300_layers=5_dataset=majajhong_principal_components=1\n"
     ]
    },
    {
     "name": "stderr",
     "output_type": "stream",
     "text": [
      "100%|███████████████████████████████████| 2/2 [00:00<00:00,  8.48it/s]\n"
     ]
    },
    {
     "name": "stdout",
     "output_type": "stream",
     "text": [
      "expansion_features=300_layers=5_dataset=majajhong_principal_components=10\n"
     ]
    },
    {
     "name": "stderr",
     "output_type": "stream",
     "text": [
      "100%|███████████████████████████████████| 2/2 [00:00<00:00,  8.48it/s]\n"
     ]
    },
    {
     "name": "stdout",
     "output_type": "stream",
     "text": [
      "expansion_features=300_layers=5_dataset=majajhong_principal_components=100\n"
     ]
    },
    {
     "name": "stderr",
     "output_type": "stream",
     "text": [
      "100%|███████████████████████████████████| 2/2 [00:00<00:00,  8.30it/s]\n"
     ]
    },
    {
     "name": "stdout",
     "output_type": "stream",
     "text": [
      "expansion_features=300_layers=5_dataset=majajhong_principal_components=1000\n"
     ]
    },
    {
     "name": "stderr",
     "output_type": "stream",
     "text": [
      "100%|███████████████████████████████████| 2/2 [00:00<00:00,  8.33it/s]\n"
     ]
    },
    {
     "name": "stdout",
     "output_type": "stream",
     "text": [
      "expansion_features=3000_layers=5_dataset=majajhong_principal_components=1\n"
     ]
    },
    {
     "name": "stderr",
     "output_type": "stream",
     "text": [
      "100%|███████████████████████████████████| 2/2 [00:00<00:00,  8.41it/s]\n"
     ]
    },
    {
     "name": "stdout",
     "output_type": "stream",
     "text": [
      "expansion_features=3000_layers=5_dataset=majajhong_principal_components=10\n"
     ]
    },
    {
     "name": "stderr",
     "output_type": "stream",
     "text": [
      "100%|███████████████████████████████████| 2/2 [00:00<00:00,  8.42it/s]\n"
     ]
    },
    {
     "name": "stdout",
     "output_type": "stream",
     "text": [
      "expansion_features=3000_layers=5_dataset=majajhong_principal_components=100\n"
     ]
    },
    {
     "name": "stderr",
     "output_type": "stream",
     "text": [
      "100%|███████████████████████████████████| 2/2 [00:00<00:00,  8.47it/s]\n"
     ]
    },
    {
     "name": "stdout",
     "output_type": "stream",
     "text": [
      "expansion_features=3000_layers=5_dataset=majajhong_principal_components=1000\n"
     ]
    },
    {
     "name": "stderr",
     "output_type": "stream",
     "text": [
      "100%|███████████████████████████████████| 2/2 [00:00<00:00,  8.48it/s]\n"
     ]
    },
    {
     "name": "stdout",
     "output_type": "stream",
     "text": [
      "expansion_features=30000_layers=5_dataset=majajhong_principal_components=1\n"
     ]
    },
    {
     "name": "stderr",
     "output_type": "stream",
     "text": [
      "100%|███████████████████████████████████| 2/2 [00:00<00:00,  8.46it/s]\n"
     ]
    },
    {
     "name": "stdout",
     "output_type": "stream",
     "text": [
      "expansion_features=30000_layers=5_dataset=majajhong_principal_components=10\n"
     ]
    },
    {
     "name": "stderr",
     "output_type": "stream",
     "text": [
      "100%|███████████████████████████████████| 2/2 [00:00<00:00,  8.37it/s]\n"
     ]
    },
    {
     "name": "stdout",
     "output_type": "stream",
     "text": [
      "expansion_features=30000_layers=5_dataset=majajhong_principal_components=100\n"
     ]
    },
    {
     "name": "stderr",
     "output_type": "stream",
     "text": [
      "100%|███████████████████████████████████| 2/2 [00:00<00:00,  8.22it/s]\n"
     ]
    },
    {
     "name": "stdout",
     "output_type": "stream",
     "text": [
      "expansion_features=30000_layers=5_dataset=majajhong_principal_components=1000\n"
     ]
    },
    {
     "name": "stderr",
     "output_type": "stream",
     "text": [
      "100%|███████████████████████████████████| 2/2 [00:00<00:00,  8.46it/s]\n"
     ]
    }
   ],
   "source": [
    "#dataset = 'naturalscenes'\n",
    "dataset = 'majajhong'\n",
    "info_dict = DATASET_INFO_DICT[dataset]\n",
    "\n",
    "\n",
    "n_rows = info_dict['test_data_size']\n",
    "all_sampled_indices = np.random.choice(n_rows, (1000, n_rows), replace=True) # Sample indices for all bootstraps at once\n",
    "\n",
    "for region in info_dict['regions']:\n",
    "\n",
    "    df_expansion = get_bootstrap_data(models= ['expansion'],\n",
    "                            features=info_dict['expansion_features'],\n",
    "                            principal_components=[1,10,100,1000],\n",
    "                            dataset=dataset, \n",
    "                            subjects=info_dict['subjects'],\n",
    "                            layers = 5,\n",
    "                            file_name = 'expansion_pcs',\n",
    "                            region=region,\n",
    "                            all_sampled_indices=all_sampled_indices)"
   ]
  },
  {
   "cell_type": "markdown",
   "id": "ad2bf1c6-96f3-4f87-846d-a15201fd8105",
   "metadata": {},
   "source": [
    "#### load bootstrap data"
   ]
  },
  {
   "cell_type": "code",
   "execution_count": 8,
   "id": "89b6e7c5-b895-49ff-8876-01bdef110bba",
   "metadata": {},
   "outputs": [],
   "source": [
    "DATASET = 'majajhong' # one of ['majajhong', 'naturalscenes']\n",
    "region = 'IT' # for majajhong: [V4,IT], for naturalscenes: [early visual stream, midventral visual stream, ventral visual stream]"
   ]
  },
  {
   "cell_type": "code",
   "execution_count": 33,
   "id": "c481e71c-57df-4895-8d49-58756f22bb19",
   "metadata": {},
   "outputs": [],
   "source": [
    "#load bootstrap data\n",
    "\n",
    "with open(os.path.join(PATH_TO_BOOTSTRAP,f'bootstrap-results-engineered-{DATASET}-{region}-df.pkl'), 'rb') as file:\n",
    "    df_engineered = pickle.load(file)\n",
    "\n",
    "with open(os.path.join(PATH_TO_BOOTSTRAP,f'bootstrap-results-expansion_pcs-{DATASET}-{region}-df.pkl'), 'rb') as file:\n",
    "    df_pcs = pickle.load(file) \n"
   ]
  },
  {
   "cell_type": "code",
   "execution_count": 35,
   "id": "19e4df30-34d5-41be-bbf5-20b5acbd5d81",
   "metadata": {},
   "outputs": [],
   "source": [
    "df_pcs['pcs'] = df_pcs['pcs'].apply(lambda x: int(x))\n",
    "df_pcs['full_model_score'] = df_pcs['features'].apply(lambda x: df_engineered[(df_engineered.model == 'expansion') & (df_engineered.features == x)].reset_index(drop=True).score[0])\n",
    "\n",
    "\n",
    "names ={f'expansion_3':f'Features = {write_powers(2)}',\n",
    "    f'expansion_30':f'Features = {write_powers(3)}',\n",
    "    f'expansion_300':f'Features = {write_powers(4)}',\n",
    "    f'expansion_3000':f'Features = {write_powers(5)}',\n",
    "    f'expansion_30000':f'Features = {write_powers(6)}'}\n",
    "\n",
    "\n",
    "df_pcs['model_family'] = 'Convolution'\n",
    "df_pcs['model'] = df_pcs['model'] + '_' + df_pcs['features']\n",
    "df_pcs['model'] = df_pcs['model'].map(names)\n",
    "\n",
    "palette_blues = {}\n",
    "blues = plt.cm.Blues([0.2, 0.4, 0.6, 0.8, 1.0])\n",
    "hex_blues= [mcolors.rgb2hex(color) for color in blues]\n",
    "\n",
    "for c, hex_color in enumerate(hex_blues):\n",
    "    palette_blues[f'Features = {write_powers(c+2)}'] = hex_color\n",
    "\n",
    "df_pcs['color'] = df_pcs['model'].map(palette_blues)"
   ]
  },
  {
   "cell_type": "code",
   "execution_count": 38,
   "id": "75fc260a-f4ed-4f26-84d1-e96d7ef2e39a",
   "metadata": {},
   "outputs": [
    {
     "data": {
      "image/png": "[encoded data removed]",
      "text/plain": [
       "<Figure size 700x700 with 1 Axes>"
      ]
     },
     "metadata": {},
     "output_type": "display_data"
    }
   ],
   "source": [
    "rcParams['figure.figsize'] = (7,7)  \n",
    "\n",
    "ax1 = sns.lineplot(data = df_pcs, x='pcs', y='score', hue='model', dashes=False, marker='o', palette = palette_blues)\n",
    "  \n",
    "plt.xlabel(\"Number of components\",size=15)\n",
    "plt.ylabel('Encoding Score',size=15)\n",
    "plt.xlim(df_pcs['pcs'].min()/2,df_pcs['pcs'].max()*2)\n",
    "plt.ylim(0,0.6) if region == 'IT' else plt.ylim(0,0.45)\n",
    "plt.xticks(size=15)\n",
    "plt.yticks(size=15)\n",
    "ax1.set_xscale(\"log\")    \n",
    "ax1.legend(frameon=False,fontsize=15)\n",
    "plt.setp(plt.gca().get_lines(), markersize=7)  # Change 9 to your desired marker size\n",
    "plt.savefig(f'figures/principal_components_{DATASET}_{region}.png', dpi=200) \n",
    "plt.show()"
   ]
  },
  {
   "cell_type": "code",
   "execution_count": 40,
   "id": "254c8d8b-0bb2-4668-bd74-f2c5030cb9b2",
   "metadata": {},
   "outputs": [
    {
     "data": {
      "image/png": "[encoded data removed]",
      "text/plain": [
       "<Figure size 300x700 with 1 Axes>"
      ]
     },
     "metadata": {},
     "output_type": "display_data"
    }
   ],
   "source": [
    "# main results\n",
    "rcParams['figure.figsize'] = (3,7)  \n",
    "\n",
    "ax1 = sns.lineplot(data = df_pcs, x='model_family', y='full_model_score', hue='model', dashes=False, style='model_family', marker='s', palette = palette_blues)\n",
    "plt.xlabel(\"Full model performance\",size=15)\n",
    "plt.ylabel('')\n",
    "plt.xlim(-10,10)\n",
    "plt.ylim(0,0.6) if region == 'IT' else plt.ylim(0,0.45)\n",
    "ax1.legend_.remove()    \n",
    "plt.yticks(size=15)\n",
    "ax1.set_xticks([])\n",
    "plt.setp(plt.gca().get_lines(), markersize=7)  # Change 9 to your desired marker size\n",
    "plt.savefig(f'figures/full_model_performance_pcs_{DATASET}_{region}.png', dpi=200) \n",
    "plt.show()"
   ]
  },
  {
   "cell_type": "markdown",
   "id": "0c393ddc-7884-492f-ba36-99b0e26fef12",
   "metadata": {
    "jp-MarkdownHeadingCollapsed": true,
    "tags": []
   },
   "source": [
    "# Convolution linear models"
   ]
  },
  {
   "cell_type": "markdown",
   "id": "e2e5ec4d-d690-418e-b920-bb1dd8bb1d0f",
   "metadata": {},
   "source": [
    "#### load bootstrap data"
   ]
  },
  {
   "cell_type": "code",
   "execution_count": 66,
   "id": "30784aae-b500-40b2-a0fc-55b818b4e7d1",
   "metadata": {},
   "outputs": [],
   "source": [
    "DATASET = 'majajhong' # one of ['majajhong', 'naturalscenes']\n",
    "region = 'IT' # for majajhong: [V4,IT], for naturalscenes: [early visual stream, midventral visual stream, ventral visual stream]"
   ]
  },
  {
   "cell_type": "code",
   "execution_count": 67,
   "id": "5fcd196c-112d-4851-a2a5-fa1bd9eba8bb",
   "metadata": {},
   "outputs": [],
   "source": [
    "# loading bootstrap data\n",
    "\n",
    "with open(os.path.join(PATH_TO_BOOTSTRAP,f'bootstrap-results-engineered-{DATASET}-{region}-df.pkl'), 'rb') as file:\n",
    "    df_engineered = pickle.load(file)\n",
    "    \n",
    "with open(os.path.join(PATH_TO_BOOTSTRAP,f'bootstrap-results-alexnet-{DATASET}-{region}-df.pkl'), 'rb') as file:\n",
    "    df_alexnet = pickle.load(file)  "
   ]
  },
  {
   "cell_type": "code",
   "execution_count": 68,
   "id": "b5dd664e-0b1d-43f9-9ac0-f54aecf81187",
   "metadata": {},
   "outputs": [],
   "source": [
    "df_engineered['features'] = df_engineered['features'].apply(lambda x: int(x)*36)\n",
    "\n",
    "names ={'expansion':'Convolution','expansion_linear':'Convolution linear'}\n",
    "df_engineered['model'] = df_engineered['model'].map(names)\n",
    "\n",
    "palette ={'Convolution':'royalblue','Convolution linear':'orange'}\n",
    "df_engineered['color'] = df_engineered['model'].map(palette)\n",
    "df_engineered = df_engineered.dropna(subset='model').reset_index()"
   ]
  },
  {
   "cell_type": "code",
   "execution_count": 69,
   "id": "bf863fbc-d2fe-4419-ae99-c0b3293853a2",
   "metadata": {},
   "outputs": [
    {
     "data": {
      "image/png": "[encoded data removed]",
      "text/plain": [
       "<Figure size 600x600 with 1 Axes>"
      ]
     },
     "metadata": {},
     "output_type": "display_data"
    }
   ],
   "source": [
    "# main results\n",
    "rcParams['figure.figsize'] = (6,6)  \n",
    "\n",
    "\n",
    "# main plot\n",
    "ax1 = sns.lineplot(data = df_engineered, x='features', y='score', hue='model', marker='o',palette = palette)\n",
    "# adding error bars for the 95% confidence interval\n",
    "for i in range(len(df_engineered)):\n",
    "    plt.errorbar(df_engineered['features'][i], df_engineered['score'][i], \n",
    "                 yerr=[[df_engineered['score'][i] - df_engineered['lower'][i]], \n",
    "                       [df_engineered['upper'][i] - df_engineered['score'][i]]], \n",
    "                 fmt='none', capsize=5, color=df_engineered['color'][i])\n",
    "\n",
    "\n",
    "# alexnet results\n",
    "plt.axhline(y=df_alexnet['score'][0], color='gray', linestyle='--', label='AlexNet')\n",
    "# adding confidence interval\n",
    "plt.fill_between(np.arange(df_engineered['features'].min()/3,df_engineered['features'].max()*3), \n",
    "                 df_alexnet['lower'], \n",
    "                 df_alexnet['upper'], \n",
    "                 color='gray', alpha=0.2)\n",
    "\n",
    "\n",
    "plt.ylim(0,0.45) if DATASET == 'naturalscenes' else plt.ylim(0,0.65)\n",
    "plt.xlim(df_engineered['features'].min()/3,df_engineered['features'].max()*3)\n",
    "plt.xticks(size=15)\n",
    "plt.yticks(size=15)\n",
    "ax1.set_xscale(\"log\")    \n",
    "plt.xlabel('')\n",
    "plt.ylabel('')    \n",
    "ax1.legend(frameon=False,fontsize=12) if region == 'IT' else ax1.legend_.remove()\n",
    "plt.savefig(f'figures/effects_of_regression_{DATASET}_{region}.png', dpi=200) \n",
    "plt.show()"
   ]
  },
  {
   "cell_type": "markdown",
   "id": "843d3a31-455a-4936-a137-e5e13afdedcf",
   "metadata": {
    "jp-MarkdownHeadingCollapsed": true
   },
   "source": [
    "# Fully random models"
   ]
  },
  {
   "cell_type": "markdown",
   "id": "48c71e48-faa5-451d-aefa-2eef40c04809",
   "metadata": {
    "jp-MarkdownHeadingCollapsed": true
   },
   "source": [
    "#### run bootstrap "
   ]
  },
  {
   "cell_type": "code",
   "execution_count": 10,
   "id": "c3e37be3-f9a9-4f68-80e5-c3d437f110a6",
   "metadata": {},
   "outputs": [
    {
     "name": "stdout",
     "output_type": "stream",
     "text": [
      "fully_random_30_features=3_layers=5_dataset=majajhong\n"
     ]
    },
    {
     "name": "stderr",
     "output_type": "stream",
     "text": [
      "  0%|                                           | 0/2 [00:00<?, ?it/s]\n"
     ]
    },
    {
     "name": "stdout",
     "output_type": "stream",
     "text": [
      "FILE NOT FOUND fully_random_30_features=3_layers=5_dataset=majajhong V4\n",
      "fully_random_300_features=3_layers=5_dataset=majajhong\n"
     ]
    },
    {
     "name": "stderr",
     "output_type": "stream",
     "text": [
      "  0%|                                           | 0/2 [00:00<?, ?it/s]\n"
     ]
    },
    {
     "name": "stdout",
     "output_type": "stream",
     "text": [
      "FILE NOT FOUND fully_random_300_features=3_layers=5_dataset=majajhong V4\n",
      "fully_random_3000_features=3_layers=5_dataset=majajhong\n"
     ]
    },
    {
     "name": "stderr",
     "output_type": "stream",
     "text": [
      "  0%|                                           | 0/2 [00:00<?, ?it/s]\n"
     ]
    },
    {
     "name": "stdout",
     "output_type": "stream",
     "text": [
      "FILE NOT FOUND fully_random_3000_features=3_layers=5_dataset=majajhong V4\n",
      "fully_random_30_features=30_layers=5_dataset=majajhong\n"
     ]
    },
    {
     "name": "stderr",
     "output_type": "stream",
     "text": [
      "  0%|                                           | 0/2 [00:00<?, ?it/s]\n"
     ]
    },
    {
     "name": "stdout",
     "output_type": "stream",
     "text": [
      "FILE NOT FOUND fully_random_30_features=30_layers=5_dataset=majajhong V4\n",
      "fully_random_300_features=30_layers=5_dataset=majajhong\n"
     ]
    },
    {
     "name": "stderr",
     "output_type": "stream",
     "text": [
      "  0%|                                           | 0/2 [00:00<?, ?it/s]\n"
     ]
    },
    {
     "name": "stdout",
     "output_type": "stream",
     "text": [
      "FILE NOT FOUND fully_random_300_features=30_layers=5_dataset=majajhong V4\n",
      "fully_random_3000_features=30_layers=5_dataset=majajhong\n"
     ]
    },
    {
     "name": "stderr",
     "output_type": "stream",
     "text": [
      "  0%|                                           | 0/2 [00:00<?, ?it/s]\n"
     ]
    },
    {
     "name": "stdout",
     "output_type": "stream",
     "text": [
      "FILE NOT FOUND fully_random_3000_features=30_layers=5_dataset=majajhong V4\n",
      "fully_random_30_features=300_layers=5_dataset=majajhong\n"
     ]
    },
    {
     "name": "stderr",
     "output_type": "stream",
     "text": [
      "  0%|                                           | 0/2 [00:00<?, ?it/s]\n"
     ]
    },
    {
     "name": "stdout",
     "output_type": "stream",
     "text": [
      "FILE NOT FOUND fully_random_30_features=300_layers=5_dataset=majajhong V4\n",
      "fully_random_300_features=300_layers=5_dataset=majajhong\n"
     ]
    },
    {
     "name": "stderr",
     "output_type": "stream",
     "text": [
      "  0%|                                           | 0/2 [00:00<?, ?it/s]\n"
     ]
    },
    {
     "name": "stdout",
     "output_type": "stream",
     "text": [
      "FILE NOT FOUND fully_random_300_features=300_layers=5_dataset=majajhong V4\n",
      "fully_random_3000_features=300_layers=5_dataset=majajhong\n"
     ]
    },
    {
     "name": "stderr",
     "output_type": "stream",
     "text": [
      "  0%|                                           | 0/2 [00:00<?, ?it/s]\n"
     ]
    },
    {
     "name": "stdout",
     "output_type": "stream",
     "text": [
      "FILE NOT FOUND fully_random_3000_features=300_layers=5_dataset=majajhong V4\n",
      "fully_random_30_features=3000_layers=5_dataset=majajhong\n"
     ]
    },
    {
     "name": "stderr",
     "output_type": "stream",
     "text": [
      "  0%|                                           | 0/2 [00:00<?, ?it/s]\n"
     ]
    },
    {
     "name": "stdout",
     "output_type": "stream",
     "text": [
      "FILE NOT FOUND fully_random_30_features=3000_layers=5_dataset=majajhong V4\n",
      "fully_random_300_features=3000_layers=5_dataset=majajhong\n"
     ]
    },
    {
     "name": "stderr",
     "output_type": "stream",
     "text": [
      "  0%|                                           | 0/2 [00:00<?, ?it/s]\n"
     ]
    },
    {
     "name": "stdout",
     "output_type": "stream",
     "text": [
      "FILE NOT FOUND fully_random_300_features=3000_layers=5_dataset=majajhong V4\n",
      "fully_random_3000_features=3000_layers=5_dataset=majajhong\n"
     ]
    },
    {
     "name": "stderr",
     "output_type": "stream",
     "text": [
      "  0%|                                           | 0/2 [00:00<?, ?it/s]\n"
     ]
    },
    {
     "name": "stdout",
     "output_type": "stream",
     "text": [
      "FILE NOT FOUND fully_random_3000_features=3000_layers=5_dataset=majajhong V4\n",
      "fully_random_30_features=30000_layers=5_dataset=majajhong\n"
     ]
    },
    {
     "name": "stderr",
     "output_type": "stream",
     "text": [
      "  0%|                                           | 0/2 [00:00<?, ?it/s]\n"
     ]
    },
    {
     "name": "stdout",
     "output_type": "stream",
     "text": [
      "FILE NOT FOUND fully_random_30_features=30000_layers=5_dataset=majajhong V4\n",
      "fully_random_300_features=30000_layers=5_dataset=majajhong\n"
     ]
    },
    {
     "name": "stderr",
     "output_type": "stream",
     "text": [
      "  0%|                                           | 0/2 [00:00<?, ?it/s]\n"
     ]
    },
    {
     "name": "stdout",
     "output_type": "stream",
     "text": [
      "FILE NOT FOUND fully_random_300_features=30000_layers=5_dataset=majajhong V4\n",
      "fully_random_3000_features=30000_layers=5_dataset=majajhong\n"
     ]
    },
    {
     "name": "stderr",
     "output_type": "stream",
     "text": [
      "  0%|                                           | 0/2 [00:00<?, ?it/s]\n"
     ]
    },
    {
     "name": "stdout",
     "output_type": "stream",
     "text": [
      "FILE NOT FOUND fully_random_3000_features=30000_layers=5_dataset=majajhong V4\n",
      "fully_random_30_features=3_layers=5_dataset=majajhong\n"
     ]
    },
    {
     "name": "stderr",
     "output_type": "stream",
     "text": [
      "100%|███████████████████████████████████| 2/2 [00:00<00:00,  8.17it/s]\n"
     ]
    },
    {
     "name": "stdout",
     "output_type": "stream",
     "text": [
      "fully_random_300_features=3_layers=5_dataset=majajhong\n"
     ]
    },
    {
     "name": "stderr",
     "output_type": "stream",
     "text": [
      "100%|███████████████████████████████████| 2/2 [00:00<00:00,  8.37it/s]\n"
     ]
    },
    {
     "name": "stdout",
     "output_type": "stream",
     "text": [
      "fully_random_3000_features=3_layers=5_dataset=majajhong\n"
     ]
    },
    {
     "name": "stderr",
     "output_type": "stream",
     "text": [
      "100%|███████████████████████████████████| 2/2 [00:00<00:00,  8.52it/s]\n"
     ]
    },
    {
     "name": "stdout",
     "output_type": "stream",
     "text": [
      "fully_random_30_features=30_layers=5_dataset=majajhong\n"
     ]
    },
    {
     "name": "stderr",
     "output_type": "stream",
     "text": [
      "100%|███████████████████████████████████| 2/2 [00:00<00:00,  8.52it/s]\n"
     ]
    },
    {
     "name": "stdout",
     "output_type": "stream",
     "text": [
      "fully_random_300_features=30_layers=5_dataset=majajhong\n"
     ]
    },
    {
     "name": "stderr",
     "output_type": "stream",
     "text": [
      "100%|███████████████████████████████████| 2/2 [00:00<00:00,  8.38it/s]\n"
     ]
    },
    {
     "name": "stdout",
     "output_type": "stream",
     "text": [
      "fully_random_3000_features=30_layers=5_dataset=majajhong\n"
     ]
    },
    {
     "name": "stderr",
     "output_type": "stream",
     "text": [
      "100%|███████████████████████████████████| 2/2 [00:00<00:00,  8.54it/s]\n"
     ]
    },
    {
     "name": "stdout",
     "output_type": "stream",
     "text": [
      "fully_random_30_features=300_layers=5_dataset=majajhong\n"
     ]
    },
    {
     "name": "stderr",
     "output_type": "stream",
     "text": [
      "100%|███████████████████████████████████| 2/2 [00:00<00:00,  8.49it/s]\n"
     ]
    },
    {
     "name": "stdout",
     "output_type": "stream",
     "text": [
      "fully_random_300_features=300_layers=5_dataset=majajhong\n"
     ]
    },
    {
     "name": "stderr",
     "output_type": "stream",
     "text": [
      "100%|███████████████████████████████████| 2/2 [00:00<00:00,  8.58it/s]\n"
     ]
    },
    {
     "name": "stdout",
     "output_type": "stream",
     "text": [
      "fully_random_3000_features=300_layers=5_dataset=majajhong\n"
     ]
    },
    {
     "name": "stderr",
     "output_type": "stream",
     "text": [
      "100%|███████████████████████████████████| 2/2 [00:00<00:00,  8.62it/s]\n"
     ]
    },
    {
     "name": "stdout",
     "output_type": "stream",
     "text": [
      "fully_random_30_features=3000_layers=5_dataset=majajhong\n"
     ]
    },
    {
     "name": "stderr",
     "output_type": "stream",
     "text": [
      "100%|███████████████████████████████████| 2/2 [00:00<00:00,  8.39it/s]\n"
     ]
    },
    {
     "name": "stdout",
     "output_type": "stream",
     "text": [
      "fully_random_300_features=3000_layers=5_dataset=majajhong\n"
     ]
    },
    {
     "name": "stderr",
     "output_type": "stream",
     "text": [
      "100%|███████████████████████████████████| 2/2 [00:00<00:00,  8.42it/s]\n"
     ]
    },
    {
     "name": "stdout",
     "output_type": "stream",
     "text": [
      "fully_random_3000_features=3000_layers=5_dataset=majajhong\n"
     ]
    },
    {
     "name": "stderr",
     "output_type": "stream",
     "text": [
      "100%|███████████████████████████████████| 2/2 [00:00<00:00,  8.37it/s]\n"
     ]
    },
    {
     "name": "stdout",
     "output_type": "stream",
     "text": [
      "fully_random_30_features=30000_layers=5_dataset=majajhong\n"
     ]
    },
    {
     "name": "stderr",
     "output_type": "stream",
     "text": [
      "100%|███████████████████████████████████| 2/2 [00:00<00:00,  8.54it/s]\n"
     ]
    },
    {
     "name": "stdout",
     "output_type": "stream",
     "text": [
      "fully_random_300_features=30000_layers=5_dataset=majajhong\n"
     ]
    },
    {
     "name": "stderr",
     "output_type": "stream",
     "text": [
      "100%|███████████████████████████████████| 2/2 [00:00<00:00,  8.38it/s]\n"
     ]
    },
    {
     "name": "stdout",
     "output_type": "stream",
     "text": [
      "fully_random_3000_features=30000_layers=5_dataset=majajhong\n"
     ]
    },
    {
     "name": "stderr",
     "output_type": "stream",
     "text": [
      "100%|███████████████████████████████████| 2/2 [00:00<00:00,  8.55it/s]\n"
     ]
    }
   ],
   "source": [
    "#dataset = 'naturalscenes'\n",
    "dataset = 'majajhong'\n",
    "info_dict = DATASET_INFO_DICT[dataset]\n",
    "\n",
    "\n",
    "n_rows = info_dict['test_data_size']\n",
    "all_sampled_indices = np.random.choice(n_rows, (1000, n_rows), replace=True) # Sample indices for all bootstraps at once\n",
    "\n",
    "for region in info_dict['regions']:\n",
    "    \n",
    "    random_model = get_bootstrap_data(models= ['fully_random'],\n",
    "                            features=info_dict['expansion_features'],\n",
    "                            l1_random_filters=[30,300,3000],\n",
    "                            dataset=dataset, \n",
    "                            subjects = info_dict['subjects'],\n",
    "                            layers = 5,\n",
    "                            file_name = 'random-model',\n",
    "                            region=region,\n",
    "                            all_sampled_indices=all_sampled_indices)"
   ]
  },
  {
   "cell_type": "markdown",
   "id": "3f0523cd-a7b0-4264-b554-6a994cabf16f",
   "metadata": {},
   "source": [
    "#### load bootstrap data"
   ]
  },
  {
   "cell_type": "code",
   "execution_count": 54,
   "id": "393274ad-5e94-4753-8922-39f7162a2926",
   "metadata": {},
   "outputs": [],
   "source": [
    "DATASET = 'majajhong' # one of ['majajhong', 'naturalscenes']\n",
    "region = 'IT' # for majajhong: [V4,IT], for naturalscenes: [early visual stream, midventral visual stream, ventral visual stream]"
   ]
  },
  {
   "cell_type": "code",
   "execution_count": 61,
   "id": "df3fa249-4a9d-4e36-af82-17df5cfe650a",
   "metadata": {},
   "outputs": [],
   "source": [
    "#load bootstrap data\n",
    "\n",
    "with open(os.path.join(PATH_TO_BOOTSTRAP,f'bootstrap-results-engineered-{DATASET}-{region}-df.pkl'), 'rb') as file:\n",
    "    df_engineered = pickle.load(file)\n",
    "    \n",
    "with open(os.path.join(PATH_TO_BOOTSTRAP,f'bootstrap-results-random-model-{DATASET}-{region}-df.pkl'), 'rb') as file:\n",
    "    df_random = pickle.load(file)  \n",
    "\n",
    "with open(os.path.join(PATH_TO_BOOTSTRAP,f'bootstrap-results-alexnet-{DATASET}-{region}-df.pkl'), 'rb') as file:\n",
    "    df_alexnet = pickle.load(file)  "
   ]
  },
  {
   "cell_type": "code",
   "execution_count": 63,
   "id": "e60c2d83-e0ac-4935-bd79-55d66c878415",
   "metadata": {},
   "outputs": [],
   "source": [
    "df_random['l1_random_filters'] = df_random['l1_random_filters'].apply(lambda x: str(x))\n",
    "df_random['model'] = df_random['model'] + '_' + df_random['l1_random_filters']\n",
    "df = pd.concat([df_engineered,df_random]).reset_index(drop=True)\n",
    "df['features'] = df['features'].apply(lambda x: int(x)*36)\n",
    "\n",
    "\n",
    "names ={'expansion':'EVC-like layer 1',\n",
    "        'fully_random_30':'Fully random (filters = 30)',\n",
    "        'fully_random_300':'Fully random (filters = 300)',\n",
    "        'fully_random_3000':'Fully random (filters = 3000)'}\n",
    "\n",
    "\n",
    "palette ={'EVC-like layer 1':'royalblue',\n",
    "         'Fully random (filters = 30)':'plum',\n",
    "         'Fully random (filters = 300)':'orchid',\n",
    "         'Fully random (filters = 3000)':'darkviolet'}\n",
    "\n",
    "\n",
    "df['model'] = df['model'].map(names)\n",
    "df['color'] = df['model'].map(palette)\n",
    "\n",
    "df = df.dropna(subset=['model']).reset_index(drop=True)"
   ]
  },
  {
   "cell_type": "code",
   "execution_count": 65,
   "id": "34f8bc40-bd99-4a73-b300-cfd6ce95d47f",
   "metadata": {},
   "outputs": [
    {
     "data": {
      "image/png": "[encoded data removed]",
      "text/plain": [
       "<Figure size 600x600 with 1 Axes>"
      ]
     },
     "metadata": {},
     "output_type": "display_data"
    }
   ],
   "source": [
    "rcParams['figure.figsize'] = (6,6)  \n",
    "\n",
    "# main plot\n",
    "ax1 = sns.lineplot(data = df, x='features', y='score', hue='model', marker='o',palette = palette)\n",
    "# Adding error bars for the 95% confidence interval\n",
    "for i in range(len(df)):\n",
    "    plt.errorbar(df['features'][i], df['score'][i], \n",
    "                 yerr=[[df['score'][i] - df['lower'][i]], \n",
    "                       [df['upper'][i] - df['score'][i]]], \n",
    "                 fmt='none', capsize=5, color=df['color'][i])\n",
    "\n",
    "# alexnet results\n",
    "plt.axhline(y=df_alexnet['score'][0], color='gray', linestyle='--', label='AlexNet')\n",
    "# adding confidence interval\n",
    "plt.fill_between(np.arange(df['features'].min()/3,df['features'].max()*3), \n",
    "                 df_alexnet['lower'], df_alexnet['upper'], color='gray', alpha=0.2)\n",
    "\n",
    "\n",
    "plt.xlabel('')\n",
    "plt.ylabel('')\n",
    "plt.ylim(0,0.45) if DATASET == 'naturalscenes' else plt.ylim(0,0.65)\n",
    "plt.xlim(df['features'].min()/3,df['features'].max()*3)\n",
    "plt.xticks(size=15)\n",
    "plt.yticks(size=15)\n",
    "ax1.set_xscale(\"log\")    \n",
    "region == 'IT' if ax1.legend(frameon=False,fontsize=12) else ax1.legend_.remove()  \n",
    "plt.savefig(f'figures/random_model_{DATASET}_{region}.png', dpi=200) \n",
    "plt.show()"
   ]
  },
  {
   "cell_type": "markdown",
   "id": "9437ddba-f50b-4f25-9d95-e8a4b7ebd937",
   "metadata": {
    "jp-MarkdownHeadingCollapsed": true
   },
   "source": [
    "# Shuffled pixel results"
   ]
  },
  {
   "cell_type": "markdown",
   "id": "cc922c4c-505f-4707-bb11-857ffe61a033",
   "metadata": {
    "jp-MarkdownHeadingCollapsed": true
   },
   "source": [
    "#### run bootstrap "
   ]
  },
  {
   "cell_type": "code",
   "execution_count": 42,
   "id": "6474c6e8-0af9-4c74-9c21-263da4442f71",
   "metadata": {},
   "outputs": [
    {
     "name": "stdout",
     "output_type": "stream",
     "text": [
      "expansion_features=3_layers=5_dataset=majajhong_shuffled\n"
     ]
    },
    {
     "name": "stderr",
     "output_type": "stream",
     "text": [
      "  0%|                                           | 0/2 [00:00<?, ?it/s]\n"
     ]
    },
    {
     "name": "stdout",
     "output_type": "stream",
     "text": [
      "FILE NOT FOUND expansion_features=3_layers=5_dataset=majajhong_shuffled V4\n",
      "expansion_features=30_layers=5_dataset=majajhong_shuffled\n"
     ]
    },
    {
     "name": "stderr",
     "output_type": "stream",
     "text": [
      "  0%|                                           | 0/2 [00:00<?, ?it/s]\n"
     ]
    },
    {
     "name": "stdout",
     "output_type": "stream",
     "text": [
      "FILE NOT FOUND expansion_features=30_layers=5_dataset=majajhong_shuffled V4\n",
      "expansion_features=300_layers=5_dataset=majajhong_shuffled\n"
     ]
    },
    {
     "name": "stderr",
     "output_type": "stream",
     "text": [
      "  0%|                                           | 0/2 [00:00<?, ?it/s]\n"
     ]
    },
    {
     "name": "stdout",
     "output_type": "stream",
     "text": [
      "FILE NOT FOUND expansion_features=300_layers=5_dataset=majajhong_shuffled V4\n",
      "expansion_features=3000_layers=5_dataset=majajhong_shuffled\n"
     ]
    },
    {
     "name": "stderr",
     "output_type": "stream",
     "text": [
      "  0%|                                           | 0/2 [00:00<?, ?it/s]\n"
     ]
    },
    {
     "name": "stdout",
     "output_type": "stream",
     "text": [
      "FILE NOT FOUND expansion_features=3000_layers=5_dataset=majajhong_shuffled V4\n",
      "expansion_features=30000_layers=5_dataset=majajhong_shuffled\n"
     ]
    },
    {
     "name": "stderr",
     "output_type": "stream",
     "text": [
      "  0%|                                           | 0/2 [00:00<?, ?it/s]\n"
     ]
    },
    {
     "name": "stdout",
     "output_type": "stream",
     "text": [
      "FILE NOT FOUND expansion_features=30000_layers=5_dataset=majajhong_shuffled V4\n",
      "expansion_features=3_layers=5_dataset=majajhong_shuffled\n"
     ]
    },
    {
     "name": "stderr",
     "output_type": "stream",
     "text": [
      "100%|███████████████████████████████████| 2/2 [00:00<00:00,  7.90it/s]\n"
     ]
    },
    {
     "name": "stdout",
     "output_type": "stream",
     "text": [
      "expansion_features=30_layers=5_dataset=majajhong_shuffled\n"
     ]
    },
    {
     "name": "stderr",
     "output_type": "stream",
     "text": [
      "100%|███████████████████████████████████| 2/2 [00:00<00:00,  8.49it/s]\n"
     ]
    },
    {
     "name": "stdout",
     "output_type": "stream",
     "text": [
      "expansion_features=300_layers=5_dataset=majajhong_shuffled\n"
     ]
    },
    {
     "name": "stderr",
     "output_type": "stream",
     "text": [
      "100%|███████████████████████████████████| 2/2 [00:00<00:00,  8.51it/s]\n"
     ]
    },
    {
     "name": "stdout",
     "output_type": "stream",
     "text": [
      "expansion_features=3000_layers=5_dataset=majajhong_shuffled\n"
     ]
    },
    {
     "name": "stderr",
     "output_type": "stream",
     "text": [
      "100%|███████████████████████████████████| 2/2 [00:00<00:00,  8.45it/s]\n"
     ]
    },
    {
     "name": "stdout",
     "output_type": "stream",
     "text": [
      "expansion_features=30000_layers=5_dataset=majajhong_shuffled\n"
     ]
    },
    {
     "name": "stderr",
     "output_type": "stream",
     "text": [
      "100%|███████████████████████████████████| 2/2 [00:00<00:00,  8.48it/s]\n"
     ]
    }
   ],
   "source": [
    "#dataset = 'naturalscenes'\n",
    "dataset = 'majajhong'\n",
    "info_dict = DATASET_INFO_DICT[dataset]\n",
    "dataset  = dataset + '_shuffled'\n",
    "\n",
    "\n",
    "n_rows = info_dict['test_data_size']\n",
    "all_sampled_indices = np.random.choice(n_rows, (1000, n_rows), replace=True) # Sample indices for all bootstraps at once\n",
    "\n",
    "for region in info_dict['regions']:\n",
    "     \n",
    "    # engineered models \n",
    "    get_bootstrap_data(models= ['expansion'],\n",
    "                        features=info_dict['expansion_features'],\n",
    "                        dataset=dataset, \n",
    "                        subjects=info_dict['subjects'],\n",
    "                        layers = 5,\n",
    "                        file_name = 'engineered',\n",
    "                        region=region,\n",
    "                        all_sampled_indices=all_sampled_indices)"
   ]
  },
  {
   "cell_type": "markdown",
   "id": "456a274f-2239-4405-bfb6-689c51f92863",
   "metadata": {},
   "source": [
    "#### load bootstrap data"
   ]
  },
  {
   "cell_type": "code",
   "execution_count": 43,
   "id": "1a9f3d7e-6e1d-4f30-ba18-ea9c6d8cce86",
   "metadata": {},
   "outputs": [],
   "source": [
    "DATASET = 'majajhong' # one of ['majajhong', 'naturalscenes']\n",
    "region = 'IT' # for majajhong: [V4,IT], for naturalscenes: [early visual stream, midventral visual stream, ventral visual stream]"
   ]
  },
  {
   "cell_type": "code",
   "execution_count": 47,
   "id": "aa80f182-3f4c-48e7-9055-bb820d34821d",
   "metadata": {},
   "outputs": [],
   "source": [
    "# load bootstrap data\n",
    "\n",
    "with open(os.path.join(PATH_TO_BOOTSTRAP,f'bootstrap-results-expansion-{DATASET}_shuffled-{region}-df.pkl'), 'rb') as file:\n",
    "    df_engineered_shuffled = pickle.load(file)\n",
    "    \n",
    "with open(os.path.join(PATH_TO_BOOTSTRAP,f'bootstrap-results-engineered-{DATASET}-{region}-df.pkl'), 'rb') as file:\n",
    "    df_engineered = pickle.load(file)\n",
    "\n",
    "with open(os.path.join(PATH_TO_BOOTSTRAP,f'bootstrap-results-alexnet-{DATASET}-{region}-df.pkl'), 'rb') as file:\n",
    "    df_alexnet = pickle.load(file)  "
   ]
  },
  {
   "cell_type": "code",
   "execution_count": 48,
   "id": "ea9a1518-2d50-4d8f-b361-6ada9b502bb8",
   "metadata": {},
   "outputs": [],
   "source": [
    "df_engineered['features'] = df_engineered['features'].apply(lambda x: int(x)*36)\n",
    "df_engineered_shuffled['features'] = df_engineered_shuffled['features'].apply(lambda x: int(x)*36)\n",
    "\n",
    "df_engineered['dataset'] = 'Normal images'\n",
    "df_engineered_shuffled['dataset'] = 'Shuffled pixels'\n",
    "\n",
    "df = pd.concat([df_engineered,df_engineered_shuffled])\n",
    "\n",
    "names ={'expansion':'Expansion'}\n",
    "palette ={'Normal images':'royalblue','Shuffled pixels':'indianred'}\n",
    "df['model'] = df['model'].map(names)\n",
    "df['color'] = df['dataset'].map(palette)\n",
    "\n",
    "df = df.dropna(subset='model').reset_index()"
   ]
  },
  {
   "cell_type": "code",
   "execution_count": 50,
   "id": "ddd3f424-5f08-4b9f-978e-1ae26e439b97",
   "metadata": {},
   "outputs": [
    {
     "data": {
      "image/png": "[encoded data removed]",
      "text/plain": [
       "<Figure size 600x600 with 1 Axes>"
      ]
     },
     "metadata": {},
     "output_type": "display_data"
    }
   ],
   "source": [
    "rcParams['figure.figsize'] = (6,6)  \n",
    "\n",
    "# main plot\n",
    "ax1 = sns.lineplot(data = df, x='features', y='score', hue='dataset', marker='o',palette = palette)\n",
    "# adding error bars for the 95% confidence interval\n",
    "for i in range(len(df)):\n",
    "    plt.errorbar(df['features'][i], df['score'][i], \n",
    "                 yerr=[[df['score'][i] - df['lower'][i]], [df['upper'][i] - df['score'][i]]], \n",
    "                 fmt='none', capsize=5, color=df['color'][i])\n",
    "    \n",
    "# alexnet results\n",
    "plt.axhline(y=df_alexnet['score'][0], color='gray', linestyle='--', label='AlexNet')\n",
    "# adding confidence interval\n",
    "plt.fill_between(np.arange(df['features'].min()/3,df['features'].max()*3), \n",
    "                 df_alexnet['lower'], df_alexnet['upper'], color='gray', alpha=0.2)\n",
    "\n",
    "\n",
    "\n",
    "plt.xlim(df['features'].min()/2,df['features'].max()*2)\n",
    "plt.xticks(size=15)\n",
    "plt.yticks(size=15)\n",
    "ax1.set_xscale(\"log\")        \n",
    "plt.ylim(0,0.65) if region == 'IT' else plt.ylim(0,0.45)\n",
    "ax1.legend(frameon=False,fontsize=12) if region == 'IT' else ax1.legend_.remove()\n",
    "plt.xlabel('')\n",
    "plt.ylabel('')\n",
    "plt.savefig(f'figures/shuffled_pixels_{DATASET}_{region}.png', dpi=200) \n",
    "plt.show()"
   ]
  },
  {
   "cell_type": "markdown",
   "id": "a0d67f84-13a8-41fa-a7a5-8be93d60df33",
   "metadata": {
    "jp-MarkdownHeadingCollapsed": true
   },
   "source": [
    "# Different non-linearities"
   ]
  },
  {
   "cell_type": "markdown",
   "id": "3364fc7b-57c3-48e4-9f62-78bf02c69843",
   "metadata": {
    "jp-MarkdownHeadingCollapsed": true
   },
   "source": [
    "#### run bootstrap "
   ]
  },
  {
   "cell_type": "code",
   "execution_count": 4,
   "id": "506d72d2-5a73-489b-a508-1af3081a31ed",
   "metadata": {},
   "outputs": [
    {
     "name": "stdout",
     "output_type": "stream",
     "text": [
      "expansion_features=3000_layers=5_dataset=majajhong\n"
     ]
    },
    {
     "name": "stderr",
     "output_type": "stream",
     "text": [
      "100%|███████████████████████████████████| 2/2 [00:00<00:00,  7.77it/s]\n"
     ]
    },
    {
     "name": "stdout",
     "output_type": "stream",
     "text": [
      "expansion_features=3000_layers=5_dataset=majajhong_leaky_relu\n"
     ]
    },
    {
     "name": "stderr",
     "output_type": "stream",
     "text": [
      "100%|███████████████████████████████████| 2/2 [00:00<00:00, 10.18it/s]\n"
     ]
    },
    {
     "name": "stdout",
     "output_type": "stream",
     "text": [
      "expansion_features=3000_layers=5_dataset=majajhong_gelu\n"
     ]
    },
    {
     "name": "stderr",
     "output_type": "stream",
     "text": [
      "100%|███████████████████████████████████| 2/2 [00:00<00:00, 10.50it/s]\n"
     ]
    },
    {
     "name": "stdout",
     "output_type": "stream",
     "text": [
      "expansion_features=3000_layers=5_dataset=majajhong_elu\n"
     ]
    },
    {
     "name": "stderr",
     "output_type": "stream",
     "text": [
      "100%|███████████████████████████████████| 2/2 [00:00<00:00, 10.35it/s]\n"
     ]
    },
    {
     "name": "stdout",
     "output_type": "stream",
     "text": [
      "expansion_features=3000_layers=5_dataset=majajhong_abs\n"
     ]
    },
    {
     "name": "stderr",
     "output_type": "stream",
     "text": [
      "100%|███████████████████████████████████| 2/2 [00:00<00:00, 10.52it/s]\n"
     ]
    },
    {
     "name": "stdout",
     "output_type": "stream",
     "text": [
      "expansion_features=3000_layers=5_dataset=majajhong\n"
     ]
    },
    {
     "name": "stderr",
     "output_type": "stream",
     "text": [
      "100%|███████████████████████████████████| 2/2 [00:00<00:00,  8.57it/s]\n"
     ]
    },
    {
     "name": "stdout",
     "output_type": "stream",
     "text": [
      "expansion_features=3000_layers=5_dataset=majajhong_leaky_relu\n"
     ]
    },
    {
     "name": "stderr",
     "output_type": "stream",
     "text": [
      "100%|███████████████████████████████████| 2/2 [00:00<00:00,  8.51it/s]\n"
     ]
    },
    {
     "name": "stdout",
     "output_type": "stream",
     "text": [
      "expansion_features=3000_layers=5_dataset=majajhong_gelu\n"
     ]
    },
    {
     "name": "stderr",
     "output_type": "stream",
     "text": [
      "100%|███████████████████████████████████| 2/2 [00:00<00:00,  8.41it/s]\n"
     ]
    },
    {
     "name": "stdout",
     "output_type": "stream",
     "text": [
      "expansion_features=3000_layers=5_dataset=majajhong_elu\n"
     ]
    },
    {
     "name": "stderr",
     "output_type": "stream",
     "text": [
      "100%|███████████████████████████████████| 2/2 [00:00<00:00,  8.59it/s]\n"
     ]
    },
    {
     "name": "stdout",
     "output_type": "stream",
     "text": [
      "expansion_features=3000_layers=5_dataset=majajhong_abs\n"
     ]
    },
    {
     "name": "stderr",
     "output_type": "stream",
     "text": [
      "100%|███████████████████████████████████| 2/2 [00:00<00:00,  8.60it/s]\n"
     ]
    }
   ],
   "source": [
    "#dataset = 'naturalscenes'\n",
    "dataset = 'majajhong'\n",
    "info_dict = DATASET_INFO_DICT[dataset]\n",
    "\n",
    "\n",
    "n_rows = info_dict['test_data_size']\n",
    "all_sampled_indices = np.random.choice(n_rows, (1000, n_rows), replace=True) # Sample indices for all bootstraps at once\n",
    "\n",
    "for region in info_dict['regions']:\n",
    "     \n",
    "    # engineered models \n",
    "    get_bootstrap_data(models= ['expansion'],\n",
    "                        features=[3000],\n",
    "                        dataset=dataset, \n",
    "                        subjects=info_dict['subjects'],\n",
    "                        nl_types=['relu','leaky_relu','gelu','elu','abs'],\n",
    "                        layers = 5,\n",
    "                        file_name = 'non-linearities',\n",
    "                        region=region,\n",
    "                        all_sampled_indices=all_sampled_indices)"
   ]
  },
  {
   "cell_type": "markdown",
   "id": "9ac51125-5347-46f2-bc0b-970d0deb67ed",
   "metadata": {},
   "source": [
    "#### load bootstrap data"
   ]
  },
  {
   "cell_type": "code",
   "execution_count": 6,
   "id": "fcc42729-f0b0-4520-be71-91f5ea32aaba",
   "metadata": {},
   "outputs": [],
   "source": [
    "DATASET = 'majajhong' # one of ['majajhong', 'naturalscenes']\n",
    "region = 'IT' # for majajhong: [V4,IT], for naturalscenes: [early visual stream, midventral visual stream, ventral visual stream]"
   ]
  },
  {
   "cell_type": "code",
   "execution_count": 7,
   "id": "fa0ff6b1-d915-473a-84a4-f677cd8f8b78",
   "metadata": {},
   "outputs": [],
   "source": [
    "with open(os.path.join(PATH_TO_BOOTSTRAP,f'bootstrap-results-non-linearities-{DATASET}-{region}-df.pkl'), 'rb') as file:\n",
    "    df = pickle.load(file)"
   ]
  },
  {
   "cell_type": "code",
   "execution_count": 8,
   "id": "a5a858a4-1753-4a2e-bff7-ab2a6e0fc636",
   "metadata": {},
   "outputs": [
    {
     "name": "stderr",
     "output_type": "stream",
     "text": [
      "No artists with labels found to put in legend.  Note that artists whose label start with an underscore are ignored when legend() is called with no argument.\n"
     ]
    },
    {
     "data": {
      "image/png": "[encoded data removed]",
      "text/plain": [
       "<Figure size 600x700 with 1 Axes>"
      ]
     },
     "metadata": {},
     "output_type": "display_data"
    }
   ],
   "source": [
    "palette = {         \n",
    "    'relu':'royalblue',\n",
    "    'gelu':'gold',\n",
    "    'leaky_relu':'indianred',\n",
    "    'elu':'mediumslateblue',\n",
    "    'abs':'mediumseagreen',\n",
    "}\n",
    "\n",
    "sns.set_context(context='talk')    \n",
    "plt.rcParams['figure.figsize'] = (6,7)\n",
    "\n",
    "ax1 = sns.barplot(x = df['nl_type'], \n",
    "                  y = df['score'], \n",
    "                       palette=palette,\n",
    "                       width=0.6, \n",
    "                       dodge=False)            \n",
    "    \n",
    "ax1.legend().remove()\n",
    "plt.xlabel('')\n",
    "plt.ylim(0,0.6)\n",
    "plt.ylabel(size=22, ylabel='Accuracy score')    \n",
    "plt.xticks(size=14)\n",
    "plt.title('activation functions (region = IT)')\n",
    "ax1.set_xticks([])\n",
    "plt.savefig(f'figures/no_labels_nls_{DATASET}_{region}.png', bbox_inches='tight', dpi=300)"
   ]
  },
  {
   "cell_type": "markdown",
   "id": "f45437c9-218f-40cd-bb48-6560adb66420",
   "metadata": {
    "jp-MarkdownHeadingCollapsed": true
   },
   "source": [
    "# Different initializations"
   ]
  },
  {
   "cell_type": "markdown",
   "id": "1c5c962d-1f7a-48e6-bee9-2d16a19e23f8",
   "metadata": {
    "jp-MarkdownHeadingCollapsed": true
   },
   "source": [
    "#### run bootstrap "
   ]
  },
  {
   "cell_type": "code",
   "execution_count": 23,
   "id": "ad93c7a7-6a7a-438d-8551-58f284a68776",
   "metadata": {},
   "outputs": [
    {
     "name": "stdout",
     "output_type": "stream",
     "text": [
      "expansion_features=3_layers=5_dataset=majajhong\n"
     ]
    },
    {
     "name": "stderr",
     "output_type": "stream",
     "text": [
      "100%|███████████████████████████████████| 2/2 [00:00<00:00,  8.31it/s]\n"
     ]
    },
    {
     "name": "stdout",
     "output_type": "stream",
     "text": [
      "expansion_features=3_layers=5_dataset=majajhong_kaiming_normal\n"
     ]
    },
    {
     "name": "stderr",
     "output_type": "stream",
     "text": [
      "100%|███████████████████████████████████| 2/2 [00:00<00:00,  8.49it/s]\n"
     ]
    },
    {
     "name": "stdout",
     "output_type": "stream",
     "text": [
      "expansion_features=3_layers=5_dataset=majajhong_orthogonal\n"
     ]
    },
    {
     "name": "stderr",
     "output_type": "stream",
     "text": [
      "100%|███████████████████████████████████| 2/2 [00:00<00:00,  8.61it/s]\n"
     ]
    },
    {
     "name": "stdout",
     "output_type": "stream",
     "text": [
      "expansion_features=3_layers=5_dataset=majajhong_xavier_uniform\n"
     ]
    },
    {
     "name": "stderr",
     "output_type": "stream",
     "text": [
      "100%|███████████████████████████████████| 2/2 [00:00<00:00,  8.59it/s]\n"
     ]
    },
    {
     "name": "stdout",
     "output_type": "stream",
     "text": [
      "expansion_features=3_layers=5_dataset=majajhong_xavier_normal\n"
     ]
    },
    {
     "name": "stderr",
     "output_type": "stream",
     "text": [
      "100%|███████████████████████████████████| 2/2 [00:00<00:00,  8.60it/s]\n"
     ]
    },
    {
     "name": "stdout",
     "output_type": "stream",
     "text": [
      "expansion_features=3_layers=5_dataset=majajhong_uniform\n"
     ]
    },
    {
     "name": "stderr",
     "output_type": "stream",
     "text": [
      "100%|███████████████████████████████████| 2/2 [00:00<00:00,  8.55it/s]\n"
     ]
    },
    {
     "name": "stdout",
     "output_type": "stream",
     "text": [
      "expansion_features=3_layers=5_dataset=majajhong_normal\n"
     ]
    },
    {
     "name": "stderr",
     "output_type": "stream",
     "text": [
      "100%|███████████████████████████████████| 2/2 [00:00<00:00,  8.63it/s]\n"
     ]
    },
    {
     "name": "stdout",
     "output_type": "stream",
     "text": [
      "expansion_features=30_layers=5_dataset=majajhong\n"
     ]
    },
    {
     "name": "stderr",
     "output_type": "stream",
     "text": [
      "100%|███████████████████████████████████| 2/2 [00:00<00:00,  8.62it/s]\n"
     ]
    },
    {
     "name": "stdout",
     "output_type": "stream",
     "text": [
      "expansion_features=30_layers=5_dataset=majajhong_kaiming_normal\n"
     ]
    },
    {
     "name": "stderr",
     "output_type": "stream",
     "text": [
      "100%|███████████████████████████████████| 2/2 [00:00<00:00,  8.58it/s]\n"
     ]
    },
    {
     "name": "stdout",
     "output_type": "stream",
     "text": [
      "expansion_features=30_layers=5_dataset=majajhong_orthogonal\n"
     ]
    },
    {
     "name": "stderr",
     "output_type": "stream",
     "text": [
      "100%|███████████████████████████████████| 2/2 [00:00<00:00,  8.54it/s]\n"
     ]
    },
    {
     "name": "stdout",
     "output_type": "stream",
     "text": [
      "expansion_features=30_layers=5_dataset=majajhong_xavier_uniform\n"
     ]
    },
    {
     "name": "stderr",
     "output_type": "stream",
     "text": [
      "100%|███████████████████████████████████| 2/2 [00:00<00:00,  8.59it/s]\n"
     ]
    },
    {
     "name": "stdout",
     "output_type": "stream",
     "text": [
      "expansion_features=30_layers=5_dataset=majajhong_xavier_normal\n"
     ]
    },
    {
     "name": "stderr",
     "output_type": "stream",
     "text": [
      "100%|███████████████████████████████████| 2/2 [00:00<00:00,  8.56it/s]\n"
     ]
    },
    {
     "name": "stdout",
     "output_type": "stream",
     "text": [
      "expansion_features=30_layers=5_dataset=majajhong_uniform\n"
     ]
    },
    {
     "name": "stderr",
     "output_type": "stream",
     "text": [
      "100%|███████████████████████████████████| 2/2 [00:00<00:00,  8.59it/s]\n"
     ]
    },
    {
     "name": "stdout",
     "output_type": "stream",
     "text": [
      "expansion_features=30_layers=5_dataset=majajhong_normal\n"
     ]
    },
    {
     "name": "stderr",
     "output_type": "stream",
     "text": [
      "100%|███████████████████████████████████| 2/2 [00:00<00:00,  8.54it/s]\n"
     ]
    },
    {
     "name": "stdout",
     "output_type": "stream",
     "text": [
      "expansion_features=300_layers=5_dataset=majajhong\n"
     ]
    },
    {
     "name": "stderr",
     "output_type": "stream",
     "text": [
      "100%|███████████████████████████████████| 2/2 [00:00<00:00,  8.60it/s]\n"
     ]
    },
    {
     "name": "stdout",
     "output_type": "stream",
     "text": [
      "expansion_features=300_layers=5_dataset=majajhong_kaiming_normal\n"
     ]
    },
    {
     "name": "stderr",
     "output_type": "stream",
     "text": [
      "100%|███████████████████████████████████| 2/2 [00:00<00:00,  8.50it/s]\n"
     ]
    },
    {
     "name": "stdout",
     "output_type": "stream",
     "text": [
      "expansion_features=300_layers=5_dataset=majajhong_orthogonal\n"
     ]
    },
    {
     "name": "stderr",
     "output_type": "stream",
     "text": [
      "100%|███████████████████████████████████| 2/2 [00:00<00:00,  8.41it/s]\n"
     ]
    },
    {
     "name": "stdout",
     "output_type": "stream",
     "text": [
      "expansion_features=300_layers=5_dataset=majajhong_xavier_uniform\n"
     ]
    },
    {
     "name": "stderr",
     "output_type": "stream",
     "text": [
      "100%|███████████████████████████████████| 2/2 [00:00<00:00,  8.41it/s]\n"
     ]
    },
    {
     "name": "stdout",
     "output_type": "stream",
     "text": [
      "expansion_features=300_layers=5_dataset=majajhong_xavier_normal\n"
     ]
    },
    {
     "name": "stderr",
     "output_type": "stream",
     "text": [
      "100%|███████████████████████████████████| 2/2 [00:00<00:00,  8.39it/s]\n"
     ]
    },
    {
     "name": "stdout",
     "output_type": "stream",
     "text": [
      "expansion_features=300_layers=5_dataset=majajhong_uniform\n"
     ]
    },
    {
     "name": "stderr",
     "output_type": "stream",
     "text": [
      "100%|███████████████████████████████████| 2/2 [00:00<00:00,  8.60it/s]\n"
     ]
    },
    {
     "name": "stdout",
     "output_type": "stream",
     "text": [
      "expansion_features=300_layers=5_dataset=majajhong_normal\n"
     ]
    },
    {
     "name": "stderr",
     "output_type": "stream",
     "text": [
      "100%|███████████████████████████████████| 2/2 [00:00<00:00,  8.62it/s]\n"
     ]
    },
    {
     "name": "stdout",
     "output_type": "stream",
     "text": [
      "expansion_features=3000_layers=5_dataset=majajhong\n"
     ]
    },
    {
     "name": "stderr",
     "output_type": "stream",
     "text": [
      "100%|███████████████████████████████████| 2/2 [00:00<00:00,  8.60it/s]\n"
     ]
    },
    {
     "name": "stdout",
     "output_type": "stream",
     "text": [
      "expansion_features=3000_layers=5_dataset=majajhong_kaiming_normal\n"
     ]
    },
    {
     "name": "stderr",
     "output_type": "stream",
     "text": [
      "100%|███████████████████████████████████| 2/2 [00:00<00:00,  8.55it/s]\n"
     ]
    },
    {
     "name": "stdout",
     "output_type": "stream",
     "text": [
      "expansion_features=3000_layers=5_dataset=majajhong_orthogonal\n"
     ]
    },
    {
     "name": "stderr",
     "output_type": "stream",
     "text": [
      "100%|███████████████████████████████████| 2/2 [00:00<00:00,  8.54it/s]\n"
     ]
    },
    {
     "name": "stdout",
     "output_type": "stream",
     "text": [
      "expansion_features=3000_layers=5_dataset=majajhong_xavier_uniform\n"
     ]
    },
    {
     "name": "stderr",
     "output_type": "stream",
     "text": [
      "100%|███████████████████████████████████| 2/2 [00:00<00:00,  8.59it/s]\n"
     ]
    },
    {
     "name": "stdout",
     "output_type": "stream",
     "text": [
      "expansion_features=3000_layers=5_dataset=majajhong_xavier_normal\n"
     ]
    },
    {
     "name": "stderr",
     "output_type": "stream",
     "text": [
      "100%|███████████████████████████████████| 2/2 [00:00<00:00,  8.60it/s]\n"
     ]
    },
    {
     "name": "stdout",
     "output_type": "stream",
     "text": [
      "expansion_features=3000_layers=5_dataset=majajhong_uniform\n"
     ]
    },
    {
     "name": "stderr",
     "output_type": "stream",
     "text": [
      "100%|███████████████████████████████████| 2/2 [00:00<00:00,  8.51it/s]\n"
     ]
    },
    {
     "name": "stdout",
     "output_type": "stream",
     "text": [
      "expansion_features=3000_layers=5_dataset=majajhong_normal\n"
     ]
    },
    {
     "name": "stderr",
     "output_type": "stream",
     "text": [
      "100%|███████████████████████████████████| 2/2 [00:00<00:00,  8.37it/s]\n"
     ]
    },
    {
     "name": "stdout",
     "output_type": "stream",
     "text": [
      "expansion_features=30000_layers=5_dataset=majajhong\n"
     ]
    },
    {
     "name": "stderr",
     "output_type": "stream",
     "text": [
      "100%|███████████████████████████████████| 2/2 [00:00<00:00,  8.50it/s]\n"
     ]
    },
    {
     "name": "stdout",
     "output_type": "stream",
     "text": [
      "expansion_features=30000_layers=5_dataset=majajhong_kaiming_normal\n"
     ]
    },
    {
     "name": "stderr",
     "output_type": "stream",
     "text": [
      "100%|███████████████████████████████████| 2/2 [00:00<00:00,  8.45it/s]\n"
     ]
    },
    {
     "name": "stdout",
     "output_type": "stream",
     "text": [
      "expansion_features=30000_layers=5_dataset=majajhong_orthogonal\n"
     ]
    },
    {
     "name": "stderr",
     "output_type": "stream",
     "text": [
      "100%|███████████████████████████████████| 2/2 [00:00<00:00,  8.54it/s]\n"
     ]
    },
    {
     "name": "stdout",
     "output_type": "stream",
     "text": [
      "expansion_features=30000_layers=5_dataset=majajhong_xavier_uniform\n"
     ]
    },
    {
     "name": "stderr",
     "output_type": "stream",
     "text": [
      "100%|███████████████████████████████████| 2/2 [00:00<00:00,  8.61it/s]\n"
     ]
    },
    {
     "name": "stdout",
     "output_type": "stream",
     "text": [
      "expansion_features=30000_layers=5_dataset=majajhong_xavier_normal\n"
     ]
    },
    {
     "name": "stderr",
     "output_type": "stream",
     "text": [
      "100%|███████████████████████████████████| 2/2 [00:00<00:00,  8.53it/s]\n"
     ]
    },
    {
     "name": "stdout",
     "output_type": "stream",
     "text": [
      "expansion_features=30000_layers=5_dataset=majajhong_uniform\n"
     ]
    },
    {
     "name": "stderr",
     "output_type": "stream",
     "text": [
      "100%|███████████████████████████████████| 2/2 [00:00<00:00,  8.40it/s]\n"
     ]
    },
    {
     "name": "stdout",
     "output_type": "stream",
     "text": [
      "expansion_features=30000_layers=5_dataset=majajhong_normal\n"
     ]
    },
    {
     "name": "stderr",
     "output_type": "stream",
     "text": [
      "100%|███████████████████████████████████| 2/2 [00:00<00:00,  8.36it/s]\n"
     ]
    },
    {
     "name": "stdout",
     "output_type": "stream",
     "text": [
      "expansion_features=3_layers=5_dataset=majajhong\n"
     ]
    },
    {
     "name": "stderr",
     "output_type": "stream",
     "text": [
      "100%|███████████████████████████████████| 2/2 [00:00<00:00,  8.49it/s]\n"
     ]
    },
    {
     "name": "stdout",
     "output_type": "stream",
     "text": [
      "expansion_features=3_layers=5_dataset=majajhong_kaiming_normal\n"
     ]
    },
    {
     "name": "stderr",
     "output_type": "stream",
     "text": [
      "100%|███████████████████████████████████| 2/2 [00:00<00:00,  8.37it/s]\n"
     ]
    },
    {
     "name": "stdout",
     "output_type": "stream",
     "text": [
      "expansion_features=3_layers=5_dataset=majajhong_orthogonal\n"
     ]
    },
    {
     "name": "stderr",
     "output_type": "stream",
     "text": [
      "100%|███████████████████████████████████| 2/2 [00:00<00:00,  8.54it/s]\n"
     ]
    },
    {
     "name": "stdout",
     "output_type": "stream",
     "text": [
      "expansion_features=3_layers=5_dataset=majajhong_xavier_uniform\n"
     ]
    },
    {
     "name": "stderr",
     "output_type": "stream",
     "text": [
      "100%|███████████████████████████████████| 2/2 [00:00<00:00,  8.59it/s]\n"
     ]
    },
    {
     "name": "stdout",
     "output_type": "stream",
     "text": [
      "expansion_features=3_layers=5_dataset=majajhong_xavier_normal\n"
     ]
    },
    {
     "name": "stderr",
     "output_type": "stream",
     "text": [
      "100%|███████████████████████████████████| 2/2 [00:00<00:00,  8.54it/s]\n"
     ]
    },
    {
     "name": "stdout",
     "output_type": "stream",
     "text": [
      "expansion_features=3_layers=5_dataset=majajhong_uniform\n"
     ]
    },
    {
     "name": "stderr",
     "output_type": "stream",
     "text": [
      "100%|███████████████████████████████████| 2/2 [00:00<00:00,  8.63it/s]\n"
     ]
    },
    {
     "name": "stdout",
     "output_type": "stream",
     "text": [
      "expansion_features=3_layers=5_dataset=majajhong_normal\n"
     ]
    },
    {
     "name": "stderr",
     "output_type": "stream",
     "text": [
      "100%|███████████████████████████████████| 2/2 [00:00<00:00,  8.63it/s]\n"
     ]
    },
    {
     "name": "stdout",
     "output_type": "stream",
     "text": [
      "expansion_features=30_layers=5_dataset=majajhong\n"
     ]
    },
    {
     "name": "stderr",
     "output_type": "stream",
     "text": [
      "100%|███████████████████████████████████| 2/2 [00:00<00:00,  8.56it/s]\n"
     ]
    },
    {
     "name": "stdout",
     "output_type": "stream",
     "text": [
      "expansion_features=30_layers=5_dataset=majajhong_kaiming_normal\n"
     ]
    },
    {
     "name": "stderr",
     "output_type": "stream",
     "text": [
      "100%|███████████████████████████████████| 2/2 [00:00<00:00,  8.48it/s]\n"
     ]
    },
    {
     "name": "stdout",
     "output_type": "stream",
     "text": [
      "expansion_features=30_layers=5_dataset=majajhong_orthogonal\n"
     ]
    },
    {
     "name": "stderr",
     "output_type": "stream",
     "text": [
      "100%|███████████████████████████████████| 2/2 [00:00<00:00,  8.61it/s]\n"
     ]
    },
    {
     "name": "stdout",
     "output_type": "stream",
     "text": [
      "expansion_features=30_layers=5_dataset=majajhong_xavier_uniform\n"
     ]
    },
    {
     "name": "stderr",
     "output_type": "stream",
     "text": [
      "100%|███████████████████████████████████| 2/2 [00:00<00:00,  8.58it/s]\n"
     ]
    },
    {
     "name": "stdout",
     "output_type": "stream",
     "text": [
      "expansion_features=30_layers=5_dataset=majajhong_xavier_normal\n"
     ]
    },
    {
     "name": "stderr",
     "output_type": "stream",
     "text": [
      "100%|███████████████████████████████████| 2/2 [00:00<00:00,  8.54it/s]\n"
     ]
    },
    {
     "name": "stdout",
     "output_type": "stream",
     "text": [
      "expansion_features=30_layers=5_dataset=majajhong_uniform\n"
     ]
    },
    {
     "name": "stderr",
     "output_type": "stream",
     "text": [
      "100%|███████████████████████████████████| 2/2 [00:00<00:00,  8.31it/s]\n"
     ]
    },
    {
     "name": "stdout",
     "output_type": "stream",
     "text": [
      "expansion_features=30_layers=5_dataset=majajhong_normal\n"
     ]
    },
    {
     "name": "stderr",
     "output_type": "stream",
     "text": [
      "100%|███████████████████████████████████| 2/2 [00:00<00:00,  8.54it/s]\n"
     ]
    },
    {
     "name": "stdout",
     "output_type": "stream",
     "text": [
      "expansion_features=300_layers=5_dataset=majajhong\n"
     ]
    },
    {
     "name": "stderr",
     "output_type": "stream",
     "text": [
      "100%|███████████████████████████████████| 2/2 [00:00<00:00,  8.60it/s]\n"
     ]
    },
    {
     "name": "stdout",
     "output_type": "stream",
     "text": [
      "expansion_features=300_layers=5_dataset=majajhong_kaiming_normal\n"
     ]
    },
    {
     "name": "stderr",
     "output_type": "stream",
     "text": [
      "100%|███████████████████████████████████| 2/2 [00:00<00:00,  8.51it/s]\n"
     ]
    },
    {
     "name": "stdout",
     "output_type": "stream",
     "text": [
      "expansion_features=300_layers=5_dataset=majajhong_orthogonal\n"
     ]
    },
    {
     "name": "stderr",
     "output_type": "stream",
     "text": [
      "100%|███████████████████████████████████| 2/2 [00:00<00:00,  8.59it/s]\n"
     ]
    },
    {
     "name": "stdout",
     "output_type": "stream",
     "text": [
      "expansion_features=300_layers=5_dataset=majajhong_xavier_uniform\n"
     ]
    },
    {
     "name": "stderr",
     "output_type": "stream",
     "text": [
      "100%|███████████████████████████████████| 2/2 [00:00<00:00,  8.43it/s]\n"
     ]
    },
    {
     "name": "stdout",
     "output_type": "stream",
     "text": [
      "expansion_features=300_layers=5_dataset=majajhong_xavier_normal\n"
     ]
    },
    {
     "name": "stderr",
     "output_type": "stream",
     "text": [
      "100%|███████████████████████████████████| 2/2 [00:00<00:00,  8.57it/s]\n"
     ]
    },
    {
     "name": "stdout",
     "output_type": "stream",
     "text": [
      "expansion_features=300_layers=5_dataset=majajhong_uniform\n"
     ]
    },
    {
     "name": "stderr",
     "output_type": "stream",
     "text": [
      "100%|███████████████████████████████████| 2/2 [00:00<00:00,  8.59it/s]\n"
     ]
    },
    {
     "name": "stdout",
     "output_type": "stream",
     "text": [
      "expansion_features=300_layers=5_dataset=majajhong_normal\n"
     ]
    },
    {
     "name": "stderr",
     "output_type": "stream",
     "text": [
      "100%|███████████████████████████████████| 2/2 [00:00<00:00,  8.56it/s]\n"
     ]
    },
    {
     "name": "stdout",
     "output_type": "stream",
     "text": [
      "expansion_features=3000_layers=5_dataset=majajhong\n"
     ]
    },
    {
     "name": "stderr",
     "output_type": "stream",
     "text": [
      "100%|███████████████████████████████████| 2/2 [00:00<00:00,  8.59it/s]\n"
     ]
    },
    {
     "name": "stdout",
     "output_type": "stream",
     "text": [
      "expansion_features=3000_layers=5_dataset=majajhong_kaiming_normal\n"
     ]
    },
    {
     "name": "stderr",
     "output_type": "stream",
     "text": [
      "100%|███████████████████████████████████| 2/2 [00:00<00:00,  8.55it/s]\n"
     ]
    },
    {
     "name": "stdout",
     "output_type": "stream",
     "text": [
      "expansion_features=3000_layers=5_dataset=majajhong_orthogonal\n"
     ]
    },
    {
     "name": "stderr",
     "output_type": "stream",
     "text": [
      "100%|███████████████████████████████████| 2/2 [00:00<00:00,  8.66it/s]\n"
     ]
    },
    {
     "name": "stdout",
     "output_type": "stream",
     "text": [
      "expansion_features=3000_layers=5_dataset=majajhong_xavier_uniform\n"
     ]
    },
    {
     "name": "stderr",
     "output_type": "stream",
     "text": [
      "100%|███████████████████████████████████| 2/2 [00:00<00:00,  8.54it/s]\n"
     ]
    },
    {
     "name": "stdout",
     "output_type": "stream",
     "text": [
      "expansion_features=3000_layers=5_dataset=majajhong_xavier_normal\n"
     ]
    },
    {
     "name": "stderr",
     "output_type": "stream",
     "text": [
      "100%|███████████████████████████████████| 2/2 [00:00<00:00,  8.61it/s]\n"
     ]
    },
    {
     "name": "stdout",
     "output_type": "stream",
     "text": [
      "expansion_features=3000_layers=5_dataset=majajhong_uniform\n"
     ]
    },
    {
     "name": "stderr",
     "output_type": "stream",
     "text": [
      "100%|███████████████████████████████████| 2/2 [00:00<00:00,  8.64it/s]\n"
     ]
    },
    {
     "name": "stdout",
     "output_type": "stream",
     "text": [
      "expansion_features=3000_layers=5_dataset=majajhong_normal\n"
     ]
    },
    {
     "name": "stderr",
     "output_type": "stream",
     "text": [
      "100%|███████████████████████████████████| 2/2 [00:00<00:00,  8.63it/s]\n"
     ]
    },
    {
     "name": "stdout",
     "output_type": "stream",
     "text": [
      "expansion_features=30000_layers=5_dataset=majajhong\n"
     ]
    },
    {
     "name": "stderr",
     "output_type": "stream",
     "text": [
      "100%|███████████████████████████████████| 2/2 [00:00<00:00,  8.56it/s]\n"
     ]
    },
    {
     "name": "stdout",
     "output_type": "stream",
     "text": [
      "expansion_features=30000_layers=5_dataset=majajhong_kaiming_normal\n"
     ]
    },
    {
     "name": "stderr",
     "output_type": "stream",
     "text": [
      "100%|███████████████████████████████████| 2/2 [00:00<00:00,  8.55it/s]\n"
     ]
    },
    {
     "name": "stdout",
     "output_type": "stream",
     "text": [
      "expansion_features=30000_layers=5_dataset=majajhong_orthogonal\n"
     ]
    },
    {
     "name": "stderr",
     "output_type": "stream",
     "text": [
      "100%|███████████████████████████████████| 2/2 [00:00<00:00,  8.63it/s]\n"
     ]
    },
    {
     "name": "stdout",
     "output_type": "stream",
     "text": [
      "expansion_features=30000_layers=5_dataset=majajhong_xavier_uniform\n"
     ]
    },
    {
     "name": "stderr",
     "output_type": "stream",
     "text": [
      "100%|███████████████████████████████████| 2/2 [00:00<00:00,  8.55it/s]\n"
     ]
    },
    {
     "name": "stdout",
     "output_type": "stream",
     "text": [
      "expansion_features=30000_layers=5_dataset=majajhong_xavier_normal\n"
     ]
    },
    {
     "name": "stderr",
     "output_type": "stream",
     "text": [
      "100%|███████████████████████████████████| 2/2 [00:00<00:00,  8.54it/s]\n"
     ]
    },
    {
     "name": "stdout",
     "output_type": "stream",
     "text": [
      "expansion_features=30000_layers=5_dataset=majajhong_uniform\n"
     ]
    },
    {
     "name": "stderr",
     "output_type": "stream",
     "text": [
      "100%|███████████████████████████████████| 2/2 [00:00<00:00,  8.60it/s]\n"
     ]
    },
    {
     "name": "stdout",
     "output_type": "stream",
     "text": [
      "expansion_features=30000_layers=5_dataset=majajhong_normal\n"
     ]
    },
    {
     "name": "stderr",
     "output_type": "stream",
     "text": [
      "100%|███████████████████████████████████| 2/2 [00:00<00:00,  8.55it/s]\n"
     ]
    }
   ],
   "source": [
    "#dataset = 'naturalscenes'\n",
    "dataset = 'majajhong'\n",
    "info_dict = DATASET_INFO_DICT[dataset]\n",
    "\n",
    "\n",
    "n_rows = info_dict['test_data_size']\n",
    "all_sampled_indices = np.random.choice(n_rows, (1000, n_rows), replace=True) # Sample indices for all bootstraps at once\n",
    "\n",
    "for region in info_dict['regions']:\n",
    "     \n",
    "    # engineered models \n",
    "    get_bootstrap_data(models= ['expansion'],\n",
    "                        features=[3,30,300,3000,30000],\n",
    "                        dataset=dataset, \n",
    "                        subjects=info_dict['subjects'],\n",
    "                        init_types=['kaiming_uniform','kaiming_normal','orthogonal',\n",
    "                                    'xavier_uniform','xavier_normal','uniform','normal'],\n",
    "                        layers = 5,\n",
    "                        file_name = 'init-type',\n",
    "                        region='IT',\n",
    "                        all_sampled_indices=all_sampled_indices)"
   ]
  },
  {
   "cell_type": "markdown",
   "id": "6dd948ae-2c85-4d0d-9179-834b25293258",
   "metadata": {},
   "source": [
    "#### load bootstrap data"
   ]
  },
  {
   "cell_type": "code",
   "execution_count": 30,
   "id": "e290a704-91f5-4ad9-a91a-be3597fe399f",
   "metadata": {},
   "outputs": [],
   "source": [
    "DATASET = 'majajhong' # one of ['majajhong', 'naturalscenes']\n",
    "region = 'IT' # for majajhong: [V4,IT], for naturalscenes: [early visual stream, midventral visual stream, ventral visual stream]"
   ]
  },
  {
   "cell_type": "code",
   "execution_count": 31,
   "id": "4e120f1e-d122-4c2a-9660-572daa1d7dff",
   "metadata": {},
   "outputs": [],
   "source": [
    "with open(os.path.join(PATH_TO_BOOTSTRAP,f'bootstrap-results-init-type-{DATASET}-{region}-df.pkl'), 'rb') as file:\n",
    "    df = pickle.load(file)"
   ]
  },
  {
   "cell_type": "code",
   "execution_count": 32,
   "id": "38502b21-2894-44b6-aa80-d03917373b38",
   "metadata": {},
   "outputs": [],
   "source": [
    "palette = {         \n",
    "    'kaiming uniform':'royalblue',\n",
    "    'normal':'gold',\n",
    "    'kaiming normal':'indianred',\n",
    "    'xavier uniform':'mediumslateblue',\n",
    "    'orthogonal':'mediumseagreen',\n",
    "    'uniform':'pink',\n",
    "    'xavier normal':'purple'\n",
    "}\n",
    "\n",
    "df['features'] = df['features'].apply(lambda x: int(x))\n",
    "df['init_type'] = df['init_type'].apply(lambda x: x.replace('_',' '))\n",
    "df['color'] = df['init_type'].map(palette)"
   ]
  },
  {
   "cell_type": "code",
   "execution_count": 34,
   "id": "a06d2bc3-144e-4e58-95f5-7ab4a7bcf00c",
   "metadata": {},
   "outputs": [
    {
     "data": {
      "image/png": "[encoded data removed]",
      "text/plain": [
       "<Figure size 800x800 with 1 Axes>"
      ]
     },
     "metadata": {},
     "output_type": "display_data"
    }
   ],
   "source": [
    "# main results\n",
    "rcParams['figure.figsize'] = (8,8)  \n",
    "\n",
    "# main plot\n",
    "ax1 = sns.lineplot(data = df, x='features', y='score', hue='init_type', marker='o',palette = palette)\n",
    "\n",
    "# adding error bars for the 95% confidence interval\n",
    "for i in range(len(df)):\n",
    "    plt.errorbar(df['features'][i], df['score'][i], \n",
    "                 yerr=[[df['score'][i] - df['lower'][i]], \n",
    "                       [df['upper'][i] - df['score'][i]]], \n",
    "                 fmt='none', capsize=5, color=df['color'][i])\n",
    "\n",
    "\n",
    "plt.xlabel('')\n",
    "plt.ylabel('')\n",
    "plt.ylim(0,0.65)\n",
    "plt.xticks(size=15)\n",
    "plt.yticks(size=15)\n",
    "ax1.set_xscale(\"log\")    \n",
    "ax1.legend(frameon=False,fontsize=12)\n",
    "plt.savefig(f'init_{DATASET}_{region}.png', dpi=200) \n",
    "plt.show()"
   ]
  },
  {
   "cell_type": "code",
   "execution_count": null,
   "id": "39a8bef0-2c61-4d58-80a0-4d6ca48cb148",
   "metadata": {},
   "outputs": [],
   "source": []
  }
 ],
 "metadata": {
  "kernelspec": {
   "display_name": "Python 3 (ipykernel)",
   "language": "python",
   "name": "python3"
  },
  "language_info": {
   "codemirror_mode": {
    "name": "ipython",
    "version": 3
   },
   "file_extension": ".py",
   "mimetype": "text/x-python",
   "name": "python",
   "nbconvert_exporter": "python",
   "pygments_lexer": "ipython3",
   "version": "3.10.13"
  }
 },
 "nbformat": 4,
 "nbformat_minor": 5
}
