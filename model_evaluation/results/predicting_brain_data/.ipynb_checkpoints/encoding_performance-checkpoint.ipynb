{
 "cells": [
  {
   "cell_type": "code",
   "execution_count": 2,
   "id": "518ac500-1d45-47c2-9ee4-64ca4b810244",
   "metadata": {},
   "outputs": [],
   "source": [
    "import os\n",
    "import sys\n",
    "ROOT = os.getenv('BONNER_ROOT_PATH')\n",
    "sys.path.append(ROOT)\n",
    "from image_tools.loading import load_image_paths, get_image_labels\n",
    "from config import CACHE, NSD_SAMPLE_IMAGES\n",
    "import pandas as pd\n",
    "import xarray as xr\n",
    "import matplotlib.pyplot as plt\n",
    "import seaborn as sns\n",
    "from matplotlib import rcParams\n",
    "import torch\n",
    "import numpy as np\n",
    "from model_evaluation.predicting_brain_data.benchmarks.majajhong import load_majaj_data\n",
    "from model_evaluation.predicting_brain_data.benchmarks.nsd import load_nsd_data\n",
    "from model_evaluation.predicting_brain_data.benchmarks.nsd import filter_activations\n",
    "\n",
    "\n",
    "import pickle\n",
    "from config import CACHE, NSD_NEURAL_DATA      \n",
    "SHARED_IDS_PATH = os.path.join(ROOT, 'image_tools','nsd_ids_shared')\n",
    "SHARED_IDS = pickle.load(open(SHARED_IDS_PATH, 'rb'))\n",
    "SHARED_IDS = [image_id.strip('.png') for image_id in SHARED_IDS]"
   ]
  },
  {
   "cell_type": "code",
   "execution_count": 3,
   "id": "3e35f09c-3bce-49fe-85f9-332d738c4237",
   "metadata": {},
   "outputs": [],
   "source": [
    "import numpy as np\n",
    "from scipy.spatial.distance import pdist, squareform\n",
    "from scipy.stats import spearmanr\n",
    "\n",
    "def compute_similarity_matrix(features):\n",
    "    \"\"\"\n",
    "    Compute the similarity matrix (using Pearson correlation) for a set of features.\n",
    "    \"\"\"\n",
    "    # Compute the pairwise distances (using correlation) and convert to similarity\n",
    "    return 1 - squareform(pdist(features, 'correlation'))\n",
    "\n",
    "def rsa(features1, features2):\n",
    "    \"\"\"\n",
    "    Perform Representational Similarity Analysis between two sets of features.\n",
    "    \"\"\"\n",
    "    # Compute similarity matrices for both sets of features\n",
    "    sim_matrix_1 = compute_similarity_matrix(features1)\n",
    "    sim_matrix_2 = compute_similarity_matrix(features2)\n",
    "\n",
    "    # Flatten the upper triangular part of the matrices\n",
    "    upper_tri_indices = np.triu_indices_from(sim_matrix_1, k=1)\n",
    "    sim_matrix_1_flat = sim_matrix_1[upper_tri_indices]\n",
    "    sim_matrix_2_flat = sim_matrix_2[upper_tri_indices]\n",
    "\n",
    "    # Compute the Spearman correlation between the flattened matrices\n",
    "    correlation, p_value = spearmanr(sim_matrix_1_flat, sim_matrix_2_flat)\n",
    "\n",
    "    return correlation, p_value\n",
    "\n",
    "# Example usage\n",
    "# features1 and features2 should be numpy arrays of shape (n_images, n_features)\n",
    "# features1 = ...\n",
    "# features2 = ...\n",
    "\n",
    "# correlation, p_value = rsa(features1, features2)\n",
    "# print(\"RSA Correlation:\", correlation)\n",
    "# print(\"P-value:\", p_value)\n"
   ]
  },
  {
   "cell_type": "code",
   "execution_count": 4,
   "id": "d7bad801-57da-49d4-a580-c6ec58e340ef",
   "metadata": {},
   "outputs": [],
   "source": [
    "# features1 = torch.Tensor(xr.open_dataset('/data/atlas/.cache/activations/expansion_features=3000_layers=5_dataset=naturalscenes').x.values).cuda()\n",
    "# features2 =  torch.Tensor(xr.open_dataset('/data/atlas/.cache/activations/alexnet_conv5_layers=5_features=256_gpool=False_dataset=naturalscenes').x.values).cuda()\n",
    "# rsa(features1, features2)"
   ]
  },
  {
   "cell_type": "code",
   "execution_count": 5,
   "id": "d0253eb0-afbe-4f34-a325-42981bede96f",
   "metadata": {},
   "outputs": [],
   "source": [
    "# import os\n",
    "\n",
    "# # Replace 'old_filename.ext' with the current file name\n",
    "# # and 'new_filename.ext' with the new file name you want.\n",
    "# p = '/data/atlas/.cache/beta_predictions'\n",
    "\n",
    "# dataset = 'majajhong'\n",
    "# # dataset = 'naturalscenes'\n",
    "# layers = 5\n",
    "# features = 3\n",
    "\n",
    "# regions = ['V4','IT']\n",
    "# # regions = ['early visual stream','midventral visual stream','ventral visual stream']\n",
    "# for region in regions:\n",
    "    \n",
    "#     for i in ['Tito','Chabo']:\n",
    "    \n",
    "#         new_name = f'expansion_features={features}_layers={layers}_dataset={dataset}_{region}_{i}.pkl'\n",
    "#         old_name = f'expansion_{features}_dataset={dataset}_{region}_{i}.pkl'\n",
    "#         # Renaming the file\n",
    "#         os.rename(os.path.join(p,old_name), os.path.join(p,new_name))\n",
    "    "
   ]
  },
  {
   "cell_type": "code",
   "execution_count": 6,
   "id": "1b08d819-922d-41d8-b09f-fae3d788efbe",
   "metadata": {},
   "outputs": [],
   "source": [
    "import torch\n",
    "\n",
    "def pearson_r_(x, y):\n",
    "    \"\"\"\n",
    "    Compute Pearson correlation coefficients for batches of bootstrap samples.\n",
    "\n",
    "    Parameters:\n",
    "    x (torch.Tensor): A 3D tensor of shape (n_bootstraps, n_samples, n_features).\n",
    "    y (torch.Tensor): A 3D tensor of shape (n_bootstraps, n_samples, n_features).\n",
    "\n",
    "    Returns:\n",
    "    torch.Tensor: 1D tensor of Pearson correlation coefficients for each bootstrap.\n",
    "    \"\"\"\n",
    "    # Ensure the input tensors are of the same shape\n",
    "    if x.shape != y.shape:\n",
    "        raise ValueError(\"Input tensors must have the same shape\")\n",
    "\n",
    "    # Mean-centering the data\n",
    "    x_mean = torch.mean(x, dim=2, keepdim=True)\n",
    "    y_mean = torch.mean(y, dim=2, keepdim=True)\n",
    "    x = x - x_mean\n",
    "    y = y - y_mean\n",
    "\n",
    "    # Calculating Pearson Correlation Coefficient\n",
    "    sum_sq_x = torch.sum(x ** 2, axis=2)\n",
    "    sum_sq_y = torch.sum(y ** 2, axis=2)\n",
    "    sum_coproduct = torch.sum(x * y, axis=2)\n",
    "    denominator = torch.sqrt(sum_sq_x * sum_sq_y)\n",
    "\n",
    "    # Avoid division by zero\n",
    "    denominator = torch.where(denominator != 0, denominator, torch.ones_like(denominator))\n",
    "\n",
    "    r_values = sum_coproduct / denominator\n",
    "\n",
    "    # Average across the samples in each bootstrap\n",
    "    mean_r_values = torch.mean(r_values, axis=1)\n",
    "\n",
    "    return mean_r_values\n"
   ]
  },
  {
   "cell_type": "code",
   "execution_count": 7,
   "id": "826460bc-f6f3-457d-b479-8dbe66353c60",
   "metadata": {},
   "outputs": [],
   "source": [
    "def make_pandas_df(identifier, subjects, features=None, names=None):\n",
    "    \n",
    "    df = pd.DataFrame()\n",
    "    index = 0        \n",
    "    \n",
    "    data = xr.open_dataset(os.path.join(CACHE,'encoding_scores_torch',identifier), engine='h5netcdf')\n",
    "\n",
    "    for subject in subjects:\n",
    "        subject_data = data.where(data.subject == subject, drop=True)\n",
    "        mean_r = subject_data.r_value.values.mean()\n",
    "\n",
    "        df_tmp =  pd.DataFrame({'score':mean_r,\n",
    "                                'iden':identifier,\n",
    "                                'subject':subject},index=[index])\n",
    "        if features is not None:\n",
    "            df_tmp['features'] = str(features)\n",
    "        \n",
    "        if names is not None:\n",
    "            df_tmp['names'] = names\n",
    "            \n",
    "        df = pd.concat([df,df_tmp])\n",
    "        index+=1\n",
    "\n",
    "    return df"
   ]
  },
  {
   "cell_type": "code",
   "execution_count": 8,
   "id": "c78c00ff-b8d4-4d1c-b2c6-f5da1d824810",
   "metadata": {},
   "outputs": [],
   "source": [
    "def make_pandas_df_30k(identifier, subjects, region, features=None, names=None):\n",
    "    \n",
    "    df = pd.DataFrame()\n",
    "    index = 0        \n",
    "    \n",
    "    for subject in subjects:\n",
    "        \n",
    "        subject_data = xr.open_dataset(f'/data/atlas/.cache/encoding_scores_torch/expansion_30000_dataset=naturalscenes_subject={subject}_{region}', \n",
    "                                  engine='netcdf4')\n",
    "        mean_r = subject_data.r_value.values.mean()\n",
    "\n",
    "        df_tmp =  pd.DataFrame({'score':mean_r,\n",
    "                                'iden':identifier,\n",
    "                                'subject':subject},index=[index])\n",
    "        if features is not None:\n",
    "            df_tmp['features'] = str(features*36)\n",
    "        \n",
    "        if names is not None:\n",
    "            df_tmp['names'] = names\n",
    "            \n",
    "        df = pd.concat([df,df_tmp])\n",
    "        index+=1\n",
    "\n",
    "    return df"
   ]
  },
  {
   "cell_type": "code",
   "execution_count": 9,
   "id": "a777e580-c1d0-4ef7-ad71-664e37e25c8e",
   "metadata": {},
   "outputs": [],
   "source": [
    "#xr.open_dataset('/data/atlas/.cache/activations/expansion_30000_dataset=naturalscenes_subject=1').x.values[:5]"
   ]
  },
  {
   "cell_type": "markdown",
   "id": "7778a91a-ffaf-4aab-bdc0-b65fb29a6557",
   "metadata": {
    "tags": []
   },
   "source": [
    "# Bootstrap"
   ]
  },
  {
   "cell_type": "markdown",
   "id": "7744a945-aa8d-4ae3-864e-ec54708ce296",
   "metadata": {},
   "source": [
    "engineered mdoels"
   ]
  },
  {
   "cell_type": "code",
   "execution_count": 10,
   "id": "4b36f9d2-a397-4fd1-9051-e65ac1691e88",
   "metadata": {},
   "outputs": [],
   "source": [
    "import pickle\n",
    "from model_features.models.models import load_iden\n",
    "from model_evaluation.predicting_brain_data.benchmarks.nsd import load_nsd_data\n",
    "from model_evaluation.predicting_brain_data.benchmarks.majajhong import load_majaj_data\n",
    "from model_evaluation.predicting_brain_data.regression.regression import pearson_r\n",
    "from tqdm import tqdm\n",
    "import numpy as np\n",
    "\n",
    "PREDS_PATH = '/data/atlas/.cache/beta_predictions'"
   ]
  },
  {
   "cell_type": "code",
   "execution_count": 47,
   "id": "68925e47-0cbc-4226-abe2-e8150c0eaeed",
   "metadata": {},
   "outputs": [],
   "source": [
    "def get_bootstrap_data(models,features, layers, dataset, region, all_sampled_indices, batch_size=50, n_bootstraps=1000):\n",
    "\n",
    "\n",
    "    if dataset == 'naturalscenes':\n",
    "        SUBJECTS = [i for i in range(8)]\n",
    "    elif dataset == 'majajhong':\n",
    "        SUBJECTS = ['Chabo','Tito']\n",
    "    else:\n",
    "        print('unknown dataset')\n",
    "    \n",
    "    \n",
    "    data_dict = {'model':[],'features':[],'subject':[],'score':[], 'lower':[],'upper':[]}\n",
    "    mean_scores = []\n",
    "    lower_bound = []\n",
    "    upper_bound = []              \n",
    "\n",
    "\n",
    "\n",
    "    if 'alexnet' in models:\n",
    "        file_name = 'alexnet'\n",
    "    else:\n",
    "        file_name = 'engineered'\n",
    "        \n",
    "    \n",
    "    for features in features:\n",
    "\n",
    "        print(features)\n",
    "\n",
    "        for model_name in models:\n",
    "\n",
    "                print(model_name)\n",
    "\n",
    "                activations_identifier = load_iden(model_name=model_name, features=features, layers=layers, dataset=dataset)\n",
    "\n",
    "                score_sum = np.zeros(n_bootstraps)\n",
    "                #bootstrap_dist = []\n",
    "\n",
    "                for subject in tqdm(SUBJECTS):\n",
    "\n",
    "                        # load preds and y_true\n",
    "                        r_values = []\n",
    "                        with open(os.path.join(PREDS_PATH,f'{activations_identifier}_{region}_{subject}.pkl'), 'rb') as file:\n",
    "                            preds = torch.Tensor(pickle.load(file))\n",
    "\n",
    "                        if dataset == 'naturalscenes':\n",
    "                            ids_test, neural_data_test, var_name_test = load_nsd_data(mode ='shared', subject = subject, region = region)           \n",
    "                            test = torch.Tensor(neural_data_test[var_name_test].values)\n",
    "\n",
    "                        else:\n",
    "                            test = load_majaj_data(subject, region, 'test')\n",
    "                            \n",
    "                        \n",
    "                        # Vectorized bootstrapping\n",
    "                        all_sampled_preds = preds[all_sampled_indices]\n",
    "                        all_sampled_tests = test[all_sampled_indices]\n",
    "\n",
    "                        i = 0\n",
    "                        batch = batch_size\n",
    "                        while i < n_bootstraps:\n",
    "                            # Compute Pearson r for all bootstraps at once\n",
    "                            mean_r_values = pearson_r_(all_sampled_tests[i:i+batch,:,:].cuda(), \n",
    "                                                       all_sampled_preds[i:i+batch,:,:].cuda())\n",
    "                            r_values.extend(mean_r_values.tolist())\n",
    "                            i += batch\n",
    "\n",
    "                        score_sum += r_values\n",
    "                        #bootstrap_dist.extend(r_values)\n",
    "\n",
    "                bootstrap_dist = score_sum/len(SUBJECTS)\n",
    "\n",
    "                data_dict['model'].append(model_name)\n",
    "                #data_dict['subject'].append(subject)\n",
    "                data_dict['features'].append(str(features))\n",
    "                data_dict['score'].append(np.mean(bootstrap_dist))\n",
    "                data_dict['lower'].append(np.percentile(bootstrap_dist, 2.5))\n",
    "                data_dict['upper'].append(np.percentile(bootstrap_dist, 97.5))\n",
    "\n",
    "\n",
    "    df = pd.DataFrame.from_dict(data_dict)\n",
    "    \n",
    "    with open(f'bootstrap-results-{file_name}-{dataset}-{region}-df.pkl', 'wb') as file:\n",
    "        pickle.dump(df,file)\n",
    "        \n",
    "    return df"
   ]
  },
  {
   "cell_type": "code",
   "execution_count": 48,
   "id": "0f09523a-0af2-4904-be74-46a2d51fd8a3",
   "metadata": {},
   "outputs": [
    {
     "name": "stdout",
     "output_type": "stream",
     "text": [
      "3\n",
      "expansion\n"
     ]
    },
    {
     "name": "stderr",
     "output_type": "stream",
     "text": [
      "100%|████████████████████████████████████████████████████████████████| 2/2 [00:00<00:00,  3.87it/s]\n"
     ]
    },
    {
     "name": "stdout",
     "output_type": "stream",
     "text": [
      "expansion_linear\n"
     ]
    },
    {
     "name": "stderr",
     "output_type": "stream",
     "text": [
      "100%|████████████████████████████████████████████████████████████████| 2/2 [00:00<00:00,  5.11it/s]\n"
     ]
    },
    {
     "name": "stdout",
     "output_type": "stream",
     "text": [
      "fully_connected\n"
     ]
    },
    {
     "name": "stderr",
     "output_type": "stream",
     "text": [
      "100%|████████████████████████████████████████████████████████████████| 2/2 [00:00<00:00,  5.36it/s]\n"
     ]
    },
    {
     "name": "stdout",
     "output_type": "stream",
     "text": [
      "30\n",
      "expansion\n"
     ]
    },
    {
     "name": "stderr",
     "output_type": "stream",
     "text": [
      "100%|████████████████████████████████████████████████████████████████| 2/2 [00:00<00:00,  5.71it/s]\n"
     ]
    },
    {
     "name": "stdout",
     "output_type": "stream",
     "text": [
      "expansion_linear\n"
     ]
    },
    {
     "name": "stderr",
     "output_type": "stream",
     "text": [
      "100%|████████████████████████████████████████████████████████████████| 2/2 [00:00<00:00,  5.07it/s]\n"
     ]
    },
    {
     "name": "stdout",
     "output_type": "stream",
     "text": [
      "fully_connected\n"
     ]
    },
    {
     "name": "stderr",
     "output_type": "stream",
     "text": [
      "100%|████████████████████████████████████████████████████████████████| 2/2 [00:00<00:00,  5.68it/s]\n"
     ]
    },
    {
     "name": "stdout",
     "output_type": "stream",
     "text": [
      "300\n",
      "expansion\n"
     ]
    },
    {
     "name": "stderr",
     "output_type": "stream",
     "text": [
      "100%|████████████████████████████████████████████████████████████████| 2/2 [00:00<00:00,  4.62it/s]\n"
     ]
    },
    {
     "name": "stdout",
     "output_type": "stream",
     "text": [
      "expansion_linear\n"
     ]
    },
    {
     "name": "stderr",
     "output_type": "stream",
     "text": [
      "100%|████████████████████████████████████████████████████████████████| 2/2 [00:00<00:00,  4.99it/s]\n"
     ]
    },
    {
     "name": "stdout",
     "output_type": "stream",
     "text": [
      "fully_connected\n"
     ]
    },
    {
     "name": "stderr",
     "output_type": "stream",
     "text": [
      "100%|████████████████████████████████████████████████████████████████| 2/2 [00:00<00:00,  4.70it/s]\n"
     ]
    },
    {
     "name": "stdout",
     "output_type": "stream",
     "text": [
      "3000\n",
      "expansion\n"
     ]
    },
    {
     "name": "stderr",
     "output_type": "stream",
     "text": [
      "100%|████████████████████████████████████████████████████████████████| 2/2 [00:00<00:00,  5.46it/s]\n"
     ]
    },
    {
     "name": "stdout",
     "output_type": "stream",
     "text": [
      "expansion_linear\n"
     ]
    },
    {
     "name": "stderr",
     "output_type": "stream",
     "text": [
      "100%|████████████████████████████████████████████████████████████████| 2/2 [00:00<00:00,  4.64it/s]\n"
     ]
    },
    {
     "name": "stdout",
     "output_type": "stream",
     "text": [
      "fully_connected\n"
     ]
    },
    {
     "name": "stderr",
     "output_type": "stream",
     "text": [
      "100%|████████████████████████████████████████████████████████████████| 2/2 [00:00<00:00,  4.54it/s]\n"
     ]
    },
    {
     "ename": "ValueError",
     "evalue": "All arrays must be of the same length",
     "output_type": "error",
     "traceback": [
      "\u001b[0;31m---------------------------------------------------------------------------\u001b[0m",
      "\u001b[0;31mValueError\u001b[0m                                Traceback (most recent call last)",
      "Cell \u001b[0;32mIn[48], line 15\u001b[0m\n\u001b[1;32m     10\u001b[0m all_sampled_indices \u001b[38;5;241m=\u001b[39m np\u001b[38;5;241m.\u001b[39mrandom\u001b[38;5;241m.\u001b[39mchoice(n_rows, (n_bootstraps, n_rows), replace\u001b[38;5;241m=\u001b[39m\u001b[38;5;28;01mTrue\u001b[39;00m) \u001b[38;5;66;03m# Sample indices for all bootstraps at once\u001b[39;00m\n\u001b[1;32m     13\u001b[0m \u001b[38;5;28;01mfor\u001b[39;00m region \u001b[38;5;129;01min\u001b[39;00m REGIONS:\n\u001b[0;32m---> 15\u001b[0m     df_engineered \u001b[38;5;241m=\u001b[39m \u001b[43mget_bootstrap_data\u001b[49m\u001b[43m(\u001b[49m\u001b[43mmodels\u001b[49m\u001b[38;5;241;43m=\u001b[39;49m\u001b[43m \u001b[49m\u001b[43m[\u001b[49m\u001b[38;5;124;43m'\u001b[39;49m\u001b[38;5;124;43mexpansion\u001b[39;49m\u001b[38;5;124;43m'\u001b[39;49m\u001b[43m,\u001b[49m\u001b[38;5;124;43m'\u001b[39;49m\u001b[38;5;124;43mexpansion_linear\u001b[39;49m\u001b[38;5;124;43m'\u001b[39;49m\u001b[43m,\u001b[49m\u001b[38;5;124;43m'\u001b[39;49m\u001b[38;5;124;43mfully_connected\u001b[39;49m\u001b[38;5;124;43m'\u001b[39;49m\u001b[43m]\u001b[49m\u001b[43m,\u001b[49m\n\u001b[1;32m     16\u001b[0m \u001b[43m                            \u001b[49m\u001b[43mfeatures\u001b[49m\u001b[38;5;241;43m=\u001b[39;49m\u001b[43m[\u001b[49m\u001b[38;5;241;43m3\u001b[39;49m\u001b[43m,\u001b[49m\u001b[38;5;241;43m30\u001b[39;49m\u001b[43m,\u001b[49m\u001b[38;5;241;43m300\u001b[39;49m\u001b[43m,\u001b[49m\u001b[38;5;241;43m3000\u001b[39;49m\u001b[43m]\u001b[49m\u001b[43m,\u001b[49m\n\u001b[1;32m     17\u001b[0m \u001b[43m                            \u001b[49m\u001b[43mdataset\u001b[49m\u001b[38;5;241;43m=\u001b[39;49m\u001b[43mDATASET\u001b[49m\u001b[43m,\u001b[49m\u001b[43m \u001b[49m\n\u001b[1;32m     18\u001b[0m \u001b[43m                            \u001b[49m\u001b[43mlayers\u001b[49m\u001b[43m \u001b[49m\u001b[38;5;241;43m=\u001b[39;49m\u001b[43m \u001b[49m\u001b[38;5;241;43m5\u001b[39;49m\u001b[43m,\u001b[49m\n\u001b[1;32m     19\u001b[0m \u001b[43m                            \u001b[49m\u001b[43mregion\u001b[49m\u001b[38;5;241;43m=\u001b[39;49m\u001b[43mregion\u001b[49m\u001b[43m,\u001b[49m\n\u001b[1;32m     20\u001b[0m \u001b[43m                            \u001b[49m\u001b[43mn_bootstraps\u001b[49m\u001b[43m \u001b[49m\u001b[38;5;241;43m=\u001b[39;49m\u001b[43m \u001b[49m\u001b[43mn_bootstraps\u001b[49m\u001b[43m,\u001b[49m\n\u001b[1;32m     21\u001b[0m \u001b[43m                            \u001b[49m\u001b[43mall_sampled_indices\u001b[49m\u001b[38;5;241;43m=\u001b[39;49m\u001b[43mall_sampled_indices\u001b[49m\u001b[43m)\u001b[49m\n\u001b[1;32m     23\u001b[0m     df_alexnet \u001b[38;5;241m=\u001b[39m get_bootstrap_data(models\u001b[38;5;241m=\u001b[39m[\u001b[38;5;124m'\u001b[39m\u001b[38;5;124malexnet\u001b[39m\u001b[38;5;124m'\u001b[39m],\n\u001b[1;32m     24\u001b[0m                                     features\u001b[38;5;241m=\u001b[39m[\u001b[38;5;28;01mNone\u001b[39;00m],\n\u001b[1;32m     25\u001b[0m                                     dataset\u001b[38;5;241m=\u001b[39mDATASET, \n\u001b[0;32m   (...)\u001b[0m\n\u001b[1;32m     28\u001b[0m                                     region\u001b[38;5;241m=\u001b[39mregion,\n\u001b[1;32m     29\u001b[0m                                     all_sampled_indices\u001b[38;5;241m=\u001b[39mall_sampled_indices)\n",
      "Cell \u001b[0;32mIn[47], line 79\u001b[0m, in \u001b[0;36mget_bootstrap_data\u001b[0;34m(models, features, layers, dataset, region, all_sampled_indices, batch_size, n_bootstraps)\u001b[0m\n\u001b[1;32m     75\u001b[0m             data_dict[\u001b[38;5;124m'\u001b[39m\u001b[38;5;124mlower\u001b[39m\u001b[38;5;124m'\u001b[39m]\u001b[38;5;241m.\u001b[39mappend(np\u001b[38;5;241m.\u001b[39mpercentile(r_values, \u001b[38;5;241m2.5\u001b[39m))\n\u001b[1;32m     76\u001b[0m             data_dict[\u001b[38;5;124m'\u001b[39m\u001b[38;5;124mupper\u001b[39m\u001b[38;5;124m'\u001b[39m]\u001b[38;5;241m.\u001b[39mappend(np\u001b[38;5;241m.\u001b[39mpercentile(r_values, \u001b[38;5;241m97.5\u001b[39m))\n\u001b[0;32m---> 79\u001b[0m df \u001b[38;5;241m=\u001b[39m \u001b[43mpd\u001b[49m\u001b[38;5;241;43m.\u001b[39;49m\u001b[43mDataFrame\u001b[49m\u001b[38;5;241;43m.\u001b[39;49m\u001b[43mfrom_dict\u001b[49m\u001b[43m(\u001b[49m\u001b[43mdata_dict\u001b[49m\u001b[43m)\u001b[49m\n\u001b[1;32m     81\u001b[0m \u001b[38;5;28;01mwith\u001b[39;00m \u001b[38;5;28mopen\u001b[39m(\u001b[38;5;124mf\u001b[39m\u001b[38;5;124m'\u001b[39m\u001b[38;5;124mbootstrap-results-\u001b[39m\u001b[38;5;132;01m{\u001b[39;00mfile_name\u001b[38;5;132;01m}\u001b[39;00m\u001b[38;5;124m-\u001b[39m\u001b[38;5;132;01m{\u001b[39;00mdataset\u001b[38;5;132;01m}\u001b[39;00m\u001b[38;5;124m-\u001b[39m\u001b[38;5;132;01m{\u001b[39;00mregion\u001b[38;5;132;01m}\u001b[39;00m\u001b[38;5;124m-df.pkl\u001b[39m\u001b[38;5;124m'\u001b[39m, \u001b[38;5;124m'\u001b[39m\u001b[38;5;124mwb\u001b[39m\u001b[38;5;124m'\u001b[39m) \u001b[38;5;28;01mas\u001b[39;00m file:\n\u001b[1;32m     82\u001b[0m     pickle\u001b[38;5;241m.\u001b[39mdump(df,file)\n",
      "File \u001b[0;32m~/miniconda3/envs/bonner-lab-new/lib/python3.10/site-packages/pandas/core/frame.py:1764\u001b[0m, in \u001b[0;36mDataFrame.from_dict\u001b[0;34m(cls, data, orient, dtype, columns)\u001b[0m\n\u001b[1;32m   1758\u001b[0m     \u001b[38;5;28;01mraise\u001b[39;00m \u001b[38;5;167;01mValueError\u001b[39;00m(\n\u001b[1;32m   1759\u001b[0m         \u001b[38;5;124mf\u001b[39m\u001b[38;5;124m\"\u001b[39m\u001b[38;5;124mExpected \u001b[39m\u001b[38;5;124m'\u001b[39m\u001b[38;5;124mindex\u001b[39m\u001b[38;5;124m'\u001b[39m\u001b[38;5;124m, \u001b[39m\u001b[38;5;124m'\u001b[39m\u001b[38;5;124mcolumns\u001b[39m\u001b[38;5;124m'\u001b[39m\u001b[38;5;124m or \u001b[39m\u001b[38;5;124m'\u001b[39m\u001b[38;5;124mtight\u001b[39m\u001b[38;5;124m'\u001b[39m\u001b[38;5;124m for orient parameter. \u001b[39m\u001b[38;5;124m\"\u001b[39m\n\u001b[1;32m   1760\u001b[0m         \u001b[38;5;124mf\u001b[39m\u001b[38;5;124m\"\u001b[39m\u001b[38;5;124mGot \u001b[39m\u001b[38;5;124m'\u001b[39m\u001b[38;5;132;01m{\u001b[39;00morient\u001b[38;5;132;01m}\u001b[39;00m\u001b[38;5;124m'\u001b[39m\u001b[38;5;124m instead\u001b[39m\u001b[38;5;124m\"\u001b[39m\n\u001b[1;32m   1761\u001b[0m     )\n\u001b[1;32m   1763\u001b[0m \u001b[38;5;28;01mif\u001b[39;00m orient \u001b[38;5;241m!=\u001b[39m \u001b[38;5;124m\"\u001b[39m\u001b[38;5;124mtight\u001b[39m\u001b[38;5;124m\"\u001b[39m:\n\u001b[0;32m-> 1764\u001b[0m     \u001b[38;5;28;01mreturn\u001b[39;00m \u001b[38;5;28;43mcls\u001b[39;49m\u001b[43m(\u001b[49m\u001b[43mdata\u001b[49m\u001b[43m,\u001b[49m\u001b[43m \u001b[49m\u001b[43mindex\u001b[49m\u001b[38;5;241;43m=\u001b[39;49m\u001b[43mindex\u001b[49m\u001b[43m,\u001b[49m\u001b[43m \u001b[49m\u001b[43mcolumns\u001b[49m\u001b[38;5;241;43m=\u001b[39;49m\u001b[43mcolumns\u001b[49m\u001b[43m,\u001b[49m\u001b[43m \u001b[49m\u001b[43mdtype\u001b[49m\u001b[38;5;241;43m=\u001b[39;49m\u001b[43mdtype\u001b[49m\u001b[43m)\u001b[49m\n\u001b[1;32m   1765\u001b[0m \u001b[38;5;28;01melse\u001b[39;00m:\n\u001b[1;32m   1766\u001b[0m     realdata \u001b[38;5;241m=\u001b[39m data[\u001b[38;5;124m\"\u001b[39m\u001b[38;5;124mdata\u001b[39m\u001b[38;5;124m\"\u001b[39m]\n",
      "File \u001b[0;32m~/miniconda3/envs/bonner-lab-new/lib/python3.10/site-packages/pandas/core/frame.py:664\u001b[0m, in \u001b[0;36mDataFrame.__init__\u001b[0;34m(self, data, index, columns, dtype, copy)\u001b[0m\n\u001b[1;32m    658\u001b[0m     mgr \u001b[38;5;241m=\u001b[39m \u001b[38;5;28mself\u001b[39m\u001b[38;5;241m.\u001b[39m_init_mgr(\n\u001b[1;32m    659\u001b[0m         data, axes\u001b[38;5;241m=\u001b[39m{\u001b[38;5;124m\"\u001b[39m\u001b[38;5;124mindex\u001b[39m\u001b[38;5;124m\"\u001b[39m: index, \u001b[38;5;124m\"\u001b[39m\u001b[38;5;124mcolumns\u001b[39m\u001b[38;5;124m\"\u001b[39m: columns}, dtype\u001b[38;5;241m=\u001b[39mdtype, copy\u001b[38;5;241m=\u001b[39mcopy\n\u001b[1;32m    660\u001b[0m     )\n\u001b[1;32m    662\u001b[0m \u001b[38;5;28;01melif\u001b[39;00m \u001b[38;5;28misinstance\u001b[39m(data, \u001b[38;5;28mdict\u001b[39m):\n\u001b[1;32m    663\u001b[0m     \u001b[38;5;66;03m# GH#38939 de facto copy defaults to False only in non-dict cases\u001b[39;00m\n\u001b[0;32m--> 664\u001b[0m     mgr \u001b[38;5;241m=\u001b[39m \u001b[43mdict_to_mgr\u001b[49m\u001b[43m(\u001b[49m\u001b[43mdata\u001b[49m\u001b[43m,\u001b[49m\u001b[43m \u001b[49m\u001b[43mindex\u001b[49m\u001b[43m,\u001b[49m\u001b[43m \u001b[49m\u001b[43mcolumns\u001b[49m\u001b[43m,\u001b[49m\u001b[43m \u001b[49m\u001b[43mdtype\u001b[49m\u001b[38;5;241;43m=\u001b[39;49m\u001b[43mdtype\u001b[49m\u001b[43m,\u001b[49m\u001b[43m \u001b[49m\u001b[43mcopy\u001b[49m\u001b[38;5;241;43m=\u001b[39;49m\u001b[43mcopy\u001b[49m\u001b[43m,\u001b[49m\u001b[43m \u001b[49m\u001b[43mtyp\u001b[49m\u001b[38;5;241;43m=\u001b[39;49m\u001b[43mmanager\u001b[49m\u001b[43m)\u001b[49m\n\u001b[1;32m    665\u001b[0m \u001b[38;5;28;01melif\u001b[39;00m \u001b[38;5;28misinstance\u001b[39m(data, ma\u001b[38;5;241m.\u001b[39mMaskedArray):\n\u001b[1;32m    666\u001b[0m     \u001b[38;5;28;01mimport\u001b[39;00m \u001b[38;5;21;01mnumpy\u001b[39;00m\u001b[38;5;21;01m.\u001b[39;00m\u001b[38;5;21;01mma\u001b[39;00m\u001b[38;5;21;01m.\u001b[39;00m\u001b[38;5;21;01mmrecords\u001b[39;00m \u001b[38;5;28;01mas\u001b[39;00m \u001b[38;5;21;01mmrecords\u001b[39;00m\n",
      "File \u001b[0;32m~/miniconda3/envs/bonner-lab-new/lib/python3.10/site-packages/pandas/core/internals/construction.py:493\u001b[0m, in \u001b[0;36mdict_to_mgr\u001b[0;34m(data, index, columns, dtype, typ, copy)\u001b[0m\n\u001b[1;32m    489\u001b[0m     \u001b[38;5;28;01melse\u001b[39;00m:\n\u001b[1;32m    490\u001b[0m         \u001b[38;5;66;03m# dtype check to exclude e.g. range objects, scalars\u001b[39;00m\n\u001b[1;32m    491\u001b[0m         arrays \u001b[38;5;241m=\u001b[39m [x\u001b[38;5;241m.\u001b[39mcopy() \u001b[38;5;28;01mif\u001b[39;00m \u001b[38;5;28mhasattr\u001b[39m(x, \u001b[38;5;124m\"\u001b[39m\u001b[38;5;124mdtype\u001b[39m\u001b[38;5;124m\"\u001b[39m) \u001b[38;5;28;01melse\u001b[39;00m x \u001b[38;5;28;01mfor\u001b[39;00m x \u001b[38;5;129;01min\u001b[39;00m arrays]\n\u001b[0;32m--> 493\u001b[0m \u001b[38;5;28;01mreturn\u001b[39;00m \u001b[43marrays_to_mgr\u001b[49m\u001b[43m(\u001b[49m\u001b[43marrays\u001b[49m\u001b[43m,\u001b[49m\u001b[43m \u001b[49m\u001b[43mcolumns\u001b[49m\u001b[43m,\u001b[49m\u001b[43m \u001b[49m\u001b[43mindex\u001b[49m\u001b[43m,\u001b[49m\u001b[43m \u001b[49m\u001b[43mdtype\u001b[49m\u001b[38;5;241;43m=\u001b[39;49m\u001b[43mdtype\u001b[49m\u001b[43m,\u001b[49m\u001b[43m \u001b[49m\u001b[43mtyp\u001b[49m\u001b[38;5;241;43m=\u001b[39;49m\u001b[43mtyp\u001b[49m\u001b[43m,\u001b[49m\u001b[43m \u001b[49m\u001b[43mconsolidate\u001b[49m\u001b[38;5;241;43m=\u001b[39;49m\u001b[43mcopy\u001b[49m\u001b[43m)\u001b[49m\n",
      "File \u001b[0;32m~/miniconda3/envs/bonner-lab-new/lib/python3.10/site-packages/pandas/core/internals/construction.py:118\u001b[0m, in \u001b[0;36marrays_to_mgr\u001b[0;34m(arrays, columns, index, dtype, verify_integrity, typ, consolidate)\u001b[0m\n\u001b[1;32m    115\u001b[0m \u001b[38;5;28;01mif\u001b[39;00m verify_integrity:\n\u001b[1;32m    116\u001b[0m     \u001b[38;5;66;03m# figure out the index, if necessary\u001b[39;00m\n\u001b[1;32m    117\u001b[0m     \u001b[38;5;28;01mif\u001b[39;00m index \u001b[38;5;129;01mis\u001b[39;00m \u001b[38;5;28;01mNone\u001b[39;00m:\n\u001b[0;32m--> 118\u001b[0m         index \u001b[38;5;241m=\u001b[39m \u001b[43m_extract_index\u001b[49m\u001b[43m(\u001b[49m\u001b[43marrays\u001b[49m\u001b[43m)\u001b[49m\n\u001b[1;32m    119\u001b[0m     \u001b[38;5;28;01melse\u001b[39;00m:\n\u001b[1;32m    120\u001b[0m         index \u001b[38;5;241m=\u001b[39m ensure_index(index)\n",
      "File \u001b[0;32m~/miniconda3/envs/bonner-lab-new/lib/python3.10/site-packages/pandas/core/internals/construction.py:666\u001b[0m, in \u001b[0;36m_extract_index\u001b[0;34m(data)\u001b[0m\n\u001b[1;32m    664\u001b[0m lengths \u001b[38;5;241m=\u001b[39m \u001b[38;5;28mlist\u001b[39m(\u001b[38;5;28mset\u001b[39m(raw_lengths))\n\u001b[1;32m    665\u001b[0m \u001b[38;5;28;01mif\u001b[39;00m \u001b[38;5;28mlen\u001b[39m(lengths) \u001b[38;5;241m>\u001b[39m \u001b[38;5;241m1\u001b[39m:\n\u001b[0;32m--> 666\u001b[0m     \u001b[38;5;28;01mraise\u001b[39;00m \u001b[38;5;167;01mValueError\u001b[39;00m(\u001b[38;5;124m\"\u001b[39m\u001b[38;5;124mAll arrays must be of the same length\u001b[39m\u001b[38;5;124m\"\u001b[39m)\n\u001b[1;32m    668\u001b[0m \u001b[38;5;28;01mif\u001b[39;00m have_dicts:\n\u001b[1;32m    669\u001b[0m     \u001b[38;5;28;01mraise\u001b[39;00m \u001b[38;5;167;01mValueError\u001b[39;00m(\n\u001b[1;32m    670\u001b[0m         \u001b[38;5;124m\"\u001b[39m\u001b[38;5;124mMixing dicts with non-Series may lead to ambiguous ordering.\u001b[39m\u001b[38;5;124m\"\u001b[39m\n\u001b[1;32m    671\u001b[0m     )\n",
      "\u001b[0;31mValueError\u001b[0m: All arrays must be of the same length"
     ]
    }
   ],
   "source": [
    "# DATASET = 'naturalscenes'\n",
    "# REGIONS = ['early visual stream']#, 'midventral visual stream']#'V1-4','ventral visual stream',\n",
    "\n",
    "DATASET = 'majajhong'\n",
    "REGIONS = ['V4','IT']\n",
    "\n",
    "\n",
    "n_bootstraps = 1000  \n",
    "n_rows = 872 if DATASET=='naturalscenes' else 640\n",
    "all_sampled_indices = np.random.choice(n_rows, (n_bootstraps, n_rows), replace=True) # Sample indices for all bootstraps at once\n",
    "\n",
    "\n",
    "for region in REGIONS:\n",
    "    \n",
    "    df_engineered = get_bootstrap_data(models= ['expansion','expansion_linear','fully_connected'],\n",
    "                            features=[3,30,300,3000],\n",
    "                            dataset=DATASET, \n",
    "                            layers = 5,\n",
    "                            region=region,\n",
    "                            n_bootstraps = n_bootstraps,\n",
    "                            all_sampled_indices=all_sampled_indices)\n",
    "    \n",
    "    df_alexnet = get_bootstrap_data(models=['alexnet'],\n",
    "                                    features=[None],\n",
    "                                    dataset=DATASET, \n",
    "                                    layers='best',\n",
    "                                    n_bootstraps = n_bootstraps,\n",
    "                                    region=region,\n",
    "                                    all_sampled_indices=all_sampled_indices)"
   ]
  },
  {
   "cell_type": "code",
   "execution_count": null,
   "id": "99bffa3a-d923-4623-b9c5-ee2260382df5",
   "metadata": {},
   "outputs": [],
   "source": [
    "region = 'IT'"
   ]
  },
  {
   "cell_type": "code",
   "execution_count": 29,
   "id": "31a7868b-743c-44b9-84f6-448c8a397102",
   "metadata": {},
   "outputs": [],
   "source": [
    "path = '/home/akazemi3/Desktop/untrained_models_of_visual_cortex/model_evaluation/results/predicting_brain_data'\n",
    "#load data\n",
    "with open(os.path.join(path,f'bootstrap-results-engineered-{DATASET}-{region}-df.pkl'), 'rb') as file:\n",
    "    df_engineered = pickle.load(file)\n",
    "    \n",
    "with open(os.path.join(path,f'bootstrap-results-alexnet-{dataset}-{region}-df.pkl'), 'rb') as file:\n",
    "    df_alexnet = pickle.load(file)  "
   ]
  },
  {
   "cell_type": "code",
   "execution_count": 139,
   "id": "17ee03f1-d414-4e74-93da-0d20fbc18fb8",
   "metadata": {},
   "outputs": [],
   "source": [
    "new_data = pd.concat([pd.DataFrame.from_dict(old_data),df_engineered]).reset_index(drop=True)\n",
    "with open(f'bootstrap-results-engineered-{DATASET}-{region}_df.pkl', 'wb') as file:\n",
    "    pickle.dump(new_data,file)"
   ]
  },
  {
   "cell_type": "code",
   "execution_count": 140,
   "id": "aa6e6be4-f49f-47c5-8570-5c6ce1b52927",
   "metadata": {},
   "outputs": [],
   "source": [
    "# # untrained alexnet \n",
    "\n",
    "\n",
    "# activations_identifier = load_iden(model_name='alexnet_untrained', features=None, layers='best', dataset=dataset)\n",
    "# r_values = []\n",
    "# for subject in ['Tito','Chabo']:\n",
    "\n",
    "#         # load preds and y_true\n",
    "#         with open(os.path.join(PREDS_PATH,f'{activations_identifier}_{region}_{subject}.pkl'), 'rb') as file:\n",
    "#             preds = torch.Tensor(pickle.load(file))\n",
    "\n",
    "#         # ids_test, neural_data_test, var_name_test = load_nsd_data(mode ='shared', subject = subject, region = region)           \n",
    "#         # test = torch.Tensor(neural_data_test[var_name_test].values)\n",
    "#         test = load_majaj_data(subject= subject, region= region, mode = 'test')\n",
    "\n",
    "#         r_values.append(pearson_r_(test.unsqueeze(dim=0).cuda(),preds.unsqueeze(dim=0).cuda()))\n",
    "\n",
    "# untrained_alexnet = (sum(r_values)/len(r_values))[0].cpu()"
   ]
  },
  {
   "cell_type": "markdown",
   "id": "c4c52a38-9aec-4fd3-91c5-a98484e562bb",
   "metadata": {
    "jp-MarkdownHeadingCollapsed": true,
    "tags": []
   },
   "source": [
    "# Main Results"
   ]
  },
  {
   "cell_type": "code",
   "execution_count": 141,
   "id": "82f5c01f-f827-4e8a-9e5d-8d56a619a2e2",
   "metadata": {},
   "outputs": [],
   "source": [
    "df = new_data.copy()\n",
    "df['features'] = df['features'].apply(lambda x: int(x)*36)\n",
    "\n",
    "names ={'expansion':'Expansion','ViT_base':'ViT Base','ViT_large':'ViT Large','fully_connected':'Fully Connected'}\n",
    "df['model'] = df['model'].map(names)\n",
    "\n",
    "palette ={'Expansion':'seagreen','ViT Base':'pink','ViT Large':'purple','Fully Connected':'tab:red'}\n",
    "df['color'] = df['model'].map(palette)\n",
    "df = df.dropna().reset_index()"
   ]
  },
  {
   "cell_type": "code",
   "execution_count": 143,
   "id": "6eab0eae-1e05-4dfd-9a1b-2d9430a9d0c3",
   "metadata": {},
   "outputs": [
    {
     "data": {
      "image/png": "[encoded data removed]",
      "text/plain": [
       "<Figure size 1100x1100 with 1 Axes>"
      ]
     },
     "metadata": {},
     "output_type": "display_data"
    }
   ],
   "source": [
    "# main results\n",
    "rcParams['figure.figsize'] = (7,7)  \n",
    "\n",
    "ax1 = sns.lineplot(data = df, x='features', y='score', hue='model', marker='o',palette = palette)\n",
    "sns.lineplot(data = df, x='features', y='score', hue='model', marker='o',palette = palette)\n",
    "\n",
    "# Adding error bars for the 95% confidence interval\n",
    "for i in range(len(df)):\n",
    "    plt.errorbar(df['features'][i], df['score'][i], \n",
    "                 yerr=[[df['score'][i] - df['lower'][i]], [df['upper'][i] - df['score'][i]]], \n",
    "                 fmt='none', capsize=5, color=df['color'][i])\n",
    "    \n",
    "# alexnet results\n",
    "plt.axhline(y=data_alexnet['score'], color='royalblue', linestyle='--', label='AlexNet')\n",
    "plt.fill_between(np.arange(df['features'].min()/3,df['features'].max()*3), data_alexnet['lower'], data_alexnet['upper'], color='royalblue', alpha=0.2)\n",
    "\n",
    "#plt.axhline(y=untrained_alexnet, color='grey', linestyle='--', label='Untrained AlexNet')\n",
    "\n",
    "plt.xlabel('Number of Features',size=12)\n",
    "plt.ylabel('Encoding Score',size=12)\n",
    "plt.ylim(0,0.65)\n",
    "plt.xlim(df['features'].min()/2,df['features'].max()*2)\n",
    "\n",
    "plt.xticks(size=15)\n",
    "plt.yticks(size=15)\n",
    "ax1.set_xscale(\"log\")    \n",
    "    \n",
    "#plt.legend()\n",
    "ax1.legend(frameon=False,fontsize=12)\n",
    "#ax1.legend_.remove()\n",
    "\n",
    "plt.savefig(f'main_results_{dataset}_{region}.png', dpi=200) \n",
    "plt.show()"
   ]
  },
  {
   "cell_type": "markdown",
   "id": "0c393ddc-7884-492f-ba36-99b0e26fef12",
   "metadata": {
    "tags": []
   },
   "source": [
    "# Effect of regression"
   ]
  },
  {
   "cell_type": "code",
   "execution_count": 49,
   "id": "30784aae-b500-40b2-a0fc-55b818b4e7d1",
   "metadata": {},
   "outputs": [],
   "source": [
    "DATASET = 'majajhong'\n",
    "region= 'V4'"
   ]
  },
  {
   "cell_type": "code",
   "execution_count": 50,
   "id": "5fcd196c-112d-4851-a2a5-fa1bd9eba8bb",
   "metadata": {},
   "outputs": [],
   "source": [
    "path = '/home/akazemi3/Desktop/untrained_models_of_visual_cortex/model_evaluation/results/predicting_brain_data'\n",
    "#load data\n",
    "with open(os.path.join(path,f'bootstrap-results-engineered-{DATASET}-{region}-df.pkl'), 'rb') as file:\n",
    "    df_engineered = pickle.load(file)\n",
    "    \n",
    "with open(os.path.join(path,f'bootstrap-results-alexnet-{DATASET}-{region}-df.pkl'), 'rb') as file:\n",
    "    df_alexnet = pickle.load(file)  "
   ]
  },
  {
   "cell_type": "code",
   "execution_count": 53,
   "id": "c29ee855-92ac-4f50-a93a-cdbf996c0388",
   "metadata": {},
   "outputs": [
    {
     "data": {
      "text/html": [
       "<div>\n",
       "<style scoped>\n",
       "    .dataframe tbody tr th:only-of-type {\n",
       "        vertical-align: middle;\n",
       "    }\n",
       "\n",
       "    .dataframe tbody tr th {\n",
       "        vertical-align: top;\n",
       "    }\n",
       "\n",
       "    .dataframe thead th {\n",
       "        text-align: right;\n",
       "    }\n",
       "</style>\n",
       "<table border=\"1\" class=\"dataframe\">\n",
       "  <thead>\n",
       "    <tr style=\"text-align: right;\">\n",
       "      <th></th>\n",
       "      <th>model</th>\n",
       "      <th>features</th>\n",
       "      <th>subject</th>\n",
       "      <th>score</th>\n",
       "      <th>lower</th>\n",
       "      <th>upper</th>\n",
       "    </tr>\n",
       "  </thead>\n",
       "  <tbody>\n",
       "    <tr>\n",
       "      <th>0</th>\n",
       "      <td>alexnet</td>\n",
       "      <td>None</td>\n",
       "      <td>Chabo</td>\n",
       "      <td>0.326193</td>\n",
       "      <td>0.302881</td>\n",
       "      <td>0.349712</td>\n",
       "    </tr>\n",
       "    <tr>\n",
       "      <th>1</th>\n",
       "      <td>alexnet</td>\n",
       "      <td>None</td>\n",
       "      <td>Tito</td>\n",
       "      <td>0.385393</td>\n",
       "      <td>0.363059</td>\n",
       "      <td>0.408281</td>\n",
       "    </tr>\n",
       "  </tbody>\n",
       "</table>\n",
       "</div>"
      ],
      "text/plain": [
       "     model features subject     score     lower     upper\n",
       "0  alexnet     None   Chabo  0.326193  0.302881  0.349712\n",
       "1  alexnet     None    Tito  0.385393  0.363059  0.408281"
      ]
     },
     "execution_count": 53,
     "metadata": {},
     "output_type": "execute_result"
    }
   ],
   "source": [
    "df_alexnet"
   ]
  },
  {
   "cell_type": "code",
   "execution_count": 51,
   "id": "b5dd664e-0b1d-43f9-9ac0-f54aecf81187",
   "metadata": {},
   "outputs": [],
   "source": [
    "df_engineered['features'] = df_engineered['features'].apply(lambda x: int(x)*36)\n",
    "\n",
    "names ={'expansion':'Expansion','expansion_linear':'Expansion Linear',}\n",
    "df_engineered['model'] = df_engineered['model'].map(names)\n",
    "\n",
    "palette ={'Expansion':'seagreen','Expansion Linear':'orange'}\n",
    "df_engineered['color'] = df_engineered['model'].map(palette)\n",
    "df_engineered = df_engineered.dropna().reset_index()"
   ]
  },
  {
   "cell_type": "code",
   "execution_count": 52,
   "id": "bf863fbc-d2fe-4419-ae99-c0b3293853a2",
   "metadata": {},
   "outputs": [
    {
     "ename": "ValueError",
     "evalue": "The truth value of a Series is ambiguous. Use a.empty, a.bool(), a.item(), a.any() or a.all().",
     "output_type": "error",
     "traceback": [
      "\u001b[0;31m---------------------------------------------------------------------------\u001b[0m",
      "\u001b[0;31mValueError\u001b[0m                                Traceback (most recent call last)",
      "Cell \u001b[0;32mIn[52], line 15\u001b[0m\n\u001b[1;32m      9\u001b[0m     plt\u001b[38;5;241m.\u001b[39merrorbar(df_engineered[\u001b[38;5;124m'\u001b[39m\u001b[38;5;124mfeatures\u001b[39m\u001b[38;5;124m'\u001b[39m][i], df_engineered[\u001b[38;5;124m'\u001b[39m\u001b[38;5;124mscore\u001b[39m\u001b[38;5;124m'\u001b[39m][i], \n\u001b[1;32m     10\u001b[0m                  yerr\u001b[38;5;241m=\u001b[39m[[df_engineered[\u001b[38;5;124m'\u001b[39m\u001b[38;5;124mscore\u001b[39m\u001b[38;5;124m'\u001b[39m][i] \u001b[38;5;241m-\u001b[39m df_engineered[\u001b[38;5;124m'\u001b[39m\u001b[38;5;124mlower\u001b[39m\u001b[38;5;124m'\u001b[39m][i]], \n\u001b[1;32m     11\u001b[0m                        [df_engineered[\u001b[38;5;124m'\u001b[39m\u001b[38;5;124mupper\u001b[39m\u001b[38;5;124m'\u001b[39m][i] \u001b[38;5;241m-\u001b[39m df_engineered[\u001b[38;5;124m'\u001b[39m\u001b[38;5;124mscore\u001b[39m\u001b[38;5;124m'\u001b[39m][i]]], \n\u001b[1;32m     12\u001b[0m                  fmt\u001b[38;5;241m=\u001b[39m\u001b[38;5;124m'\u001b[39m\u001b[38;5;124mnone\u001b[39m\u001b[38;5;124m'\u001b[39m, capsize\u001b[38;5;241m=\u001b[39m\u001b[38;5;241m5\u001b[39m, color\u001b[38;5;241m=\u001b[39mdf_engineered[\u001b[38;5;124m'\u001b[39m\u001b[38;5;124mcolor\u001b[39m\u001b[38;5;124m'\u001b[39m][i])\n\u001b[1;32m     14\u001b[0m \u001b[38;5;66;03m# alexnet results\u001b[39;00m\n\u001b[0;32m---> 15\u001b[0m \u001b[43mplt\u001b[49m\u001b[38;5;241;43m.\u001b[39;49m\u001b[43maxhline\u001b[49m\u001b[43m(\u001b[49m\u001b[43my\u001b[49m\u001b[38;5;241;43m=\u001b[39;49m\u001b[43mdf_alexnet\u001b[49m\u001b[43m[\u001b[49m\u001b[38;5;124;43m'\u001b[39;49m\u001b[38;5;124;43mscore\u001b[39;49m\u001b[38;5;124;43m'\u001b[39;49m\u001b[43m]\u001b[49m\u001b[43m,\u001b[49m\u001b[43m \u001b[49m\u001b[43mcolor\u001b[49m\u001b[38;5;241;43m=\u001b[39;49m\u001b[38;5;124;43m'\u001b[39;49m\u001b[38;5;124;43mroyalblue\u001b[39;49m\u001b[38;5;124;43m'\u001b[39;49m\u001b[43m,\u001b[49m\u001b[43m \u001b[49m\u001b[43mlinestyle\u001b[49m\u001b[38;5;241;43m=\u001b[39;49m\u001b[38;5;124;43m'\u001b[39;49m\u001b[38;5;124;43m--\u001b[39;49m\u001b[38;5;124;43m'\u001b[39;49m\u001b[43m,\u001b[49m\u001b[43m \u001b[49m\u001b[43mlabel\u001b[49m\u001b[38;5;241;43m=\u001b[39;49m\u001b[38;5;124;43m'\u001b[39;49m\u001b[38;5;124;43mAlexNet\u001b[39;49m\u001b[38;5;124;43m'\u001b[39;49m\u001b[43m)\u001b[49m\n\u001b[1;32m     16\u001b[0m plt\u001b[38;5;241m.\u001b[39mfill_between(np\u001b[38;5;241m.\u001b[39marange(df_engineered[\u001b[38;5;124m'\u001b[39m\u001b[38;5;124mfeatures\u001b[39m\u001b[38;5;124m'\u001b[39m]\u001b[38;5;241m.\u001b[39mmin()\u001b[38;5;241m/\u001b[39m\u001b[38;5;241m3\u001b[39m,df_engineered[\u001b[38;5;124m'\u001b[39m\u001b[38;5;124mfeatures\u001b[39m\u001b[38;5;124m'\u001b[39m]\u001b[38;5;241m.\u001b[39mmax()\u001b[38;5;241m*\u001b[39m\u001b[38;5;241m3\u001b[39m), \n\u001b[1;32m     17\u001b[0m                  df_alexnet[\u001b[38;5;124m'\u001b[39m\u001b[38;5;124mlower\u001b[39m\u001b[38;5;124m'\u001b[39m], \n\u001b[1;32m     18\u001b[0m                  df_alexnet[\u001b[38;5;124m'\u001b[39m\u001b[38;5;124mupper\u001b[39m\u001b[38;5;124m'\u001b[39m], \n\u001b[1;32m     19\u001b[0m                  color\u001b[38;5;241m=\u001b[39m\u001b[38;5;124m'\u001b[39m\u001b[38;5;124mroyalblue\u001b[39m\u001b[38;5;124m'\u001b[39m, alpha\u001b[38;5;241m=\u001b[39m\u001b[38;5;241m0.2\u001b[39m)\n\u001b[1;32m     21\u001b[0m \u001b[38;5;66;03m#plt.axhline(y=untrained_alexnet, color='grey', linestyle='--', label='Untrained AlexNet')\u001b[39;00m\n\u001b[1;32m     22\u001b[0m \n\u001b[1;32m     23\u001b[0m \u001b[38;5;66;03m# plt.xlabel('Number of Features',size=20)\u001b[39;00m\n\u001b[1;32m     24\u001b[0m \u001b[38;5;66;03m# plt.ylabel('Encoding Score',size=20)\u001b[39;00m\n",
      "File \u001b[0;32m~/miniconda3/envs/bonner-lab-new/lib/python3.10/site-packages/matplotlib/pyplot.py:2401\u001b[0m, in \u001b[0;36maxhline\u001b[0;34m(y, xmin, xmax, **kwargs)\u001b[0m\n\u001b[1;32m   2399\u001b[0m \u001b[38;5;129m@_copy_docstring_and_deprecators\u001b[39m(Axes\u001b[38;5;241m.\u001b[39maxhline)\n\u001b[1;32m   2400\u001b[0m \u001b[38;5;28;01mdef\u001b[39;00m \u001b[38;5;21maxhline\u001b[39m(y\u001b[38;5;241m=\u001b[39m\u001b[38;5;241m0\u001b[39m, xmin\u001b[38;5;241m=\u001b[39m\u001b[38;5;241m0\u001b[39m, xmax\u001b[38;5;241m=\u001b[39m\u001b[38;5;241m1\u001b[39m, \u001b[38;5;241m*\u001b[39m\u001b[38;5;241m*\u001b[39mkwargs):\n\u001b[0;32m-> 2401\u001b[0m     \u001b[38;5;28;01mreturn\u001b[39;00m \u001b[43mgca\u001b[49m\u001b[43m(\u001b[49m\u001b[43m)\u001b[49m\u001b[38;5;241;43m.\u001b[39;49m\u001b[43maxhline\u001b[49m\u001b[43m(\u001b[49m\u001b[43my\u001b[49m\u001b[38;5;241;43m=\u001b[39;49m\u001b[43my\u001b[49m\u001b[43m,\u001b[49m\u001b[43m \u001b[49m\u001b[43mxmin\u001b[49m\u001b[38;5;241;43m=\u001b[39;49m\u001b[43mxmin\u001b[49m\u001b[43m,\u001b[49m\u001b[43m \u001b[49m\u001b[43mxmax\u001b[49m\u001b[38;5;241;43m=\u001b[39;49m\u001b[43mxmax\u001b[49m\u001b[43m,\u001b[49m\u001b[43m \u001b[49m\u001b[38;5;241;43m*\u001b[39;49m\u001b[38;5;241;43m*\u001b[39;49m\u001b[43mkwargs\u001b[49m\u001b[43m)\u001b[49m\n",
      "File \u001b[0;32m~/miniconda3/envs/bonner-lab-new/lib/python3.10/site-packages/matplotlib/axes/_axes.py:769\u001b[0m, in \u001b[0;36mAxes.axhline\u001b[0;34m(self, y, xmin, xmax, **kwargs)\u001b[0m\n\u001b[1;32m    767\u001b[0m \u001b[38;5;66;03m# Strip away the units for comparison with non-unitized bounds.\u001b[39;00m\n\u001b[1;32m    768\u001b[0m yy, \u001b[38;5;241m=\u001b[39m \u001b[38;5;28mself\u001b[39m\u001b[38;5;241m.\u001b[39m_process_unit_info([(\u001b[38;5;124m\"\u001b[39m\u001b[38;5;124my\u001b[39m\u001b[38;5;124m\"\u001b[39m, y)], kwargs)\n\u001b[0;32m--> 769\u001b[0m scaley \u001b[38;5;241m=\u001b[39m (yy \u001b[38;5;241m<\u001b[39m ymin) \u001b[38;5;129;01mor\u001b[39;00m (yy \u001b[38;5;241m>\u001b[39m ymax)\n\u001b[1;32m    771\u001b[0m trans \u001b[38;5;241m=\u001b[39m \u001b[38;5;28mself\u001b[39m\u001b[38;5;241m.\u001b[39mget_yaxis_transform(which\u001b[38;5;241m=\u001b[39m\u001b[38;5;124m'\u001b[39m\u001b[38;5;124mgrid\u001b[39m\u001b[38;5;124m'\u001b[39m)\n\u001b[1;32m    772\u001b[0m l \u001b[38;5;241m=\u001b[39m mlines\u001b[38;5;241m.\u001b[39mLine2D([xmin, xmax], [y, y], transform\u001b[38;5;241m=\u001b[39mtrans, \u001b[38;5;241m*\u001b[39m\u001b[38;5;241m*\u001b[39mkwargs)\n",
      "File \u001b[0;32m~/miniconda3/envs/bonner-lab-new/lib/python3.10/site-packages/pandas/core/generic.py:1527\u001b[0m, in \u001b[0;36mNDFrame.__nonzero__\u001b[0;34m(self)\u001b[0m\n\u001b[1;32m   1525\u001b[0m \u001b[38;5;129m@final\u001b[39m\n\u001b[1;32m   1526\u001b[0m \u001b[38;5;28;01mdef\u001b[39;00m \u001b[38;5;21m__nonzero__\u001b[39m(\u001b[38;5;28mself\u001b[39m) \u001b[38;5;241m-\u001b[39m\u001b[38;5;241m>\u001b[39m NoReturn:\n\u001b[0;32m-> 1527\u001b[0m     \u001b[38;5;28;01mraise\u001b[39;00m \u001b[38;5;167;01mValueError\u001b[39;00m(\n\u001b[1;32m   1528\u001b[0m         \u001b[38;5;124mf\u001b[39m\u001b[38;5;124m\"\u001b[39m\u001b[38;5;124mThe truth value of a \u001b[39m\u001b[38;5;132;01m{\u001b[39;00m\u001b[38;5;28mtype\u001b[39m(\u001b[38;5;28mself\u001b[39m)\u001b[38;5;241m.\u001b[39m\u001b[38;5;18m__name__\u001b[39m\u001b[38;5;132;01m}\u001b[39;00m\u001b[38;5;124m is ambiguous. \u001b[39m\u001b[38;5;124m\"\u001b[39m\n\u001b[1;32m   1529\u001b[0m         \u001b[38;5;124m\"\u001b[39m\u001b[38;5;124mUse a.empty, a.bool(), a.item(), a.any() or a.all().\u001b[39m\u001b[38;5;124m\"\u001b[39m\n\u001b[1;32m   1530\u001b[0m     )\n",
      "\u001b[0;31mValueError\u001b[0m: The truth value of a Series is ambiguous. Use a.empty, a.bool(), a.item(), a.any() or a.all()."
     ]
    },
    {
     "data": {
      "image/png": "[encoded data removed]",
      "text/plain": [
       "<Figure size 500x500 with 1 Axes>"
      ]
     },
     "metadata": {},
     "output_type": "display_data"
    }
   ],
   "source": [
    "# main results\n",
    "rcParams['figure.figsize'] = (5,5)  \n",
    "\n",
    "ax1 = sns.lineplot(data = df_engineered, x='features', y='score', hue='model', marker='o',palette = palette)\n",
    "#sns.lineplot(data = df_engineered, x='features', y='score', hue='model', marker='o',stypalette = palette)\n",
    "\n",
    "# Adding error bars for the 95% confidence interval\n",
    "for i in range(len(df_engineered)):\n",
    "    plt.errorbar(df_engineered['features'][i], df_engineered['score'][i], \n",
    "                 yerr=[[df_engineered['score'][i] - df_engineered['lower'][i]], \n",
    "                       [df_engineered['upper'][i] - df_engineered['score'][i]]], \n",
    "                 fmt='none', capsize=5, color=df_engineered['color'][i])\n",
    "    \n",
    "# alexnet results\n",
    "plt.axhline(y=df_alexnet['score'], color='royalblue', linestyle='--', label='AlexNet')\n",
    "plt.fill_between(np.arange(df_engineered['features'].min()/3,df_engineered['features'].max()*3), \n",
    "                 df_alexnet['lower'], \n",
    "                 df_alexnet['upper'], \n",
    "                 color='royalblue', alpha=0.2)\n",
    "\n",
    "#plt.axhline(y=untrained_alexnet, color='grey', linestyle='--', label='Untrained AlexNet')\n",
    "\n",
    "# plt.xlabel('Number of Features',size=20)\n",
    "# plt.ylabel('Encoding Score',size=20)\n",
    "plt.ylim(0,0.65)\n",
    "plt.xlim(df['features'].min()/2,df['features'].max()*2)\n",
    "\n",
    "plt.xticks(size=15)\n",
    "plt.yticks(size=15)\n",
    "ax1.set_xscale(\"log\")    \n",
    "    \n",
    "#plt.legend(frameon=False,fontsize=12)\n",
    "#ax1.legend(fontsize=10,loc='upper left')\n",
    "ax1.legend_.remove()\n",
    "\n",
    "plt.savefig(f'effects_of_regression_{dataset}_{region}.png', dpi=200) \n",
    "plt.show()"
   ]
  },
  {
   "cell_type": "markdown",
   "id": "c7c5ce6d-a9f1-42ab-8141-5087f27103dc",
   "metadata": {
    "tags": []
   },
   "source": [
    "# PCA results"
   ]
  },
  {
   "cell_type": "markdown",
   "id": "f6ccdce8-8221-4ef5-a58c-e6c67d84f3bc",
   "metadata": {},
   "source": [
    "naturalscenes"
   ]
  },
  {
   "cell_type": "code",
   "execution_count": 169,
   "id": "21c3ddc3-0b95-4782-979f-68995e36f1c3",
   "metadata": {},
   "outputs": [
    {
     "ename": "FileNotFoundError",
     "evalue": "[Errno 2] Unable to open file (unable to open file: name = '/data/atlas/.cache/encoding_scores_torch/expansion_features=3000_layers=5_dataset=majajhong_IT', errno = 2, error message = 'No such file or directory', flags = 0, o_flags = 0)",
     "output_type": "error",
     "traceback": [
      "\u001b[0;31m---------------------------------------------------------------------------\u001b[0m",
      "\u001b[0;31mKeyError\u001b[0m                                  Traceback (most recent call last)",
      "File \u001b[0;32m~/miniconda3/envs/bonner-lab-new/lib/python3.10/site-packages/xarray/backends/file_manager.py:211\u001b[0m, in \u001b[0;36mCachingFileManager._acquire_with_cache_info\u001b[0;34m(self, needs_lock)\u001b[0m\n\u001b[1;32m    210\u001b[0m \u001b[38;5;28;01mtry\u001b[39;00m:\n\u001b[0;32m--> 211\u001b[0m     file \u001b[38;5;241m=\u001b[39m \u001b[38;5;28;43mself\u001b[39;49m\u001b[38;5;241;43m.\u001b[39;49m\u001b[43m_cache\u001b[49m\u001b[43m[\u001b[49m\u001b[38;5;28;43mself\u001b[39;49m\u001b[38;5;241;43m.\u001b[39;49m\u001b[43m_key\u001b[49m\u001b[43m]\u001b[49m\n\u001b[1;32m    212\u001b[0m \u001b[38;5;28;01mexcept\u001b[39;00m \u001b[38;5;167;01mKeyError\u001b[39;00m:\n",
      "File \u001b[0;32m~/miniconda3/envs/bonner-lab-new/lib/python3.10/site-packages/xarray/backends/lru_cache.py:56\u001b[0m, in \u001b[0;36mLRUCache.__getitem__\u001b[0;34m(self, key)\u001b[0m\n\u001b[1;32m     55\u001b[0m \u001b[38;5;28;01mwith\u001b[39;00m \u001b[38;5;28mself\u001b[39m\u001b[38;5;241m.\u001b[39m_lock:\n\u001b[0;32m---> 56\u001b[0m     value \u001b[38;5;241m=\u001b[39m \u001b[38;5;28;43mself\u001b[39;49m\u001b[38;5;241;43m.\u001b[39;49m\u001b[43m_cache\u001b[49m\u001b[43m[\u001b[49m\u001b[43mkey\u001b[49m\u001b[43m]\u001b[49m\n\u001b[1;32m     57\u001b[0m     \u001b[38;5;28mself\u001b[39m\u001b[38;5;241m.\u001b[39m_cache\u001b[38;5;241m.\u001b[39mmove_to_end(key)\n",
      "\u001b[0;31mKeyError\u001b[0m: [<class 'h5netcdf.core.File'>, ('/data/atlas/.cache/encoding_scores_torch/expansion_features=3000_layers=5_dataset=majajhong_IT',), 'r', (('decode_vlen_strings', True), ('invalid_netcdf', None)), 'd4e33eac-bc37-4301-a05e-2cd6077b2dc9']",
      "\nDuring handling of the above exception, another exception occurred:\n",
      "\u001b[0;31mFileNotFoundError\u001b[0m                         Traceback (most recent call last)",
      "Cell \u001b[0;32mIn[170], line 10\u001b[0m\n\u001b[1;32m      5\u001b[0m idens \u001b[38;5;241m=\u001b[39m [\u001b[38;5;124mf\u001b[39m\u001b[38;5;124m'\u001b[39m\u001b[38;5;124mexpansion_features=3000_layers=5_dataset=\u001b[39m\u001b[38;5;132;01m{\u001b[39;00mdataset\u001b[38;5;132;01m}\u001b[39;00m\u001b[38;5;124m_\u001b[39m\u001b[38;5;132;01m{\u001b[39;00mregion\u001b[38;5;132;01m}\u001b[39;00m\u001b[38;5;124m'\u001b[39m, \n\u001b[1;32m      6\u001b[0m     \u001b[38;5;124mf\u001b[39m\u001b[38;5;124m'\u001b[39m\u001b[38;5;124mexpansion_3000_dataset=\u001b[39m\u001b[38;5;132;01m{\u001b[39;00mdataset\u001b[38;5;132;01m}\u001b[39;00m\u001b[38;5;124m_principal_components_\u001b[39m\u001b[38;5;132;01m{\u001b[39;00mregion\u001b[38;5;132;01m}\u001b[39;00m\u001b[38;5;124m'\u001b[39m, \n\u001b[1;32m      7\u001b[0m         ]         \n\u001b[1;32m      9\u001b[0m \u001b[38;5;28;01mfor\u001b[39;00m iden \u001b[38;5;129;01min\u001b[39;00m idens:\n\u001b[0;32m---> 10\u001b[0m     scores\u001b[38;5;241m.\u001b[39mappend(\u001b[38;5;28mfloat\u001b[39m(\u001b[43mxr\u001b[49m\u001b[38;5;241;43m.\u001b[39;49m\u001b[43mopen_dataset\u001b[49m\u001b[43m(\u001b[49m\u001b[43mos\u001b[49m\u001b[38;5;241;43m.\u001b[39;49m\u001b[43mpath\u001b[49m\u001b[38;5;241;43m.\u001b[39;49m\u001b[43mjoin\u001b[49m\u001b[43m(\u001b[49m\u001b[43mCACHE\u001b[49m\u001b[43m,\u001b[49m\u001b[38;5;124;43m'\u001b[39;49m\u001b[38;5;124;43mencoding_scores_torch\u001b[39;49m\u001b[38;5;124;43m'\u001b[39;49m\u001b[43m,\u001b[49m\u001b[43miden\u001b[49m\u001b[43m)\u001b[49m\u001b[43m,\u001b[49m\u001b[43m \u001b[49m\n\u001b[1;32m     11\u001b[0m \u001b[43m                                        \u001b[49m\u001b[43mengine\u001b[49m\u001b[38;5;241;43m=\u001b[39;49m\u001b[38;5;124;43m'\u001b[39;49m\u001b[38;5;124;43mh5netcdf\u001b[39;49m\u001b[38;5;124;43m'\u001b[39;49m\u001b[43m)\u001b[49m\u001b[38;5;241m.\u001b[39mr_value\u001b[38;5;241m.\u001b[39mmean()))\n\u001b[1;32m     14\u001b[0m plt\u001b[38;5;241m.\u001b[39mclf()\n\u001b[1;32m     15\u001b[0m rcParams[\u001b[38;5;124m'\u001b[39m\u001b[38;5;124mfigure.figsize\u001b[39m\u001b[38;5;124m'\u001b[39m] \u001b[38;5;241m=\u001b[39m (\u001b[38;5;241m5.5\u001b[39m,\u001b[38;5;241m4\u001b[39m)  \n",
      "File \u001b[0;32m~/miniconda3/envs/bonner-lab-new/lib/python3.10/site-packages/xarray/backends/api.py:570\u001b[0m, in \u001b[0;36mopen_dataset\u001b[0;34m(filename_or_obj, engine, chunks, cache, decode_cf, mask_and_scale, decode_times, decode_timedelta, use_cftime, concat_characters, decode_coords, drop_variables, inline_array, chunked_array_type, from_array_kwargs, backend_kwargs, **kwargs)\u001b[0m\n\u001b[1;32m    558\u001b[0m decoders \u001b[38;5;241m=\u001b[39m _resolve_decoders_kwargs(\n\u001b[1;32m    559\u001b[0m     decode_cf,\n\u001b[1;32m    560\u001b[0m     open_backend_dataset_parameters\u001b[38;5;241m=\u001b[39mbackend\u001b[38;5;241m.\u001b[39mopen_dataset_parameters,\n\u001b[0;32m   (...)\u001b[0m\n\u001b[1;32m    566\u001b[0m     decode_coords\u001b[38;5;241m=\u001b[39mdecode_coords,\n\u001b[1;32m    567\u001b[0m )\n\u001b[1;32m    569\u001b[0m overwrite_encoded_chunks \u001b[38;5;241m=\u001b[39m kwargs\u001b[38;5;241m.\u001b[39mpop(\u001b[38;5;124m\"\u001b[39m\u001b[38;5;124moverwrite_encoded_chunks\u001b[39m\u001b[38;5;124m\"\u001b[39m, \u001b[38;5;28;01mNone\u001b[39;00m)\n\u001b[0;32m--> 570\u001b[0m backend_ds \u001b[38;5;241m=\u001b[39m \u001b[43mbackend\u001b[49m\u001b[38;5;241;43m.\u001b[39;49m\u001b[43mopen_dataset\u001b[49m\u001b[43m(\u001b[49m\n\u001b[1;32m    571\u001b[0m \u001b[43m    \u001b[49m\u001b[43mfilename_or_obj\u001b[49m\u001b[43m,\u001b[49m\n\u001b[1;32m    572\u001b[0m \u001b[43m    \u001b[49m\u001b[43mdrop_variables\u001b[49m\u001b[38;5;241;43m=\u001b[39;49m\u001b[43mdrop_variables\u001b[49m\u001b[43m,\u001b[49m\n\u001b[1;32m    573\u001b[0m \u001b[43m    \u001b[49m\u001b[38;5;241;43m*\u001b[39;49m\u001b[38;5;241;43m*\u001b[39;49m\u001b[43mdecoders\u001b[49m\u001b[43m,\u001b[49m\n\u001b[1;32m    574\u001b[0m \u001b[43m    \u001b[49m\u001b[38;5;241;43m*\u001b[39;49m\u001b[38;5;241;43m*\u001b[39;49m\u001b[43mkwargs\u001b[49m\u001b[43m,\u001b[49m\n\u001b[1;32m    575\u001b[0m \u001b[43m\u001b[49m\u001b[43m)\u001b[49m\n\u001b[1;32m    576\u001b[0m ds \u001b[38;5;241m=\u001b[39m _dataset_from_backend_dataset(\n\u001b[1;32m    577\u001b[0m     backend_ds,\n\u001b[1;32m    578\u001b[0m     filename_or_obj,\n\u001b[0;32m   (...)\u001b[0m\n\u001b[1;32m    588\u001b[0m     \u001b[38;5;241m*\u001b[39m\u001b[38;5;241m*\u001b[39mkwargs,\n\u001b[1;32m    589\u001b[0m )\n\u001b[1;32m    590\u001b[0m \u001b[38;5;28;01mreturn\u001b[39;00m ds\n",
      "File \u001b[0;32m~/miniconda3/envs/bonner-lab-new/lib/python3.10/site-packages/xarray/backends/h5netcdf_.py:416\u001b[0m, in \u001b[0;36mH5netcdfBackendEntrypoint.open_dataset\u001b[0;34m(self, filename_or_obj, mask_and_scale, decode_times, concat_characters, decode_coords, drop_variables, use_cftime, decode_timedelta, format, group, lock, invalid_netcdf, phony_dims, decode_vlen_strings)\u001b[0m\n\u001b[1;32m    397\u001b[0m \u001b[38;5;28;01mdef\u001b[39;00m \u001b[38;5;21mopen_dataset\u001b[39m(  \u001b[38;5;66;03m# type: ignore[override]  # allow LSP violation, not supporting **kwargs\u001b[39;00m\n\u001b[1;32m    398\u001b[0m     \u001b[38;5;28mself\u001b[39m,\n\u001b[1;32m    399\u001b[0m     filename_or_obj: \u001b[38;5;28mstr\u001b[39m \u001b[38;5;241m|\u001b[39m os\u001b[38;5;241m.\u001b[39mPathLike[Any] \u001b[38;5;241m|\u001b[39m BufferedIOBase \u001b[38;5;241m|\u001b[39m AbstractDataStore,\n\u001b[0;32m   (...)\u001b[0m\n\u001b[1;32m    413\u001b[0m     decode_vlen_strings\u001b[38;5;241m=\u001b[39m\u001b[38;5;28;01mTrue\u001b[39;00m,\n\u001b[1;32m    414\u001b[0m ) \u001b[38;5;241m-\u001b[39m\u001b[38;5;241m>\u001b[39m Dataset:\n\u001b[1;32m    415\u001b[0m     filename_or_obj \u001b[38;5;241m=\u001b[39m _normalize_path(filename_or_obj)\n\u001b[0;32m--> 416\u001b[0m     store \u001b[38;5;241m=\u001b[39m \u001b[43mH5NetCDFStore\u001b[49m\u001b[38;5;241;43m.\u001b[39;49m\u001b[43mopen\u001b[49m\u001b[43m(\u001b[49m\n\u001b[1;32m    417\u001b[0m \u001b[43m        \u001b[49m\u001b[43mfilename_or_obj\u001b[49m\u001b[43m,\u001b[49m\n\u001b[1;32m    418\u001b[0m \u001b[43m        \u001b[49m\u001b[38;5;28;43mformat\u001b[39;49m\u001b[38;5;241;43m=\u001b[39;49m\u001b[38;5;28;43mformat\u001b[39;49m\u001b[43m,\u001b[49m\n\u001b[1;32m    419\u001b[0m \u001b[43m        \u001b[49m\u001b[43mgroup\u001b[49m\u001b[38;5;241;43m=\u001b[39;49m\u001b[43mgroup\u001b[49m\u001b[43m,\u001b[49m\n\u001b[1;32m    420\u001b[0m \u001b[43m        \u001b[49m\u001b[43mlock\u001b[49m\u001b[38;5;241;43m=\u001b[39;49m\u001b[43mlock\u001b[49m\u001b[43m,\u001b[49m\n\u001b[1;32m    421\u001b[0m \u001b[43m        \u001b[49m\u001b[43minvalid_netcdf\u001b[49m\u001b[38;5;241;43m=\u001b[39;49m\u001b[43minvalid_netcdf\u001b[49m\u001b[43m,\u001b[49m\n\u001b[1;32m    422\u001b[0m \u001b[43m        \u001b[49m\u001b[43mphony_dims\u001b[49m\u001b[38;5;241;43m=\u001b[39;49m\u001b[43mphony_dims\u001b[49m\u001b[43m,\u001b[49m\n\u001b[1;32m    423\u001b[0m \u001b[43m        \u001b[49m\u001b[43mdecode_vlen_strings\u001b[49m\u001b[38;5;241;43m=\u001b[39;49m\u001b[43mdecode_vlen_strings\u001b[49m\u001b[43m,\u001b[49m\n\u001b[1;32m    424\u001b[0m \u001b[43m    \u001b[49m\u001b[43m)\u001b[49m\n\u001b[1;32m    426\u001b[0m     store_entrypoint \u001b[38;5;241m=\u001b[39m StoreBackendEntrypoint()\n\u001b[1;32m    428\u001b[0m     ds \u001b[38;5;241m=\u001b[39m store_entrypoint\u001b[38;5;241m.\u001b[39mopen_dataset(\n\u001b[1;32m    429\u001b[0m         store,\n\u001b[1;32m    430\u001b[0m         mask_and_scale\u001b[38;5;241m=\u001b[39mmask_and_scale,\n\u001b[0;32m   (...)\u001b[0m\n\u001b[1;32m    436\u001b[0m         decode_timedelta\u001b[38;5;241m=\u001b[39mdecode_timedelta,\n\u001b[1;32m    437\u001b[0m     )\n",
      "File \u001b[0;32m~/miniconda3/envs/bonner-lab-new/lib/python3.10/site-packages/xarray/backends/h5netcdf_.py:177\u001b[0m, in \u001b[0;36mH5NetCDFStore.open\u001b[0;34m(cls, filename, mode, format, group, lock, autoclose, invalid_netcdf, phony_dims, decode_vlen_strings)\u001b[0m\n\u001b[1;32m    174\u001b[0m         lock \u001b[38;5;241m=\u001b[39m combine_locks([HDF5_LOCK, get_write_lock(filename)])\n\u001b[1;32m    176\u001b[0m manager \u001b[38;5;241m=\u001b[39m CachingFileManager(h5netcdf\u001b[38;5;241m.\u001b[39mFile, filename, mode\u001b[38;5;241m=\u001b[39mmode, kwargs\u001b[38;5;241m=\u001b[39mkwargs)\n\u001b[0;32m--> 177\u001b[0m \u001b[38;5;28;01mreturn\u001b[39;00m \u001b[38;5;28;43mcls\u001b[39;49m\u001b[43m(\u001b[49m\u001b[43mmanager\u001b[49m\u001b[43m,\u001b[49m\u001b[43m \u001b[49m\u001b[43mgroup\u001b[49m\u001b[38;5;241;43m=\u001b[39;49m\u001b[43mgroup\u001b[49m\u001b[43m,\u001b[49m\u001b[43m \u001b[49m\u001b[43mmode\u001b[49m\u001b[38;5;241;43m=\u001b[39;49m\u001b[43mmode\u001b[49m\u001b[43m,\u001b[49m\u001b[43m \u001b[49m\u001b[43mlock\u001b[49m\u001b[38;5;241;43m=\u001b[39;49m\u001b[43mlock\u001b[49m\u001b[43m,\u001b[49m\u001b[43m \u001b[49m\u001b[43mautoclose\u001b[49m\u001b[38;5;241;43m=\u001b[39;49m\u001b[43mautoclose\u001b[49m\u001b[43m)\u001b[49m\n",
      "File \u001b[0;32m~/miniconda3/envs/bonner-lab-new/lib/python3.10/site-packages/xarray/backends/h5netcdf_.py:128\u001b[0m, in \u001b[0;36mH5NetCDFStore.__init__\u001b[0;34m(self, manager, group, mode, lock, autoclose)\u001b[0m\n\u001b[1;32m    125\u001b[0m \u001b[38;5;28mself\u001b[39m\u001b[38;5;241m.\u001b[39mformat \u001b[38;5;241m=\u001b[39m \u001b[38;5;28;01mNone\u001b[39;00m\n\u001b[1;32m    126\u001b[0m \u001b[38;5;66;03m# todo: utilizing find_root_and_group seems a bit clunky\u001b[39;00m\n\u001b[1;32m    127\u001b[0m \u001b[38;5;66;03m#  making filename available on h5netcdf.Group seems better\u001b[39;00m\n\u001b[0;32m--> 128\u001b[0m \u001b[38;5;28mself\u001b[39m\u001b[38;5;241m.\u001b[39m_filename \u001b[38;5;241m=\u001b[39m find_root_and_group(\u001b[38;5;28;43mself\u001b[39;49m\u001b[38;5;241;43m.\u001b[39;49m\u001b[43mds\u001b[49m)[\u001b[38;5;241m0\u001b[39m]\u001b[38;5;241m.\u001b[39mfilename\n\u001b[1;32m    129\u001b[0m \u001b[38;5;28mself\u001b[39m\u001b[38;5;241m.\u001b[39mis_remote \u001b[38;5;241m=\u001b[39m is_remote_uri(\u001b[38;5;28mself\u001b[39m\u001b[38;5;241m.\u001b[39m_filename)\n\u001b[1;32m    130\u001b[0m \u001b[38;5;28mself\u001b[39m\u001b[38;5;241m.\u001b[39mlock \u001b[38;5;241m=\u001b[39m ensure_lock(lock)\n",
      "File \u001b[0;32m~/miniconda3/envs/bonner-lab-new/lib/python3.10/site-packages/xarray/backends/h5netcdf_.py:188\u001b[0m, in \u001b[0;36mH5NetCDFStore.ds\u001b[0;34m(self)\u001b[0m\n\u001b[1;32m    186\u001b[0m \u001b[38;5;129m@property\u001b[39m\n\u001b[1;32m    187\u001b[0m \u001b[38;5;28;01mdef\u001b[39;00m \u001b[38;5;21mds\u001b[39m(\u001b[38;5;28mself\u001b[39m):\n\u001b[0;32m--> 188\u001b[0m     \u001b[38;5;28;01mreturn\u001b[39;00m \u001b[38;5;28;43mself\u001b[39;49m\u001b[38;5;241;43m.\u001b[39;49m\u001b[43m_acquire\u001b[49m\u001b[43m(\u001b[49m\u001b[43m)\u001b[49m\n",
      "File \u001b[0;32m~/miniconda3/envs/bonner-lab-new/lib/python3.10/site-packages/xarray/backends/h5netcdf_.py:180\u001b[0m, in \u001b[0;36mH5NetCDFStore._acquire\u001b[0;34m(self, needs_lock)\u001b[0m\n\u001b[1;32m    179\u001b[0m \u001b[38;5;28;01mdef\u001b[39;00m \u001b[38;5;21m_acquire\u001b[39m(\u001b[38;5;28mself\u001b[39m, needs_lock\u001b[38;5;241m=\u001b[39m\u001b[38;5;28;01mTrue\u001b[39;00m):\n\u001b[0;32m--> 180\u001b[0m     \u001b[38;5;28;01mwith\u001b[39;00m \u001b[38;5;28mself\u001b[39m\u001b[38;5;241m.\u001b[39m_manager\u001b[38;5;241m.\u001b[39macquire_context(needs_lock) \u001b[38;5;28;01mas\u001b[39;00m root:\n\u001b[1;32m    181\u001b[0m         ds \u001b[38;5;241m=\u001b[39m _nc4_require_group(\n\u001b[1;32m    182\u001b[0m             root, \u001b[38;5;28mself\u001b[39m\u001b[38;5;241m.\u001b[39m_group, \u001b[38;5;28mself\u001b[39m\u001b[38;5;241m.\u001b[39m_mode, create_group\u001b[38;5;241m=\u001b[39m_h5netcdf_create_group\n\u001b[1;32m    183\u001b[0m         )\n\u001b[1;32m    184\u001b[0m     \u001b[38;5;28;01mreturn\u001b[39;00m ds\n",
      "File \u001b[0;32m~/miniconda3/envs/bonner-lab-new/lib/python3.10/contextlib.py:135\u001b[0m, in \u001b[0;36m_GeneratorContextManager.__enter__\u001b[0;34m(self)\u001b[0m\n\u001b[1;32m    133\u001b[0m \u001b[38;5;28;01mdel\u001b[39;00m \u001b[38;5;28mself\u001b[39m\u001b[38;5;241m.\u001b[39margs, \u001b[38;5;28mself\u001b[39m\u001b[38;5;241m.\u001b[39mkwds, \u001b[38;5;28mself\u001b[39m\u001b[38;5;241m.\u001b[39mfunc\n\u001b[1;32m    134\u001b[0m \u001b[38;5;28;01mtry\u001b[39;00m:\n\u001b[0;32m--> 135\u001b[0m     \u001b[38;5;28;01mreturn\u001b[39;00m \u001b[38;5;28;43mnext\u001b[39;49m\u001b[43m(\u001b[49m\u001b[38;5;28;43mself\u001b[39;49m\u001b[38;5;241;43m.\u001b[39;49m\u001b[43mgen\u001b[49m\u001b[43m)\u001b[49m\n\u001b[1;32m    136\u001b[0m \u001b[38;5;28;01mexcept\u001b[39;00m \u001b[38;5;167;01mStopIteration\u001b[39;00m:\n\u001b[1;32m    137\u001b[0m     \u001b[38;5;28;01mraise\u001b[39;00m \u001b[38;5;167;01mRuntimeError\u001b[39;00m(\u001b[38;5;124m\"\u001b[39m\u001b[38;5;124mgenerator didn\u001b[39m\u001b[38;5;124m'\u001b[39m\u001b[38;5;124mt yield\u001b[39m\u001b[38;5;124m\"\u001b[39m) \u001b[38;5;28;01mfrom\u001b[39;00m \u001b[38;5;28mNone\u001b[39m\n",
      "File \u001b[0;32m~/miniconda3/envs/bonner-lab-new/lib/python3.10/site-packages/xarray/backends/file_manager.py:199\u001b[0m, in \u001b[0;36mCachingFileManager.acquire_context\u001b[0;34m(self, needs_lock)\u001b[0m\n\u001b[1;32m    196\u001b[0m \u001b[38;5;129m@contextlib\u001b[39m\u001b[38;5;241m.\u001b[39mcontextmanager\n\u001b[1;32m    197\u001b[0m \u001b[38;5;28;01mdef\u001b[39;00m \u001b[38;5;21macquire_context\u001b[39m(\u001b[38;5;28mself\u001b[39m, needs_lock\u001b[38;5;241m=\u001b[39m\u001b[38;5;28;01mTrue\u001b[39;00m):\n\u001b[1;32m    198\u001b[0m     \u001b[38;5;124;03m\"\"\"Context manager for acquiring a file.\"\"\"\u001b[39;00m\n\u001b[0;32m--> 199\u001b[0m     file, cached \u001b[38;5;241m=\u001b[39m \u001b[38;5;28;43mself\u001b[39;49m\u001b[38;5;241;43m.\u001b[39;49m\u001b[43m_acquire_with_cache_info\u001b[49m\u001b[43m(\u001b[49m\u001b[43mneeds_lock\u001b[49m\u001b[43m)\u001b[49m\n\u001b[1;32m    200\u001b[0m     \u001b[38;5;28;01mtry\u001b[39;00m:\n\u001b[1;32m    201\u001b[0m         \u001b[38;5;28;01myield\u001b[39;00m file\n",
      "File \u001b[0;32m~/miniconda3/envs/bonner-lab-new/lib/python3.10/site-packages/xarray/backends/file_manager.py:217\u001b[0m, in \u001b[0;36mCachingFileManager._acquire_with_cache_info\u001b[0;34m(self, needs_lock)\u001b[0m\n\u001b[1;32m    215\u001b[0m     kwargs \u001b[38;5;241m=\u001b[39m kwargs\u001b[38;5;241m.\u001b[39mcopy()\n\u001b[1;32m    216\u001b[0m     kwargs[\u001b[38;5;124m\"\u001b[39m\u001b[38;5;124mmode\u001b[39m\u001b[38;5;124m\"\u001b[39m] \u001b[38;5;241m=\u001b[39m \u001b[38;5;28mself\u001b[39m\u001b[38;5;241m.\u001b[39m_mode\n\u001b[0;32m--> 217\u001b[0m file \u001b[38;5;241m=\u001b[39m \u001b[38;5;28;43mself\u001b[39;49m\u001b[38;5;241;43m.\u001b[39;49m\u001b[43m_opener\u001b[49m\u001b[43m(\u001b[49m\u001b[38;5;241;43m*\u001b[39;49m\u001b[38;5;28;43mself\u001b[39;49m\u001b[38;5;241;43m.\u001b[39;49m\u001b[43m_args\u001b[49m\u001b[43m,\u001b[49m\u001b[43m \u001b[49m\u001b[38;5;241;43m*\u001b[39;49m\u001b[38;5;241;43m*\u001b[39;49m\u001b[43mkwargs\u001b[49m\u001b[43m)\u001b[49m\n\u001b[1;32m    218\u001b[0m \u001b[38;5;28;01mif\u001b[39;00m \u001b[38;5;28mself\u001b[39m\u001b[38;5;241m.\u001b[39m_mode \u001b[38;5;241m==\u001b[39m \u001b[38;5;124m\"\u001b[39m\u001b[38;5;124mw\u001b[39m\u001b[38;5;124m\"\u001b[39m:\n\u001b[1;32m    219\u001b[0m     \u001b[38;5;66;03m# ensure file doesn't get overridden when opened again\u001b[39;00m\n\u001b[1;32m    220\u001b[0m     \u001b[38;5;28mself\u001b[39m\u001b[38;5;241m.\u001b[39m_mode \u001b[38;5;241m=\u001b[39m \u001b[38;5;124m\"\u001b[39m\u001b[38;5;124ma\u001b[39m\u001b[38;5;124m\"\u001b[39m\n",
      "File \u001b[0;32m~/miniconda3/envs/bonner-lab-new/lib/python3.10/site-packages/h5netcdf/core.py:1051\u001b[0m, in \u001b[0;36mFile.__init__\u001b[0;34m(self, path, mode, invalid_netcdf, phony_dims, **kwargs)\u001b[0m\n\u001b[1;32m   1049\u001b[0m         \u001b[38;5;28mself\u001b[39m\u001b[38;5;241m.\u001b[39m_preexisting_file \u001b[38;5;241m=\u001b[39m os\u001b[38;5;241m.\u001b[39mpath\u001b[38;5;241m.\u001b[39mexists(path) \u001b[38;5;129;01mand\u001b[39;00m mode \u001b[38;5;241m!=\u001b[39m \u001b[38;5;124m\"\u001b[39m\u001b[38;5;124mw\u001b[39m\u001b[38;5;124m\"\u001b[39m\n\u001b[1;32m   1050\u001b[0m         \u001b[38;5;28mself\u001b[39m\u001b[38;5;241m.\u001b[39m_h5py \u001b[38;5;241m=\u001b[39m h5py\n\u001b[0;32m-> 1051\u001b[0m         \u001b[38;5;28mself\u001b[39m\u001b[38;5;241m.\u001b[39m_h5file \u001b[38;5;241m=\u001b[39m \u001b[38;5;28;43mself\u001b[39;49m\u001b[38;5;241;43m.\u001b[39;49m\u001b[43m_h5py\u001b[49m\u001b[38;5;241;43m.\u001b[39;49m\u001b[43mFile\u001b[49m\u001b[43m(\u001b[49m\n\u001b[1;32m   1052\u001b[0m \u001b[43m            \u001b[49m\u001b[43mpath\u001b[49m\u001b[43m,\u001b[49m\u001b[43m \u001b[49m\u001b[43mmode\u001b[49m\u001b[43m,\u001b[49m\u001b[43m \u001b[49m\u001b[43mtrack_order\u001b[49m\u001b[38;5;241;43m=\u001b[39;49m\u001b[43mtrack_order\u001b[49m\u001b[43m,\u001b[49m\u001b[43m \u001b[49m\u001b[38;5;241;43m*\u001b[39;49m\u001b[38;5;241;43m*\u001b[39;49m\u001b[43mkwargs\u001b[49m\n\u001b[1;32m   1053\u001b[0m \u001b[43m        \u001b[49m\u001b[43m)\u001b[49m\n\u001b[1;32m   1054\u001b[0m \u001b[38;5;28;01melse\u001b[39;00m:  \u001b[38;5;66;03m# file-like object\u001b[39;00m\n\u001b[1;32m   1055\u001b[0m     \u001b[38;5;28mself\u001b[39m\u001b[38;5;241m.\u001b[39m_preexisting_file \u001b[38;5;241m=\u001b[39m mode \u001b[38;5;129;01min\u001b[39;00m {\u001b[38;5;124m\"\u001b[39m\u001b[38;5;124mr\u001b[39m\u001b[38;5;124m\"\u001b[39m, \u001b[38;5;124m\"\u001b[39m\u001b[38;5;124mr+\u001b[39m\u001b[38;5;124m\"\u001b[39m, \u001b[38;5;124m\"\u001b[39m\u001b[38;5;124ma\u001b[39m\u001b[38;5;124m\"\u001b[39m}\n",
      "File \u001b[0;32m~/miniconda3/envs/bonner-lab-new/lib/python3.10/site-packages/h5py/_hl/files.py:567\u001b[0m, in \u001b[0;36mFile.__init__\u001b[0;34m(self, name, mode, driver, libver, userblock_size, swmr, rdcc_nslots, rdcc_nbytes, rdcc_w0, track_order, fs_strategy, fs_persist, fs_threshold, fs_page_size, page_buf_size, min_meta_keep, min_raw_keep, locking, alignment_threshold, alignment_interval, meta_block_size, **kwds)\u001b[0m\n\u001b[1;32m    558\u001b[0m     fapl \u001b[38;5;241m=\u001b[39m make_fapl(driver, libver, rdcc_nslots, rdcc_nbytes, rdcc_w0,\n\u001b[1;32m    559\u001b[0m                      locking, page_buf_size, min_meta_keep, min_raw_keep,\n\u001b[1;32m    560\u001b[0m                      alignment_threshold\u001b[38;5;241m=\u001b[39malignment_threshold,\n\u001b[1;32m    561\u001b[0m                      alignment_interval\u001b[38;5;241m=\u001b[39malignment_interval,\n\u001b[1;32m    562\u001b[0m                      meta_block_size\u001b[38;5;241m=\u001b[39mmeta_block_size,\n\u001b[1;32m    563\u001b[0m                      \u001b[38;5;241m*\u001b[39m\u001b[38;5;241m*\u001b[39mkwds)\n\u001b[1;32m    564\u001b[0m     fcpl \u001b[38;5;241m=\u001b[39m make_fcpl(track_order\u001b[38;5;241m=\u001b[39mtrack_order, fs_strategy\u001b[38;5;241m=\u001b[39mfs_strategy,\n\u001b[1;32m    565\u001b[0m                      fs_persist\u001b[38;5;241m=\u001b[39mfs_persist, fs_threshold\u001b[38;5;241m=\u001b[39mfs_threshold,\n\u001b[1;32m    566\u001b[0m                      fs_page_size\u001b[38;5;241m=\u001b[39mfs_page_size)\n\u001b[0;32m--> 567\u001b[0m     fid \u001b[38;5;241m=\u001b[39m \u001b[43mmake_fid\u001b[49m\u001b[43m(\u001b[49m\u001b[43mname\u001b[49m\u001b[43m,\u001b[49m\u001b[43m \u001b[49m\u001b[43mmode\u001b[49m\u001b[43m,\u001b[49m\u001b[43m \u001b[49m\u001b[43muserblock_size\u001b[49m\u001b[43m,\u001b[49m\u001b[43m \u001b[49m\u001b[43mfapl\u001b[49m\u001b[43m,\u001b[49m\u001b[43m \u001b[49m\u001b[43mfcpl\u001b[49m\u001b[43m,\u001b[49m\u001b[43m \u001b[49m\u001b[43mswmr\u001b[49m\u001b[38;5;241;43m=\u001b[39;49m\u001b[43mswmr\u001b[49m\u001b[43m)\u001b[49m\n\u001b[1;32m    569\u001b[0m \u001b[38;5;28;01mif\u001b[39;00m \u001b[38;5;28misinstance\u001b[39m(libver, \u001b[38;5;28mtuple\u001b[39m):\n\u001b[1;32m    570\u001b[0m     \u001b[38;5;28mself\u001b[39m\u001b[38;5;241m.\u001b[39m_libver \u001b[38;5;241m=\u001b[39m libver\n",
      "File \u001b[0;32m~/miniconda3/envs/bonner-lab-new/lib/python3.10/site-packages/h5py/_hl/files.py:231\u001b[0m, in \u001b[0;36mmake_fid\u001b[0;34m(name, mode, userblock_size, fapl, fcpl, swmr)\u001b[0m\n\u001b[1;32m    229\u001b[0m     \u001b[38;5;28;01mif\u001b[39;00m swmr \u001b[38;5;129;01mand\u001b[39;00m swmr_support:\n\u001b[1;32m    230\u001b[0m         flags \u001b[38;5;241m|\u001b[39m\u001b[38;5;241m=\u001b[39m h5f\u001b[38;5;241m.\u001b[39mACC_SWMR_READ\n\u001b[0;32m--> 231\u001b[0m     fid \u001b[38;5;241m=\u001b[39m \u001b[43mh5f\u001b[49m\u001b[38;5;241;43m.\u001b[39;49m\u001b[43mopen\u001b[49m\u001b[43m(\u001b[49m\u001b[43mname\u001b[49m\u001b[43m,\u001b[49m\u001b[43m \u001b[49m\u001b[43mflags\u001b[49m\u001b[43m,\u001b[49m\u001b[43m \u001b[49m\u001b[43mfapl\u001b[49m\u001b[38;5;241;43m=\u001b[39;49m\u001b[43mfapl\u001b[49m\u001b[43m)\u001b[49m\n\u001b[1;32m    232\u001b[0m \u001b[38;5;28;01melif\u001b[39;00m mode \u001b[38;5;241m==\u001b[39m \u001b[38;5;124m'\u001b[39m\u001b[38;5;124mr+\u001b[39m\u001b[38;5;124m'\u001b[39m:\n\u001b[1;32m    233\u001b[0m     fid \u001b[38;5;241m=\u001b[39m h5f\u001b[38;5;241m.\u001b[39mopen(name, h5f\u001b[38;5;241m.\u001b[39mACC_RDWR, fapl\u001b[38;5;241m=\u001b[39mfapl)\n",
      "File \u001b[0;32mh5py/_objects.pyx:54\u001b[0m, in \u001b[0;36mh5py._objects.with_phil.wrapper\u001b[0;34m()\u001b[0m\n",
      "File \u001b[0;32mh5py/_objects.pyx:55\u001b[0m, in \u001b[0;36mh5py._objects.with_phil.wrapper\u001b[0;34m()\u001b[0m\n",
      "File \u001b[0;32mh5py/h5f.pyx:106\u001b[0m, in \u001b[0;36mh5py.h5f.open\u001b[0;34m()\u001b[0m\n",
      "\u001b[0;31mFileNotFoundError\u001b[0m: [Errno 2] Unable to open file (unable to open file: name = '/data/atlas/.cache/encoding_scores_torch/expansion_features=3000_layers=5_dataset=majajhong_IT', errno = 2, error message = 'No such file or directory', flags = 0, o_flags = 0)"
     ]
    }
   ],
   "source": [
    "region = 'IT'\n",
    "dataset = 'majajhong'\n",
    "\n",
    "scores = []\n",
    "idens = [f'expansion_features=3000_layers=5dataset={dataset}_{region}', \n",
    "    f'expansion_3000_dataset={dataset}_principal_components_{region}', \n",
    "        ]         \n",
    "\n",
    "for iden in idens:\n",
    "    scores.append(float(xr.open_dataset(os.path.join(CACHE,'encoding_scores_torch',iden), \n",
    "                                        engine='h5netcdf').r_value.mean()))\n",
    "    \n",
    "    \n",
    "plt.clf()\n",
    "rcParams['figure.figsize'] = (5.5,4)  \n",
    "names = ['Original model','Reduced model']\n",
    "\n",
    "sns.barplot(x=names, y=scores, width=0.5, palette={'Original model':'seagreen',\n",
    "                                                   'Reduced model':'slategray'\n",
    "                                                   })\n",
    "\n",
    "\n",
    "# plt.xlabel('Number of Features',size=12)\n",
    "# plt.ylabel('Encoding Score',size=12)\n",
    "\n",
    "plt.xticks(size=16)\n",
    "plt.yticks(size=16)\n",
    "\n",
    "# plt.ylabel('Encoding Score',size=12)\n",
    "# plt.legend()\n",
    "\n",
    "\n",
    "plt.savefig(f'pca_comparison_{dataset}_{region}.png', dpi=100) \n",
    "plt.show()\n"
   ]
  },
  {
   "cell_type": "markdown",
   "id": "09a8ec6b-7c1e-40a9-8d7d-69399c351c93",
   "metadata": {},
   "source": [
    "majaj"
   ]
  },
  {
   "cell_type": "code",
   "execution_count": 52,
   "id": "98c9488f-1852-4538-a74f-bc47286ec692",
   "metadata": {},
   "outputs": [
    {
     "name": "stderr",
     "output_type": "stream",
     "text": [
      "No artists with labels found to put in legend.  Note that artists whose label start with an underscore are ignored when legend() is called with no argument.\n"
     ]
    },
    {
     "data": {
      "image/png": "[encoded data removed]",
      "text/plain": [
       "<Figure size 400x400 with 1 Axes>"
      ]
     },
     "metadata": {},
     "output_type": "display_data"
    }
   ],
   "source": [
    "region = 'IT'\n",
    "dataset = 'majajhong'\n",
    "\n",
    "scores = []\n",
    "idens = [f'expansion_3000_dataset={dataset}_principal_components_{region}', \n",
    "         f'alexnet_conv5_5_layers_256_features_gpool=False_{dataset}_principal_components_{region}'\n",
    "        ]         \n",
    "\n",
    "for iden in idens:\n",
    "    scores.append(float(xr.open_dataset(os.path.join(CACHE,'encoding_scores_torch',iden), \n",
    "                                        engine='h5netcdf').r_value.mean()))\n",
    "    \n",
    "    \n",
    "plt.clf()\n",
    "rcParams['figure.figsize'] = (4,4)  \n",
    "names = ['expansion-3k','alexnet']\n",
    "\n",
    "sns.barplot(x=names, y=scores, width=0.5)\n",
    "plt.legend()\n",
    "plt.savefig(f'pca_comparison_{dataset}_{region}.png', dpi=100) \n",
    "plt.show()\n"
   ]
  },
  {
   "cell_type": "code",
   "execution_count": null,
   "id": "9940ddd8-ec26-4bbb-81b9-ed066e6b6ff9",
   "metadata": {},
   "outputs": [],
   "source": []
  }
 ],
 "metadata": {
  "kernelspec": {
   "display_name": "Python 3 (ipykernel)",
   "language": "python",
   "name": "python3"
  },
  "language_info": {
   "codemirror_mode": {
    "name": "ipython",
    "version": 3
   },
   "file_extension": ".py",
   "mimetype": "text/x-python",
   "name": "python",
   "nbconvert_exporter": "python",
   "pygments_lexer": "ipython3",
   "version": "3.10.9"
  }
 },
 "nbformat": 4,
 "nbformat_minor": 5
}
