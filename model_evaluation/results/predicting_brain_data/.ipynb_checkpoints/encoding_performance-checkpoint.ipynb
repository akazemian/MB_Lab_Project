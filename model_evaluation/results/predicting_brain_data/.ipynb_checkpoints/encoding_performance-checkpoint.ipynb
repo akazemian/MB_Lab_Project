{
 "cells": [
  {
   "cell_type": "code",
   "execution_count": 1,
   "id": "518ac500-1d45-47c2-9ee4-64ca4b810244",
   "metadata": {},
   "outputs": [],
   "source": [
    "import os\n",
    "import sys\n",
    "sys.path.append(os.getenv('BONNER_ROOT_PATH'))\n",
    "from tools import *\n",
    "import matplotlib.colors as mcolors\n",
    "\n",
    "PREDS_PATH = '/data/atlas/.cache/beta_predictions'\n",
    "PATH_TO_BOOTSTRAP = '/home/akazemi3/Desktop/untrained_models_of_visual_cortex/model_evaluation/results/predicting_brain_data/bootstrap_data'"
   ]
  },
  {
   "cell_type": "code",
   "execution_count": 2,
   "id": "0c3d5e7a-027d-48f8-8fa5-e3330c4417ee",
   "metadata": {},
   "outputs": [],
   "source": [
    "DATASET_INFO_DICT = {\n",
    "    \n",
    "    'naturalscenes':{\n",
    "        'subjects':[i for i in range(8)],\n",
    "        'regions':['ventral visual stream','midventral visual stream','early visual stream'],\n",
    "        'expansion_features':[3,30,300,3000],\n",
    "        'vit_features':[12,5*12, 50*12],\n",
    "        'test_data_size':872\n",
    "    },\n",
    "    \n",
    "    'majajhong':{\n",
    "        'subjects':['Tito','Chabo'],\n",
    "        'regions':['V4','IT'],\n",
    "        'expansion_features':[3,30,300,3000,30000],\n",
    "        'vit_features':[12,5*12, 50*12, 500*12],\n",
    "        'test_data_size':640\n",
    "    }\n",
    "}"
   ]
  },
  {
   "cell_type": "markdown",
   "id": "c4c52a38-9aec-4fd3-91c5-a98484e562bb",
   "metadata": {
    "jp-MarkdownHeadingCollapsed": true,
    "tags": []
   },
   "source": [
    "# Main Results"
   ]
  },
  {
   "cell_type": "markdown",
   "id": "59b84c91-4ef5-4567-9ae2-bff8f1f697ce",
   "metadata": {},
   "source": [
    "#### run bootstrap"
   ]
  },
  {
   "cell_type": "code",
   "execution_count": 14,
   "id": "9a08932d-785a-44bb-bb1a-02d0c5827784",
   "metadata": {},
   "outputs": [
    {
     "name": "stderr",
     "output_type": "stream",
     "text": [
      "100%|███████████████████████████████████| 2/2 [00:00<00:00,  9.35it/s]\n",
      "100%|███████████████████████████████████| 2/2 [00:00<00:00, 10.34it/s]\n",
      "100%|███████████████████████████████████| 2/2 [00:00<00:00, 10.43it/s]\n",
      "100%|███████████████████████████████████| 2/2 [00:00<00:00, 10.44it/s]\n",
      "100%|███████████████████████████████████| 2/2 [00:00<00:00, 10.50it/s]\n",
      "100%|███████████████████████████████████| 2/2 [00:00<00:00, 10.48it/s]\n",
      "100%|███████████████████████████████████| 2/2 [00:00<00:00, 10.32it/s]\n",
      "100%|███████████████████████████████████| 2/2 [00:00<00:00, 10.43it/s]\n",
      "100%|███████████████████████████████████| 2/2 [00:00<00:00, 10.44it/s]\n",
      "100%|███████████████████████████████████| 2/2 [00:00<00:00, 10.40it/s]\n",
      "100%|███████████████████████████████████| 2/2 [00:00<00:00, 10.41it/s]\n",
      "100%|███████████████████████████████████| 2/2 [00:00<00:00, 10.38it/s]\n",
      "100%|███████████████████████████████████| 2/2 [00:00<00:00, 10.41it/s]\n",
      "100%|███████████████████████████████████| 2/2 [00:00<00:00, 10.48it/s]\n",
      "100%|███████████████████████████████████| 2/2 [00:00<00:00, 10.43it/s]\n",
      "100%|███████████████████████████████████| 2/2 [00:00<00:00,  8.42it/s]\n",
      "100%|███████████████████████████████████| 2/2 [00:00<00:00,  8.47it/s]\n",
      "100%|███████████████████████████████████| 2/2 [00:00<00:00,  8.47it/s]\n",
      "100%|███████████████████████████████████| 2/2 [00:00<00:00,  8.44it/s]\n",
      "100%|███████████████████████████████████| 2/2 [00:00<00:00,  8.53it/s]\n",
      "100%|███████████████████████████████████| 2/2 [00:00<00:00,  8.50it/s]\n",
      "100%|███████████████████████████████████| 2/2 [00:00<00:00,  8.53it/s]\n",
      "100%|███████████████████████████████████| 2/2 [00:00<00:00,  8.46it/s]\n",
      "100%|███████████████████████████████████| 2/2 [00:00<00:00,  8.54it/s]\n",
      "100%|███████████████████████████████████| 2/2 [00:00<00:00,  8.45it/s]\n",
      "100%|███████████████████████████████████| 2/2 [00:00<00:00,  8.48it/s]\n",
      "100%|███████████████████████████████████| 2/2 [00:00<00:00,  8.40it/s]\n",
      "100%|███████████████████████████████████| 2/2 [00:00<00:00,  8.42it/s]\n",
      "100%|███████████████████████████████████| 2/2 [00:00<00:00,  8.46it/s]\n",
      "100%|███████████████████████████████████| 2/2 [00:00<00:00,  8.41it/s]\n"
     ]
    }
   ],
   "source": [
    "#run bootstrap \n",
    "\n",
    "#dataset = 'naturalscenes'\n",
    "dataset = 'majajhong'\n",
    "info_dict = DATASET_INFO_DICT[dataset]\n",
    "\n",
    "n_rows = info_dict['test_data_size']\n",
    "all_sampled_indices = np.random.choice(n_rows, (1000, n_rows), replace=True) # Sample indices for all bootstraps at once\n",
    "\n",
    "for region in info_dict['regions']:\n",
    "     \n",
    "    # engineered models \n",
    "    get_bootstrap_data(models= ['expansion','expansion_linear','fully_connected'],\n",
    "                        features=info_dict['expansion_features'],\n",
    "                        dataset=dataset, \n",
    "                        subjects=info_dict['subjects'],\n",
    "                        layers = 5,\n",
    "                        file_name = 'engineered',\n",
    "                        region=region,\n",
    "                        all_sampled_indices=all_sampled_indices)\n",
    "    \n",
    "    # # vit models\n",
    "    # get_bootstrap_data(models= ['ViT'],\n",
    "    #                     features=info_dict['vit_features'],\n",
    "    #                     dataset=dataset, \n",
    "    #                     subjects=info_dict['subjects'],\n",
    "    #                     layers = 5,\n",
    "    #                     file_name = 'ViT',\n",
    "    #                     region=region,\n",
    "    #                     all_sampled_indices=all_sampled_indices)\n",
    "    \n",
    "    # # alexnet\n",
    "    # get_bootstrap_data(models=['alexnet'],\n",
    "    #                     features=[None],\n",
    "    #                     dataset=dataset, \n",
    "    #                     subjects=info_dict['subjects'],\n",
    "    #                     layers='best',\n",
    "    #                     file_name='alexnet',\n",
    "    #                     region=region,\n",
    "    #                     all_sampled_indices=all_sampled_indices)"
   ]
  },
  {
   "cell_type": "markdown",
   "id": "f19b7aa3-64f1-4126-8d79-70a5f75b8b79",
   "metadata": {},
   "source": [
    "#### loading bootstrap data"
   ]
  },
  {
   "cell_type": "code",
   "execution_count": 12,
   "id": "e7bba2e8-fd2e-4351-b170-e1490d72301f",
   "metadata": {},
   "outputs": [],
   "source": [
    "DATASET = 'majajhong' # one of ['majajhong', 'naturalscenes']\n",
    "region = 'V4' # for majajhong: [V4,IT], for naturalscenes: [early visual stream, midventral visual stream, ventral visual stream]\n",
    "\n",
    "DATASET = 'naturalscenes'\n",
    "region = 'ventral visual stream'#, ventral visual stream]"
   ]
  },
  {
   "cell_type": "code",
   "execution_count": 13,
   "id": "c5d82023-8a25-49e0-b363-838650602423",
   "metadata": {},
   "outputs": [],
   "source": [
    "# vit data\n",
    "with open(os.path.join(PATH_TO_BOOTSTRAP,f'bootstrap-results-vit-{DATASET}-{region}-df.pkl'), 'rb') as file:\n",
    "    df_vit = pickle.load(file)\n",
    "    \n",
    "# expansion model and MLP data\n",
    "with open(os.path.join(PATH_TO_BOOTSTRAP,f'bootstrap-results-engineered-{DATASET}-{region}-df.pkl'), 'rb') as file:\n",
    "    df_engineered = pickle.load(file)\n",
    "    \n",
    "# alexnet data\n",
    "with open(os.path.join(PATH_TO_BOOTSTRAP,f'bootstrap-results-alexnet-{DATASET}-{region}-df.pkl'), 'rb') as file:\n",
    "    df_alexnet = pickle.load(file)  "
   ]
  },
  {
   "cell_type": "code",
   "execution_count": 14,
   "id": "e640dd7b-5ad7-4397-a38b-ade025d02bdb",
   "metadata": {},
   "outputs": [],
   "source": [
    "df_engineered['features'] = df_engineered['features'].apply(lambda x: int(x)*36) # multiply by spatial dims\n",
    "df_vit['features'] = df_vit['features'].apply(lambda x: int(x)*196) # multiply by spatial dims\n",
    "df = pd.concat([df_engineered,df_vit]).reset_index(drop=True)\n",
    "\n",
    "names ={'expansion':'Convolutional','ViT':'Transformer','fully_connected':'Fully connected'}\n",
    "palette ={'Convolutional':'royalblue','Transformer':'palevioletred','Fully connected':'darkviolet'}\n",
    "\n",
    "df['model'] = df['model'].map(names)\n",
    "df['color'] = df['model'].map(palette)\n",
    "\n",
    "df = df.dropna(subset='model').reset_index()"
   ]
  },
  {
   "cell_type": "code",
   "execution_count": 15,
   "id": "77a4617e-85fc-4c41-920d-31ff41be6f9e",
   "metadata": {},
   "outputs": [
    {
     "data": {
      "image/png": "[encoded data removed]",
      "text/plain": [
       "<Figure size 600x600 with 1 Axes>"
      ]
     },
     "metadata": {},
     "output_type": "display_data"
    }
   ],
   "source": [
    "rcParams['figure.figsize'] = (6,6)  \n",
    "\n",
    "\n",
    "# main plot\n",
    "ax1 = sns.lineplot(data = df, x='features', y='score', hue='model', marker='o', palette = palette)\n",
    "# adding error bars for the 95% confidence interval\n",
    "for i in range(len(df)):\n",
    "    plt.errorbar(df['features'][i], df['score'][i], \n",
    "                 yerr=[[df['score'][i] - df['lower'][i]], [df['upper'][i] - df['score'][i]]], \n",
    "                 fmt='none', capsize=5, color=df['color'][i])   \n",
    "    \n",
    "# alexnet \n",
    "plt.axhline(y=df_alexnet['score'][0], color='gray', linestyle='--', label='AlexNet')\n",
    "# adding 95% confidence interval \n",
    "plt.fill_between(np.arange(df['features'].min()/3,df['features'].max()*3), \n",
    "                 df_alexnet['lower'], df_alexnet['upper'], color='gray', alpha=0.2)\n",
    "\n",
    "\n",
    "\n",
    "plt.ylim(0,0.45) if DATASET == 'naturalscenes' else plt.ylim(0,0.65)\n",
    "plt.xlabel('')\n",
    "plt.ylabel('')\n",
    "plt.xlim(df['features'].min()/3,df['features'].max()*3)\n",
    "plt.xticks(size=15)\n",
    "plt.yticks(size=15)\n",
    "ax1.set_xscale(\"log\")        \n",
    "ax1.legend(frameon=False,fontsize=12) if region == 'V4' else ax1.legend_.remove()\n",
    "plt.savefig(f'figures/main_results_{DATASET}_{region}.png', dpi=200) \n",
    "plt.show()"
   ]
  },
  {
   "cell_type": "markdown",
   "id": "c7c5ce6d-a9f1-42ab-8141-5087f27103dc",
   "metadata": {
    "jp-MarkdownHeadingCollapsed": true,
    "tags": []
   },
   "source": [
    "# PCA"
   ]
  },
  {
   "cell_type": "markdown",
   "id": "ffd4b3a8-9a2d-4fae-bbcd-82524851c19f",
   "metadata": {},
   "source": [
    "#### run bootstrap "
   ]
  },
  {
   "cell_type": "code",
   "execution_count": 4,
   "id": "470b848b-0808-42f2-92c0-99f4464edab7",
   "metadata": {},
   "outputs": [
    {
     "name": "stderr",
     "output_type": "stream",
     "text": [
      "100%|███████████████████████████████████| 8/8 [00:24<00:00,  3.06s/it]\n",
      "100%|███████████████████████████████████| 8/8 [00:23<00:00,  2.95s/it]\n",
      "100%|███████████████████████████████████| 8/8 [00:23<00:00,  2.95s/it]\n",
      "  0%|                                           | 0/8 [00:00<?, ?it/s]\n"
     ]
    },
    {
     "name": "stdout",
     "output_type": "stream",
     "text": [
      "File not found: expansion_features=3_layers=5_dataset=naturalscenes_principal_components=1000, region: ventral visual stream\n"
     ]
    },
    {
     "name": "stderr",
     "output_type": "stream",
     "text": [
      "100%|███████████████████████████████████| 8/8 [00:23<00:00,  2.95s/it]\n",
      "100%|███████████████████████████████████| 8/8 [00:23<00:00,  2.95s/it]\n",
      "100%|███████████████████████████████████| 8/8 [00:23<00:00,  2.95s/it]\n",
      "100%|███████████████████████████████████| 8/8 [00:23<00:00,  2.94s/it]\n",
      "100%|███████████████████████████████████| 8/8 [00:23<00:00,  2.95s/it]\n",
      "100%|███████████████████████████████████| 8/8 [00:23<00:00,  2.95s/it]\n",
      "100%|███████████████████████████████████| 8/8 [00:23<00:00,  2.95s/it]\n",
      "100%|███████████████████████████████████| 8/8 [00:23<00:00,  2.95s/it]\n",
      "100%|███████████████████████████████████| 8/8 [00:23<00:00,  2.95s/it]\n",
      "100%|███████████████████████████████████| 8/8 [00:23<00:00,  2.94s/it]\n",
      "100%|███████████████████████████████████| 8/8 [00:23<00:00,  2.95s/it]\n",
      "100%|███████████████████████████████████| 8/8 [00:23<00:00,  2.96s/it]\n",
      "  0%|                                           | 0/8 [00:00<?, ?it/s]\n"
     ]
    },
    {
     "name": "stdout",
     "output_type": "stream",
     "text": [
      "File not found: expansion_features=3_layers=5_dataset=naturalscenes_principal_components=1, region: midventral visual stream\n"
     ]
    },
    {
     "name": "stderr",
     "output_type": "stream",
     "text": [
      "  0%|                                           | 0/8 [00:00<?, ?it/s]\n"
     ]
    },
    {
     "name": "stdout",
     "output_type": "stream",
     "text": [
      "File not found: expansion_features=3_layers=5_dataset=naturalscenes_principal_components=10, region: midventral visual stream\n"
     ]
    },
    {
     "name": "stderr",
     "output_type": "stream",
     "text": [
      "  0%|                                           | 0/8 [00:00<?, ?it/s]\n"
     ]
    },
    {
     "name": "stdout",
     "output_type": "stream",
     "text": [
      "File not found: expansion_features=3_layers=5_dataset=naturalscenes_principal_components=100, region: midventral visual stream\n"
     ]
    },
    {
     "name": "stderr",
     "output_type": "stream",
     "text": [
      "  0%|                                           | 0/8 [00:00<?, ?it/s]\n"
     ]
    },
    {
     "name": "stdout",
     "output_type": "stream",
     "text": [
      "File not found: expansion_features=3_layers=5_dataset=naturalscenes_principal_components=1000, region: midventral visual stream\n"
     ]
    },
    {
     "name": "stderr",
     "output_type": "stream",
     "text": [
      "  0%|                                           | 0/8 [00:00<?, ?it/s]\n"
     ]
    },
    {
     "name": "stdout",
     "output_type": "stream",
     "text": [
      "File not found: expansion_features=30_layers=5_dataset=naturalscenes_principal_components=1, region: midventral visual stream\n"
     ]
    },
    {
     "name": "stderr",
     "output_type": "stream",
     "text": [
      "  0%|                                           | 0/8 [00:00<?, ?it/s]\n"
     ]
    },
    {
     "name": "stdout",
     "output_type": "stream",
     "text": [
      "File not found: expansion_features=30_layers=5_dataset=naturalscenes_principal_components=10, region: midventral visual stream\n"
     ]
    },
    {
     "name": "stderr",
     "output_type": "stream",
     "text": [
      "  0%|                                           | 0/8 [00:00<?, ?it/s]\n"
     ]
    },
    {
     "name": "stdout",
     "output_type": "stream",
     "text": [
      "File not found: expansion_features=30_layers=5_dataset=naturalscenes_principal_components=100, region: midventral visual stream\n"
     ]
    },
    {
     "name": "stderr",
     "output_type": "stream",
     "text": [
      "  0%|                                           | 0/8 [00:00<?, ?it/s]\n"
     ]
    },
    {
     "name": "stdout",
     "output_type": "stream",
     "text": [
      "File not found: expansion_features=30_layers=5_dataset=naturalscenes_principal_components=1000, region: midventral visual stream\n"
     ]
    },
    {
     "name": "stderr",
     "output_type": "stream",
     "text": [
      "  0%|                                           | 0/8 [00:00<?, ?it/s]\n"
     ]
    },
    {
     "name": "stdout",
     "output_type": "stream",
     "text": [
      "File not found: expansion_features=300_layers=5_dataset=naturalscenes_principal_components=1, region: midventral visual stream\n"
     ]
    },
    {
     "name": "stderr",
     "output_type": "stream",
     "text": [
      "  0%|                                           | 0/8 [00:00<?, ?it/s]\n"
     ]
    },
    {
     "name": "stdout",
     "output_type": "stream",
     "text": [
      "File not found: expansion_features=300_layers=5_dataset=naturalscenes_principal_components=10, region: midventral visual stream\n"
     ]
    },
    {
     "name": "stderr",
     "output_type": "stream",
     "text": [
      "  0%|                                           | 0/8 [00:00<?, ?it/s]\n"
     ]
    },
    {
     "name": "stdout",
     "output_type": "stream",
     "text": [
      "File not found: expansion_features=300_layers=5_dataset=naturalscenes_principal_components=100, region: midventral visual stream\n"
     ]
    },
    {
     "name": "stderr",
     "output_type": "stream",
     "text": [
      "  0%|                                           | 0/8 [00:00<?, ?it/s]\n"
     ]
    },
    {
     "name": "stdout",
     "output_type": "stream",
     "text": [
      "File not found: expansion_features=300_layers=5_dataset=naturalscenes_principal_components=1000, region: midventral visual stream\n"
     ]
    },
    {
     "name": "stderr",
     "output_type": "stream",
     "text": [
      "  0%|                                           | 0/8 [00:00<?, ?it/s]\n"
     ]
    },
    {
     "name": "stdout",
     "output_type": "stream",
     "text": [
      "File not found: expansion_features=3000_layers=5_dataset=naturalscenes_principal_components=1, region: midventral visual stream\n"
     ]
    },
    {
     "name": "stderr",
     "output_type": "stream",
     "text": [
      "  0%|                                           | 0/8 [00:00<?, ?it/s]\n"
     ]
    },
    {
     "name": "stdout",
     "output_type": "stream",
     "text": [
      "File not found: expansion_features=3000_layers=5_dataset=naturalscenes_principal_components=10, region: midventral visual stream\n"
     ]
    },
    {
     "name": "stderr",
     "output_type": "stream",
     "text": [
      "  0%|                                           | 0/8 [00:00<?, ?it/s]\n"
     ]
    },
    {
     "name": "stdout",
     "output_type": "stream",
     "text": [
      "File not found: expansion_features=3000_layers=5_dataset=naturalscenes_principal_components=100, region: midventral visual stream\n"
     ]
    },
    {
     "name": "stderr",
     "output_type": "stream",
     "text": [
      "  0%|                                           | 0/8 [00:00<?, ?it/s]\n"
     ]
    },
    {
     "name": "stdout",
     "output_type": "stream",
     "text": [
      "File not found: expansion_features=3000_layers=5_dataset=naturalscenes_principal_components=1000, region: midventral visual stream\n"
     ]
    },
    {
     "name": "stderr",
     "output_type": "stream",
     "text": [
      "  0%|                                           | 0/8 [00:00<?, ?it/s]\n"
     ]
    },
    {
     "name": "stdout",
     "output_type": "stream",
     "text": [
      "File not found: expansion_features=3_layers=5_dataset=naturalscenes_principal_components=1, region: early visual stream\n"
     ]
    },
    {
     "name": "stderr",
     "output_type": "stream",
     "text": [
      "  0%|                                           | 0/8 [00:00<?, ?it/s]\n"
     ]
    },
    {
     "name": "stdout",
     "output_type": "stream",
     "text": [
      "File not found: expansion_features=3_layers=5_dataset=naturalscenes_principal_components=10, region: early visual stream\n"
     ]
    },
    {
     "name": "stderr",
     "output_type": "stream",
     "text": [
      "  0%|                                           | 0/8 [00:00<?, ?it/s]\n"
     ]
    },
    {
     "name": "stdout",
     "output_type": "stream",
     "text": [
      "File not found: expansion_features=3_layers=5_dataset=naturalscenes_principal_components=100, region: early visual stream\n"
     ]
    },
    {
     "name": "stderr",
     "output_type": "stream",
     "text": [
      "  0%|                                           | 0/8 [00:00<?, ?it/s]\n"
     ]
    },
    {
     "name": "stdout",
     "output_type": "stream",
     "text": [
      "File not found: expansion_features=3_layers=5_dataset=naturalscenes_principal_components=1000, region: early visual stream\n"
     ]
    },
    {
     "name": "stderr",
     "output_type": "stream",
     "text": [
      "  0%|                                           | 0/8 [00:00<?, ?it/s]\n"
     ]
    },
    {
     "name": "stdout",
     "output_type": "stream",
     "text": [
      "File not found: expansion_features=30_layers=5_dataset=naturalscenes_principal_components=1, region: early visual stream\n"
     ]
    },
    {
     "name": "stderr",
     "output_type": "stream",
     "text": [
      "  0%|                                           | 0/8 [00:00<?, ?it/s]\n"
     ]
    },
    {
     "name": "stdout",
     "output_type": "stream",
     "text": [
      "File not found: expansion_features=30_layers=5_dataset=naturalscenes_principal_components=10, region: early visual stream\n"
     ]
    },
    {
     "name": "stderr",
     "output_type": "stream",
     "text": [
      "  0%|                                           | 0/8 [00:00<?, ?it/s]\n"
     ]
    },
    {
     "name": "stdout",
     "output_type": "stream",
     "text": [
      "File not found: expansion_features=30_layers=5_dataset=naturalscenes_principal_components=100, region: early visual stream\n"
     ]
    },
    {
     "name": "stderr",
     "output_type": "stream",
     "text": [
      "  0%|                                           | 0/8 [00:00<?, ?it/s]\n"
     ]
    },
    {
     "name": "stdout",
     "output_type": "stream",
     "text": [
      "File not found: expansion_features=30_layers=5_dataset=naturalscenes_principal_components=1000, region: early visual stream\n"
     ]
    },
    {
     "name": "stderr",
     "output_type": "stream",
     "text": [
      "  0%|                                           | 0/8 [00:00<?, ?it/s]\n"
     ]
    },
    {
     "name": "stdout",
     "output_type": "stream",
     "text": [
      "File not found: expansion_features=300_layers=5_dataset=naturalscenes_principal_components=1, region: early visual stream\n"
     ]
    },
    {
     "name": "stderr",
     "output_type": "stream",
     "text": [
      "  0%|                                           | 0/8 [00:00<?, ?it/s]\n"
     ]
    },
    {
     "name": "stdout",
     "output_type": "stream",
     "text": [
      "File not found: expansion_features=300_layers=5_dataset=naturalscenes_principal_components=10, region: early visual stream\n"
     ]
    },
    {
     "name": "stderr",
     "output_type": "stream",
     "text": [
      "  0%|                                           | 0/8 [00:00<?, ?it/s]\n"
     ]
    },
    {
     "name": "stdout",
     "output_type": "stream",
     "text": [
      "File not found: expansion_features=300_layers=5_dataset=naturalscenes_principal_components=100, region: early visual stream\n"
     ]
    },
    {
     "name": "stderr",
     "output_type": "stream",
     "text": [
      "  0%|                                           | 0/8 [00:00<?, ?it/s]\n"
     ]
    },
    {
     "name": "stdout",
     "output_type": "stream",
     "text": [
      "File not found: expansion_features=300_layers=5_dataset=naturalscenes_principal_components=1000, region: early visual stream\n"
     ]
    },
    {
     "name": "stderr",
     "output_type": "stream",
     "text": [
      "  0%|                                           | 0/8 [00:00<?, ?it/s]\n"
     ]
    },
    {
     "name": "stdout",
     "output_type": "stream",
     "text": [
      "File not found: expansion_features=3000_layers=5_dataset=naturalscenes_principal_components=1, region: early visual stream\n"
     ]
    },
    {
     "name": "stderr",
     "output_type": "stream",
     "text": [
      "  0%|                                           | 0/8 [00:00<?, ?it/s]\n"
     ]
    },
    {
     "name": "stdout",
     "output_type": "stream",
     "text": [
      "File not found: expansion_features=3000_layers=5_dataset=naturalscenes_principal_components=10, region: early visual stream\n"
     ]
    },
    {
     "name": "stderr",
     "output_type": "stream",
     "text": [
      "  0%|                                           | 0/8 [00:00<?, ?it/s]\n"
     ]
    },
    {
     "name": "stdout",
     "output_type": "stream",
     "text": [
      "File not found: expansion_features=3000_layers=5_dataset=naturalscenes_principal_components=100, region: early visual stream\n"
     ]
    },
    {
     "name": "stderr",
     "output_type": "stream",
     "text": [
      "  0%|                                           | 0/8 [00:00<?, ?it/s]"
     ]
    },
    {
     "name": "stdout",
     "output_type": "stream",
     "text": [
      "File not found: expansion_features=3000_layers=5_dataset=naturalscenes_principal_components=1000, region: early visual stream\n"
     ]
    },
    {
     "name": "stderr",
     "output_type": "stream",
     "text": [
      "\n"
     ]
    }
   ],
   "source": [
    "dataset = 'naturalscenes'\n",
    "#dataset = 'majajhong'\n",
    "info_dict = DATASET_INFO_DICT[dataset]\n",
    "\n",
    "\n",
    "n_rows = info_dict['test_data_size']\n",
    "all_sampled_indices = np.random.choice(n_rows, (1000, n_rows), replace=True) # Sample indices for all bootstraps at once\n",
    "\n",
    "for region in info_dict['regions']:\n",
    "\n",
    "    df_expansion = get_bootstrap_data(models= ['expansion'],\n",
    "                            features=info_dict['expansion_features'],\n",
    "                            principal_components=[1,10,100,1000],\n",
    "                            dataset=dataset, \n",
    "                            subjects=info_dict['subjects'],\n",
    "                            layers = 5,\n",
    "                            file_name = 'expansion_pcs',\n",
    "                            region=region,\n",
    "                            all_sampled_indices=all_sampled_indices)"
   ]
  },
  {
   "cell_type": "markdown",
   "id": "ad2bf1c6-96f3-4f87-846d-a15201fd8105",
   "metadata": {},
   "source": [
    "#### load bootstrap data"
   ]
  },
  {
   "cell_type": "code",
   "execution_count": 5,
   "id": "89b6e7c5-b895-49ff-8876-01bdef110bba",
   "metadata": {},
   "outputs": [],
   "source": [
    "DATASET = 'majajhong' # one of ['majajhong', 'naturalscenes']\n",
    "region = 'IT' # for majajhong: [V4,IT], for naturalscenes: [early visual stream, midventral visual stream, ventral visual stream]\n",
    "\n",
    "DATASET = 'naturalscenes'\n",
    "region = 'ventral visual stream'"
   ]
  },
  {
   "cell_type": "code",
   "execution_count": 6,
   "id": "c481e71c-57df-4895-8d49-58756f22bb19",
   "metadata": {},
   "outputs": [],
   "source": [
    "#load bootstrap data\n",
    "\n",
    "with open(os.path.join(PATH_TO_BOOTSTRAP,f'bootstrap-results-engineered-{DATASET}-{region}-df.pkl'), 'rb') as file:\n",
    "    df_engineered = pickle.load(file)\n",
    "\n",
    "with open(os.path.join(PATH_TO_BOOTSTRAP,f'bootstrap-results-expansion_pcs-{DATASET}-{region}-df.pkl'), 'rb') as file:\n",
    "    df_pcs = pickle.load(file) \n"
   ]
  },
  {
   "cell_type": "code",
   "execution_count": 7,
   "id": "19e4df30-34d5-41be-bbf5-20b5acbd5d81",
   "metadata": {},
   "outputs": [],
   "source": [
    "df_pcs['pcs'] = df_pcs['pcs'].apply(lambda x: int(x))\n",
    "df_pcs['full_model_score'] = df_pcs['features'].apply(lambda x: df_engineered[(df_engineered.model == 'expansion') & (df_engineered.features == x)].reset_index(drop=True).score[0])\n",
    "\n",
    "\n",
    "names ={f'expansion_3':f'Features = {write_powers(2)}',\n",
    "    f'expansion_30':f'Features = {write_powers(3)}',\n",
    "    f'expansion_300':f'Features = {write_powers(4)}',\n",
    "    f'expansion_3000':f'Features = {write_powers(5)}',\n",
    "    f'expansion_30000':f'Features = {write_powers(6)}'}\n",
    "\n",
    "\n",
    "df_pcs['model_family'] = 'Convolution'\n",
    "df_pcs['model'] = df_pcs['model'] + '_' + df_pcs['features']\n",
    "df_pcs['model'] = df_pcs['model'].map(names)\n",
    "\n",
    "palette_blues = {}\n",
    "blues = plt.cm.Blues([0.2, 0.4, 0.6, 0.8, 1.0])\n",
    "hex_blues= [mcolors.rgb2hex(color) for color in blues]\n",
    "\n",
    "for c, hex_color in enumerate(hex_blues):\n",
    "    palette_blues[f'Features = {write_powers(c+2)}'] = hex_color\n",
    "\n",
    "df_pcs['color'] = df_pcs['model'].map(palette_blues)"
   ]
  },
  {
   "cell_type": "code",
   "execution_count": 8,
   "id": "75fc260a-f4ed-4f26-84d1-e96d7ef2e39a",
   "metadata": {},
   "outputs": [
    {
     "data": {
      "image/png": "[encoded data removed]",
      "text/plain": [
       "<Figure size 700x700 with 1 Axes>"
      ]
     },
     "metadata": {},
     "output_type": "display_data"
    }
   ],
   "source": [
    "rcParams['figure.figsize'] = (7,7)  \n",
    "\n",
    "ax1 = sns.lineplot(data = df_pcs, x='pcs', y='score', hue='model', dashes=False, marker='o', palette = palette_blues)\n",
    "  \n",
    "plt.xlabel(\"Number of components\",size=15)\n",
    "plt.ylabel('Encoding Score',size=15)\n",
    "plt.xlim(df_pcs['pcs'].min()/2,df_pcs['pcs'].max()*2)\n",
    "plt.ylim(0,0.6) if region == 'IT' else plt.ylim(0,0.45)\n",
    "plt.xticks(size=15)\n",
    "plt.yticks(size=15)\n",
    "ax1.set_xscale(\"log\")    \n",
    "ax1.legend(frameon=False,fontsize=15)\n",
    "plt.setp(plt.gca().get_lines(), markersize=7)  # Change 9 to your desired marker size\n",
    "plt.savefig(f'figures/principal_components_{DATASET}_{region}.png', dpi=200) \n",
    "plt.show()"
   ]
  },
  {
   "cell_type": "code",
   "execution_count": 9,
   "id": "254c8d8b-0bb2-4668-bd74-f2c5030cb9b2",
   "metadata": {},
   "outputs": [
    {
     "data": {
      "image/png": "[encoded data removed]",
      "text/plain": [
       "<Figure size 300x700 with 1 Axes>"
      ]
     },
     "metadata": {},
     "output_type": "display_data"
    }
   ],
   "source": [
    "# main results\n",
    "rcParams['figure.figsize'] = (3,7)  \n",
    "\n",
    "ax1 = sns.lineplot(data = df_pcs, x='model_family', y='full_model_score', hue='model', dashes=False, style='model_family', marker='s', palette = palette_blues)\n",
    "plt.xlabel(\"Full model performance\",size=15)\n",
    "plt.ylabel('')\n",
    "plt.xlim(-10,10)\n",
    "plt.ylim(0,0.6) if region == 'IT' else plt.ylim(0,0.45)\n",
    "ax1.legend_.remove()    \n",
    "plt.yticks(size=15)\n",
    "ax1.set_xticks([])\n",
    "plt.setp(plt.gca().get_lines(), markersize=7)  # Change 9 to your desired marker size\n",
    "plt.savefig(f'figures/full_model_performance_pcs_{DATASET}_{region}.png', dpi=200) \n",
    "plt.show()"
   ]
  },
  {
   "cell_type": "markdown",
   "id": "0c393ddc-7884-492f-ba36-99b0e26fef12",
   "metadata": {
    "jp-MarkdownHeadingCollapsed": true,
    "tags": []
   },
   "source": [
    "# Convolution linear models"
   ]
  },
  {
   "cell_type": "markdown",
   "id": "e2e5ec4d-d690-418e-b920-bb1dd8bb1d0f",
   "metadata": {},
   "source": [
    "#### load bootstrap data"
   ]
  },
  {
   "cell_type": "code",
   "execution_count": 19,
   "id": "30784aae-b500-40b2-a0fc-55b818b4e7d1",
   "metadata": {},
   "outputs": [],
   "source": [
    "DATASET = 'majajhong' # one of ['majajhong', 'naturalscenes']\n",
    "region = 'IT' # for majajhong: [V4,IT], for naturalscenes: [early visual stream, midventral visual stream, ventral visual stream]\n",
    "\n",
    "DATASET = 'naturalscenes'\n",
    "region = 'ventral visual stream'#, ventral visual stream]"
   ]
  },
  {
   "cell_type": "code",
   "execution_count": 20,
   "id": "5fcd196c-112d-4851-a2a5-fa1bd9eba8bb",
   "metadata": {},
   "outputs": [],
   "source": [
    "# loading bootstrap data\n",
    "\n",
    "with open(os.path.join(PATH_TO_BOOTSTRAP,f'bootstrap-results-engineered-{DATASET}-{region}-df.pkl'), 'rb') as file:\n",
    "    df_engineered = pickle.load(file)\n",
    "    \n",
    "with open(os.path.join(PATH_TO_BOOTSTRAP,f'bootstrap-results-alexnet-{DATASET}-{region}-df.pkl'), 'rb') as file:\n",
    "    df_alexnet = pickle.load(file)  "
   ]
  },
  {
   "cell_type": "code",
   "execution_count": 21,
   "id": "b5dd664e-0b1d-43f9-9ac0-f54aecf81187",
   "metadata": {},
   "outputs": [],
   "source": [
    "df_engineered['features'] = df_engineered['features'].apply(lambda x: int(x)*36)\n",
    "\n",
    "names ={'expansion':'ReLU','expansion_linear':'Linear'}\n",
    "df_engineered['model'] = df_engineered['model'].map(names)\n",
    "\n",
    "palette ={'ReLU':'royalblue','Linear':'orange'}\n",
    "df_engineered['color'] = df_engineered['model'].map(palette)\n",
    "df_engineered = df_engineered.dropna(subset='model').reset_index()"
   ]
  },
  {
   "cell_type": "code",
   "execution_count": 22,
   "id": "bf863fbc-d2fe-4419-ae99-c0b3293853a2",
   "metadata": {},
   "outputs": [
    {
     "data": {
      "image/png": "[encoded data removed]",
      "text/plain": [
       "<Figure size 600x600 with 1 Axes>"
      ]
     },
     "metadata": {},
     "output_type": "display_data"
    }
   ],
   "source": [
    "# main results\n",
    "rcParams['figure.figsize'] = (6,6)  \n",
    "\n",
    "\n",
    "# main plot\n",
    "ax1 = sns.lineplot(data = df_engineered, x='features', y='score', hue='model', marker='o',palette = palette)\n",
    "# adding error bars for the 95% confidence interval\n",
    "for i in range(len(df_engineered)):\n",
    "    plt.errorbar(df_engineered['features'][i], df_engineered['score'][i], \n",
    "                 yerr=[[df_engineered['score'][i] - df_engineered['lower'][i]], \n",
    "                       [df_engineered['upper'][i] - df_engineered['score'][i]]], \n",
    "                 fmt='none', capsize=5, color=df_engineered['color'][i])\n",
    "\n",
    "\n",
    "# alexnet results\n",
    "plt.axhline(y=df_alexnet['score'][0], color='gray', linestyle='--', label='AlexNet')\n",
    "# adding confidence interval\n",
    "plt.fill_between(np.arange(df_engineered['features'].min()/3,df_engineered['features'].max()*3), \n",
    "                 df_alexnet['lower'], \n",
    "                 df_alexnet['upper'], \n",
    "                 color='gray', alpha=0.2)\n",
    "\n",
    "\n",
    "plt.ylim(0,0.45) if DATASET == 'naturalscenes' else plt.ylim(0,0.65)\n",
    "plt.xlim(df_engineered['features'].min()/3,df_engineered['features'].max()*3)\n",
    "plt.xticks(size=15)\n",
    "plt.yticks(size=15)\n",
    "ax1.set_xscale(\"log\")    \n",
    "plt.xlabel('')\n",
    "plt.ylabel('')    \n",
    "ax1.legend(frameon=False,fontsize=12) if region == 'IT' else ax1.legend_.remove()\n",
    "plt.savefig(f'figures/effects_of_regression_{DATASET}_{region}.png', dpi=200) \n",
    "plt.show()"
   ]
  },
  {
   "cell_type": "markdown",
   "id": "843d3a31-455a-4936-a137-e5e13afdedcf",
   "metadata": {
    "jp-MarkdownHeadingCollapsed": true
   },
   "source": [
    "# Fully random models"
   ]
  },
  {
   "cell_type": "markdown",
   "id": "48c71e48-faa5-451d-aefa-2eef40c04809",
   "metadata": {},
   "source": [
    "#### run bootstrap "
   ]
  },
  {
   "cell_type": "code",
   "execution_count": 3,
   "id": "c3e37be3-f9a9-4f68-80e5-c3d437f110a6",
   "metadata": {},
   "outputs": [
    {
     "name": "stderr",
     "output_type": "stream",
     "text": [
      "  0%|                                                                                                                   | 0/2 [00:00<?, ?it/s]\n"
     ]
    },
    {
     "name": "stdout",
     "output_type": "stream",
     "text": [
      "File not found: fully_random_3000_features=3_layers=5_dataset=majajhong_test, region: V4\n"
     ]
    },
    {
     "name": "stderr",
     "output_type": "stream",
     "text": [
      "  0%|                                                                                                                   | 0/2 [00:00<?, ?it/s]\n"
     ]
    },
    {
     "name": "stdout",
     "output_type": "stream",
     "text": [
      "File not found: fully_random_3000_features=30_layers=5_dataset=majajhong_test, region: V4\n"
     ]
    },
    {
     "name": "stderr",
     "output_type": "stream",
     "text": [
      "  0%|                                                                                                                   | 0/2 [00:00<?, ?it/s]\n"
     ]
    },
    {
     "name": "stdout",
     "output_type": "stream",
     "text": [
      "File not found: fully_random_3000_features=300_layers=5_dataset=majajhong_test, region: V4\n"
     ]
    },
    {
     "name": "stderr",
     "output_type": "stream",
     "text": [
      "  0%|                                                                                                                   | 0/2 [00:00<?, ?it/s]\n"
     ]
    },
    {
     "name": "stdout",
     "output_type": "stream",
     "text": [
      "File not found: fully_random_3000_features=3000_layers=5_dataset=majajhong_test, region: V4\n"
     ]
    },
    {
     "name": "stderr",
     "output_type": "stream",
     "text": [
      "  0%|                                                                                                                   | 0/2 [00:00<?, ?it/s]\n"
     ]
    },
    {
     "name": "stdout",
     "output_type": "stream",
     "text": [
      "File not found: fully_random_3000_features=30000_layers=5_dataset=majajhong_test, region: V4\n"
     ]
    },
    {
     "name": "stderr",
     "output_type": "stream",
     "text": [
      "100%|███████████████████████████████████████████████████████████████████████████████████████████████████████████| 2/2 [00:00<00:00,  6.26it/s]\n",
      "100%|███████████████████████████████████████████████████████████████████████████████████████████████████████████| 2/2 [00:00<00:00,  8.38it/s]\n",
      "100%|███████████████████████████████████████████████████████████████████████████████████████████████████████████| 2/2 [00:00<00:00,  8.38it/s]\n",
      "100%|███████████████████████████████████████████████████████████████████████████████████████████████████████████| 2/2 [00:00<00:00,  8.31it/s]\n",
      "100%|███████████████████████████████████████████████████████████████████████████████████████████████████████████| 2/2 [00:00<00:00,  8.40it/s]\n"
     ]
    }
   ],
   "source": [
    "#dataset = 'naturalscenes'\n",
    "dataset = 'majajhong'\n",
    "info_dict = DATASET_INFO_DICT[dataset]\n",
    "\n",
    "\n",
    "n_rows = info_dict['test_data_size']\n",
    "all_sampled_indices = np.random.choice(n_rows, (1000, n_rows), replace=True) # Sample indices for all bootstraps at once\n",
    "\n",
    "for region in info_dict['regions']:\n",
    "    \n",
    "    random_model = get_bootstrap_data(models= ['fully_random'],\n",
    "                            features=info_dict['expansion_features'],\n",
    "                            l1_random_filters=[3000],\n",
    "                            dataset=dataset, \n",
    "                            subjects = info_dict['subjects'],\n",
    "                            layers = 5,\n",
    "                            file_name = 'random-model',\n",
    "                            region=region,\n",
    "                            all_sampled_indices=all_sampled_indices)"
   ]
  },
  {
   "cell_type": "markdown",
   "id": "3f0523cd-a7b0-4264-b554-6a994cabf16f",
   "metadata": {},
   "source": [
    "#### load bootstrap data"
   ]
  },
  {
   "cell_type": "code",
   "execution_count": 4,
   "id": "393274ad-5e94-4753-8922-39f7162a2926",
   "metadata": {},
   "outputs": [],
   "source": [
    "DATASET = 'majajhong' # one of ['majajhong', 'naturalscenes']\n",
    "region = 'IT' # for majajhong: [V4,IT], for naturalscenes: [early visual stream, midventral visual stream, ventral visual stream]\n",
    "\n",
    "# DATASET = 'naturalscenes'\n",
    "# region = 'ventral visual stream'"
   ]
  },
  {
   "cell_type": "code",
   "execution_count": 5,
   "id": "df3fa249-4a9d-4e36-af82-17df5cfe650a",
   "metadata": {},
   "outputs": [],
   "source": [
    "#load bootstrap data\n",
    "\n",
    "with open(os.path.join(PATH_TO_BOOTSTRAP,f'bootstrap-results-engineered-{DATASET}-{region}-df.pkl'), 'rb') as file:\n",
    "    df_engineered = pickle.load(file)\n",
    "    \n",
    "with open(os.path.join(PATH_TO_BOOTSTRAP,f'bootstrap-results-random-model-{DATASET}-{region}-df.pkl'), 'rb') as file:\n",
    "    df_random = pickle.load(file)  \n",
    "\n",
    "with open(os.path.join(PATH_TO_BOOTSTRAP,f'bootstrap-results-alexnet-{DATASET}-{region}-df.pkl'), 'rb') as file:\n",
    "    df_alexnet = pickle.load(file)  "
   ]
  },
  {
   "cell_type": "code",
   "execution_count": 6,
   "id": "e60c2d83-e0ac-4935-bd79-55d66c878415",
   "metadata": {},
   "outputs": [],
   "source": [
    "df_random['l1_random_filters'] = df_random['l1_random_filters'].apply(lambda x: str(x))\n",
    "df_random['model'] = df_random['model'] + '_' + df_random['l1_random_filters']\n",
    "df = pd.concat([df_engineered,df_random]).reset_index(drop=True)\n",
    "df['features'] = df['features'].apply(lambda x: int(x)*36)\n",
    "\n",
    "\n",
    "names ={'expansion':'Wavelet filters',\n",
    "        'fully_random_3000':'Random filters'}\n",
    "\n",
    "\n",
    "palette ={'Wavelet filters':'royalblue',\n",
    "         'Random filters':'orchid'}\n",
    "\n",
    "\n",
    "df['model'] = df['model'].map(names)\n",
    "df['color'] = df['model'].map(palette)\n",
    "\n",
    "df = df.dropna(subset=['model']).reset_index(drop=True)"
   ]
  },
  {
   "cell_type": "code",
   "execution_count": 65,
   "id": "34f8bc40-bd99-4a73-b300-cfd6ce95d47f",
   "metadata": {},
   "outputs": [
    {
     "data": {
      "image/png": "[encoded data removed]",
      "text/plain": [
       "<Figure size 600x600 with 1 Axes>"
      ]
     },
     "metadata": {},
     "output_type": "display_data"
    }
   ],
   "source": [
    "rcParams['figure.figsize'] = (6,6)  \n",
    "\n",
    "# main plot\n",
    "ax1 = sns.lineplot(data = df, x='features', y='score', hue='model', marker='o',palette = palette)\n",
    "# Adding error bars for the 95% confidence interval\n",
    "for i in range(len(df)):\n",
    "    plt.errorbar(df['features'][i], df['score'][i], \n",
    "                 yerr=[[df['score'][i] - df['lower'][i]], \n",
    "                       [df['upper'][i] - df['score'][i]]], \n",
    "                 fmt='none', capsize=5, color=df['color'][i])\n",
    "\n",
    "# alexnet results\n",
    "plt.axhline(y=df_alexnet['score'][0], color='gray', linestyle='--', label='AlexNet')\n",
    "# adding confidence interval\n",
    "plt.fill_between(np.arange(df['features'].min()/3,df['features'].max()*3), \n",
    "                 df_alexnet['lower'], df_alexnet['upper'], color='gray', alpha=0.2)\n",
    "\n",
    "\n",
    "plt.xlabel('')\n",
    "plt.ylabel('')\n",
    "plt.ylim(0,0.45) if DATASET == 'naturalscenes' else plt.ylim(0,0.65)\n",
    "plt.xlim(df['features'].min()/3,df['features'].max()*3)\n",
    "plt.xticks(size=15)\n",
    "plt.yticks(size=15)\n",
    "ax1.set_xscale(\"log\")    \n",
    "region == 'IT' if ax1.legend(frameon=False,fontsize=12) else ax1.legend_.remove()  \n",
    "plt.savefig(f'figures/random_model_{DATASET}_{region}.png', dpi=200) \n",
    "plt.show()"
   ]
  },
  {
   "cell_type": "markdown",
   "id": "9437ddba-f50b-4f25-9d95-e8a4b7ebd937",
   "metadata": {
    "jp-MarkdownHeadingCollapsed": true
   },
   "source": [
    "# Shuffled pixel results"
   ]
  },
  {
   "cell_type": "markdown",
   "id": "cc922c4c-505f-4707-bb11-857ffe61a033",
   "metadata": {
    "jp-MarkdownHeadingCollapsed": true
   },
   "source": [
    "#### run bootstrap "
   ]
  },
  {
   "cell_type": "code",
   "execution_count": 66,
   "id": "6474c6e8-0af9-4c74-9c21-263da4442f71",
   "metadata": {},
   "outputs": [
    {
     "name": "stderr",
     "output_type": "stream",
     "text": [
      "  0%|                                           | 0/2 [00:00<?, ?it/s]\n"
     ]
    },
    {
     "name": "stdout",
     "output_type": "stream",
     "text": [
      "File not found: expansion_features=3_layers=5_dataset=majajhong_shuffled, region: V4\n"
     ]
    },
    {
     "name": "stderr",
     "output_type": "stream",
     "text": [
      "  0%|                                           | 0/2 [00:00<?, ?it/s]\n"
     ]
    },
    {
     "name": "stdout",
     "output_type": "stream",
     "text": [
      "File not found: expansion_features=30_layers=5_dataset=majajhong_shuffled, region: V4\n"
     ]
    },
    {
     "name": "stderr",
     "output_type": "stream",
     "text": [
      "  0%|                                           | 0/2 [00:00<?, ?it/s]\n"
     ]
    },
    {
     "name": "stdout",
     "output_type": "stream",
     "text": [
      "File not found: expansion_features=300_layers=5_dataset=majajhong_shuffled, region: V4\n"
     ]
    },
    {
     "name": "stderr",
     "output_type": "stream",
     "text": [
      "  0%|                                           | 0/2 [00:00<?, ?it/s]\n"
     ]
    },
    {
     "name": "stdout",
     "output_type": "stream",
     "text": [
      "File not found: expansion_features=3000_layers=5_dataset=majajhong_shuffled, region: V4\n"
     ]
    },
    {
     "name": "stderr",
     "output_type": "stream",
     "text": [
      "  0%|                                           | 0/2 [00:00<?, ?it/s]\n"
     ]
    },
    {
     "name": "stdout",
     "output_type": "stream",
     "text": [
      "File not found: expansion_features=30000_layers=5_dataset=majajhong_shuffled, region: V4\n"
     ]
    },
    {
     "name": "stderr",
     "output_type": "stream",
     "text": [
      "100%|███████████████████████████████████| 2/2 [00:00<00:00,  7.74it/s]\n",
      "100%|███████████████████████████████████| 2/2 [00:00<00:00,  8.49it/s]\n",
      "100%|███████████████████████████████████| 2/2 [00:00<00:00,  8.52it/s]\n",
      "100%|███████████████████████████████████| 2/2 [00:00<00:00,  8.53it/s]\n",
      "100%|███████████████████████████████████| 2/2 [00:00<00:00,  8.50it/s]\n"
     ]
    }
   ],
   "source": [
    "#dataset = 'naturalscenes'\n",
    "dataset = 'majajhong'\n",
    "info_dict = DATASET_INFO_DICT[dataset]\n",
    "dataset  = dataset + '_shuffled'\n",
    "\n",
    "\n",
    "n_rows = info_dict['test_data_size']\n",
    "all_sampled_indices = np.random.choice(n_rows, (1000, n_rows), replace=True) # Sample indices for all bootstraps at once\n",
    "\n",
    "for region in info_dict['regions']:\n",
    "     \n",
    "    # engineered models \n",
    "    get_bootstrap_data(models= ['expansion'],\n",
    "                        features=info_dict['expansion_features'],\n",
    "                        dataset=dataset, \n",
    "                        subjects=info_dict['subjects'],\n",
    "                        layers = 5,\n",
    "                        file_name = 'engineered',\n",
    "                        region=region,\n",
    "                        all_sampled_indices=all_sampled_indices)"
   ]
  },
  {
   "cell_type": "markdown",
   "id": "456a274f-2239-4405-bfb6-689c51f92863",
   "metadata": {
    "jp-MarkdownHeadingCollapsed": true
   },
   "source": [
    "#### load bootstrap data"
   ]
  },
  {
   "cell_type": "code",
   "execution_count": 4,
   "id": "1a9f3d7e-6e1d-4f30-ba18-ea9c6d8cce86",
   "metadata": {},
   "outputs": [],
   "source": [
    "DATASET = 'majajhong' # one of ['majajhong', 'naturalscenes']\n",
    "region = 'IT' # for majajhong: [V4,IT], for naturalscenes: [early visual stream, midventral visual stream, ventral visual stream]\n",
    "\n",
    "# DATASET = 'naturalscenes'\n",
    "# region = 'ventral visual stream'"
   ]
  },
  {
   "cell_type": "code",
   "execution_count": 5,
   "id": "aa80f182-3f4c-48e7-9055-bb820d34821d",
   "metadata": {},
   "outputs": [],
   "source": [
    "# load bootstrap data\n",
    "\n",
    "with open(os.path.join(PATH_TO_BOOTSTRAP,f'bootstrap-results-expansion-{DATASET}_shuffled-{region}-df.pkl'), 'rb') as file:\n",
    "    df_engineered_shuffled = pickle.load(file)\n",
    "    \n",
    "with open(os.path.join(PATH_TO_BOOTSTRAP,f'bootstrap-results-engineered-{DATASET}-{region}-df.pkl'), 'rb') as file:\n",
    "    df_engineered = pickle.load(file)\n",
    "\n",
    "with open(os.path.join(PATH_TO_BOOTSTRAP,f'bootstrap-results-alexnet-{DATASET}-{region}-df.pkl'), 'rb') as file:\n",
    "    df_alexnet = pickle.load(file)  "
   ]
  },
  {
   "cell_type": "code",
   "execution_count": 6,
   "id": "ea9a1518-2d50-4d8f-b361-6ada9b502bb8",
   "metadata": {},
   "outputs": [],
   "source": [
    "df_engineered['features'] = df_engineered['features'].apply(lambda x: int(x)*36)\n",
    "df_engineered_shuffled['features'] = df_engineered_shuffled['features'].apply(lambda x: int(x)*36)\n",
    "\n",
    "df_engineered['dataset'] = 'Local connectivity'\n",
    "df_engineered_shuffled['dataset'] = 'Dispersed connectivity'\n",
    "\n",
    "df = pd.concat([df_engineered,df_engineered_shuffled])\n",
    "\n",
    "names ={'expansion':'Expansion'}\n",
    "palette ={'Local connectivity':'royalblue','Dispersed connectivity':'indianred'}\n",
    "df['model'] = df['model'].map(names)\n",
    "df['color'] = df['dataset'].map(palette)\n",
    "\n",
    "df = df.dropna(subset='model').reset_index()"
   ]
  },
  {
   "cell_type": "code",
   "execution_count": 74,
   "id": "ddd3f424-5f08-4b9f-978e-1ae26e439b97",
   "metadata": {},
   "outputs": [
    {
     "data": {
      "image/png": "[encoded data removed]",
      "text/plain": [
       "<Figure size 600x600 with 1 Axes>"
      ]
     },
     "metadata": {},
     "output_type": "display_data"
    }
   ],
   "source": [
    "rcParams['figure.figsize'] = (6,6)  \n",
    "\n",
    "# main plot\n",
    "ax1 = sns.lineplot(data = df, x='features', y='score', hue='dataset', marker='o',palette = palette)\n",
    "# adding error bars for the 95% confidence interval\n",
    "for i in range(len(df)):\n",
    "    plt.errorbar(df['features'][i], df['score'][i], \n",
    "                 yerr=[[df['score'][i] - df['lower'][i]], [df['upper'][i] - df['score'][i]]], \n",
    "                 fmt='none', capsize=5, color=df['color'][i])\n",
    "    \n",
    "# alexnet results\n",
    "plt.axhline(y=df_alexnet['score'][0], color='gray', linestyle='--', label='AlexNet')\n",
    "# adding confidence interval\n",
    "plt.fill_between(np.arange(df['features'].min()/3,df['features'].max()*3), \n",
    "                 df_alexnet['lower'], df_alexnet['upper'], color='gray', alpha=0.2)\n",
    "\n",
    "\n",
    "\n",
    "plt.xlim(df['features'].min()/2,df['features'].max()*2)\n",
    "plt.xticks(size=15)\n",
    "plt.yticks(size=15)\n",
    "ax1.set_xscale(\"log\")        \n",
    "plt.ylim(0,0.65) if region == 'IT' else plt.ylim(0,0.45)\n",
    "ax1.legend(frameon=False,fontsize=12) if region == 'IT' else ax1.legend_.remove()\n",
    "plt.xlabel('')\n",
    "plt.ylabel('')\n",
    "plt.savefig(f'figures/shuffled_pixels_{DATASET}_{region}.png', dpi=200) \n",
    "plt.show()"
   ]
  },
  {
   "cell_type": "markdown",
   "id": "a0d67f84-13a8-41fa-a7a5-8be93d60df33",
   "metadata": {
    "jp-MarkdownHeadingCollapsed": true
   },
   "source": [
    "# Different non-linearities"
   ]
  },
  {
   "cell_type": "markdown",
   "id": "3364fc7b-57c3-48e4-9f62-78bf02c69843",
   "metadata": {},
   "source": [
    "#### run bootstrap "
   ]
  },
  {
   "cell_type": "code",
   "execution_count": 80,
   "id": "506d72d2-5a73-489b-a508-1af3081a31ed",
   "metadata": {},
   "outputs": [
    {
     "name": "stderr",
     "output_type": "stream",
     "text": [
      "100%|███████████████████████████████████| 8/8 [00:23<00:00,  2.96s/it]\n",
      "100%|███████████████████████████████████| 8/8 [00:23<00:00,  2.95s/it]\n",
      "100%|███████████████████████████████████| 8/8 [00:23<00:00,  2.95s/it]\n",
      "100%|███████████████████████████████████| 8/8 [00:23<00:00,  2.95s/it]\n",
      "100%|███████████████████████████████████| 8/8 [00:23<00:00,  2.95s/it]\n",
      "100%|███████████████████████████████████| 8/8 [00:07<00:00,  1.02it/s]\n",
      "  0%|                                           | 0/8 [00:00<?, ?it/s]\n"
     ]
    },
    {
     "name": "stdout",
     "output_type": "stream",
     "text": [
      "File not found: expansion_features=3000_layers=5_dataset=naturalscenes_leaky_relu, region: midventral visual stream\n"
     ]
    },
    {
     "name": "stderr",
     "output_type": "stream",
     "text": [
      "  0%|                                           | 0/8 [00:00<?, ?it/s]\n"
     ]
    },
    {
     "name": "stdout",
     "output_type": "stream",
     "text": [
      "File not found: expansion_features=3000_layers=5_dataset=naturalscenes_gelu, region: midventral visual stream\n"
     ]
    },
    {
     "name": "stderr",
     "output_type": "stream",
     "text": [
      "  0%|                                           | 0/8 [00:00<?, ?it/s]\n"
     ]
    },
    {
     "name": "stdout",
     "output_type": "stream",
     "text": [
      "File not found: expansion_features=3000_layers=5_dataset=naturalscenes_elu, region: midventral visual stream\n"
     ]
    },
    {
     "name": "stderr",
     "output_type": "stream",
     "text": [
      "  0%|                                           | 0/8 [00:00<?, ?it/s]\n"
     ]
    },
    {
     "name": "stdout",
     "output_type": "stream",
     "text": [
      "File not found: expansion_features=3000_layers=5_dataset=naturalscenes_abs, region: midventral visual stream\n"
     ]
    },
    {
     "name": "stderr",
     "output_type": "stream",
     "text": [
      "100%|███████████████████████████████████| 8/8 [00:29<00:00,  3.63s/it]\n",
      "  0%|                                           | 0/8 [00:00<?, ?it/s]\n"
     ]
    },
    {
     "name": "stdout",
     "output_type": "stream",
     "text": [
      "File not found: expansion_features=3000_layers=5_dataset=naturalscenes_leaky_relu, region: early visual stream\n"
     ]
    },
    {
     "name": "stderr",
     "output_type": "stream",
     "text": [
      "  0%|                                           | 0/8 [00:00<?, ?it/s]\n"
     ]
    },
    {
     "name": "stdout",
     "output_type": "stream",
     "text": [
      "File not found: expansion_features=3000_layers=5_dataset=naturalscenes_gelu, region: early visual stream\n"
     ]
    },
    {
     "name": "stderr",
     "output_type": "stream",
     "text": [
      "  0%|                                           | 0/8 [00:00<?, ?it/s]\n"
     ]
    },
    {
     "name": "stdout",
     "output_type": "stream",
     "text": [
      "File not found: expansion_features=3000_layers=5_dataset=naturalscenes_elu, region: early visual stream\n"
     ]
    },
    {
     "name": "stderr",
     "output_type": "stream",
     "text": [
      "  0%|                                           | 0/8 [00:00<?, ?it/s]"
     ]
    },
    {
     "name": "stdout",
     "output_type": "stream",
     "text": [
      "File not found: expansion_features=3000_layers=5_dataset=naturalscenes_abs, region: early visual stream\n"
     ]
    },
    {
     "name": "stderr",
     "output_type": "stream",
     "text": [
      "\n"
     ]
    }
   ],
   "source": [
    "dataset = 'naturalscenes'\n",
    "#dataset = 'majajhong'\n",
    "info_dict = DATASET_INFO_DICT[dataset]\n",
    "\n",
    "\n",
    "n_rows = info_dict['test_data_size']\n",
    "all_sampled_indices = np.random.choice(n_rows, (1000, n_rows), replace=True) # Sample indices for all bootstraps at once\n",
    "\n",
    "for region in info_dict['regions']:\n",
    "     \n",
    "    # engineered models \n",
    "    get_bootstrap_data(models= ['expansion'],\n",
    "                        features=[3000],\n",
    "                        dataset=dataset, \n",
    "                        subjects=info_dict['subjects'],\n",
    "                        nl_types=['relu','leaky_relu','gelu','elu','abs'],\n",
    "                        layers = 5,\n",
    "                        file_name = 'non-linearities',\n",
    "                        region=region,\n",
    "                        all_sampled_indices=all_sampled_indices)"
   ]
  },
  {
   "cell_type": "markdown",
   "id": "9ac51125-5347-46f2-bc0b-970d0deb67ed",
   "metadata": {},
   "source": [
    "#### load bootstrap data"
   ]
  },
  {
   "cell_type": "code",
   "execution_count": 81,
   "id": "fcc42729-f0b0-4520-be71-91f5ea32aaba",
   "metadata": {},
   "outputs": [],
   "source": [
    "DATASET = 'majajhong' # one of ['majajhong', 'naturalscenes']\n",
    "region = 'IT' # for majajhong: [V4,IT], for naturalscenes: [early visual stream, midventral visual stream, ventral visual stream]\n",
    "\n",
    "DATASET = 'naturalscenes'\n",
    "region = 'ventral visual stream'"
   ]
  },
  {
   "cell_type": "code",
   "execution_count": 82,
   "id": "fa0ff6b1-d915-473a-84a4-f677cd8f8b78",
   "metadata": {},
   "outputs": [],
   "source": [
    "with open(os.path.join(PATH_TO_BOOTSTRAP,f'bootstrap-results-non-linearities-{DATASET}-{region}-df.pkl'), 'rb') as file:\n",
    "    df = pickle.load(file)"
   ]
  },
  {
   "cell_type": "code",
   "execution_count": 86,
   "id": "a5a858a4-1753-4a2e-bff7-ab2a6e0fc636",
   "metadata": {},
   "outputs": [
    {
     "name": "stderr",
     "output_type": "stream",
     "text": [
      "No artists with labels found to put in legend.  Note that artists whose label start with an underscore are ignored when legend() is called with no argument.\n"
     ]
    },
    {
     "data": {
      "image/png": "[encoded data removed]",
      "text/plain": [
       "<Figure size 600x700 with 1 Axes>"
      ]
     },
     "metadata": {},
     "output_type": "display_data"
    }
   ],
   "source": [
    "palette = {         \n",
    "    'relu':'royalblue',\n",
    "    'gelu':'gold',\n",
    "    'leaky_relu':'indianred',\n",
    "    'elu':'mediumslateblue',\n",
    "    'abs':'mediumseagreen',\n",
    "}\n",
    "\n",
    "sns.set_context(context='talk')    \n",
    "plt.rcParams['figure.figsize'] = (6,7)\n",
    "\n",
    "ax1 = sns.barplot(x = df['nl_type'], \n",
    "                  y = df['score'], \n",
    "                       palette=palette,\n",
    "                       width=0.6, \n",
    "                       dodge=False)            \n",
    "    \n",
    "ax1.legend().remove()\n",
    "plt.xlabel('')\n",
    "plt.ylabel(size=22, ylabel='Accuracy score')    \n",
    "plt.xticks(size=14)\n",
    "plt.title('activation functions (region = IT)')\n",
    "plt.ylim(0,0.65) if region == 'IT' else plt.ylim(0,0.3)\n",
    "plt.savefig(f'figures/no_labels_nls_{DATASET}_{region}.png', bbox_inches='tight', dpi=300)"
   ]
  },
  {
   "cell_type": "markdown",
   "id": "f45437c9-218f-40cd-bb48-6560adb66420",
   "metadata": {
    "jp-MarkdownHeadingCollapsed": true
   },
   "source": [
    "# Different initializations"
   ]
  },
  {
   "cell_type": "markdown",
   "id": "1c5c962d-1f7a-48e6-bee9-2d16a19e23f8",
   "metadata": {
    "jp-MarkdownHeadingCollapsed": true
   },
   "source": [
    "#### run bootstrap "
   ]
  },
  {
   "cell_type": "code",
   "execution_count": 98,
   "id": "ad93c7a7-6a7a-438d-8551-58f284a68776",
   "metadata": {},
   "outputs": [
    {
     "name": "stderr",
     "output_type": "stream",
     "text": [
      "100%|███████████████████████████████████| 8/8 [00:23<00:00,  2.95s/it]\n",
      "100%|███████████████████████████████████| 8/8 [00:23<00:00,  2.95s/it]\n",
      "100%|███████████████████████████████████| 8/8 [00:23<00:00,  2.95s/it]\n",
      "100%|███████████████████████████████████| 8/8 [00:23<00:00,  2.95s/it]\n",
      "100%|███████████████████████████████████| 8/8 [00:23<00:00,  2.95s/it]\n",
      "100%|███████████████████████████████████| 8/8 [00:23<00:00,  2.96s/it]\n",
      "100%|███████████████████████████████████| 8/8 [00:23<00:00,  2.95s/it]\n",
      "100%|███████████████████████████████████| 8/8 [00:23<00:00,  2.95s/it]\n",
      "100%|███████████████████████████████████| 8/8 [00:23<00:00,  2.95s/it]\n",
      "100%|███████████████████████████████████| 8/8 [00:23<00:00,  2.95s/it]\n",
      "100%|███████████████████████████████████| 8/8 [00:23<00:00,  2.95s/it]\n",
      "100%|███████████████████████████████████| 8/8 [00:23<00:00,  2.95s/it]\n",
      "100%|███████████████████████████████████| 8/8 [00:23<00:00,  2.95s/it]\n",
      "100%|███████████████████████████████████| 8/8 [00:23<00:00,  2.95s/it]\n",
      "100%|███████████████████████████████████| 8/8 [00:23<00:00,  2.96s/it]\n",
      "100%|███████████████████████████████████| 8/8 [00:23<00:00,  2.95s/it]\n",
      "100%|███████████████████████████████████| 8/8 [00:23<00:00,  2.95s/it]\n",
      "100%|███████████████████████████████████| 8/8 [00:23<00:00,  2.95s/it]\n",
      "100%|███████████████████████████████████| 8/8 [00:23<00:00,  2.95s/it]\n",
      "100%|███████████████████████████████████| 8/8 [00:23<00:00,  2.95s/it]\n",
      "100%|███████████████████████████████████| 8/8 [00:23<00:00,  2.96s/it]\n",
      "100%|███████████████████████████████████| 8/8 [00:23<00:00,  2.94s/it]\n",
      "100%|███████████████████████████████████| 8/8 [00:23<00:00,  2.95s/it]\n",
      "100%|███████████████████████████████████| 8/8 [00:23<00:00,  2.97s/it]\n",
      "100%|███████████████████████████████████| 8/8 [00:24<00:00,  3.03s/it]\n",
      "100%|███████████████████████████████████| 8/8 [00:23<00:00,  2.95s/it]\n",
      "100%|███████████████████████████████████| 8/8 [00:23<00:00,  2.99s/it]\n",
      "100%|███████████████████████████████████| 8/8 [00:23<00:00,  2.96s/it]\n",
      "  0%|                                           | 0/8 [00:00<?, ?it/s]\n"
     ]
    },
    {
     "name": "stdout",
     "output_type": "stream",
     "text": [
      "File not found: expansion_features=30000_layers=5_dataset=naturalscenes, region: ventral visual stream\n"
     ]
    },
    {
     "name": "stderr",
     "output_type": "stream",
     "text": [
      "  0%|                                           | 0/8 [00:00<?, ?it/s]\n"
     ]
    },
    {
     "name": "stdout",
     "output_type": "stream",
     "text": [
      "File not found: expansion_features=30000_layers=5_dataset=naturalscenes_kaiming_normal, region: ventral visual stream\n"
     ]
    },
    {
     "name": "stderr",
     "output_type": "stream",
     "text": [
      "  0%|                                           | 0/8 [00:00<?, ?it/s]\n"
     ]
    },
    {
     "name": "stdout",
     "output_type": "stream",
     "text": [
      "File not found: expansion_features=30000_layers=5_dataset=naturalscenes_orthogonal, region: ventral visual stream\n"
     ]
    },
    {
     "name": "stderr",
     "output_type": "stream",
     "text": [
      "  0%|                                           | 0/8 [00:00<?, ?it/s]\n"
     ]
    },
    {
     "name": "stdout",
     "output_type": "stream",
     "text": [
      "File not found: expansion_features=30000_layers=5_dataset=naturalscenes_xavier_uniform, region: ventral visual stream\n"
     ]
    },
    {
     "name": "stderr",
     "output_type": "stream",
     "text": [
      "  0%|                                           | 0/8 [00:00<?, ?it/s]\n"
     ]
    },
    {
     "name": "stdout",
     "output_type": "stream",
     "text": [
      "File not found: expansion_features=30000_layers=5_dataset=naturalscenes_xavier_normal, region: ventral visual stream\n"
     ]
    },
    {
     "name": "stderr",
     "output_type": "stream",
     "text": [
      "  0%|                                           | 0/8 [00:00<?, ?it/s]\n"
     ]
    },
    {
     "name": "stdout",
     "output_type": "stream",
     "text": [
      "File not found: expansion_features=30000_layers=5_dataset=naturalscenes_uniform, region: ventral visual stream\n"
     ]
    },
    {
     "name": "stderr",
     "output_type": "stream",
     "text": [
      "  0%|                                           | 0/8 [00:00<?, ?it/s]\n"
     ]
    },
    {
     "name": "stdout",
     "output_type": "stream",
     "text": [
      "File not found: expansion_features=30000_layers=5_dataset=naturalscenes_normal, region: ventral visual stream\n"
     ]
    },
    {
     "name": "stderr",
     "output_type": "stream",
     "text": [
      "100%|███████████████████████████████████| 8/8 [00:06<00:00,  1.23it/s]\n",
      "  0%|                                           | 0/8 [00:00<?, ?it/s]\n"
     ]
    },
    {
     "name": "stdout",
     "output_type": "stream",
     "text": [
      "File not found: expansion_features=3_layers=5_dataset=naturalscenes_kaiming_normal, region: midventral visual stream\n"
     ]
    },
    {
     "name": "stderr",
     "output_type": "stream",
     "text": [
      "  0%|                                           | 0/8 [00:00<?, ?it/s]\n"
     ]
    },
    {
     "name": "stdout",
     "output_type": "stream",
     "text": [
      "File not found: expansion_features=3_layers=5_dataset=naturalscenes_orthogonal, region: midventral visual stream\n"
     ]
    },
    {
     "name": "stderr",
     "output_type": "stream",
     "text": [
      "  0%|                                           | 0/8 [00:00<?, ?it/s]\n"
     ]
    },
    {
     "name": "stdout",
     "output_type": "stream",
     "text": [
      "File not found: expansion_features=3_layers=5_dataset=naturalscenes_xavier_uniform, region: midventral visual stream\n"
     ]
    },
    {
     "name": "stderr",
     "output_type": "stream",
     "text": [
      "  0%|                                           | 0/8 [00:00<?, ?it/s]\n"
     ]
    },
    {
     "name": "stdout",
     "output_type": "stream",
     "text": [
      "File not found: expansion_features=3_layers=5_dataset=naturalscenes_xavier_normal, region: midventral visual stream\n"
     ]
    },
    {
     "name": "stderr",
     "output_type": "stream",
     "text": [
      "  0%|                                           | 0/8 [00:00<?, ?it/s]\n"
     ]
    },
    {
     "name": "stdout",
     "output_type": "stream",
     "text": [
      "File not found: expansion_features=3_layers=5_dataset=naturalscenes_uniform, region: midventral visual stream\n"
     ]
    },
    {
     "name": "stderr",
     "output_type": "stream",
     "text": [
      "  0%|                                           | 0/8 [00:00<?, ?it/s]\n"
     ]
    },
    {
     "name": "stdout",
     "output_type": "stream",
     "text": [
      "File not found: expansion_features=3_layers=5_dataset=naturalscenes_normal, region: midventral visual stream\n"
     ]
    },
    {
     "name": "stderr",
     "output_type": "stream",
     "text": [
      "100%|███████████████████████████████████| 8/8 [00:06<00:00,  1.24it/s]\n",
      "  0%|                                           | 0/8 [00:00<?, ?it/s]\n"
     ]
    },
    {
     "name": "stdout",
     "output_type": "stream",
     "text": [
      "File not found: expansion_features=30_layers=5_dataset=naturalscenes_kaiming_normal, region: midventral visual stream\n"
     ]
    },
    {
     "name": "stderr",
     "output_type": "stream",
     "text": [
      "  0%|                                           | 0/8 [00:00<?, ?it/s]\n"
     ]
    },
    {
     "name": "stdout",
     "output_type": "stream",
     "text": [
      "File not found: expansion_features=30_layers=5_dataset=naturalscenes_orthogonal, region: midventral visual stream\n"
     ]
    },
    {
     "name": "stderr",
     "output_type": "stream",
     "text": [
      "  0%|                                           | 0/8 [00:00<?, ?it/s]\n"
     ]
    },
    {
     "name": "stdout",
     "output_type": "stream",
     "text": [
      "File not found: expansion_features=30_layers=5_dataset=naturalscenes_xavier_uniform, region: midventral visual stream\n"
     ]
    },
    {
     "name": "stderr",
     "output_type": "stream",
     "text": [
      "  0%|                                           | 0/8 [00:00<?, ?it/s]\n"
     ]
    },
    {
     "name": "stdout",
     "output_type": "stream",
     "text": [
      "File not found: expansion_features=30_layers=5_dataset=naturalscenes_xavier_normal, region: midventral visual stream\n"
     ]
    },
    {
     "name": "stderr",
     "output_type": "stream",
     "text": [
      "  0%|                                           | 0/8 [00:00<?, ?it/s]\n"
     ]
    },
    {
     "name": "stdout",
     "output_type": "stream",
     "text": [
      "File not found: expansion_features=30_layers=5_dataset=naturalscenes_uniform, region: midventral visual stream\n"
     ]
    },
    {
     "name": "stderr",
     "output_type": "stream",
     "text": [
      "  0%|                                           | 0/8 [00:00<?, ?it/s]\n"
     ]
    },
    {
     "name": "stdout",
     "output_type": "stream",
     "text": [
      "File not found: expansion_features=30_layers=5_dataset=naturalscenes_normal, region: midventral visual stream\n"
     ]
    },
    {
     "name": "stderr",
     "output_type": "stream",
     "text": [
      "100%|███████████████████████████████████| 8/8 [00:06<00:00,  1.24it/s]\n",
      "  0%|                                           | 0/8 [00:00<?, ?it/s]\n"
     ]
    },
    {
     "name": "stdout",
     "output_type": "stream",
     "text": [
      "File not found: expansion_features=300_layers=5_dataset=naturalscenes_kaiming_normal, region: midventral visual stream\n"
     ]
    },
    {
     "name": "stderr",
     "output_type": "stream",
     "text": [
      "  0%|                                           | 0/8 [00:00<?, ?it/s]\n"
     ]
    },
    {
     "name": "stdout",
     "output_type": "stream",
     "text": [
      "File not found: expansion_features=300_layers=5_dataset=naturalscenes_orthogonal, region: midventral visual stream\n"
     ]
    },
    {
     "name": "stderr",
     "output_type": "stream",
     "text": [
      "  0%|                                           | 0/8 [00:00<?, ?it/s]\n"
     ]
    },
    {
     "name": "stdout",
     "output_type": "stream",
     "text": [
      "File not found: expansion_features=300_layers=5_dataset=naturalscenes_xavier_uniform, region: midventral visual stream\n"
     ]
    },
    {
     "name": "stderr",
     "output_type": "stream",
     "text": [
      "  0%|                                           | 0/8 [00:00<?, ?it/s]\n"
     ]
    },
    {
     "name": "stdout",
     "output_type": "stream",
     "text": [
      "File not found: expansion_features=300_layers=5_dataset=naturalscenes_xavier_normal, region: midventral visual stream\n"
     ]
    },
    {
     "name": "stderr",
     "output_type": "stream",
     "text": [
      "  0%|                                           | 0/8 [00:00<?, ?it/s]\n"
     ]
    },
    {
     "name": "stdout",
     "output_type": "stream",
     "text": [
      "File not found: expansion_features=300_layers=5_dataset=naturalscenes_uniform, region: midventral visual stream\n"
     ]
    },
    {
     "name": "stderr",
     "output_type": "stream",
     "text": [
      "  0%|                                           | 0/8 [00:00<?, ?it/s]\n"
     ]
    },
    {
     "name": "stdout",
     "output_type": "stream",
     "text": [
      "File not found: expansion_features=300_layers=5_dataset=naturalscenes_normal, region: midventral visual stream\n"
     ]
    },
    {
     "name": "stderr",
     "output_type": "stream",
     "text": [
      "100%|███████████████████████████████████| 8/8 [00:06<00:00,  1.24it/s]\n",
      "  0%|                                           | 0/8 [00:00<?, ?it/s]\n"
     ]
    },
    {
     "name": "stdout",
     "output_type": "stream",
     "text": [
      "File not found: expansion_features=3000_layers=5_dataset=naturalscenes_kaiming_normal, region: midventral visual stream\n"
     ]
    },
    {
     "name": "stderr",
     "output_type": "stream",
     "text": [
      "  0%|                                           | 0/8 [00:00<?, ?it/s]\n"
     ]
    },
    {
     "name": "stdout",
     "output_type": "stream",
     "text": [
      "File not found: expansion_features=3000_layers=5_dataset=naturalscenes_orthogonal, region: midventral visual stream\n"
     ]
    },
    {
     "name": "stderr",
     "output_type": "stream",
     "text": [
      "  0%|                                           | 0/8 [00:00<?, ?it/s]\n"
     ]
    },
    {
     "name": "stdout",
     "output_type": "stream",
     "text": [
      "File not found: expansion_features=3000_layers=5_dataset=naturalscenes_xavier_uniform, region: midventral visual stream\n"
     ]
    },
    {
     "name": "stderr",
     "output_type": "stream",
     "text": [
      "  0%|                                           | 0/8 [00:00<?, ?it/s]\n"
     ]
    },
    {
     "name": "stdout",
     "output_type": "stream",
     "text": [
      "File not found: expansion_features=3000_layers=5_dataset=naturalscenes_xavier_normal, region: midventral visual stream\n"
     ]
    },
    {
     "name": "stderr",
     "output_type": "stream",
     "text": [
      "  0%|                                           | 0/8 [00:00<?, ?it/s]\n"
     ]
    },
    {
     "name": "stdout",
     "output_type": "stream",
     "text": [
      "File not found: expansion_features=3000_layers=5_dataset=naturalscenes_uniform, region: midventral visual stream\n"
     ]
    },
    {
     "name": "stderr",
     "output_type": "stream",
     "text": [
      "  0%|                                           | 0/8 [00:00<?, ?it/s]\n"
     ]
    },
    {
     "name": "stdout",
     "output_type": "stream",
     "text": [
      "File not found: expansion_features=3000_layers=5_dataset=naturalscenes_normal, region: midventral visual stream\n"
     ]
    },
    {
     "name": "stderr",
     "output_type": "stream",
     "text": [
      "  0%|                                           | 0/8 [00:00<?, ?it/s]\n"
     ]
    },
    {
     "name": "stdout",
     "output_type": "stream",
     "text": [
      "File not found: expansion_features=30000_layers=5_dataset=naturalscenes, region: midventral visual stream\n"
     ]
    },
    {
     "name": "stderr",
     "output_type": "stream",
     "text": [
      "  0%|                                           | 0/8 [00:00<?, ?it/s]\n"
     ]
    },
    {
     "name": "stdout",
     "output_type": "stream",
     "text": [
      "File not found: expansion_features=30000_layers=5_dataset=naturalscenes_kaiming_normal, region: midventral visual stream\n"
     ]
    },
    {
     "name": "stderr",
     "output_type": "stream",
     "text": [
      "  0%|                                           | 0/8 [00:00<?, ?it/s]\n"
     ]
    },
    {
     "name": "stdout",
     "output_type": "stream",
     "text": [
      "File not found: expansion_features=30000_layers=5_dataset=naturalscenes_orthogonal, region: midventral visual stream\n"
     ]
    },
    {
     "name": "stderr",
     "output_type": "stream",
     "text": [
      "  0%|                                           | 0/8 [00:00<?, ?it/s]\n"
     ]
    },
    {
     "name": "stdout",
     "output_type": "stream",
     "text": [
      "File not found: expansion_features=30000_layers=5_dataset=naturalscenes_xavier_uniform, region: midventral visual stream\n"
     ]
    },
    {
     "name": "stderr",
     "output_type": "stream",
     "text": [
      "  0%|                                           | 0/8 [00:00<?, ?it/s]\n"
     ]
    },
    {
     "name": "stdout",
     "output_type": "stream",
     "text": [
      "File not found: expansion_features=30000_layers=5_dataset=naturalscenes_xavier_normal, region: midventral visual stream\n"
     ]
    },
    {
     "name": "stderr",
     "output_type": "stream",
     "text": [
      "  0%|                                           | 0/8 [00:00<?, ?it/s]\n"
     ]
    },
    {
     "name": "stdout",
     "output_type": "stream",
     "text": [
      "File not found: expansion_features=30000_layers=5_dataset=naturalscenes_uniform, region: midventral visual stream\n"
     ]
    },
    {
     "name": "stderr",
     "output_type": "stream",
     "text": [
      "  0%|                                           | 0/8 [00:00<?, ?it/s]\n"
     ]
    },
    {
     "name": "stdout",
     "output_type": "stream",
     "text": [
      "File not found: expansion_features=30000_layers=5_dataset=naturalscenes_normal, region: midventral visual stream\n"
     ]
    },
    {
     "name": "stderr",
     "output_type": "stream",
     "text": [
      "100%|███████████████████████████████████| 8/8 [00:28<00:00,  3.61s/it]\n",
      "  0%|                                           | 0/8 [00:00<?, ?it/s]\n"
     ]
    },
    {
     "name": "stdout",
     "output_type": "stream",
     "text": [
      "File not found: expansion_features=3_layers=5_dataset=naturalscenes_kaiming_normal, region: early visual stream\n"
     ]
    },
    {
     "name": "stderr",
     "output_type": "stream",
     "text": [
      "  0%|                                           | 0/8 [00:00<?, ?it/s]\n"
     ]
    },
    {
     "name": "stdout",
     "output_type": "stream",
     "text": [
      "File not found: expansion_features=3_layers=5_dataset=naturalscenes_orthogonal, region: early visual stream\n"
     ]
    },
    {
     "name": "stderr",
     "output_type": "stream",
     "text": [
      "  0%|                                           | 0/8 [00:00<?, ?it/s]\n"
     ]
    },
    {
     "name": "stdout",
     "output_type": "stream",
     "text": [
      "File not found: expansion_features=3_layers=5_dataset=naturalscenes_xavier_uniform, region: early visual stream\n"
     ]
    },
    {
     "name": "stderr",
     "output_type": "stream",
     "text": [
      "  0%|                                           | 0/8 [00:00<?, ?it/s]\n"
     ]
    },
    {
     "name": "stdout",
     "output_type": "stream",
     "text": [
      "File not found: expansion_features=3_layers=5_dataset=naturalscenes_xavier_normal, region: early visual stream\n"
     ]
    },
    {
     "name": "stderr",
     "output_type": "stream",
     "text": [
      "  0%|                                           | 0/8 [00:00<?, ?it/s]\n"
     ]
    },
    {
     "name": "stdout",
     "output_type": "stream",
     "text": [
      "File not found: expansion_features=3_layers=5_dataset=naturalscenes_uniform, region: early visual stream\n"
     ]
    },
    {
     "name": "stderr",
     "output_type": "stream",
     "text": [
      "  0%|                                           | 0/8 [00:00<?, ?it/s]\n"
     ]
    },
    {
     "name": "stdout",
     "output_type": "stream",
     "text": [
      "File not found: expansion_features=3_layers=5_dataset=naturalscenes_normal, region: early visual stream\n"
     ]
    },
    {
     "name": "stderr",
     "output_type": "stream",
     "text": [
      "100%|███████████████████████████████████| 8/8 [00:28<00:00,  3.61s/it]\n",
      "  0%|                                           | 0/8 [00:00<?, ?it/s]\n"
     ]
    },
    {
     "name": "stdout",
     "output_type": "stream",
     "text": [
      "File not found: expansion_features=30_layers=5_dataset=naturalscenes_kaiming_normal, region: early visual stream\n"
     ]
    },
    {
     "name": "stderr",
     "output_type": "stream",
     "text": [
      "  0%|                                           | 0/8 [00:00<?, ?it/s]\n"
     ]
    },
    {
     "name": "stdout",
     "output_type": "stream",
     "text": [
      "File not found: expansion_features=30_layers=5_dataset=naturalscenes_orthogonal, region: early visual stream\n"
     ]
    },
    {
     "name": "stderr",
     "output_type": "stream",
     "text": [
      "  0%|                                           | 0/8 [00:00<?, ?it/s]\n"
     ]
    },
    {
     "name": "stdout",
     "output_type": "stream",
     "text": [
      "File not found: expansion_features=30_layers=5_dataset=naturalscenes_xavier_uniform, region: early visual stream\n"
     ]
    },
    {
     "name": "stderr",
     "output_type": "stream",
     "text": [
      "  0%|                                           | 0/8 [00:00<?, ?it/s]\n"
     ]
    },
    {
     "name": "stdout",
     "output_type": "stream",
     "text": [
      "File not found: expansion_features=30_layers=5_dataset=naturalscenes_xavier_normal, region: early visual stream\n"
     ]
    },
    {
     "name": "stderr",
     "output_type": "stream",
     "text": [
      "  0%|                                           | 0/8 [00:00<?, ?it/s]\n"
     ]
    },
    {
     "name": "stdout",
     "output_type": "stream",
     "text": [
      "File not found: expansion_features=30_layers=5_dataset=naturalscenes_uniform, region: early visual stream\n"
     ]
    },
    {
     "name": "stderr",
     "output_type": "stream",
     "text": [
      "  0%|                                           | 0/8 [00:00<?, ?it/s]\n"
     ]
    },
    {
     "name": "stdout",
     "output_type": "stream",
     "text": [
      "File not found: expansion_features=30_layers=5_dataset=naturalscenes_normal, region: early visual stream\n"
     ]
    },
    {
     "name": "stderr",
     "output_type": "stream",
     "text": [
      "100%|███████████████████████████████████| 8/8 [00:28<00:00,  3.62s/it]\n",
      "  0%|                                           | 0/8 [00:00<?, ?it/s]\n"
     ]
    },
    {
     "name": "stdout",
     "output_type": "stream",
     "text": [
      "File not found: expansion_features=300_layers=5_dataset=naturalscenes_kaiming_normal, region: early visual stream\n"
     ]
    },
    {
     "name": "stderr",
     "output_type": "stream",
     "text": [
      "  0%|                                           | 0/8 [00:00<?, ?it/s]\n"
     ]
    },
    {
     "name": "stdout",
     "output_type": "stream",
     "text": [
      "File not found: expansion_features=300_layers=5_dataset=naturalscenes_orthogonal, region: early visual stream\n"
     ]
    },
    {
     "name": "stderr",
     "output_type": "stream",
     "text": [
      "  0%|                                           | 0/8 [00:00<?, ?it/s]\n"
     ]
    },
    {
     "name": "stdout",
     "output_type": "stream",
     "text": [
      "File not found: expansion_features=300_layers=5_dataset=naturalscenes_xavier_uniform, region: early visual stream\n"
     ]
    },
    {
     "name": "stderr",
     "output_type": "stream",
     "text": [
      "  0%|                                           | 0/8 [00:00<?, ?it/s]\n"
     ]
    },
    {
     "name": "stdout",
     "output_type": "stream",
     "text": [
      "File not found: expansion_features=300_layers=5_dataset=naturalscenes_xavier_normal, region: early visual stream\n"
     ]
    },
    {
     "name": "stderr",
     "output_type": "stream",
     "text": [
      "  0%|                                           | 0/8 [00:00<?, ?it/s]\n"
     ]
    },
    {
     "name": "stdout",
     "output_type": "stream",
     "text": [
      "File not found: expansion_features=300_layers=5_dataset=naturalscenes_uniform, region: early visual stream\n"
     ]
    },
    {
     "name": "stderr",
     "output_type": "stream",
     "text": [
      "  0%|                                           | 0/8 [00:00<?, ?it/s]\n"
     ]
    },
    {
     "name": "stdout",
     "output_type": "stream",
     "text": [
      "File not found: expansion_features=300_layers=5_dataset=naturalscenes_normal, region: early visual stream\n"
     ]
    },
    {
     "name": "stderr",
     "output_type": "stream",
     "text": [
      "100%|███████████████████████████████████| 8/8 [00:28<00:00,  3.61s/it]\n",
      "  0%|                                           | 0/8 [00:00<?, ?it/s]\n"
     ]
    },
    {
     "name": "stdout",
     "output_type": "stream",
     "text": [
      "File not found: expansion_features=3000_layers=5_dataset=naturalscenes_kaiming_normal, region: early visual stream\n"
     ]
    },
    {
     "name": "stderr",
     "output_type": "stream",
     "text": [
      "  0%|                                           | 0/8 [00:00<?, ?it/s]\n"
     ]
    },
    {
     "name": "stdout",
     "output_type": "stream",
     "text": [
      "File not found: expansion_features=3000_layers=5_dataset=naturalscenes_orthogonal, region: early visual stream\n"
     ]
    },
    {
     "name": "stderr",
     "output_type": "stream",
     "text": [
      "  0%|                                           | 0/8 [00:00<?, ?it/s]\n"
     ]
    },
    {
     "name": "stdout",
     "output_type": "stream",
     "text": [
      "File not found: expansion_features=3000_layers=5_dataset=naturalscenes_xavier_uniform, region: early visual stream\n"
     ]
    },
    {
     "name": "stderr",
     "output_type": "stream",
     "text": [
      "  0%|                                           | 0/8 [00:00<?, ?it/s]\n"
     ]
    },
    {
     "name": "stdout",
     "output_type": "stream",
     "text": [
      "File not found: expansion_features=3000_layers=5_dataset=naturalscenes_xavier_normal, region: early visual stream\n"
     ]
    },
    {
     "name": "stderr",
     "output_type": "stream",
     "text": [
      "  0%|                                           | 0/8 [00:00<?, ?it/s]\n"
     ]
    },
    {
     "name": "stdout",
     "output_type": "stream",
     "text": [
      "File not found: expansion_features=3000_layers=5_dataset=naturalscenes_uniform, region: early visual stream\n"
     ]
    },
    {
     "name": "stderr",
     "output_type": "stream",
     "text": [
      "  0%|                                           | 0/8 [00:00<?, ?it/s]\n"
     ]
    },
    {
     "name": "stdout",
     "output_type": "stream",
     "text": [
      "File not found: expansion_features=3000_layers=5_dataset=naturalscenes_normal, region: early visual stream\n"
     ]
    },
    {
     "name": "stderr",
     "output_type": "stream",
     "text": [
      "  0%|                                           | 0/8 [00:00<?, ?it/s]\n"
     ]
    },
    {
     "name": "stdout",
     "output_type": "stream",
     "text": [
      "File not found: expansion_features=30000_layers=5_dataset=naturalscenes, region: early visual stream\n"
     ]
    },
    {
     "name": "stderr",
     "output_type": "stream",
     "text": [
      "  0%|                                           | 0/8 [00:00<?, ?it/s]\n"
     ]
    },
    {
     "name": "stdout",
     "output_type": "stream",
     "text": [
      "File not found: expansion_features=30000_layers=5_dataset=naturalscenes_kaiming_normal, region: early visual stream\n"
     ]
    },
    {
     "name": "stderr",
     "output_type": "stream",
     "text": [
      "  0%|                                           | 0/8 [00:00<?, ?it/s]\n"
     ]
    },
    {
     "name": "stdout",
     "output_type": "stream",
     "text": [
      "File not found: expansion_features=30000_layers=5_dataset=naturalscenes_orthogonal, region: early visual stream\n"
     ]
    },
    {
     "name": "stderr",
     "output_type": "stream",
     "text": [
      "  0%|                                           | 0/8 [00:00<?, ?it/s]\n"
     ]
    },
    {
     "name": "stdout",
     "output_type": "stream",
     "text": [
      "File not found: expansion_features=30000_layers=5_dataset=naturalscenes_xavier_uniform, region: early visual stream\n"
     ]
    },
    {
     "name": "stderr",
     "output_type": "stream",
     "text": [
      "  0%|                                           | 0/8 [00:00<?, ?it/s]\n"
     ]
    },
    {
     "name": "stdout",
     "output_type": "stream",
     "text": [
      "File not found: expansion_features=30000_layers=5_dataset=naturalscenes_xavier_normal, region: early visual stream\n"
     ]
    },
    {
     "name": "stderr",
     "output_type": "stream",
     "text": [
      "  0%|                                           | 0/8 [00:00<?, ?it/s]\n"
     ]
    },
    {
     "name": "stdout",
     "output_type": "stream",
     "text": [
      "File not found: expansion_features=30000_layers=5_dataset=naturalscenes_uniform, region: early visual stream\n"
     ]
    },
    {
     "name": "stderr",
     "output_type": "stream",
     "text": [
      "  0%|                                           | 0/8 [00:00<?, ?it/s]"
     ]
    },
    {
     "name": "stdout",
     "output_type": "stream",
     "text": [
      "File not found: expansion_features=30000_layers=5_dataset=naturalscenes_normal, region: early visual stream\n"
     ]
    },
    {
     "name": "stderr",
     "output_type": "stream",
     "text": [
      "\n"
     ]
    }
   ],
   "source": [
    "dataset = 'naturalscenes'\n",
    "#dataset = 'majajhong'\n",
    "info_dict = DATASET_INFO_DICT[dataset]\n",
    "\n",
    "\n",
    "n_rows = info_dict['test_data_size']\n",
    "all_sampled_indices = np.random.choice(n_rows, (1000, n_rows), replace=True) # Sample indices for all bootstraps at once\n",
    "\n",
    "for region in info_dict['regions']:\n",
    "     \n",
    "    # engineered models \n",
    "    get_bootstrap_data(models= ['expansion'],\n",
    "                        features=[3,30,300,3000,30000],\n",
    "                        dataset=dataset, \n",
    "                        subjects=info_dict['subjects'],\n",
    "                        init_types=['kaiming_uniform','kaiming_normal','orthogonal',\n",
    "                                    'xavier_uniform','xavier_normal','uniform','normal'],\n",
    "                        layers = 5,\n",
    "                        file_name = 'init-type',\n",
    "                        region=region,\n",
    "                        all_sampled_indices=all_sampled_indices)"
   ]
  },
  {
   "cell_type": "markdown",
   "id": "6dd948ae-2c85-4d0d-9179-834b25293258",
   "metadata": {},
   "source": [
    "#### load bootstrap data"
   ]
  },
  {
   "cell_type": "code",
   "execution_count": 99,
   "id": "e290a704-91f5-4ad9-a91a-be3597fe399f",
   "metadata": {},
   "outputs": [],
   "source": [
    "DATASET = 'majajhong' # one of ['majajhong', 'naturalscenes']\n",
    "region = 'IT' # for majajhong: [V4,IT], for naturalscenes: [early visual stream, midventral visual stream, ventral visual stream]\n",
    "\n",
    "DATASET = 'naturalscenes'\n",
    "region = 'ventral visual stream'"
   ]
  },
  {
   "cell_type": "code",
   "execution_count": 100,
   "id": "4e120f1e-d122-4c2a-9660-572daa1d7dff",
   "metadata": {},
   "outputs": [],
   "source": [
    "with open(os.path.join(PATH_TO_BOOTSTRAP,f'bootstrap-results-init-type-{DATASET}-{region}-df.pkl'), 'rb') as file:\n",
    "    df = pickle.load(file)"
   ]
  },
  {
   "cell_type": "code",
   "execution_count": 101,
   "id": "38502b21-2894-44b6-aa80-d03917373b38",
   "metadata": {},
   "outputs": [],
   "source": [
    "palette = {         \n",
    "    'kaiming uniform':'royalblue',\n",
    "    'normal':'gold',\n",
    "    'kaiming normal':'indianred',\n",
    "    'xavier uniform':'mediumslateblue',\n",
    "    'orthogonal':'mediumseagreen',\n",
    "    'uniform':'pink',\n",
    "    'xavier normal':'purple'\n",
    "}\n",
    "\n",
    "df['features'] = df['features'].apply(lambda x: int(x)*36)\n",
    "df['init_type'] = df['init_type'].apply(lambda x: x.replace('_',' '))\n",
    "df['color'] = df['init_type'].map(palette)"
   ]
  },
  {
   "cell_type": "code",
   "execution_count": 102,
   "id": "a06d2bc3-144e-4e58-95f5-7ab4a7bcf00c",
   "metadata": {},
   "outputs": [
    {
     "data": {
      "image/png": "[encoded data removed]",
      "text/plain": [
       "<Figure size 800x800 with 1 Axes>"
      ]
     },
     "metadata": {},
     "output_type": "display_data"
    }
   ],
   "source": [
    "\n",
    "# main results\n",
    "rcParams['figure.figsize'] = (8,8)  \n",
    "\n",
    "# main plot\n",
    "ax1 = sns.lineplot(data = df, x='features', y='score', hue='init_type', marker='o',palette = palette)\n",
    "\n",
    "# adding error bars for the 95% confidence interval\n",
    "for i in range(len(df)):\n",
    "    plt.errorbar(df['features'][i], df['score'][i], \n",
    "                 yerr=[[df['score'][i] - df['lower'][i]], \n",
    "                       [df['upper'][i] - df['score'][i]]], \n",
    "                 fmt='none', capsize=5, color=df['color'][i])\n",
    "\n",
    "\n",
    "plt.xlabel('')\n",
    "plt.ylabel('')\n",
    "plt.ylim(0,0.65) if region == 'IT' else plt.ylim(0,0.3)\n",
    "plt.xticks(size=15)\n",
    "plt.yticks(size=15)\n",
    "ax1.set_xscale(\"log\")    \n",
    "ax1.legend(frameon=False,fontsize=12)\n",
    "plt.savefig(f'figures/init_{DATASET}_{region}.png', dpi=200) \n",
    "plt.show()"
   ]
  },
  {
   "cell_type": "markdown",
   "id": "e2453089-646d-4460-8137-724acf78e0b0",
   "metadata": {},
   "source": [
    "# Ratios"
   ]
  },
  {
   "cell_type": "markdown",
   "id": "525f9c08-b098-4fe5-848a-cd73611f9345",
   "metadata": {
    "jp-MarkdownHeadingCollapsed": true
   },
   "source": [
    "### main results"
   ]
  },
  {
   "cell_type": "code",
   "execution_count": 109,
   "id": "a5fcae3c-148e-414e-b26a-0a3018cd1200",
   "metadata": {},
   "outputs": [
    {
     "data": {
      "image/png": "[encoded data removed]",
      "text/plain": [
       "<Figure size 600x600 with 1 Axes>"
      ]
     },
     "metadata": {},
     "output_type": "display_data"
    }
   ],
   "source": [
    "\n",
    "ratios_dict_fc = {'region':[],'dataset':[],'model':[],'smallest model score':[],'largest model score':[],'largest/smallest ratio':[]}\n",
    "ratios_dict_expansion = {'region':[],'dataset':[],'model':[],'smallest model score':[],'largest model score':[],'largest/smallest ratio':[]}\n",
    "ratios_dict_vit = {'region':[],'dataset':[],'model':[],'smallest model score':[],'largest model score':[],'largest/smallest ratio':[]}\n",
    "\n",
    "DATASET = 'majajhong' \n",
    "regions = ['V4','IT']\n",
    "\n",
    "\n",
    "for region in regions:    \n",
    "    # expansion model and MLP data\n",
    "    with open(os.path.join(PATH_TO_BOOTSTRAP,f'bootstrap-results-engineered-{DATASET}-{region}-df.pkl'), 'rb') as file:\n",
    "        df_engineered = pickle.load(file)\n",
    "    with open(os.path.join(PATH_TO_BOOTSTRAP,f'bootstrap-results-vit-{DATASET}-{region}-df.pkl'), 'rb') as file:\n",
    "        df_vit = pickle.load(file)    \n",
    "    \n",
    "    \n",
    "    smallest_expansion = float(df_engineered[(df_engineered.model =='expansion') & (df_engineered.features =='3')]['score'])\n",
    "    largest_expansion = float(df_engineered[(df_engineered.model =='expansion') & (df_engineered.features =='30000')]['score'])\n",
    "    smallest_fc = float(df_engineered[(df_engineered.model =='fully_connected') & (df_engineered.features =='3')]['score'])\n",
    "    largest_fc = float(df_engineered[(df_engineered.model =='fully_connected') & (df_engineered.features =='30000')]['score'])\n",
    "    smallest_vit = float(df_vit[(df_vit.model =='ViT') & (df_vit.features =='12')]['score'])\n",
    "    largest_vit = float(df_vit[(df_vit.model =='ViT') & (df_vit.features =='6000')]['score'])\n",
    "    \n",
    "    #rations\n",
    "    ratios_dict_fc['region'].append(region)\n",
    "    ratios_dict_fc['dataset'].append(DATASET)\n",
    "    ratios_dict_fc['model'].append('fully_connected')\n",
    "    ratios_dict_fc['largest/smallest ratio'].append(largest_fc-smallest_fc)\n",
    "    ratios_dict_fc['smallest model score'].append(smallest_fc)\n",
    "    ratios_dict_fc['largest model score'].append(largest_fc)    \n",
    "    \n",
    "    ratios_dict_expansion['region'].append(region)\n",
    "    ratios_dict_expansion['dataset'].append(DATASET)\n",
    "    ratios_dict_expansion['model'].append('expansion')\n",
    "    ratios_dict_expansion['smallest model score'].append(smallest_expansion)\n",
    "    ratios_dict_expansion['largest model score'].append(largest_expansion)\n",
    "    ratios_dict_expansion['largest/smallest ratio'].append(largest_expansion-smallest_expansion)\n",
    "\n",
    "    ratios_dict_vit['region'].append(region)\n",
    "    ratios_dict_vit['dataset'].append(DATASET)\n",
    "    ratios_dict_vit['model'].append('ViT')\n",
    "    ratios_dict_vit['smallest model score'].append(smallest_vit)\n",
    "    ratios_dict_vit['largest model score'].append(largest_vit)\n",
    "    ratios_dict_vit['largest/smallest ratio'].append(largest_vit-smallest_vit)\n",
    "    \n",
    "rcParams['figure.figsize'] = (6,6)  \n",
    "\n",
    "\n",
    "df = pd.concat([\n",
    "                pd.DataFrame.from_dict(ratios_dict_vit),\n",
    "                pd.DataFrame.from_dict(ratios_dict_fc),\n",
    "                pd.DataFrame.from_dict(ratios_dict_expansion)\n",
    "               ]).reset_index(drop=True)\n",
    "\n",
    "names ={'expansion':'Convolution','ViT':'Transformer','fully_connected':'Fully connected'}\n",
    "palette ={'Convolution':'royalblue','Transformer':'palevioletred','Fully connected':'darkviolet'}\n",
    "\n",
    "df['model'] = df['model'].map(names)\n",
    "\n",
    "ax1 = sns.barplot(x='region', y='largest/smallest ratio', hue='model', width = 0.6, palette=palette, data=df)\n",
    "plt.xlabel('')\n",
    "plt.ylabel('')\n",
    "plt.xticks(size=15)\n",
    "plt.yticks(size=15)\n",
    "plt.ylim(0,0.3)\n",
    "ax1.legend(frameon=False,fontsize=12)\n",
    "plt.savefig(f'figures/score_difference_{DATASET}_{region}.png', dpi=200) "
   ]
  },
  {
   "cell_type": "code",
   "execution_count": 110,
   "id": "c762081a-1755-478c-8895-083dbeef1e0a",
   "metadata": {},
   "outputs": [
    {
     "data": {
      "image/png": "[encoded data removed]",
      "text/plain": [
       "<Figure size 600x600 with 1 Axes>"
      ]
     },
     "metadata": {},
     "output_type": "display_data"
    }
   ],
   "source": [
    "\n",
    "ratios_dict_fc = {'region':[],'dataset':[],'model':[],'smallest model score':[],'largest model score':[],'largest/smallest ratio':[]}\n",
    "ratios_dict_expansion = {'region':[],'dataset':[],'model':[],'smallest model score':[],'largest model score':[],'largest/smallest ratio':[]}\n",
    "ratios_dict_vit = {'region':[],'dataset':[],'model':[],'smallest model score':[],'largest model score':[],'largest/smallest ratio':[]}\n",
    "\n",
    "DATASET = 'naturalscenes'\n",
    "regions = ['early visual stream', 'midventral visual stream', 'ventral visual stream']\n",
    "smallest_features = '3'\n",
    "largest_features = '3000'\n",
    "\n",
    "\n",
    "for region in regions:    \n",
    "    # expansion model and MLP data\n",
    "    with open(os.path.join(PATH_TO_BOOTSTRAP,f'bootstrap-results-engineered-{DATASET}-{region}-df.pkl'), 'rb') as file:\n",
    "        df_engineered = pickle.load(file)\n",
    "\n",
    "    with open(os.path.join(PATH_TO_BOOTSTRAP,f'bootstrap-results-vit-{DATASET}-{region}-df.pkl'), 'rb') as file:\n",
    "        df_vit = pickle.load(file)   \n",
    "    \n",
    "    \n",
    "    \n",
    "    smallest_expansion = float(df_engineered[(df_engineered.model =='expansion') & (df_engineered.features ==smallest_features)]['score'])\n",
    "    largest_expansion = float(df_engineered[(df_engineered.model =='expansion') & (df_engineered.features ==largest_features)]['score'])\n",
    "    smallest_fc = float(df_engineered[(df_engineered.model =='fully_connected') & (df_engineered.features ==smallest_features)]['score'])\n",
    "    largest_fc = float(df_engineered[(df_engineered.model =='fully_connected') & (df_engineered.features ==largest_features)]['score'])\n",
    "    smallest_vit = float(df_vit[(df_vit.model =='ViT') & (df_vit.features =='12')]['score'])\n",
    "    largest_vit = float(df_vit[(df_vit.model =='ViT') & (df_vit.features =='600')]['score'])\n",
    "    \n",
    "    #rations\n",
    "    ratios_dict_fc['region'].append(region)\n",
    "    ratios_dict_fc['dataset'].append(DATASET)\n",
    "    ratios_dict_fc['model'].append('fully_connected')\n",
    "    ratios_dict_fc['largest/smallest ratio'].append(largest_fc-smallest_fc)\n",
    "    ratios_dict_fc['smallest model score'].append(smallest_fc)\n",
    "    ratios_dict_fc['largest model score'].append(largest_fc)    \n",
    "    \n",
    "    ratios_dict_expansion['region'].append(region)\n",
    "    ratios_dict_expansion['dataset'].append(DATASET)\n",
    "    ratios_dict_expansion['model'].append('expansion')\n",
    "    ratios_dict_expansion['smallest model score'].append(smallest_expansion)\n",
    "    ratios_dict_expansion['largest model score'].append(largest_expansion)\n",
    "    ratios_dict_expansion['largest/smallest ratio'].append(largest_expansion-smallest_expansion)\n",
    "    \n",
    "    ratios_dict_vit['region'].append(region)\n",
    "    ratios_dict_vit['dataset'].append(DATASET)\n",
    "    ratios_dict_vit['model'].append('ViT')\n",
    "    ratios_dict_vit['smallest model score'].append(smallest_vit)\n",
    "    ratios_dict_vit['largest model score'].append(largest_vit)\n",
    "    ratios_dict_vit['largest/smallest ratio'].append(largest_vit-smallest_vit)\n",
    "    \n",
    "rcParams['figure.figsize'] = (6,6)  \n",
    "\n",
    "\n",
    "df = pd.concat([\n",
    "                pd.DataFrame.from_dict(ratios_dict_vit),\n",
    "                pd.DataFrame.from_dict(ratios_dict_fc),\n",
    "                pd.DataFrame.from_dict(ratios_dict_expansion)\n",
    "               ]).reset_index(drop=True)    \n",
    "    \n",
    "names ={'expansion':'Convolution','ViT':'Transformer','fully_connected':'Fully connected'}\n",
    "palette ={'Convolution':'royalblue','Transformer':'palevioletred','Fully connected':'darkviolet'}\n",
    "\n",
    "df['model'] = df['model'].map(names)\n",
    "df['region'] = df['region'].map({'early visual stream':'early\\nvisual stream',\n",
    "                                 'midventral visual stream':'midventral\\nvisual stream' ,\n",
    "                                 'ventral visual stream':'ventral\\nvisual stream'})\n",
    "\n",
    "rcParams['figure.figsize'] = (6,6)  \n",
    "ax1 = sns.barplot(x='region', y='largest/smallest ratio', hue='model', width=0.7,palette=palette, data=df)\n",
    "plt.xlabel('')\n",
    "plt.ylabel('')\n",
    "plt.xticks(size=12)\n",
    "plt.yticks(size=15)\n",
    "ax1.legend_.remove()\n",
    "plt.savefig(f'figures/score_difference_{DATASET}_{region}.png', dpi=200) "
   ]
  },
  {
   "cell_type": "markdown",
   "id": "cd4e08bc-5375-473a-afc3-b27935b06a2a",
   "metadata": {},
   "source": [
    "### factors"
   ]
  },
  {
   "cell_type": "code",
   "execution_count": 6,
   "id": "d2453cd6-76c2-4177-8ab5-3745556dc02b",
   "metadata": {},
   "outputs": [
    {
     "ename": "SyntaxError",
     "evalue": "'[' was never closed (1238314999.py, line 86)",
     "output_type": "error",
     "traceback": [
      "\u001b[0;36m  Cell \u001b[0;32mIn[6], line 86\u001b[0;36m\u001b[0m\n\u001b[0;31m    labels_to_display_1 = [labels_1[1], labels_1[10, labels_1[2]]\u001b[0m\n\u001b[0m                          ^\u001b[0m\n\u001b[0;31mSyntaxError\u001b[0m\u001b[0;31m:\u001b[0m '[' was never closed\n"
     ]
    }
   ],
   "source": [
    "palette ={'Dispersed connectivity':'indianred','Linear':'orange','Original architecture':'royalblue'}\n",
    "\n",
    "\n",
    "diff_dict_shuffled = {'region':[],'dataset':[],'model':[],'smallest model score':[],'largest model score':[],'largest-smallest difference':[]}\n",
    "diff_dict_expansion = {'region':[],'dataset':[],'model':[],'smallest model score':[],'largest model score':[],'largest-smallest difference':[]}\n",
    "diff_dict_linear = {'region':[],'dataset':[],'model':[],'smallest model score':[],'largest model score':[],'largest-smallest difference':[]}\n",
    "DATASET = 'majajhong' \n",
    "region = 'IT'\n",
    "\n",
    "# expansion model and MLP data\n",
    "with open(os.path.join(PATH_TO_BOOTSTRAP,f'bootstrap-results-engineered-{DATASET}-{region}-df.pkl'), 'rb') as file:\n",
    "    df_engineered = pickle.load(file)\n",
    "with open(os.path.join(PATH_TO_BOOTSTRAP,f'bootstrap-results-expansion-{DATASET}_shuffled-{region}-df.pkl'), 'rb') as file:\n",
    "    df_engineered_shuffled = pickle.load(file)\n",
    "    \n",
    "smallest_expansion = float(df_engineered[(df_engineered.model =='expansion') & (df_engineered.features =='3')]['score'])\n",
    "largest_expansion = float(df_engineered[(df_engineered.model =='expansion') & (df_engineered.features =='30000')]['score'])\n",
    "smallest_shuffled = float(df_engineered_shuffled[(df_engineered_shuffled.model =='expansion') & (df_engineered_shuffled.features =='3')]['score'])\n",
    "largest_shuffled = float(df_engineered_shuffled[(df_engineered_shuffled.model =='expansion') & (df_engineered_shuffled.features =='30000')]['score'])\n",
    "smallest_linear = float(df_engineered[(df_engineered.model =='expansion_linear') & (df_engineered.features =='3')]['score'])\n",
    "largest_linear = float(df_engineered[(df_engineered.model =='expansion_linear') & (df_engineered.features =='30000')]['score'])\n",
    "\n",
    "#rations\n",
    "diff_dict_shuffled['region'].append(region)\n",
    "diff_dict_shuffled['dataset'].append(DATASET)\n",
    "diff_dict_shuffled['model'].append('Dispersed connectivity')\n",
    "diff_dict_shuffled['largest-smallest difference'].append(largest_shuffled-smallest_shuffled)\n",
    "diff_dict_shuffled['smallest model score'].append(smallest_shuffled)\n",
    "diff_dict_shuffled['largest model score'].append(largest_shuffled)    \n",
    "\n",
    "diff_dict_expansion['region'].append(region)\n",
    "diff_dict_expansion['dataset'].append(DATASET)\n",
    "diff_dict_expansion['model'].append('Original architecture')\n",
    "diff_dict_expansion['smallest model score'].append(smallest_expansion)\n",
    "diff_dict_expansion['largest model score'].append(largest_expansion)\n",
    "diff_dict_expansion['largest-smallest difference'].append(largest_expansion-smallest_expansion)\n",
    "    \n",
    "diff_dict_linear['region'].append(region)\n",
    "diff_dict_linear['dataset'].append(DATASET)\n",
    "diff_dict_linear['model'].append('Linear')\n",
    "diff_dict_linear['smallest model score'].append(smallest_linear)\n",
    "diff_dict_linear['largest model score'].append(largest_linear)\n",
    "diff_dict_linear['largest-smallest difference'].append(largest_linear-smallest_linear)\n",
    "\n",
    "\n",
    "\n",
    "# Create the dataframes\n",
    "df_conectivity = pd.concat([pd.DataFrame.from_dict(diff_dict_expansion), pd.DataFrame.from_dict(diff_dict_shuffled)])\n",
    "df_conectivity['analysis'] = 'Local connectivity'\n",
    "\n",
    "df_linarity = pd.concat([pd.DataFrame.from_dict(diff_dict_expansion), pd.DataFrame.from_dict(diff_dict_linear)])\n",
    "df_linarity['analysis'] = 'Activation function'\n",
    "\n",
    "# Combine the two dataframes\n",
    "df = pd.concat([df_conectivity, df_linarity])\n",
    "\n",
    "# Filter the dataframes correctly\n",
    "df_connectivity_filtered = df[(df['analysis'] == 'Local connectivity') & (df['model'] != 'Linear')]\n",
    "df_linearity_filtered = df[(df['analysis'] == 'Activation function') & (df['model'] != 'Dispersed connectivity')]\n",
    "# Initialize the figure\n",
    "plt.figure(figsize=(6, 6))\n",
    "\n",
    "# Plot the connectivity analysis without 'Linear' model\n",
    "ax1 = sns.barplot(\n",
    "    x='analysis', \n",
    "    y='largest-smallest difference', \n",
    "    hue='model', \n",
    "    palette=palette, \n",
    "    data=df_connectivity_filtered.sort_values(by='model'),\n",
    "    width=0.5\n",
    ")\n",
    "\n",
    "# Plot the linearity analysis without 'Dispersed connectivity' model\n",
    "ax2 = sns.barplot(\n",
    "    x='analysis', \n",
    "    y='largest-smallest difference', \n",
    "    hue='model', \n",
    "    palette=palette, \n",
    "    data=df_linearity_filtered.sort_values(by='model'),\n",
    "    dodge=True,\n",
    "    width=0.5\n",
    ")\n",
    "\n",
    "handles_1, labels_1 = ax1.get_legend_handles_labels()\n",
    "handles_to_display_1 = [handles_1[1], handles_1[0], handles_1[2]]\n",
    "labels_to_display_1 = [labels_1[1], labels_1[0], labels_1[2]]\n",
    "\n",
    "ax1.legend(handles_to_display_1, labels_to_display_1, loc='best', frameon=False, fontsize=12)\n",
    "\n",
    "# Set up the aesthetics\n",
    "plt.xlabel('')\n",
    "plt.ylabel('')\n",
    "plt.xticks(size=15)\n",
    "plt.yticks(size=15)\n",
    "#plt.legend(loc='upper right',frameon=False, fontsize=12, )\n",
    "plt.ylim(0,0.35)\n",
    "# Save the plot\n",
    "plt.savefig(f'figures/difference_{DATASET}_{region}.png', dpi=200)\n",
    "plt.show()\n"
   ]
  },
  {
   "cell_type": "code",
   "execution_count": 8,
   "id": "aea2c4ec-5922-423d-a164-089edddce35b",
   "metadata": {},
   "outputs": [
    {
     "data": {
      "text/plain": [
       "['Dispersed connectivity',\n",
       " 'Original architecture',\n",
       " 'Linear',\n",
       " 'Original architecture']"
      ]
     },
     "execution_count": 8,
     "metadata": {},
     "output_type": "execute_result"
    }
   ],
   "source": [
    "labels_1"
   ]
  },
  {
   "cell_type": "code",
   "execution_count": 116,
   "id": "716d92df-8119-4fe8-8963-28d4c8e1dc0d",
   "metadata": {},
   "outputs": [
    {
     "data": {
      "image/png": "[encoded data removed]",
      "text/plain": [
       "<Figure size 600x600 with 1 Axes>"
      ]
     },
     "metadata": {},
     "output_type": "display_data"
    }
   ],
   "source": [
    "diff_dict_shuffled = {'region':[],'dataset':[],'model':[],'smallest model score':[],'largest model score':[],'largest-smallest difference':[]}\n",
    "diff_dict_expansion = {'region':[],'dataset':[],'model':[],'smallest model score':[],'largest model score':[],'largest-smallest difference':[]}\n",
    "diff_dict_linear = {'region':[],'dataset':[],'model':[],'smallest model score':[],'largest model score':[],'largest-smallest difference':[]}\n",
    "DATASET = 'naturalscenes' \n",
    "region = 'ventral visual stream'\n",
    "\n",
    "# expansion model and MLP data\n",
    "with open(os.path.join(PATH_TO_BOOTSTRAP,f'bootstrap-results-engineered-{DATASET}-{region}-df.pkl'), 'rb') as file:\n",
    "    df_engineered = pickle.load(file)\n",
    "with open(os.path.join(PATH_TO_BOOTSTRAP,f'bootstrap-results-expansion-{DATASET}_shuffled-{region}-df.pkl'), 'rb') as file:\n",
    "    df_engineered_shuffled = pickle.load(file)\n",
    "    \n",
    "smallest_expansion = float(df_engineered[\n",
    "                           (df_engineered.model =='expansion') & (df_engineered.features =='3')]['score'])\n",
    "largest_expansion = float(df_engineered[\n",
    "                          (df_engineered.model =='expansion') & (df_engineered.features =='3000')]['score'])\n",
    "smallest_shuffled = float(df_engineered_shuffled[\n",
    "                          (df_engineered_shuffled.model =='expansion') & (df_engineered_shuffled.features =='3')]['score'])\n",
    "largest_shuffled = float(df_engineered_shuffled[\n",
    "                         (df_engineered_shuffled.model =='expansion') & (df_engineered_shuffled.features =='3000')]['score'])\n",
    "smallest_linear = float(df_engineered[\n",
    "                        (df_engineered.model =='expansion_linear') & (df_engineered.features =='3')]['score'])\n",
    "largest_linear = float(df_engineered[\n",
    "                       (df_engineered.model =='expansion_linear') & (df_engineered.features =='3000')]['score'])\n",
    "\n",
    "#rations\n",
    "diff_dict_shuffled['region'].append(region)\n",
    "diff_dict_shuffled['dataset'].append(DATASET)\n",
    "diff_dict_shuffled['model'].append('Dispersed connectivity')\n",
    "diff_dict_shuffled['largest-smallest difference'].append(largest_shuffled-smallest_shuffled)\n",
    "diff_dict_shuffled['smallest model score'].append(smallest_shuffled)\n",
    "diff_dict_shuffled['largest model score'].append(largest_shuffled)    \n",
    "\n",
    "diff_dict_expansion['region'].append(region)\n",
    "diff_dict_expansion['dataset'].append(DATASET)\n",
    "diff_dict_expansion['model'].append('Original architecture')\n",
    "diff_dict_expansion['smallest model score'].append(smallest_expansion)\n",
    "diff_dict_expansion['largest model score'].append(largest_expansion)\n",
    "diff_dict_expansion['largest-smallest difference'].append(largest_expansion-smallest_expansion)\n",
    "    \n",
    "diff_dict_linear['region'].append(region)\n",
    "diff_dict_linear['dataset'].append(DATASET)\n",
    "diff_dict_linear['model'].append('Linear')\n",
    "diff_dict_linear['smallest model score'].append(smallest_linear)\n",
    "diff_dict_linear['largest model score'].append(largest_linear)\n",
    "diff_dict_linear['largest-smallest difference'].append(largest_linear-smallest_linear)\n",
    "\n",
    "\n",
    "\n",
    "# Create the dataframes\n",
    "df_conectivity = pd.concat([pd.DataFrame.from_dict(diff_dict_expansion), pd.DataFrame.from_dict(diff_dict_shuffled)])\n",
    "df_conectivity['analysis'] = 'Local connectivity'\n",
    "\n",
    "df_linarity = pd.concat([pd.DataFrame.from_dict(diff_dict_expansion), pd.DataFrame.from_dict(diff_dict_linear)])\n",
    "df_linarity['analysis'] = 'Activation function'\n",
    "\n",
    "# Combine the two dataframes\n",
    "df = pd.concat([df_conectivity, df_linarity])\n",
    "\n",
    "# Filter the dataframes correctly\n",
    "df_connectivity_filtered = df[(df['analysis'] == 'Local connectivity') & (df['model'] != 'Linear')]\n",
    "df_linearity_filtered = df[(df['analysis'] == 'Activation function') & (df['model'] != 'Dispersed connectivity')]\n",
    "\n",
    "# Initialize the figure\n",
    "plt.figure(figsize=(6, 6))\n",
    "\n",
    "# Plot the connectivity analysis without 'Linear' model\n",
    "ax1 = sns.barplot(\n",
    "    x='analysis', \n",
    "    y='largest-smallest difference', \n",
    "    hue='model', \n",
    "    palette=palette, \n",
    "    data=df_connectivity_filtered.sort_values(by='model'),\n",
    "    width=0.5\n",
    ")\n",
    "\n",
    "# Plot the linearity analysis without 'Dispersed connectivity' model\n",
    "ax2 = sns.barplot(\n",
    "    x='analysis', \n",
    "    y='largest-smallest difference', \n",
    "    hue='model', \n",
    "    palette=palette, \n",
    "    data=df_linearity_filtered.sort_values(by='model'),\n",
    "    dodge=True,\n",
    "    width=0.5\n",
    ")\n",
    "\n",
    "handles_1, labels_1 = ax1.get_legend_handles_labels()\n",
    "handles_to_display_1 = [handles_1[0], handles_1[1], handles_1[3]]\n",
    "labels_to_display_1 = [labels_1[0], labels_1[1], labels_1[3]]\n",
    "\n",
    "ax1.legend(handles_to_display_1, labels_to_display_1, loc='best', frameon=False, fontsize=12)\n",
    "\n",
    "# Set up the aesthetics\n",
    "plt.xlabel('')\n",
    "plt.ylabel('')\n",
    "plt.xticks(size=15)\n",
    "plt.yticks(size=15)\n",
    "#plt.legend(loc='upper right',frameon=False, fontsize=12, )\n",
    "plt.ylim(0,0.18)\n",
    "ax1.legend_.remove()\n",
    "plt.savefig(f'figures/difference_{DATASET}_{region}.png', dpi=200)\n",
    "plt.show()"
   ]
  },
  {
   "cell_type": "code",
   "execution_count": null,
   "id": "40a7a5d3-8f27-4709-bff6-4fa1187587d3",
   "metadata": {},
   "outputs": [],
   "source": []
  }
 ],
 "metadata": {
  "kernelspec": {
   "display_name": "Python 3 (ipykernel)",
   "language": "python",
   "name": "python3"
  },
  "language_info": {
   "codemirror_mode": {
    "name": "ipython",
    "version": 3
   },
   "file_extension": ".py",
   "mimetype": "text/x-python",
   "name": "python",
   "nbconvert_exporter": "python",
   "pygments_lexer": "ipython3",
   "version": "3.10.13"
  }
 },
 "nbformat": 4,
 "nbformat_minor": 5
}
