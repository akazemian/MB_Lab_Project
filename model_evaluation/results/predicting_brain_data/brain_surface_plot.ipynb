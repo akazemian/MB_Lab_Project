{
 "cells": [
  {
   "cell_type": "code",
   "execution_count": 1,
   "id": "66763412-879c-401a-8059-4a3d35caa155",
   "metadata": {
    "tags": []
   },
   "outputs": [],
   "source": [
    "import os\n",
    "import sys\n",
    "ROOT = os.getenv('BONNER_ROOT_PATH')\n",
    "sys.path.append(ROOT)\n",
    "\n",
    "from model_evaluation.results.predicting_brain_data.brain_map import *\n",
    "from config import CACHE\n",
    "from matplotlib.colors import LinearSegmentedColormap\n",
    "from model_features.models.models import load_model, load_iden"
   ]
  },
  {
   "cell_type": "markdown",
   "id": "ab744580-aac9-4e7d-8adf-67b4dc27eb15",
   "metadata": {
    "jp-MarkdownHeadingCollapsed": true,
    "tags": []
   },
   "source": [
    "# Plotting brain maps difference"
   ]
  },
  {
   "cell_type": "code",
   "execution_count": null,
   "id": "f874d210-ac28-4970-a2de-aaf7c1b7612b",
   "metadata": {},
   "outputs": [],
   "source": [
    "dataset = 'naturalscenes'\n",
    "\n",
    "scores_iden_1 ='scat_transfom_maxpool_J=5_L=8_M=224_N=224_gpool=False_naturalscenes_general'\n",
    "scores_iden_2 = 'alexnet_naturalscenes_general'\n",
    "\n",
    "plot_brain_map(data= None,\n",
    "            subject= None, \n",
    "            cond = 'difference_of_means',\n",
    "            scores_path = os.path.join(CACHE,'encoding_scores_torch',scores_iden_1),\n",
    "            scores_path_2 = os.path.join(CACHE,'encoding_scores_torch',scores_iden_2),\n",
    "            name=f'scattering_vs_alexnet_conv5',\n",
    "            vmax = 0.3)\n",
    "plt.clf()"
   ]
  },
  {
   "cell_type": "code",
   "execution_count": null,
   "id": "aed04e9c",
   "metadata": {},
   "outputs": [],
   "source": [
    "# def process_subject(subject):\n",
    "#     expansion_mni = transform_volume_to_mni(\n",
    "#         data=reshape_dataarray_to_brain(\n",
    "#             data=process_data(expansion_scores_ds),\n",
    "#             subject=subject,\n",
    "#             resolution=resolution,\n",
    "#         ),\n",
    "#         subject=subject,\n",
    "#         source_space=f\"func{resolution[:-2]}\",\n",
    "#         interpolation_type=interpolation_type,\n",
    "#     )\n",
    "#     expansion_scores[:, subject] = expansion_mni.flatten()"
   ]
  },
  {
   "cell_type": "code",
   "execution_count": 9,
   "id": "7245227f-ef80-4ec8-bc47-d814c725ae4d",
   "metadata": {},
   "outputs": [],
   "source": [
    "def string_add(a, b, c):\n",
    "    return a + b + c\n",
    "    \n",
    "    \n",
    "def get_xyz(ds):\n",
    "    \n",
    "    ds = ds.assign_coords(x=ds['x'].astype(int).astype(str))\n",
    "    ds = ds.assign_coords(y=ds['y'].astype(int).astype(str))\n",
    "    ds = ds.assign_coords(z=ds['z'].astype(int).astype(str))\n",
    "    \n",
    "    return ds.assign_coords(xyz=xr.apply_ufunc(string_add, ds['x'], ds['y'], ds['z'], vectorize=True))\n",
    "\n",
    "import xarray as xr\n",
    "import numpy as np\n",
    "from scipy import stats\n",
    "\n",
    "\n",
    "expansion_scores = xr.open_dataset('/data/atlas/model_scores_final/expansion_model_rgb_test_mp_3_layers_10000_features_naturalscenes/expansion_model_rgb_test_mp_3_layers_10000_features_naturalscenes_general_test_ridge(alpha=1000)')\n",
    "alexnet_scores = xr.open_dataset('/data/atlas/model_scores_final/alexnet_mp_5_layers_256_features_naturalscenes/alexnet_mp_5_layers_256_features_naturalscenes_general_test_ridge(alpha=100000)')\n",
    "\n",
    "    \n",
    "\n",
    "def get_subset(expansion_scores,alexnet_scores,regions,subject, diff=False):\n",
    "\n",
    "        expansion_subject_scores = expansion_scores.where((expansion_scores.subject == subject),drop=True)\n",
    "        alexnet_subject_scores = alexnet_scores.where((alexnet_scores.subject == subject),drop=True)\n",
    "\n",
    "        coords_list = []\n",
    "        \n",
    "        for region in regions:\n",
    "\n",
    "            path = f'/data/rgautha1/cache/bonner-caching/neural-dimensionality/data/dataset=allen2021.natural_scenes/resolution=1pt8mm.preprocessing=fithrf_GLMdenoise_RR/roi={region}/preprocessed/z_score=session.average_across_reps=True/subject={subject}.nc'\n",
    "            region_coords = xr.open_dataset(path)\n",
    "            var_name = f'allen2021.natural_scenes.preprocessing=fithrf_GLMdenoise_RR.roi={region}.z_score=session.average_across_reps=True.subject={subject}'\n",
    "            region_coords = region_coords.rename({var_name:'vals'})\n",
    "            coords_list.append(region_coords)        \n",
    "        \n",
    "        all_region_coords = xr.concat(coords_list, dim='neuroid')\n",
    "        \n",
    "        \n",
    "        all_region_coords = get_xyz(all_region_coords)\n",
    "        expansion_subject_scores = get_xyz(expansion_subject_scores)\n",
    "        alexnet_subject_scores = get_xyz(alexnet_subject_scores)\n",
    "        \n",
    "        \n",
    "        if not diff:\n",
    "            expansion_subject_scores = expansion_subject_scores.where(\n",
    "                expansion_subject_scores.neuroid.xyz.isin([all_region_coords.xyz]),drop=True)\n",
    "            \n",
    "            alexnet_subject_scores = alexnet_subject_scores.where(\n",
    "                alexnet_subject_scores.neuroid.xyz.isin([all_region_coords.xyz]),drop=True)\n",
    "            \n",
    "        else:\n",
    "            \n",
    "            expansion_subject_scores = expansion_subject_scores.where(~\n",
    "                expansion_subject_scores.neuroid.xyz.isin([all_region_coords.xyz]),drop=True)\n",
    "\n",
    "            alexnet_subject_scores = alexnet_subject_scores.where(~\n",
    "                alexnet_subject_scores.neuroid.xyz.isin([all_region_coords.xyz]),drop=True)\n",
    "            \n",
    "        return expansion_subject_scores, alexnet_subject_scores\n"
   ]
  },
  {
   "cell_type": "markdown",
   "id": "ac4c610e-2921-49d0-a01b-581ac97734f4",
   "metadata": {
    "jp-MarkdownHeadingCollapsed": true,
    "tags": []
   },
   "source": [
    "# Statistical analysis"
   ]
  },
  {
   "cell_type": "code",
   "execution_count": 21,
   "id": "83a51959-d42e-4030-b2d8-36a09cbb63a8",
   "metadata": {},
   "outputs": [
    {
     "ename": "FileNotFoundError",
     "evalue": "[Errno 2] No such file or directory: b'/data/atlas/model_scores_final/expansion_model_rgb_mp_3_layers_10000_features_naturalscenes/expansion_model_rgb_mp_3_layers_10000_features_naturalscenes_general_ridgecv'",
     "output_type": "error",
     "traceback": [
      "\u001b[0;31m----------------------------------------------------------------------\u001b[0m",
      "\u001b[0;31mKeyError\u001b[0m                             Traceback (most recent call last)",
      "\u001b[0;32m~/.conda/envs/bonner-lab-atlas/lib/python3.7/site-packages/xarray/backends/file_manager.py\u001b[0m in \u001b[0;36m_acquire_with_cache_info\u001b[0;34m(self, needs_lock)\u001b[0m\n\u001b[1;32m    198\u001b[0m             \u001b[0;32mtry\u001b[0m\u001b[0;34m:\u001b[0m\u001b[0;34m\u001b[0m\u001b[0;34m\u001b[0m\u001b[0m\n\u001b[0;32m--> 199\u001b[0;31m                 \u001b[0mfile\u001b[0m \u001b[0;34m=\u001b[0m \u001b[0mself\u001b[0m\u001b[0;34m.\u001b[0m\u001b[0m_cache\u001b[0m\u001b[0;34m[\u001b[0m\u001b[0mself\u001b[0m\u001b[0;34m.\u001b[0m\u001b[0m_key\u001b[0m\u001b[0;34m]\u001b[0m\u001b[0;34m\u001b[0m\u001b[0;34m\u001b[0m\u001b[0m\n\u001b[0m\u001b[1;32m    200\u001b[0m             \u001b[0;32mexcept\u001b[0m \u001b[0mKeyError\u001b[0m\u001b[0;34m:\u001b[0m\u001b[0;34m\u001b[0m\u001b[0;34m\u001b[0m\u001b[0m\n",
      "\u001b[0;32m~/.conda/envs/bonner-lab-atlas/lib/python3.7/site-packages/xarray/backends/lru_cache.py\u001b[0m in \u001b[0;36m__getitem__\u001b[0;34m(self, key)\u001b[0m\n\u001b[1;32m     52\u001b[0m         \u001b[0;32mwith\u001b[0m \u001b[0mself\u001b[0m\u001b[0;34m.\u001b[0m\u001b[0m_lock\u001b[0m\u001b[0;34m:\u001b[0m\u001b[0;34m\u001b[0m\u001b[0;34m\u001b[0m\u001b[0m\n\u001b[0;32m---> 53\u001b[0;31m             \u001b[0mvalue\u001b[0m \u001b[0;34m=\u001b[0m \u001b[0mself\u001b[0m\u001b[0;34m.\u001b[0m\u001b[0m_cache\u001b[0m\u001b[0;34m[\u001b[0m\u001b[0mkey\u001b[0m\u001b[0;34m]\u001b[0m\u001b[0;34m\u001b[0m\u001b[0;34m\u001b[0m\u001b[0m\n\u001b[0m\u001b[1;32m     54\u001b[0m             \u001b[0mself\u001b[0m\u001b[0;34m.\u001b[0m\u001b[0m_cache\u001b[0m\u001b[0;34m.\u001b[0m\u001b[0mmove_to_end\u001b[0m\u001b[0;34m(\u001b[0m\u001b[0mkey\u001b[0m\u001b[0;34m)\u001b[0m\u001b[0;34m\u001b[0m\u001b[0;34m\u001b[0m\u001b[0m\n",
      "\u001b[0;31mKeyError\u001b[0m: [<class 'netCDF4._netCDF4.Dataset'>, ('/data/atlas/model_scores_final/expansion_model_rgb_mp_3_layers_10000_features_naturalscenes/expansion_model_rgb_mp_3_layers_10000_features_naturalscenes_general_ridgecv',), 'r', (('clobber', True), ('diskless', False), ('format', 'NETCDF4'), ('persist', False))]",
      "\nDuring handling of the above exception, another exception occurred:\n",
      "\u001b[0;31mFileNotFoundError\u001b[0m                    Traceback (most recent call last)",
      "\u001b[0;32m<ipython-input-21-6caedf35e614>\u001b[0m in \u001b[0;36m<module>\u001b[0;34m\u001b[0m\n\u001b[0;32m----> 1\u001b[0;31m \u001b[0mexpansion_scores_ds\u001b[0m \u001b[0;34m=\u001b[0m \u001b[0mxr\u001b[0m\u001b[0;34m.\u001b[0m\u001b[0mopen_dataset\u001b[0m\u001b[0;34m(\u001b[0m\u001b[0;34m'/data/atlas/model_scores_final/expansion_model_rgb_mp_3_layers_10000_features_naturalscenes/expansion_model_rgb_mp_3_layers_10000_features_naturalscenes_general_ridgecv'\u001b[0m\u001b[0;34m)\u001b[0m\u001b[0;34m\u001b[0m\u001b[0;34m\u001b[0m\u001b[0m\n\u001b[0m\u001b[1;32m      2\u001b[0m \u001b[0mexpansion_scores\u001b[0m \u001b[0;34m=\u001b[0m \u001b[0mnp\u001b[0m\u001b[0;34m.\u001b[0m\u001b[0mzeros\u001b[0m\u001b[0;34m(\u001b[0m\u001b[0;34m(\u001b[0m\u001b[0mmni_shape\u001b[0m\u001b[0;34m,\u001b[0m\u001b[0;36m8\u001b[0m\u001b[0;34m)\u001b[0m\u001b[0;34m)\u001b[0m\u001b[0;34m\u001b[0m\u001b[0;34m\u001b[0m\u001b[0m\n\u001b[1;32m      3\u001b[0m \u001b[0;34m\u001b[0m\u001b[0m\n\u001b[1;32m      4\u001b[0m \u001b[0malexnet_scores_ds\u001b[0m \u001b[0;34m=\u001b[0m \u001b[0mxr\u001b[0m\u001b[0;34m.\u001b[0m\u001b[0mopen_dataset\u001b[0m\u001b[0;34m(\u001b[0m\u001b[0;34m'/data/atlas/model_scores_final/alexnet_u_conv5_mp_5_layers_256_features_naturalscenes/alexnet_u_conv5_mp_5_layers_256_features_naturalscenes_general_ridgecv'\u001b[0m\u001b[0;34m)\u001b[0m\u001b[0;34m\u001b[0m\u001b[0;34m\u001b[0m\u001b[0m\n\u001b[1;32m      5\u001b[0m \u001b[0malexnet_scores\u001b[0m \u001b[0;34m=\u001b[0m \u001b[0mnp\u001b[0m\u001b[0;34m.\u001b[0m\u001b[0mzeros\u001b[0m\u001b[0;34m(\u001b[0m\u001b[0;34m(\u001b[0m\u001b[0mmni_shape\u001b[0m\u001b[0;34m,\u001b[0m\u001b[0;36m8\u001b[0m\u001b[0;34m)\u001b[0m\u001b[0;34m)\u001b[0m\u001b[0;34m\u001b[0m\u001b[0;34m\u001b[0m\u001b[0m\n",
      "\u001b[0;32m~/.conda/envs/bonner-lab-atlas/lib/python3.7/site-packages/xarray/backends/api.py\u001b[0m in \u001b[0;36mopen_dataset\u001b[0;34m(filename_or_obj, group, decode_cf, mask_and_scale, decode_times, concat_characters, decode_coords, engine, chunks, lock, cache, drop_variables, backend_kwargs, use_cftime, decode_timedelta)\u001b[0m\n\u001b[1;32m    552\u001b[0m \u001b[0;34m\u001b[0m\u001b[0m\n\u001b[1;32m    553\u001b[0m         \u001b[0mopener\u001b[0m \u001b[0;34m=\u001b[0m \u001b[0m_get_backend_cls\u001b[0m\u001b[0;34m(\u001b[0m\u001b[0mengine\u001b[0m\u001b[0;34m)\u001b[0m\u001b[0;34m\u001b[0m\u001b[0;34m\u001b[0m\u001b[0m\n\u001b[0;32m--> 554\u001b[0;31m         \u001b[0mstore\u001b[0m \u001b[0;34m=\u001b[0m \u001b[0mopener\u001b[0m\u001b[0;34m(\u001b[0m\u001b[0mfilename_or_obj\u001b[0m\u001b[0;34m,\u001b[0m \u001b[0;34m**\u001b[0m\u001b[0mextra_kwargs\u001b[0m\u001b[0;34m,\u001b[0m \u001b[0;34m**\u001b[0m\u001b[0mbackend_kwargs\u001b[0m\u001b[0;34m)\u001b[0m\u001b[0;34m\u001b[0m\u001b[0;34m\u001b[0m\u001b[0m\n\u001b[0m\u001b[1;32m    555\u001b[0m \u001b[0;34m\u001b[0m\u001b[0m\n\u001b[1;32m    556\u001b[0m     \u001b[0;32mwith\u001b[0m \u001b[0mclose_on_error\u001b[0m\u001b[0;34m(\u001b[0m\u001b[0mstore\u001b[0m\u001b[0;34m)\u001b[0m\u001b[0;34m:\u001b[0m\u001b[0;34m\u001b[0m\u001b[0;34m\u001b[0m\u001b[0m\n",
      "\u001b[0;32m~/.conda/envs/bonner-lab-atlas/lib/python3.7/site-packages/xarray/backends/netCDF4_.py\u001b[0m in \u001b[0;36mopen\u001b[0;34m(cls, filename, mode, format, group, clobber, diskless, persist, lock, lock_maker, autoclose)\u001b[0m\n\u001b[1;32m    376\u001b[0m             \u001b[0mnetCDF4\u001b[0m\u001b[0;34m.\u001b[0m\u001b[0mDataset\u001b[0m\u001b[0;34m,\u001b[0m \u001b[0mfilename\u001b[0m\u001b[0;34m,\u001b[0m \u001b[0mmode\u001b[0m\u001b[0;34m=\u001b[0m\u001b[0mmode\u001b[0m\u001b[0;34m,\u001b[0m \u001b[0mkwargs\u001b[0m\u001b[0;34m=\u001b[0m\u001b[0mkwargs\u001b[0m\u001b[0;34m\u001b[0m\u001b[0;34m\u001b[0m\u001b[0m\n\u001b[1;32m    377\u001b[0m         )\n\u001b[0;32m--> 378\u001b[0;31m         \u001b[0;32mreturn\u001b[0m \u001b[0mcls\u001b[0m\u001b[0;34m(\u001b[0m\u001b[0mmanager\u001b[0m\u001b[0;34m,\u001b[0m \u001b[0mgroup\u001b[0m\u001b[0;34m=\u001b[0m\u001b[0mgroup\u001b[0m\u001b[0;34m,\u001b[0m \u001b[0mmode\u001b[0m\u001b[0;34m=\u001b[0m\u001b[0mmode\u001b[0m\u001b[0;34m,\u001b[0m \u001b[0mlock\u001b[0m\u001b[0;34m=\u001b[0m\u001b[0mlock\u001b[0m\u001b[0;34m,\u001b[0m \u001b[0mautoclose\u001b[0m\u001b[0;34m=\u001b[0m\u001b[0mautoclose\u001b[0m\u001b[0;34m)\u001b[0m\u001b[0;34m\u001b[0m\u001b[0;34m\u001b[0m\u001b[0m\n\u001b[0m\u001b[1;32m    379\u001b[0m \u001b[0;34m\u001b[0m\u001b[0m\n\u001b[1;32m    380\u001b[0m     \u001b[0;32mdef\u001b[0m \u001b[0m_acquire\u001b[0m\u001b[0;34m(\u001b[0m\u001b[0mself\u001b[0m\u001b[0;34m,\u001b[0m \u001b[0mneeds_lock\u001b[0m\u001b[0;34m=\u001b[0m\u001b[0;32mTrue\u001b[0m\u001b[0;34m)\u001b[0m\u001b[0;34m:\u001b[0m\u001b[0;34m\u001b[0m\u001b[0;34m\u001b[0m\u001b[0m\n",
      "\u001b[0;32m~/.conda/envs/bonner-lab-atlas/lib/python3.7/site-packages/xarray/backends/netCDF4_.py\u001b[0m in \u001b[0;36m__init__\u001b[0;34m(self, manager, group, mode, lock, autoclose)\u001b[0m\n\u001b[1;32m    324\u001b[0m         \u001b[0mself\u001b[0m\u001b[0;34m.\u001b[0m\u001b[0m_group\u001b[0m \u001b[0;34m=\u001b[0m \u001b[0mgroup\u001b[0m\u001b[0;34m\u001b[0m\u001b[0;34m\u001b[0m\u001b[0m\n\u001b[1;32m    325\u001b[0m         \u001b[0mself\u001b[0m\u001b[0;34m.\u001b[0m\u001b[0m_mode\u001b[0m \u001b[0;34m=\u001b[0m \u001b[0mmode\u001b[0m\u001b[0;34m\u001b[0m\u001b[0;34m\u001b[0m\u001b[0m\n\u001b[0;32m--> 326\u001b[0;31m         \u001b[0mself\u001b[0m\u001b[0;34m.\u001b[0m\u001b[0mformat\u001b[0m \u001b[0;34m=\u001b[0m \u001b[0mself\u001b[0m\u001b[0;34m.\u001b[0m\u001b[0mds\u001b[0m\u001b[0;34m.\u001b[0m\u001b[0mdata_model\u001b[0m\u001b[0;34m\u001b[0m\u001b[0;34m\u001b[0m\u001b[0m\n\u001b[0m\u001b[1;32m    327\u001b[0m         \u001b[0mself\u001b[0m\u001b[0;34m.\u001b[0m\u001b[0m_filename\u001b[0m \u001b[0;34m=\u001b[0m \u001b[0mself\u001b[0m\u001b[0;34m.\u001b[0m\u001b[0mds\u001b[0m\u001b[0;34m.\u001b[0m\u001b[0mfilepath\u001b[0m\u001b[0;34m(\u001b[0m\u001b[0;34m)\u001b[0m\u001b[0;34m\u001b[0m\u001b[0;34m\u001b[0m\u001b[0m\n\u001b[1;32m    328\u001b[0m         \u001b[0mself\u001b[0m\u001b[0;34m.\u001b[0m\u001b[0mis_remote\u001b[0m \u001b[0;34m=\u001b[0m \u001b[0mis_remote_uri\u001b[0m\u001b[0;34m(\u001b[0m\u001b[0mself\u001b[0m\u001b[0;34m.\u001b[0m\u001b[0m_filename\u001b[0m\u001b[0;34m)\u001b[0m\u001b[0;34m\u001b[0m\u001b[0;34m\u001b[0m\u001b[0m\n",
      "\u001b[0;32m~/.conda/envs/bonner-lab-atlas/lib/python3.7/site-packages/xarray/backends/netCDF4_.py\u001b[0m in \u001b[0;36mds\u001b[0;34m(self)\u001b[0m\n\u001b[1;32m    385\u001b[0m     \u001b[0;34m@\u001b[0m\u001b[0mproperty\u001b[0m\u001b[0;34m\u001b[0m\u001b[0;34m\u001b[0m\u001b[0m\n\u001b[1;32m    386\u001b[0m     \u001b[0;32mdef\u001b[0m \u001b[0mds\u001b[0m\u001b[0;34m(\u001b[0m\u001b[0mself\u001b[0m\u001b[0;34m)\u001b[0m\u001b[0;34m:\u001b[0m\u001b[0;34m\u001b[0m\u001b[0;34m\u001b[0m\u001b[0m\n\u001b[0;32m--> 387\u001b[0;31m         \u001b[0;32mreturn\u001b[0m \u001b[0mself\u001b[0m\u001b[0;34m.\u001b[0m\u001b[0m_acquire\u001b[0m\u001b[0;34m(\u001b[0m\u001b[0;34m)\u001b[0m\u001b[0;34m\u001b[0m\u001b[0;34m\u001b[0m\u001b[0m\n\u001b[0m\u001b[1;32m    388\u001b[0m \u001b[0;34m\u001b[0m\u001b[0m\n\u001b[1;32m    389\u001b[0m     \u001b[0;32mdef\u001b[0m \u001b[0mopen_store_variable\u001b[0m\u001b[0;34m(\u001b[0m\u001b[0mself\u001b[0m\u001b[0;34m,\u001b[0m \u001b[0mname\u001b[0m\u001b[0;34m,\u001b[0m \u001b[0mvar\u001b[0m\u001b[0;34m)\u001b[0m\u001b[0;34m:\u001b[0m\u001b[0;34m\u001b[0m\u001b[0;34m\u001b[0m\u001b[0m\n",
      "\u001b[0;32m~/.conda/envs/bonner-lab-atlas/lib/python3.7/site-packages/xarray/backends/netCDF4_.py\u001b[0m in \u001b[0;36m_acquire\u001b[0;34m(self, needs_lock)\u001b[0m\n\u001b[1;32m    379\u001b[0m \u001b[0;34m\u001b[0m\u001b[0m\n\u001b[1;32m    380\u001b[0m     \u001b[0;32mdef\u001b[0m \u001b[0m_acquire\u001b[0m\u001b[0;34m(\u001b[0m\u001b[0mself\u001b[0m\u001b[0;34m,\u001b[0m \u001b[0mneeds_lock\u001b[0m\u001b[0;34m=\u001b[0m\u001b[0;32mTrue\u001b[0m\u001b[0;34m)\u001b[0m\u001b[0;34m:\u001b[0m\u001b[0;34m\u001b[0m\u001b[0;34m\u001b[0m\u001b[0m\n\u001b[0;32m--> 381\u001b[0;31m         \u001b[0;32mwith\u001b[0m \u001b[0mself\u001b[0m\u001b[0;34m.\u001b[0m\u001b[0m_manager\u001b[0m\u001b[0;34m.\u001b[0m\u001b[0macquire_context\u001b[0m\u001b[0;34m(\u001b[0m\u001b[0mneeds_lock\u001b[0m\u001b[0;34m)\u001b[0m \u001b[0;32mas\u001b[0m \u001b[0mroot\u001b[0m\u001b[0;34m:\u001b[0m\u001b[0;34m\u001b[0m\u001b[0;34m\u001b[0m\u001b[0m\n\u001b[0m\u001b[1;32m    382\u001b[0m             \u001b[0mds\u001b[0m \u001b[0;34m=\u001b[0m \u001b[0m_nc4_require_group\u001b[0m\u001b[0;34m(\u001b[0m\u001b[0mroot\u001b[0m\u001b[0;34m,\u001b[0m \u001b[0mself\u001b[0m\u001b[0;34m.\u001b[0m\u001b[0m_group\u001b[0m\u001b[0;34m,\u001b[0m \u001b[0mself\u001b[0m\u001b[0;34m.\u001b[0m\u001b[0m_mode\u001b[0m\u001b[0;34m)\u001b[0m\u001b[0;34m\u001b[0m\u001b[0;34m\u001b[0m\u001b[0m\n\u001b[1;32m    383\u001b[0m         \u001b[0;32mreturn\u001b[0m \u001b[0mds\u001b[0m\u001b[0;34m\u001b[0m\u001b[0;34m\u001b[0m\u001b[0m\n",
      "\u001b[0;32m~/.conda/envs/bonner-lab-atlas/lib/python3.7/contextlib.py\u001b[0m in \u001b[0;36m__enter__\u001b[0;34m(self)\u001b[0m\n\u001b[1;32m    110\u001b[0m         \u001b[0;32mdel\u001b[0m \u001b[0mself\u001b[0m\u001b[0;34m.\u001b[0m\u001b[0margs\u001b[0m\u001b[0;34m,\u001b[0m \u001b[0mself\u001b[0m\u001b[0;34m.\u001b[0m\u001b[0mkwds\u001b[0m\u001b[0;34m,\u001b[0m \u001b[0mself\u001b[0m\u001b[0;34m.\u001b[0m\u001b[0mfunc\u001b[0m\u001b[0;34m\u001b[0m\u001b[0;34m\u001b[0m\u001b[0m\n\u001b[1;32m    111\u001b[0m         \u001b[0;32mtry\u001b[0m\u001b[0;34m:\u001b[0m\u001b[0;34m\u001b[0m\u001b[0;34m\u001b[0m\u001b[0m\n\u001b[0;32m--> 112\u001b[0;31m             \u001b[0;32mreturn\u001b[0m \u001b[0mnext\u001b[0m\u001b[0;34m(\u001b[0m\u001b[0mself\u001b[0m\u001b[0;34m.\u001b[0m\u001b[0mgen\u001b[0m\u001b[0;34m)\u001b[0m\u001b[0;34m\u001b[0m\u001b[0;34m\u001b[0m\u001b[0m\n\u001b[0m\u001b[1;32m    113\u001b[0m         \u001b[0;32mexcept\u001b[0m \u001b[0mStopIteration\u001b[0m\u001b[0;34m:\u001b[0m\u001b[0;34m\u001b[0m\u001b[0;34m\u001b[0m\u001b[0m\n\u001b[1;32m    114\u001b[0m             \u001b[0;32mraise\u001b[0m \u001b[0mRuntimeError\u001b[0m\u001b[0;34m(\u001b[0m\u001b[0;34m\"generator didn't yield\"\u001b[0m\u001b[0;34m)\u001b[0m \u001b[0;32mfrom\u001b[0m \u001b[0;32mNone\u001b[0m\u001b[0;34m\u001b[0m\u001b[0;34m\u001b[0m\u001b[0m\n",
      "\u001b[0;32m~/.conda/envs/bonner-lab-atlas/lib/python3.7/site-packages/xarray/backends/file_manager.py\u001b[0m in \u001b[0;36macquire_context\u001b[0;34m(self, needs_lock)\u001b[0m\n\u001b[1;32m    185\u001b[0m     \u001b[0;32mdef\u001b[0m \u001b[0macquire_context\u001b[0m\u001b[0;34m(\u001b[0m\u001b[0mself\u001b[0m\u001b[0;34m,\u001b[0m \u001b[0mneeds_lock\u001b[0m\u001b[0;34m=\u001b[0m\u001b[0;32mTrue\u001b[0m\u001b[0;34m)\u001b[0m\u001b[0;34m:\u001b[0m\u001b[0;34m\u001b[0m\u001b[0;34m\u001b[0m\u001b[0m\n\u001b[1;32m    186\u001b[0m         \u001b[0;34m\"\"\"Context manager for acquiring a file.\"\"\"\u001b[0m\u001b[0;34m\u001b[0m\u001b[0;34m\u001b[0m\u001b[0m\n\u001b[0;32m--> 187\u001b[0;31m         \u001b[0mfile\u001b[0m\u001b[0;34m,\u001b[0m \u001b[0mcached\u001b[0m \u001b[0;34m=\u001b[0m \u001b[0mself\u001b[0m\u001b[0;34m.\u001b[0m\u001b[0m_acquire_with_cache_info\u001b[0m\u001b[0;34m(\u001b[0m\u001b[0mneeds_lock\u001b[0m\u001b[0;34m)\u001b[0m\u001b[0;34m\u001b[0m\u001b[0;34m\u001b[0m\u001b[0m\n\u001b[0m\u001b[1;32m    188\u001b[0m         \u001b[0;32mtry\u001b[0m\u001b[0;34m:\u001b[0m\u001b[0;34m\u001b[0m\u001b[0;34m\u001b[0m\u001b[0m\n\u001b[1;32m    189\u001b[0m             \u001b[0;32myield\u001b[0m \u001b[0mfile\u001b[0m\u001b[0;34m\u001b[0m\u001b[0;34m\u001b[0m\u001b[0m\n",
      "\u001b[0;32m~/.conda/envs/bonner-lab-atlas/lib/python3.7/site-packages/xarray/backends/file_manager.py\u001b[0m in \u001b[0;36m_acquire_with_cache_info\u001b[0;34m(self, needs_lock)\u001b[0m\n\u001b[1;32m    203\u001b[0m                     \u001b[0mkwargs\u001b[0m \u001b[0;34m=\u001b[0m \u001b[0mkwargs\u001b[0m\u001b[0;34m.\u001b[0m\u001b[0mcopy\u001b[0m\u001b[0;34m(\u001b[0m\u001b[0;34m)\u001b[0m\u001b[0;34m\u001b[0m\u001b[0;34m\u001b[0m\u001b[0m\n\u001b[1;32m    204\u001b[0m                     \u001b[0mkwargs\u001b[0m\u001b[0;34m[\u001b[0m\u001b[0;34m\"mode\"\u001b[0m\u001b[0;34m]\u001b[0m \u001b[0;34m=\u001b[0m \u001b[0mself\u001b[0m\u001b[0;34m.\u001b[0m\u001b[0m_mode\u001b[0m\u001b[0;34m\u001b[0m\u001b[0;34m\u001b[0m\u001b[0m\n\u001b[0;32m--> 205\u001b[0;31m                 \u001b[0mfile\u001b[0m \u001b[0;34m=\u001b[0m \u001b[0mself\u001b[0m\u001b[0;34m.\u001b[0m\u001b[0m_opener\u001b[0m\u001b[0;34m(\u001b[0m\u001b[0;34m*\u001b[0m\u001b[0mself\u001b[0m\u001b[0;34m.\u001b[0m\u001b[0m_args\u001b[0m\u001b[0;34m,\u001b[0m \u001b[0;34m**\u001b[0m\u001b[0mkwargs\u001b[0m\u001b[0;34m)\u001b[0m\u001b[0;34m\u001b[0m\u001b[0;34m\u001b[0m\u001b[0m\n\u001b[0m\u001b[1;32m    206\u001b[0m                 \u001b[0;32mif\u001b[0m \u001b[0mself\u001b[0m\u001b[0;34m.\u001b[0m\u001b[0m_mode\u001b[0m \u001b[0;34m==\u001b[0m \u001b[0;34m\"w\"\u001b[0m\u001b[0;34m:\u001b[0m\u001b[0;34m\u001b[0m\u001b[0;34m\u001b[0m\u001b[0m\n\u001b[1;32m    207\u001b[0m                     \u001b[0;31m# ensure file doesn't get overriden when opened again\u001b[0m\u001b[0;34m\u001b[0m\u001b[0;34m\u001b[0m\u001b[0;34m\u001b[0m\u001b[0m\n",
      "\u001b[0;32msrc/netCDF4/_netCDF4.pyx\u001b[0m in \u001b[0;36mnetCDF4._netCDF4.Dataset.__init__\u001b[0;34m()\u001b[0m\n",
      "\u001b[0;32msrc/netCDF4/_netCDF4.pyx\u001b[0m in \u001b[0;36mnetCDF4._netCDF4._ensure_nc_success\u001b[0;34m()\u001b[0m\n",
      "\u001b[0;31mFileNotFoundError\u001b[0m: [Errno 2] No such file or directory: b'/data/atlas/model_scores_final/expansion_model_rgb_mp_3_layers_10000_features_naturalscenes/expansion_model_rgb_mp_3_layers_10000_features_naturalscenes_general_ridgecv'"
     ]
    }
   ],
   "source": [
    "expansion_scores_ds = xr.open_dataset('/data/atlas/model_scores_final/expansion_model_rgb_mp_3_layers_10000_features_naturalscenes/expansion_model_rgb_mp_3_layers_10000_features_naturalscenes_general_ridgecv')\n",
    "expansion_scores = np.zeros((mni_shape,8))\n",
    "\n",
    "alexnet_scores_ds = xr.open_dataset('/data/atlas/model_scores_final/alexnet_u_conv5_mp_5_layers_256_features_naturalscenes/alexnet_u_conv5_mp_5_layers_256_features_naturalscenes_general_ridgecv')\n",
    "alexnet_scores = np.zeros((mni_shape,8))\n",
    "\n",
    "\n",
    "for subject in range(8):      \n",
    "        \n",
    "\n",
    "    expansion_mni = transform_volume_to_mni(\n",
    "        data=reshape_dataarray_to_brain(\n",
    "            data=process_subject(expansion_scores_ds),\n",
    "            subject=subject,\n",
    "            resolution=resolution,\n",
    "        ),\n",
    "        subject=subject,\n",
    "        source_space=f\"func{resolution[:-2]}\",\n",
    "        interpolation_type=interpolation_type,\n",
    "    )\n",
    "    expansion_scores[:,subject] = expansion_mni.flatten()\n",
    "    \n",
    "    \n",
    "    alexnet_mni = transform_volume_to_mni(\n",
    "        data=reshape_dataarray_to_brain(\n",
    "            data=process_subject(alexnet_scores_ds),\n",
    "            subject=subject,\n",
    "            resolution=resolution,\n",
    "        ),\n",
    "        subject=subject,\n",
    "        source_space=f\"func{resolution[:-2]}\",\n",
    "        interpolation_type=interpolation_type,\n",
    "    )\n",
    "    alexnet_scores[:,subject] = alexnet_mni.flatten()\n"
   ]
  },
  {
   "cell_type": "code",
   "execution_count": 11,
   "id": "f6083d6b-0602-4fdd-aa4c-501be33343b6",
   "metadata": {},
   "outputs": [],
   "source": [
    "# import multiprocessing as mp\n",
    "\n",
    "# expansion_scores_ds = xr.open_dataset('/data/atlas/model_scores_final/expansion_model_rgb_test_mp_3_layers_10000_features_naturalscenes/expansion_model_rgb_test_mp_3_layers_10000_features_naturalscenes_general_test_ridge(alpha=1000)')\n",
    "\n",
    "# manager = mp.Manager()\n",
    "# expansion_scores = manager.Array('d', mni_shape * 8)  # Shared array for expansion_scores\n",
    "\n",
    "# pool = mp.Pool(processes=8)\n",
    "# pool.map(process_subject, range(8))\n",
    "# pool.close()\n",
    "# pool.join()\n",
    "\n",
    "# expansion_scores = np.frombuffer(expansion_scores.get_obj(), dtype=np.float64).reshape(mni_shape, 8)"
   ]
  },
  {
   "cell_type": "code",
   "execution_count": 10,
   "id": "01d6c713-b1b4-4dd2-8742-22bbe66dff7a",
   "metadata": {},
   "outputs": [
    {
     "name": "stdout",
     "output_type": "stream",
     "text": [
      "percentage of voxels with p-value < 0.001: 0.03\n"
     ]
    }
   ],
   "source": [
    "def filter_zero_rows(arr1, arr2):\n",
    "    # Get a boolean mask indicating rows where all column values are zero in both arrays\n",
    "    mask = np.all(arr1 == 0, axis=1) & np.all(arr2 == 0, axis=1)\n",
    "    \n",
    "    # Filter the arrays based on the mask\n",
    "    filtered_arr1 = arr1[~mask]\n",
    "    filtered_arr2 = arr2[~mask]\n",
    "    \n",
    "    return filtered_arr1, filtered_arr2\n",
    "\n",
    "\n",
    "# Perform paired t-test\n",
    "t_statistic, p_value = stats.ttest_rel(expansion_scores, alexnet_scores, axis=1)\n",
    "\n",
    "th = 0.001\n",
    "sig_voxels = np.where(p_value <= th)[0]\n",
    "all_voxels = np.where(~np.isnan(p_value))[0]\n",
    "print(f'percentage of voxels with p-value < {th}:',round(len(sig_voxels)/len(all_voxels),2))"
   ]
  },
  {
   "cell_type": "code",
   "execution_count": 11,
   "id": "fcd58ec9-2994-41ed-9c83-f4ea28d68b00",
   "metadata": {},
   "outputs": [
    {
     "data": {
      "image/png": "[encoded data removed]",
      "text/plain": [
       "<Figure size 288x468 with 7 Axes>"
      ]
     },
     "metadata": {
      "needs_background": "light"
     },
     "output_type": "display_data"
    }
   ],
   "source": [
    "def set_values_to_zero(arr, th=0.001):\n",
    "    arr[arr > th] = 0\n",
    "    return arr\n",
    "\n",
    "# Set values smaller than 0.001 to zero\n",
    "masked_p_values = set_values_to_zero(p_value)\n",
    "masked_p_values_brain = np.nan_to_num(masked_p_values.reshape((182, 218, 182)))\n",
    "\n",
    "volume = convert_ndarray_to_nifti1image(masked_p_values_brain)\n",
    "\n",
    "fig, _ = nilearn.plotting.plot_img_on_surf(\n",
    "    volume,\n",
    "    views=[\"lateral\", \"medial\", \"ventral\"],\n",
    "    hemispheres=[\"left\", \"right\"],\n",
    "    colorbar=True,\n",
    "    inflate=True,\n",
    "    surf_mesh='fsaverage',\n",
    "    threshold=np.finfo(np.float32).resolution,\n",
    "    symmetric_cbarbool='auto',\n",
    ")\n",
    "fig.savefig('significant_p_values',dpi=300)"
   ]
  },
  {
   "cell_type": "markdown",
   "id": "522cf003-6806-449e-b290-133b6fc5f3dd",
   "metadata": {
    "tags": []
   },
   "source": [
    "# Plotting Brain for Visualization"
   ]
  },
  {
   "cell_type": "code",
   "execution_count": 2,
   "id": "2167e276-7ee9-416b-9893-ecc6dd007c8c",
   "metadata": {},
   "outputs": [],
   "source": [
    "def process_data_to_plot(data):\n",
    "\n",
    "    #data = xr.open_dataset(scores_path,engine='h5netcdf')\n",
    "    #data = data.where(data.subject==subject,drop=True)\n",
    "    data = data.drop_vars([\"subject\",'region','name']).to_array()\n",
    "    data.x.values = data.x.values.astype(int)\n",
    "    data.y.values = data.y.values.astype(int)\n",
    "    data.z.values = data.z.values.astype(int)\n",
    "    data = data.drop('variable').squeeze()\n",
    "    \n",
    "    return data"
   ]
  },
  {
   "cell_type": "code",
   "execution_count": 3,
   "id": "a36d5a3d-d45f-4f7d-bef4-8644f2a47ffb",
   "metadata": {},
   "outputs": [],
   "source": [
    "resolution = '1pt8mm'      \n",
    "interpolation_type = 'nearest'\n",
    "colors = ['lightcoral','lightcoral']\n",
    "custom_cmap = LinearSegmentedColormap.from_list('CustomMap', colors) \n",
    "\n",
    "\n",
    "subject = 0\n",
    "regions = ['ventral visual stream']"
   ]
  },
  {
   "cell_type": "code",
   "execution_count": null,
   "id": "3caf24ce-05c4-441e-abfa-bf601c127e38",
   "metadata": {},
   "outputs": [
    {
     "name": "stderr",
     "output_type": "stream",
     "text": [
      "\u001b[32m2024-01-11 20:37:50.613\u001b[0m | \u001b[34m\u001b[1mDEBUG   \u001b[0m | \u001b[36mmodel_evaluation.results.predicting_brain_data.brain_map\u001b[0m:\u001b[36mdownload_from_s3\u001b[0m:\u001b[36m113\u001b[0m - \u001b[34m\u001b[1mUsing previously downloaded file at /data/atlas/brain_map/allen2021.natural_scenes/nsddata/ppdata/subj01/func1pt8mm/brainmask.nii.gz instead of downloading nsddata/ppdata/subj01/func1pt8mm/brainmask.nii.gz from S3 bucket natural-scenes-dataset\u001b[0m\n",
      "\u001b[32m2024-01-11 20:37:50.624\u001b[0m | \u001b[34m\u001b[1mDEBUG   \u001b[0m | \u001b[36mmodel_evaluation.results.predicting_brain_data.brain_map\u001b[0m:\u001b[36mdownload_from_s3\u001b[0m:\u001b[36m113\u001b[0m - \u001b[34m\u001b[1mUsing previously downloaded file at /data/atlas/brain_map/allen2021.natural_scenes/nsddata/ppdata/subj01/transforms/func1pt8-to-MNI.nii.gz instead of downloading nsddata/ppdata/subj01/transforms/func1pt8-to-MNI.nii.gz from S3 bucket natural-scenes-dataset\u001b[0m\n"
     ]
    }
   ],
   "source": [
    "scores_list = []\n",
    "for region in regions:\n",
    "    data = xr.open_dataset(f'/data/atlas/.cache/encoding_scores_torch/expansion_3000_dataset=naturalscenes_{region}')\n",
    "    data = data.where(data.subject == subject,drop=True)\n",
    "    scores_list.append(data)\n",
    "scores = xr.concat(scores_list, dim='neuroid')\n",
    "\n",
    "\n",
    "\n",
    "alexnet_mni = transform_volume_to_mni(\n",
    "    data=reshape_dataarray_to_brain(\n",
    "        data=process_data_to_plot(scores),\n",
    "        subject=subject,\n",
    "        resolution=resolution,\n",
    "    ),\n",
    "    subject=subject,\n",
    "    source_space=f\"func{resolution[:-2]}\",\n",
    "    interpolation_type=interpolation_type,\n",
    ")\n",
    "\n",
    "\n",
    "\n",
    "\n",
    "brain_region = np.where(alexnet_mni > 0, 1,0)\n",
    "volume = convert_ndarray_to_nifti1image(brain_region)\n",
    "\n",
    "fig, _ = nilearn.plotting.plot_img_on_surf(\n",
    "    volume,\n",
    "    views=[\"lateral\", \"medial\", \"ventral\"],\n",
    "    hemispheres=[\"left\", \"right\"],\n",
    "    colorbar=True,\n",
    "    inflate=True,\n",
    "    surf_mesh='fsaverage',\n",
    "    threshold=np.finfo(np.float32).resolution,\n",
    "    symmetric_cbarbool='auto',\n",
    "    cmap = custom_cmap, \n",
    "    vmax = 1\n",
    ")\n",
    "fig.savefig(f'just_brain_{regions}',dpi=300,transparent=True)"
   ]
  },
  {
   "cell_type": "code",
   "execution_count": null,
   "id": "bda4c4f9-fc0e-4f4b-83f1-7866f05ef7f2",
   "metadata": {},
   "outputs": [],
   "source": []
  }
 ],
 "metadata": {
  "kernelspec": {
   "display_name": "Python 3 (ipykernel)",
   "language": "python",
   "name": "python3"
  },
  "language_info": {
   "codemirror_mode": {
    "name": "ipython",
    "version": 3
   },
   "file_extension": ".py",
   "mimetype": "text/x-python",
   "name": "python",
   "nbconvert_exporter": "python",
   "pygments_lexer": "ipython3",
   "version": "3.10.13"
  }
 },
 "nbformat": 4,
 "nbformat_minor": 5
}
