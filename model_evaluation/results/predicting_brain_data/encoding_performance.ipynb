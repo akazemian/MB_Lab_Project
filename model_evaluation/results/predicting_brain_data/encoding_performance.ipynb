{
 "cells": [
  {
   "cell_type": "code",
   "execution_count": 1,
   "id": "518ac500-1d45-47c2-9ee4-64ca4b810244",
   "metadata": {},
   "outputs": [],
   "source": [
    "import os\n",
    "import sys\n",
    "ROOT = os.getenv('BONNER_ROOT_PATH')\n",
    "sys.path.append(ROOT)\n",
    "from image_tools.loading import load_image_paths, get_image_labels\n",
    "from config import CACHE, NSD_SAMPLE_IMAGES\n",
    "import pandas as pd\n",
    "import xarray as xr\n",
    "import matplotlib.pyplot as plt\n",
    "import seaborn as sns\n",
    "from matplotlib import rcParams\n",
    "import torch\n",
    "import numpy as np\n",
    "from model_evaluation.predicting_brain_data.benchmarks.majajhong import load_majaj_data\n",
    "from model_evaluation.predicting_brain_data.benchmarks.nsd import load_nsd_data\n",
    "from model_evaluation.predicting_brain_data.benchmarks.nsd import filter_activations\n",
    "\n",
    "\n",
    "import pickle\n",
    "from config import CACHE, NSD_NEURAL_DATA      \n",
    "SHARED_IDS_PATH = os.path.join(ROOT, 'image_tools','nsd_ids_shared')\n",
    "SHARED_IDS = pickle.load(open(SHARED_IDS_PATH, 'rb'))\n",
    "SHARED_IDS = [image_id.strip('.png') for image_id in SHARED_IDS]"
   ]
  },
  {
   "cell_type": "code",
   "execution_count": 2,
   "id": "3e35f09c-3bce-49fe-85f9-332d738c4237",
   "metadata": {},
   "outputs": [],
   "source": [
    "import numpy as np\n",
    "from scipy.spatial.distance import pdist, squareform\n",
    "from scipy.stats import spearmanr\n",
    "\n",
    "def compute_similarity_matrix(features):\n",
    "    \"\"\"\n",
    "    Compute the similarity matrix (using Pearson correlation) for a set of features.\n",
    "    \"\"\"\n",
    "    # Compute the pairwise distances (using correlation) and convert to similarity\n",
    "    return 1 - squareform(pdist(features, 'correlation'))\n",
    "\n",
    "def rsa(features1, features2):\n",
    "    \"\"\"\n",
    "    Perform Representational Similarity Analysis between two sets of features.\n",
    "    \"\"\"\n",
    "    # Compute similarity matrices for both sets of features\n",
    "    sim_matrix_1 = compute_similarity_matrix(features1)\n",
    "    sim_matrix_2 = compute_similarity_matrix(features2)\n",
    "\n",
    "    # Flatten the upper triangular part of the matrices\n",
    "    upper_tri_indices = np.triu_indices_from(sim_matrix_1, k=1)\n",
    "    sim_matrix_1_flat = sim_matrix_1[upper_tri_indices]\n",
    "    sim_matrix_2_flat = sim_matrix_2[upper_tri_indices]\n",
    "\n",
    "    # Compute the Spearman correlation between the flattened matrices\n",
    "    correlation, p_value = spearmanr(sim_matrix_1_flat, sim_matrix_2_flat)\n",
    "\n",
    "    return correlation, p_value\n",
    "\n",
    "# Example usage\n",
    "# features1 and features2 should be numpy arrays of shape (n_images, n_features)\n",
    "# features1 = ...\n",
    "# features2 = ...\n",
    "\n",
    "# correlation, p_value = rsa(features1, features2)\n",
    "# print(\"RSA Correlation:\", correlation)\n",
    "# print(\"P-value:\", p_value)\n"
   ]
  },
  {
   "cell_type": "code",
   "execution_count": 3,
   "id": "d7bad801-57da-49d4-a580-c6ec58e340ef",
   "metadata": {},
   "outputs": [],
   "source": [
    "# features1 = torch.Tensor(xr.open_dataset('/data/atlas/.cache/activations/expansion_features=3000_layers=5_dataset=naturalscenes').x.values).cuda()\n",
    "# features2 =  torch.Tensor(xr.open_dataset('/data/atlas/.cache/activations/alexnet_conv5_layers=5_features=256_gpool=False_dataset=naturalscenes').x.values).cuda()\n",
    "# rsa(features1, features2)"
   ]
  },
  {
   "cell_type": "code",
   "execution_count": 4,
   "id": "d0253eb0-afbe-4f34-a325-42981bede96f",
   "metadata": {},
   "outputs": [],
   "source": [
    "# import os\n",
    "\n",
    "# # Replace 'old_filename.ext' with the current file name\n",
    "# # and 'new_filename.ext' with the new file name you want.\n",
    "# p = '/data/atlas/.cache/beta_predictions'\n",
    "\n",
    "# dataset = 'majajhong'\n",
    "# # dataset = 'naturalscenes'\n",
    "# layers = 5\n",
    "# features = 3\n",
    "\n",
    "# regions = ['V4','IT']\n",
    "# # regions = ['early visual stream','midventral visual stream','ventral visual stream']\n",
    "# for region in regions:\n",
    "    \n",
    "#     for i in ['Tito','Chabo']:\n",
    "    \n",
    "#         new_name = f'expansion_features={features}_layers={layers}_dataset={dataset}_{region}_{i}.pkl'\n",
    "#         old_name = f'expansion_{features}_dataset={dataset}_{region}_{i}.pkl'\n",
    "#         # Renaming the file\n",
    "#         os.rename(os.path.join(p,old_name), os.path.join(p,new_name))\n",
    "    "
   ]
  },
  {
   "cell_type": "code",
   "execution_count": 5,
   "id": "1b08d819-922d-41d8-b09f-fae3d788efbe",
   "metadata": {},
   "outputs": [],
   "source": [
    "import torch\n",
    "\n",
    "def pearson_r_(x, y):\n",
    "    \"\"\"\n",
    "    Compute Pearson correlation coefficients for batches of bootstrap samples.\n",
    "\n",
    "    Parameters:\n",
    "    x (torch.Tensor): A 3D tensor of shape (n_bootstraps, n_samples, n_features).\n",
    "    y (torch.Tensor): A 3D tensor of shape (n_bootstraps, n_samples, n_features).\n",
    "\n",
    "    Returns:\n",
    "    torch.Tensor: 1D tensor of Pearson correlation coefficients for each bootstrap.\n",
    "    \"\"\"\n",
    "    # Ensure the input tensors are of the same shape\n",
    "    if x.shape != y.shape:\n",
    "        raise ValueError(\"Input tensors must have the same shape\")\n",
    "\n",
    "    # Mean-centering the data\n",
    "    x_mean = torch.mean(x, dim=2, keepdim=True)\n",
    "    y_mean = torch.mean(y, dim=2, keepdim=True)\n",
    "    x = x - x_mean\n",
    "    y = y - y_mean\n",
    "\n",
    "    # Calculating Pearson Correlation Coefficient\n",
    "    sum_sq_x = torch.sum(x ** 2, axis=2)\n",
    "    sum_sq_y = torch.sum(y ** 2, axis=2)\n",
    "    sum_coproduct = torch.sum(x * y, axis=2)\n",
    "    denominator = torch.sqrt(sum_sq_x * sum_sq_y)\n",
    "\n",
    "    # Avoid division by zero\n",
    "    denominator = torch.where(denominator != 0, denominator, torch.ones_like(denominator))\n",
    "\n",
    "    r_values = sum_coproduct / denominator\n",
    "\n",
    "    # Average across the samples in each bootstrap\n",
    "    mean_r_values = torch.mean(r_values, axis=1)\n",
    "\n",
    "    return mean_r_values\n"
   ]
  },
  {
   "cell_type": "code",
   "execution_count": 6,
   "id": "826460bc-f6f3-457d-b479-8dbe66353c60",
   "metadata": {},
   "outputs": [],
   "source": [
    "def make_pandas_df(identifier, subjects, features=None, names=None):\n",
    "    \n",
    "    df = pd.DataFrame()\n",
    "    index = 0        \n",
    "    \n",
    "    data = xr.open_dataset(os.path.join(CACHE,'encoding_scores_torch',identifier), engine='h5netcdf')\n",
    "\n",
    "    for subject in subjects:\n",
    "        subject_data = data.where(data.subject == subject, drop=True)\n",
    "        mean_r = subject_data.r_value.values.mean()\n",
    "\n",
    "        df_tmp =  pd.DataFrame({'score':mean_r,\n",
    "                                'iden':identifier,\n",
    "                                'subject':subject},index=[index])\n",
    "        if features is not None:\n",
    "            df_tmp['features'] = str(features)\n",
    "        \n",
    "        if names is not None:\n",
    "            df_tmp['names'] = names\n",
    "            \n",
    "        df = pd.concat([df,df_tmp])\n",
    "        index+=1\n",
    "\n",
    "    return df"
   ]
  },
  {
   "cell_type": "code",
   "execution_count": 7,
   "id": "c78c00ff-b8d4-4d1c-b2c6-f5da1d824810",
   "metadata": {},
   "outputs": [],
   "source": [
    "def make_pandas_df_30k(identifier, subjects, region, features=None, names=None):\n",
    "    \n",
    "    df = pd.DataFrame()\n",
    "    index = 0        \n",
    "    \n",
    "    for subject in subjects:\n",
    "        \n",
    "        subject_data = xr.open_dataset(f'/data/atlas/.cache/encoding_scores_torch/expansion_30000_dataset=naturalscenes_subject={subject}_{region}', \n",
    "                                  engine='netcdf4')\n",
    "        mean_r = subject_data.r_value.values.mean()\n",
    "\n",
    "        df_tmp =  pd.DataFrame({'score':mean_r,\n",
    "                                'iden':identifier,\n",
    "                                'subject':subject},index=[index])\n",
    "        if features is not None:\n",
    "            df_tmp['features'] = str(features*36)\n",
    "        \n",
    "        if names is not None:\n",
    "            df_tmp['names'] = names\n",
    "            \n",
    "        df = pd.concat([df,df_tmp])\n",
    "        index+=1\n",
    "\n",
    "    return df"
   ]
  },
  {
   "cell_type": "code",
   "execution_count": 8,
   "id": "a777e580-c1d0-4ef7-ad71-664e37e25c8e",
   "metadata": {},
   "outputs": [],
   "source": [
    "#xr.open_dataset('/data/atlas/.cache/activations/expansion_30000_dataset=naturalscenes_subject=1').x.values[:5]"
   ]
  },
  {
   "cell_type": "markdown",
   "id": "7778a91a-ffaf-4aab-bdc0-b65fb29a6557",
   "metadata": {
    "tags": []
   },
   "source": [
    "# Bootstrap"
   ]
  },
  {
   "cell_type": "markdown",
   "id": "7744a945-aa8d-4ae3-864e-ec54708ce296",
   "metadata": {},
   "source": [
    "engineered mdoels"
   ]
  },
  {
   "cell_type": "code",
   "execution_count": 9,
   "id": "4b36f9d2-a397-4fd1-9051-e65ac1691e88",
   "metadata": {},
   "outputs": [],
   "source": [
    "import pickle\n",
    "from model_features.models.models import load_iden\n",
    "from model_evaluation.predicting_brain_data.benchmarks.nsd import load_nsd_data\n",
    "from model_evaluation.predicting_brain_data.benchmarks.majajhong import load_majaj_data\n",
    "from model_evaluation.predicting_brain_data.regression.regression import pearson_r\n",
    "from tqdm import tqdm\n",
    "import numpy as np\n",
    "\n",
    "PREDS_PATH = '/data/atlas/.cache/beta_predictions'"
   ]
  },
  {
   "cell_type": "code",
   "execution_count": 10,
   "id": "68925e47-0cbc-4226-abe2-e8150c0eaeed",
   "metadata": {},
   "outputs": [],
   "source": [
    "def get_bootstrap_data(models,features, layers, dataset, region, all_sampled_indices, file_name, batch_size=50, n_bootstraps=1000):\n",
    "\n",
    "\n",
    "    if dataset == 'naturalscenes':\n",
    "        SUBJECTS = [i for i in range(8)]\n",
    "    elif dataset == 'majajhong':\n",
    "        SUBJECTS = ['Chabo','Tito']\n",
    "    else:\n",
    "        print('unknown dataset')\n",
    "    \n",
    "    \n",
    "    data_dict = {'model':[],'features':[],'score':[], 'lower':[],'upper':[]}\n",
    "    mean_scores = []\n",
    "    lower_bound = []\n",
    "    upper_bound = []              \n",
    "        \n",
    "    \n",
    "    for features in features:\n",
    "\n",
    "        print(features)\n",
    "\n",
    "        for model_name in models:\n",
    "\n",
    "                print(model_name)\n",
    "\n",
    "                activations_identifier = load_iden(model_name=model_name, features=features, layers=layers, dataset=dataset)\n",
    "                print(activations_identifier)\n",
    "\n",
    "                score_sum = np.zeros(n_bootstraps)\n",
    "                #bootstrap_dist = []\n",
    "\n",
    "                for subject in tqdm(SUBJECTS):\n",
    "\n",
    "                        # load preds and y_true\n",
    "                        r_values = []\n",
    "                        with open(os.path.join(PREDS_PATH,f'{activations_identifier}_{region}_{subject}.pkl'), 'rb') as file:\n",
    "                            preds = torch.Tensor(pickle.load(file))\n",
    "\n",
    "                        if dataset == 'naturalscenes':\n",
    "                            ids_test, neural_data_test, var_name_test = load_nsd_data(mode ='shared', subject = subject, region = region)           \n",
    "                            test = torch.Tensor(neural_data_test[var_name_test].values)\n",
    "\n",
    "                        else:\n",
    "                            test = load_majaj_data(subject, region, 'test')\n",
    "                            \n",
    "                        \n",
    "                        # Vectorized bootstrapping\n",
    "                        all_sampled_preds = preds[all_sampled_indices]\n",
    "                        all_sampled_tests = test[all_sampled_indices]\n",
    "\n",
    "                        i = 0\n",
    "                        batch = batch_size\n",
    "                        while i < n_bootstraps:\n",
    "                            # Compute Pearson r for all bootstraps at once\n",
    "                            mean_r_values = pearson_r_(all_sampled_tests[i:i+batch,:,:].cuda(), \n",
    "                                                       all_sampled_preds[i:i+batch,:,:].cuda())\n",
    "                            r_values.extend(mean_r_values.tolist())\n",
    "                            i += batch\n",
    "\n",
    "                        score_sum += r_values\n",
    "                        #bootstrap_dist.extend(r_values)\n",
    "\n",
    "                bootstrap_dist = score_sum/len(SUBJECTS)\n",
    "\n",
    "                data_dict['model'].append(model_name)\n",
    "                #data_dict['subject'].append(subject)\n",
    "                data_dict['features'].append(str(features))\n",
    "                data_dict['score'].append(np.mean(bootstrap_dist))\n",
    "                data_dict['lower'].append(np.percentile(bootstrap_dist, 2.5))\n",
    "                data_dict['upper'].append(np.percentile(bootstrap_dist, 97.5))\n",
    "\n",
    "\n",
    "    df = pd.DataFrame.from_dict(data_dict)\n",
    "    \n",
    "    with open(f'bootstrap-results-{file_name}-{dataset}-{region}-df.pkl', 'wb') as file:\n",
    "        pickle.dump(df,file)\n",
    "        \n",
    "    return df"
   ]
  },
  {
   "cell_type": "code",
   "execution_count": 11,
   "id": "0f09523a-0af2-4904-be74-46a2d51fd8a3",
   "metadata": {},
   "outputs": [],
   "source": [
    "# DATASET = 'naturalscenes'\n",
    "# REGIONS = ['midventral visual stream',] #'early visual stream','ventral visual stream',\n",
    "\n",
    "# DATASET = 'majajhong'\n",
    "# REGIONS = ['V4','IT']\n",
    "\n",
    "\n",
    "# n_bootstraps = 1000  \n",
    "# n_rows = 872 if DATASET=='naturalscenes' else 640\n",
    "# all_sampled_indices = np.random.choice(n_rows, (n_bootstraps, n_rows), replace=True) # Sample indices for all bootstraps at once\n",
    "\n",
    "\n",
    "# for region in REGIONS:\n",
    "    \n",
    "#     df_ViT = get_bootstrap_data(models= ['ViT_base'],\n",
    "#                             features=[6,60,600, 12*280],\n",
    "#                             dataset=DATASET, \n",
    "#                             layers = 5,\n",
    "#                             file_name = 'ViT',\n",
    "#                             region=region,\n",
    "#                             n_bootstraps = n_bootstraps,\n",
    "#                             all_sampled_indices=all_sampled_indices)\n",
    "    \n",
    "#     # df_alexnet = get_bootstrap_data(models=['alexnet'],\n",
    "#     #                                 features=[None],\n",
    "#     #                                 dataset=DATASET, \n",
    "#     #                                 layers='best',\n",
    "#     #                                 n_bootstraps = n_bootstraps,\n",
    "#     #                                 region=region,\n",
    "#     #                                 all_sampled_indices=all_sampled_indices)"
   ]
  },
  {
   "cell_type": "code",
   "execution_count": 12,
   "id": "17ee03f1-d414-4e74-93da-0d20fbc18fb8",
   "metadata": {},
   "outputs": [],
   "source": [
    "# new_data = pd.concat([pd.DataFrame.from_dict(old_data),df_engineered]).reset_index(drop=True)\n",
    "# with open(f'bootstrap-results-engineered-{DATASET}-{region}_df.pkl', 'wb') as file:\n",
    "#     pickle.dump(new_data,file)"
   ]
  },
  {
   "cell_type": "code",
   "execution_count": 13,
   "id": "aa6e6be4-f49f-47c5-8570-5c6ce1b52927",
   "metadata": {},
   "outputs": [],
   "source": [
    "# activations_identifier = load_iden(model_name='ViT_base', features=None, layers='best', dataset=DATASET)\n",
    "# r_values = []\n",
    "# for subject in ['Tito','Chabo']:\n",
    "\n",
    "#         # load preds and y_true\n",
    "#         with open(os.path.join(PREDS_PATH,f'{activations_identifier}_{region}_{subject}.pkl'), 'rb') as file:\n",
    "#             preds = torch.Tensor(pickle.load(file))\n",
    "\n",
    "#         # ids_test, neural_data_test, var_name_test = load_nsd_data(mode ='shared', subject = subject, region = region)           \n",
    "#         # test = torch.Tensor(neural_data_test[var_name_test].values)\n",
    "#         test = load_majaj_data(subject= subject, region= region, mode = 'test')\n",
    "\n",
    "#         r_values.append(pearson_r_(test.unsqueeze(dim=0).cuda(),preds.unsqueeze(dim=0).cuda()))\n",
    "\n",
    "# ViT_base = (sum(r_values)/len(r_values))[0].cpu()"
   ]
  },
  {
   "cell_type": "code",
   "execution_count": 22,
   "id": "4f0ffa04-b53c-46bc-a561-5075c26241c8",
   "metadata": {},
   "outputs": [],
   "source": [
    "DATASET = 'majajhong'\n",
    "region = 'IT'"
   ]
  },
  {
   "cell_type": "code",
   "execution_count": 23,
   "id": "44a5d1a0-c4b2-4ce0-96a5-2818cd78a646",
   "metadata": {},
   "outputs": [],
   "source": [
    "activations_identifier = load_iden(model_name='fully_random', features=3000, layers=5, dataset=DATASET)\n",
    "r_values = []\n",
    "for subject in ['Tito','Chabo']:\n",
    "\n",
    "        # load preds and y_true\n",
    "        with open(os.path.join(PREDS_PATH,f'{activations_identifier}_{region}_{subject}.pkl'), 'rb') as file:\n",
    "            preds = torch.Tensor(pickle.load(file))\n",
    "\n",
    "        # ids_test, neural_data_test, var_name_test = load_nsd_data(mode ='shared', subject = subject, region = region)           \n",
    "        # test = torch.Tensor(neural_data_test[var_name_test].values)\n",
    "        test = load_majaj_data(subject= subject, region= region, mode = 'test')\n",
    "\n",
    "        r_values.append(pearson_r_(test.unsqueeze(dim=0).cuda(),preds.unsqueeze(dim=0).cuda()))\n",
    "\n",
    "fully_random = (sum(r_values)/len(r_values))[0].cpu()"
   ]
  },
  {
   "cell_type": "markdown",
   "id": "c4c52a38-9aec-4fd3-91c5-a98484e562bb",
   "metadata": {
    "tags": []
   },
   "source": [
    "# Main Results"
   ]
  },
  {
   "cell_type": "code",
   "execution_count": 24,
   "id": "db55e80e-909f-4cff-a7bf-692bfb76a573",
   "metadata": {},
   "outputs": [],
   "source": [
    "# DATASET = 'majajhong'\n",
    "# region = 'V4'\n",
    "\n",
    "# DATASET = 'naturalscenes'\n",
    "# region = 'ventral visual stream'"
   ]
  },
  {
   "cell_type": "code",
   "execution_count": 25,
   "id": "c5d82023-8a25-49e0-b363-838650602423",
   "metadata": {},
   "outputs": [],
   "source": [
    "path = '/home/akazemi3/Desktop/untrained_models_of_visual_cortex/model_evaluation/results/predicting_brain_data'\n",
    "\n",
    "# with open(os.path.join(path,f'bootstrap-results-ViT-{DATASET}-{region}-df.pkl'), 'rb') as file:\n",
    "#     df_ViT = pickle.load(file)\n",
    "    \n",
    "with open(os.path.join(path,f'bootstrap-results-engineered-{DATASET}-{region}-df.pkl'), 'rb') as file:\n",
    "    df_engineered = pickle.load(file)\n",
    "    \n",
    "with open(os.path.join(path,f'bootstrap-results-alexnet-{DATASET}-{region}-df.pkl'), 'rb') as file:\n",
    "    df_alexnet = pickle.load(file)  "
   ]
  },
  {
   "cell_type": "code",
   "execution_count": 26,
   "id": "e640dd7b-5ad7-4397-a38b-ade025d02bdb",
   "metadata": {},
   "outputs": [],
   "source": [
    "# df = new_data.copy()\n",
    "df_engineered['features'] = df_engineered['features'].apply(lambda x: int(x)*36)\n",
    "#df_ViT['features'] = df_ViT['features'].apply(lambda x: int(x)*196)"
   ]
  },
  {
   "cell_type": "code",
   "execution_count": 27,
   "id": "b46b0997-a046-4740-b6aa-eb21be4f61ba",
   "metadata": {},
   "outputs": [],
   "source": [
    "#df_engineered = pd.concat([df_engineered,df_ViT])"
   ]
  },
  {
   "cell_type": "code",
   "execution_count": 28,
   "id": "82f5c01f-f827-4e8a-9e5d-8d56a619a2e2",
   "metadata": {},
   "outputs": [],
   "source": [
    "# df = new_data.copy()\n",
    "\n",
    "names ={'expansion':'Convolution','ViT_base':'Transformer','ViT_large':'ViT Large','fully_connected':'Fully connected', \n",
    "       'expansion_linear':'Convolution(linear)'}\n",
    "df_engineered['model'] = df_engineered['model'].map(names)\n",
    "\n",
    "palette ={'Convolution':'seagreen','Convolution(linear)':'orange','Transformer':'plum','Fully connected':'slateblue'}\n",
    "df_engineered['color'] = df_engineered['model'].map(palette)\n",
    "df_engineered = df_engineered.dropna().reset_index()"
   ]
  },
  {
   "cell_type": "code",
   "execution_count": 29,
   "id": "6eab0eae-1e05-4dfd-9a1b-2d9430a9d0c3",
   "metadata": {},
   "outputs": [
    {
     "data": {
      "image/png": "[encoded data removed]",
      "text/plain": [
       "<Figure size 600x600 with 1 Axes>"
      ]
     },
     "metadata": {},
     "output_type": "display_data"
    }
   ],
   "source": [
    "# main results\n",
    "rcParams['figure.figsize'] = (6,6)  \n",
    "\n",
    "ax1 = sns.lineplot(data = df_engineered, x='features', y='score', hue='model', marker='o',palette = palette)\n",
    "\n",
    "# Adding error bars for the 95% confidence interval\n",
    "for i in range(len(df_engineered)):\n",
    "    plt.errorbar(df_engineered['features'][i], df_engineered['score'][i], \n",
    "                 yerr=[[df_engineered['score'][i] - df_engineered['lower'][i]], [df_engineered['upper'][i] - df_engineered['score'][i]]], \n",
    "                 fmt='none', capsize=5, color=df_engineered['color'][i])\n",
    "    \n",
    "# alexnet results\n",
    "plt.axhline(y=df_alexnet['score'][0], color='royalblue', linestyle='--', label='AlexNet')\n",
    "plt.fill_between(np.arange(df_engineered['features'].min()/3,df_engineered['features'].max()*3), \n",
    "                 df_alexnet['lower'], df_alexnet['upper'], color='royalblue', alpha=0.2)\n",
    "\n",
    "plt.axhline(y=fully_random, color='plum', linestyle='--', label='fully_random')\n",
    "# plt.axhline(y=ViT_fixed_pos, color='orchid', linestyle='--', label='ViT_fixed_pos')\n",
    "\n",
    "plt.xlabel('Number of Features',size=12)\n",
    "plt.ylabel('Encoding Score',size=12)\n",
    "plt.ylim(0,0.65)\n",
    "plt.xlim(df_engineered['features'].min()/2,df_engineered['features'].max()*2)\n",
    "\n",
    "plt.xticks(size=15)\n",
    "plt.yticks(size=15)\n",
    "ax1.set_xscale(\"log\")    \n",
    "    \n",
    "#plt.legend()\n",
    "ax1.legend(frameon=False,fontsize=12)\n",
    "#ax1.legend_.remove()\n",
    "\n",
    "#plt.savefig(f'main_results_{DATASET}_{region}.png', dpi=200) \n",
    "plt.show()"
   ]
  },
  {
   "cell_type": "markdown",
   "id": "0c393ddc-7884-492f-ba36-99b0e26fef12",
   "metadata": {
    "tags": []
   },
   "source": [
    "# Effect of regression"
   ]
  },
  {
   "cell_type": "code",
   "execution_count": 35,
   "id": "30784aae-b500-40b2-a0fc-55b818b4e7d1",
   "metadata": {},
   "outputs": [],
   "source": [
    "DATASET = 'naturalscenes'\n",
    "region = 'ventral visual stream'"
   ]
  },
  {
   "cell_type": "code",
   "execution_count": 36,
   "id": "5fcd196c-112d-4851-a2a5-fa1bd9eba8bb",
   "metadata": {},
   "outputs": [],
   "source": [
    "path = '/home/akazemi3/Desktop/untrained_models_of_visual_cortex/model_evaluation/results/predicting_brain_data'\n",
    "#load data\n",
    "with open(os.path.join(path,f'bootstrap-results-engineered-{DATASET}-{region}-df.pkl'), 'rb') as file:\n",
    "    df_engineered = pickle.load(file)\n",
    "    \n",
    "with open(os.path.join(path,f'bootstrap-results-alexnet-{DATASET}-{region}-df.pkl'), 'rb') as file:\n",
    "    df_alexnet = pickle.load(file)  "
   ]
  },
  {
   "cell_type": "code",
   "execution_count": 37,
   "id": "b5dd664e-0b1d-43f9-9ac0-f54aecf81187",
   "metadata": {},
   "outputs": [],
   "source": [
    "df_engineered['features'] = df_engineered['features'].apply(lambda x: int(x)*36)\n",
    "\n",
    "names ={'expansion':'Expansion','expansion_linear':'Expansion Linear',}\n",
    "df_engineered['model'] = df_engineered['model'].map(names)\n",
    "\n",
    "palette ={'Expansion':'seagreen','Expansion Linear':'orange'}\n",
    "df_engineered['color'] = df_engineered['model'].map(palette)\n",
    "df_engineered = df_engineered.dropna().reset_index()"
   ]
  },
  {
   "cell_type": "code",
   "execution_count": 38,
   "id": "bf863fbc-d2fe-4419-ae99-c0b3293853a2",
   "metadata": {},
   "outputs": [
    {
     "data": {
      "image/png": "[encoded data removed]",
      "text/plain": [
       "<Figure size 500x500 with 1 Axes>"
      ]
     },
     "metadata": {},
     "output_type": "display_data"
    }
   ],
   "source": [
    "# main results\n",
    "rcParams['figure.figsize'] = (5,5)  \n",
    "\n",
    "ax1 = sns.lineplot(data = df_engineered, x='features', y='score', hue='model', marker='o',palette = palette)\n",
    "#sns.lineplot(data = df_engineered, x='features', y='score', hue='model', marker='o',stypalette = palette)\n",
    "\n",
    "# Adding error bars for the 95% confidence interval\n",
    "for i in range(len(df_engineered)):\n",
    "    plt.errorbar(df_engineered['features'][i], df_engineered['score'][i], \n",
    "                 yerr=[[df_engineered['score'][i] - df_engineered['lower'][i]], \n",
    "                       [df_engineered['upper'][i] - df_engineered['score'][i]]], \n",
    "                 fmt='none', capsize=5, color=df_engineered['color'][i])\n",
    "    \n",
    "# alexnet results\n",
    "plt.axhline(y=df_alexnet['score'][0], color='royalblue', linestyle='--', label='AlexNet')\n",
    "plt.fill_between(np.arange(df_engineered['features'].min()/3,df_engineered['features'].max()*3), \n",
    "                 df_alexnet['lower'], \n",
    "                 df_alexnet['upper'], \n",
    "                 color='royalblue', alpha=0.2)\n",
    "\n",
    "#plt.axhline(y=untrained_alexnet, color='grey', linestyle='--', label='Untrained AlexNet')\n",
    "\n",
    "# plt.xlabel('Number of Features',size=20)\n",
    "# plt.ylabel('Encoding Score',size=20)\n",
    "plt.ylim(0,0.40)\n",
    "plt.xlim(df_engineered['features'].min()/2,df_engineered['features'].max()*2)\n",
    "\n",
    "plt.xticks(size=15)\n",
    "plt.yticks(size=15)\n",
    "ax1.set_xscale(\"log\")    \n",
    "    \n",
    "#plt.legend(frameon=False,fontsize=12)\n",
    "#ax1.legend(fontsize=10,loc='upper left')\n",
    "ax1.legend_.remove()\n",
    "\n",
    "plt.savefig(f'effects_of_regression_{DATASET}_{region}.png', dpi=200) \n",
    "plt.show()"
   ]
  },
  {
   "cell_type": "markdown",
   "id": "c7c5ce6d-a9f1-42ab-8141-5087f27103dc",
   "metadata": {
    "tags": []
   },
   "source": [
    "# PCA results"
   ]
  },
  {
   "cell_type": "code",
   "execution_count": null,
   "id": "471eb463-be0c-4bd1-a618-37ee116d6fbe",
   "metadata": {},
   "outputs": [],
   "source": []
  },
  {
   "cell_type": "markdown",
   "id": "f6ccdce8-8221-4ef5-a58c-e6c67d84f3bc",
   "metadata": {},
   "source": [
    "naturalscenes"
   ]
  },
  {
   "cell_type": "code",
   "execution_count": 25,
   "id": "21c3ddc3-0b95-4782-979f-68995e36f1c3",
   "metadata": {},
   "outputs": [
    {
     "data": {
      "image/png": "[encoded data removed]",
      "text/plain": [
       "<Figure size 440x500 with 1 Axes>"
      ]
     },
     "metadata": {},
     "output_type": "display_data"
    }
   ],
   "source": [
    "region = 'IT'\n",
    "dataset = 'majajhong'\n",
    "\n",
    "region = 'ventral visual stream'\n",
    "dataset = 'naturalscenes'\n",
    "\n",
    "scores = []\n",
    "idens = [f'expansion_features=3000_layers=5_dataset={dataset}_{region}', \n",
    "    f'expansion_features=3000_layers=5_dataset={dataset}_principal_components_{region}', \n",
    "        ]         \n",
    "\n",
    "for iden in idens:\n",
    "    scores.append(float(xr.open_dataset(os.path.join(CACHE,'encoding_scores_torch',iden), \n",
    "                                        engine='h5netcdf').r_value.mean()))\n",
    "    \n",
    "    \n",
    "plt.clf()\n",
    "rcParams['figure.figsize'] = (4.4,5)  \n",
    "names = ['Original model','Reduced model']\n",
    "\n",
    "sns.barplot(x=names, y=scores, width=0.5, palette={'Original model':'seagreen',\n",
    "                                                   'Reduced model':'slategray'\n",
    "                                                   })\n",
    "\n",
    "\n",
    "# plt.xlabel('Number of Features',size=12)\n",
    "# plt.ylabel('Encoding Score',size=12)\n",
    "\n",
    "#plt.xticks(size=20)\n",
    "plt.yticks(size=20)\n",
    "\n",
    "# plt.ylabel('Encoding Score',size=12)\n",
    "# plt.legend()\n",
    "\n",
    "\n",
    "plt.savefig(f'pca_comparison_{dataset}_{region}.png', dpi=100) \n",
    "plt.show()\n"
   ]
  },
  {
   "cell_type": "markdown",
   "id": "09a8ec6b-7c1e-40a9-8d7d-69399c351c93",
   "metadata": {},
   "source": [
    "majaj"
   ]
  },
  {
   "cell_type": "code",
   "execution_count": 52,
   "id": "98c9488f-1852-4538-a74f-bc47286ec692",
   "metadata": {},
   "outputs": [
    {
     "name": "stderr",
     "output_type": "stream",
     "text": [
      "No artists with labels found to put in legend.  Note that artists whose label start with an underscore are ignored when legend() is called with no argument.\n"
     ]
    },
    {
     "data": {
      "image/png": "[encoded data removed]",
      "text/plain": [
       "<Figure size 400x400 with 1 Axes>"
      ]
     },
     "metadata": {},
     "output_type": "display_data"
    }
   ],
   "source": [
    "region = 'IT'\n",
    "dataset = 'majajhong'\n",
    "\n",
    "scores = []\n",
    "idens = [f'expansion_3000_dataset={dataset}_principal_components_{region}', \n",
    "         f'alexnet_conv5_5_layers_256_features_gpool=False_{dataset}_principal_components_{region}'\n",
    "        ]         \n",
    "\n",
    "for iden in idens:\n",
    "    scores.append(float(xr.open_dataset(os.path.join(CACHE,'encoding_scores_torch',iden), \n",
    "                                        engine='h5netcdf').r_value.mean()))\n",
    "    \n",
    "    \n",
    "plt.clf()\n",
    "rcParams['figure.figsize'] = (4,4)  \n",
    "names = ['expansion-3k','alexnet']\n",
    "\n",
    "sns.barplot(x=names, y=scores, width=0.5)\n",
    "plt.legend()\n",
    "plt.savefig(f'pca_comparison_{dataset}_{region}.png', dpi=100) \n",
    "plt.show()\n"
   ]
  },
  {
   "cell_type": "code",
   "execution_count": null,
   "id": "9940ddd8-ec26-4bbb-81b9-ed066e6b6ff9",
   "metadata": {},
   "outputs": [],
   "source": []
  }
 ],
 "metadata": {
  "kernelspec": {
   "display_name": "Python 3 (ipykernel)",
   "language": "python",
   "name": "python3"
  },
  "language_info": {
   "codemirror_mode": {
    "name": "ipython",
    "version": 3
   },
   "file_extension": ".py",
   "mimetype": "text/x-python",
   "name": "python",
   "nbconvert_exporter": "python",
   "pygments_lexer": "ipython3",
   "version": "3.10.9"
  }
 },
 "nbformat": 4,
 "nbformat_minor": 5
}
