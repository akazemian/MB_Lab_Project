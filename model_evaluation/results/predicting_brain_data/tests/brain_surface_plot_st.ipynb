{
 "cells": [
  {
   "cell_type": "code",
   "execution_count": 1,
   "id": "66763412-879c-401a-8059-4a3d35caa155",
   "metadata": {
    "tags": []
   },
   "outputs": [],
   "source": [
    "import os\n",
    "import sys\n",
    "ROOT = os.getenv('BONNER_ROOT_PATH')\n",
    "sys.path.append(ROOT)\n",
    "\n",
    "from model_evaluation.results.predicting_brain_data.brain_map import *\n",
    "from model_features.models.models import load_model_dict\n",
    "from model_evaluation.utils import get_activations_iden\n",
    "from config import CACHE\n",
    "from matplotlib.colors import LinearSegmentedColormap\n",
    "\n",
    "def process_data(data):\n",
    "\n",
    "    data = data.drop_vars([\"subject\",'region','name']).to_array()\n",
    "    data.x.values = data.x.values.astype(int)\n",
    "    data.y.values = data.y.values.astype(int)\n",
    "    data.z.values = data.z.values.astype(int)\n",
    "    data = data.drop('variable').squeeze()\n",
    "    \n",
    "    return data\n",
    "\n",
    "\n",
    "def get_scores_iden(activations_iden, region):\n",
    "    models = []\n",
    "    scores_path = os.path.join(CACHE,'encoding_scores_torch')\n",
    "    for iden in os.listdir(scores_path):\n",
    "        if all(sub in iden for sub in [activations_iden, region]):\n",
    "            models.append(iden)\n",
    "    return sorted(models)"
   ]
  },
  {
   "cell_type": "markdown",
   "id": "ab744580-aac9-4e7d-8adf-67b4dc27eb15",
   "metadata": {
    "tags": []
   },
   "source": [
    "# Plotting brain maps"
   ]
  },
  {
   "cell_type": "code",
   "execution_count": 3,
   "id": "1d5ae0c0",
   "metadata": {},
   "outputs": [
    {
     "name": "stderr",
     "output_type": "stream",
     "text": [
      "\u001b[32m2023-11-08 15:44:06.862\u001b[0m | \u001b[34m\u001b[1mDEBUG   \u001b[0m | \u001b[36mmodel_evaluation.results.predicting_brain_data.brain_map\u001b[0m:\u001b[36mdownload_from_s3\u001b[0m:\u001b[36m114\u001b[0m - \u001b[34m\u001b[1mUsing previously downloaded file at /data/atlas/brain_map/allen2021.natural_scenes/nsddata/ppdata/subj01/func1pt8mm/brainmask.nii.gz instead of downloading nsddata/ppdata/subj01/func1pt8mm/brainmask.nii.gz from S3 bucket natural-scenes-dataset\u001b[0m\n",
      "\u001b[32m2023-11-08 15:44:06.870\u001b[0m | \u001b[34m\u001b[1mDEBUG   \u001b[0m | \u001b[36mmodel_evaluation.results.predicting_brain_data.brain_map\u001b[0m:\u001b[36mdownload_from_s3\u001b[0m:\u001b[36m114\u001b[0m - \u001b[34m\u001b[1mUsing previously downloaded file at /data/atlas/brain_map/allen2021.natural_scenes/nsddata/ppdata/subj01/transforms/func1pt8-to-MNI.nii.gz instead of downloading nsddata/ppdata/subj01/transforms/func1pt8-to-MNI.nii.gz from S3 bucket natural-scenes-dataset\u001b[0m\n",
      "\u001b[32m2023-11-08 15:44:10.635\u001b[0m | \u001b[34m\u001b[1mDEBUG   \u001b[0m | \u001b[36mmodel_evaluation.results.predicting_brain_data.brain_map\u001b[0m:\u001b[36mdownload_from_s3\u001b[0m:\u001b[36m114\u001b[0m - \u001b[34m\u001b[1mUsing previously downloaded file at /data/atlas/brain_map/allen2021.natural_scenes/nsddata/ppdata/subj02/func1pt8mm/brainmask.nii.gz instead of downloading nsddata/ppdata/subj02/func1pt8mm/brainmask.nii.gz from S3 bucket natural-scenes-dataset\u001b[0m\n",
      "\u001b[32m2023-11-08 15:44:10.643\u001b[0m | \u001b[34m\u001b[1mDEBUG   \u001b[0m | \u001b[36mmodel_evaluation.results.predicting_brain_data.brain_map\u001b[0m:\u001b[36mdownload_from_s3\u001b[0m:\u001b[36m114\u001b[0m - \u001b[34m\u001b[1mUsing previously downloaded file at /data/atlas/brain_map/allen2021.natural_scenes/nsddata/ppdata/subj02/transforms/func1pt8-to-MNI.nii.gz instead of downloading nsddata/ppdata/subj02/transforms/func1pt8-to-MNI.nii.gz from S3 bucket natural-scenes-dataset\u001b[0m\n",
      "\u001b[32m2023-11-08 15:44:14.305\u001b[0m | \u001b[34m\u001b[1mDEBUG   \u001b[0m | \u001b[36mmodel_evaluation.results.predicting_brain_data.brain_map\u001b[0m:\u001b[36mdownload_from_s3\u001b[0m:\u001b[36m114\u001b[0m - \u001b[34m\u001b[1mUsing previously downloaded file at /data/atlas/brain_map/allen2021.natural_scenes/nsddata/ppdata/subj03/func1pt8mm/brainmask.nii.gz instead of downloading nsddata/ppdata/subj03/func1pt8mm/brainmask.nii.gz from S3 bucket natural-scenes-dataset\u001b[0m\n",
      "\u001b[32m2023-11-08 15:44:14.313\u001b[0m | \u001b[34m\u001b[1mDEBUG   \u001b[0m | \u001b[36mmodel_evaluation.results.predicting_brain_data.brain_map\u001b[0m:\u001b[36mdownload_from_s3\u001b[0m:\u001b[36m114\u001b[0m - \u001b[34m\u001b[1mUsing previously downloaded file at /data/atlas/brain_map/allen2021.natural_scenes/nsddata/ppdata/subj03/transforms/func1pt8-to-MNI.nii.gz instead of downloading nsddata/ppdata/subj03/transforms/func1pt8-to-MNI.nii.gz from S3 bucket natural-scenes-dataset\u001b[0m\n",
      "\u001b[32m2023-11-08 15:44:18.007\u001b[0m | \u001b[34m\u001b[1mDEBUG   \u001b[0m | \u001b[36mmodel_evaluation.results.predicting_brain_data.brain_map\u001b[0m:\u001b[36mdownload_from_s3\u001b[0m:\u001b[36m114\u001b[0m - \u001b[34m\u001b[1mUsing previously downloaded file at /data/atlas/brain_map/allen2021.natural_scenes/nsddata/ppdata/subj04/func1pt8mm/brainmask.nii.gz instead of downloading nsddata/ppdata/subj04/func1pt8mm/brainmask.nii.gz from S3 bucket natural-scenes-dataset\u001b[0m\n",
      "\u001b[32m2023-11-08 15:44:18.016\u001b[0m | \u001b[34m\u001b[1mDEBUG   \u001b[0m | \u001b[36mmodel_evaluation.results.predicting_brain_data.brain_map\u001b[0m:\u001b[36mdownload_from_s3\u001b[0m:\u001b[36m114\u001b[0m - \u001b[34m\u001b[1mUsing previously downloaded file at /data/atlas/brain_map/allen2021.natural_scenes/nsddata/ppdata/subj04/transforms/func1pt8-to-MNI.nii.gz instead of downloading nsddata/ppdata/subj04/transforms/func1pt8-to-MNI.nii.gz from S3 bucket natural-scenes-dataset\u001b[0m\n",
      "\u001b[32m2023-11-08 15:44:21.693\u001b[0m | \u001b[34m\u001b[1mDEBUG   \u001b[0m | \u001b[36mmodel_evaluation.results.predicting_brain_data.brain_map\u001b[0m:\u001b[36mdownload_from_s3\u001b[0m:\u001b[36m114\u001b[0m - \u001b[34m\u001b[1mUsing previously downloaded file at /data/atlas/brain_map/allen2021.natural_scenes/nsddata/ppdata/subj05/func1pt8mm/brainmask.nii.gz instead of downloading nsddata/ppdata/subj05/func1pt8mm/brainmask.nii.gz from S3 bucket natural-scenes-dataset\u001b[0m\n",
      "\u001b[32m2023-11-08 15:44:21.701\u001b[0m | \u001b[34m\u001b[1mDEBUG   \u001b[0m | \u001b[36mmodel_evaluation.results.predicting_brain_data.brain_map\u001b[0m:\u001b[36mdownload_from_s3\u001b[0m:\u001b[36m114\u001b[0m - \u001b[34m\u001b[1mUsing previously downloaded file at /data/atlas/brain_map/allen2021.natural_scenes/nsddata/ppdata/subj05/transforms/func1pt8-to-MNI.nii.gz instead of downloading nsddata/ppdata/subj05/transforms/func1pt8-to-MNI.nii.gz from S3 bucket natural-scenes-dataset\u001b[0m\n",
      "\u001b[32m2023-11-08 15:44:25.471\u001b[0m | \u001b[34m\u001b[1mDEBUG   \u001b[0m | \u001b[36mmodel_evaluation.results.predicting_brain_data.brain_map\u001b[0m:\u001b[36mdownload_from_s3\u001b[0m:\u001b[36m114\u001b[0m - \u001b[34m\u001b[1mUsing previously downloaded file at /data/atlas/brain_map/allen2021.natural_scenes/nsddata/ppdata/subj06/func1pt8mm/brainmask.nii.gz instead of downloading nsddata/ppdata/subj06/func1pt8mm/brainmask.nii.gz from S3 bucket natural-scenes-dataset\u001b[0m\n",
      "\u001b[32m2023-11-08 15:44:25.481\u001b[0m | \u001b[34m\u001b[1mDEBUG   \u001b[0m | \u001b[36mmodel_evaluation.results.predicting_brain_data.brain_map\u001b[0m:\u001b[36mdownload_from_s3\u001b[0m:\u001b[36m114\u001b[0m - \u001b[34m\u001b[1mUsing previously downloaded file at /data/atlas/brain_map/allen2021.natural_scenes/nsddata/ppdata/subj06/transforms/func1pt8-to-MNI.nii.gz instead of downloading nsddata/ppdata/subj06/transforms/func1pt8-to-MNI.nii.gz from S3 bucket natural-scenes-dataset\u001b[0m\n",
      "\u001b[32m2023-11-08 15:44:29.200\u001b[0m | \u001b[34m\u001b[1mDEBUG   \u001b[0m | \u001b[36mmodel_evaluation.results.predicting_brain_data.brain_map\u001b[0m:\u001b[36mdownload_from_s3\u001b[0m:\u001b[36m114\u001b[0m - \u001b[34m\u001b[1mUsing previously downloaded file at /data/atlas/brain_map/allen2021.natural_scenes/nsddata/ppdata/subj07/func1pt8mm/brainmask.nii.gz instead of downloading nsddata/ppdata/subj07/func1pt8mm/brainmask.nii.gz from S3 bucket natural-scenes-dataset\u001b[0m\n",
      "\u001b[32m2023-11-08 15:44:29.208\u001b[0m | \u001b[34m\u001b[1mDEBUG   \u001b[0m | \u001b[36mmodel_evaluation.results.predicting_brain_data.brain_map\u001b[0m:\u001b[36mdownload_from_s3\u001b[0m:\u001b[36m114\u001b[0m - \u001b[34m\u001b[1mUsing previously downloaded file at /data/atlas/brain_map/allen2021.natural_scenes/nsddata/ppdata/subj07/transforms/func1pt8-to-MNI.nii.gz instead of downloading nsddata/ppdata/subj07/transforms/func1pt8-to-MNI.nii.gz from S3 bucket natural-scenes-dataset\u001b[0m\n",
      "\u001b[32m2023-11-08 15:44:32.935\u001b[0m | \u001b[34m\u001b[1mDEBUG   \u001b[0m | \u001b[36mmodel_evaluation.results.predicting_brain_data.brain_map\u001b[0m:\u001b[36mdownload_from_s3\u001b[0m:\u001b[36m114\u001b[0m - \u001b[34m\u001b[1mUsing previously downloaded file at /data/atlas/brain_map/allen2021.natural_scenes/nsddata/ppdata/subj08/func1pt8mm/brainmask.nii.gz instead of downloading nsddata/ppdata/subj08/func1pt8mm/brainmask.nii.gz from S3 bucket natural-scenes-dataset\u001b[0m\n",
      "\u001b[32m2023-11-08 15:44:32.943\u001b[0m | \u001b[34m\u001b[1mDEBUG   \u001b[0m | \u001b[36mmodel_evaluation.results.predicting_brain_data.brain_map\u001b[0m:\u001b[36mdownload_from_s3\u001b[0m:\u001b[36m114\u001b[0m - \u001b[34m\u001b[1mUsing previously downloaded file at /data/atlas/brain_map/allen2021.natural_scenes/nsddata/ppdata/subj08/transforms/func1pt8-to-MNI.nii.gz instead of downloading nsddata/ppdata/subj08/transforms/func1pt8-to-MNI.nii.gz from S3 bucket natural-scenes-dataset\u001b[0m\n",
      "\u001b[32m2023-11-08 15:44:36.702\u001b[0m | \u001b[34m\u001b[1mDEBUG   \u001b[0m | \u001b[36mmodel_evaluation.results.predicting_brain_data.brain_map\u001b[0m:\u001b[36mdownload_from_s3\u001b[0m:\u001b[36m114\u001b[0m - \u001b[34m\u001b[1mUsing previously downloaded file at /data/atlas/brain_map/allen2021.natural_scenes/nsddata/ppdata/subj01/func1pt8mm/brainmask.nii.gz instead of downloading nsddata/ppdata/subj01/func1pt8mm/brainmask.nii.gz from S3 bucket natural-scenes-dataset\u001b[0m\n",
      "\u001b[32m2023-11-08 15:44:36.710\u001b[0m | \u001b[34m\u001b[1mDEBUG   \u001b[0m | \u001b[36mmodel_evaluation.results.predicting_brain_data.brain_map\u001b[0m:\u001b[36mdownload_from_s3\u001b[0m:\u001b[36m114\u001b[0m - \u001b[34m\u001b[1mUsing previously downloaded file at /data/atlas/brain_map/allen2021.natural_scenes/nsddata/ppdata/subj01/transforms/func1pt8-to-MNI.nii.gz instead of downloading nsddata/ppdata/subj01/transforms/func1pt8-to-MNI.nii.gz from S3 bucket natural-scenes-dataset\u001b[0m\n",
      "\u001b[32m2023-11-08 15:44:40.474\u001b[0m | \u001b[34m\u001b[1mDEBUG   \u001b[0m | \u001b[36mmodel_evaluation.results.predicting_brain_data.brain_map\u001b[0m:\u001b[36mdownload_from_s3\u001b[0m:\u001b[36m114\u001b[0m - \u001b[34m\u001b[1mUsing previously downloaded file at /data/atlas/brain_map/allen2021.natural_scenes/nsddata/ppdata/subj02/func1pt8mm/brainmask.nii.gz instead of downloading nsddata/ppdata/subj02/func1pt8mm/brainmask.nii.gz from S3 bucket natural-scenes-dataset\u001b[0m\n",
      "\u001b[32m2023-11-08 15:44:40.482\u001b[0m | \u001b[34m\u001b[1mDEBUG   \u001b[0m | \u001b[36mmodel_evaluation.results.predicting_brain_data.brain_map\u001b[0m:\u001b[36mdownload_from_s3\u001b[0m:\u001b[36m114\u001b[0m - \u001b[34m\u001b[1mUsing previously downloaded file at /data/atlas/brain_map/allen2021.natural_scenes/nsddata/ppdata/subj02/transforms/func1pt8-to-MNI.nii.gz instead of downloading nsddata/ppdata/subj02/transforms/func1pt8-to-MNI.nii.gz from S3 bucket natural-scenes-dataset\u001b[0m\n",
      "\u001b[32m2023-11-08 15:44:44.162\u001b[0m | \u001b[34m\u001b[1mDEBUG   \u001b[0m | \u001b[36mmodel_evaluation.results.predicting_brain_data.brain_map\u001b[0m:\u001b[36mdownload_from_s3\u001b[0m:\u001b[36m114\u001b[0m - \u001b[34m\u001b[1mUsing previously downloaded file at /data/atlas/brain_map/allen2021.natural_scenes/nsddata/ppdata/subj03/func1pt8mm/brainmask.nii.gz instead of downloading nsddata/ppdata/subj03/func1pt8mm/brainmask.nii.gz from S3 bucket natural-scenes-dataset\u001b[0m\n",
      "\u001b[32m2023-11-08 15:44:44.170\u001b[0m | \u001b[34m\u001b[1mDEBUG   \u001b[0m | \u001b[36mmodel_evaluation.results.predicting_brain_data.brain_map\u001b[0m:\u001b[36mdownload_from_s3\u001b[0m:\u001b[36m114\u001b[0m - \u001b[34m\u001b[1mUsing previously downloaded file at /data/atlas/brain_map/allen2021.natural_scenes/nsddata/ppdata/subj03/transforms/func1pt8-to-MNI.nii.gz instead of downloading nsddata/ppdata/subj03/transforms/func1pt8-to-MNI.nii.gz from S3 bucket natural-scenes-dataset\u001b[0m\n",
      "\u001b[32m2023-11-08 15:44:47.890\u001b[0m | \u001b[34m\u001b[1mDEBUG   \u001b[0m | \u001b[36mmodel_evaluation.results.predicting_brain_data.brain_map\u001b[0m:\u001b[36mdownload_from_s3\u001b[0m:\u001b[36m114\u001b[0m - \u001b[34m\u001b[1mUsing previously downloaded file at /data/atlas/brain_map/allen2021.natural_scenes/nsddata/ppdata/subj04/func1pt8mm/brainmask.nii.gz instead of downloading nsddata/ppdata/subj04/func1pt8mm/brainmask.nii.gz from S3 bucket natural-scenes-dataset\u001b[0m\n",
      "\u001b[32m2023-11-08 15:44:47.899\u001b[0m | \u001b[34m\u001b[1mDEBUG   \u001b[0m | \u001b[36mmodel_evaluation.results.predicting_brain_data.brain_map\u001b[0m:\u001b[36mdownload_from_s3\u001b[0m:\u001b[36m114\u001b[0m - \u001b[34m\u001b[1mUsing previously downloaded file at /data/atlas/brain_map/allen2021.natural_scenes/nsddata/ppdata/subj04/transforms/func1pt8-to-MNI.nii.gz instead of downloading nsddata/ppdata/subj04/transforms/func1pt8-to-MNI.nii.gz from S3 bucket natural-scenes-dataset\u001b[0m\n",
      "\u001b[32m2023-11-08 15:44:51.579\u001b[0m | \u001b[34m\u001b[1mDEBUG   \u001b[0m | \u001b[36mmodel_evaluation.results.predicting_brain_data.brain_map\u001b[0m:\u001b[36mdownload_from_s3\u001b[0m:\u001b[36m114\u001b[0m - \u001b[34m\u001b[1mUsing previously downloaded file at /data/atlas/brain_map/allen2021.natural_scenes/nsddata/ppdata/subj05/func1pt8mm/brainmask.nii.gz instead of downloading nsddata/ppdata/subj05/func1pt8mm/brainmask.nii.gz from S3 bucket natural-scenes-dataset\u001b[0m\n",
      "\u001b[32m2023-11-08 15:44:51.587\u001b[0m | \u001b[34m\u001b[1mDEBUG   \u001b[0m | \u001b[36mmodel_evaluation.results.predicting_brain_data.brain_map\u001b[0m:\u001b[36mdownload_from_s3\u001b[0m:\u001b[36m114\u001b[0m - \u001b[34m\u001b[1mUsing previously downloaded file at /data/atlas/brain_map/allen2021.natural_scenes/nsddata/ppdata/subj05/transforms/func1pt8-to-MNI.nii.gz instead of downloading nsddata/ppdata/subj05/transforms/func1pt8-to-MNI.nii.gz from S3 bucket natural-scenes-dataset\u001b[0m\n",
      "\u001b[32m2023-11-08 15:44:55.315\u001b[0m | \u001b[34m\u001b[1mDEBUG   \u001b[0m | \u001b[36mmodel_evaluation.results.predicting_brain_data.brain_map\u001b[0m:\u001b[36mdownload_from_s3\u001b[0m:\u001b[36m114\u001b[0m - \u001b[34m\u001b[1mUsing previously downloaded file at /data/atlas/brain_map/allen2021.natural_scenes/nsddata/ppdata/subj06/func1pt8mm/brainmask.nii.gz instead of downloading nsddata/ppdata/subj06/func1pt8mm/brainmask.nii.gz from S3 bucket natural-scenes-dataset\u001b[0m\n",
      "\u001b[32m2023-11-08 15:44:55.325\u001b[0m | \u001b[34m\u001b[1mDEBUG   \u001b[0m | \u001b[36mmodel_evaluation.results.predicting_brain_data.brain_map\u001b[0m:\u001b[36mdownload_from_s3\u001b[0m:\u001b[36m114\u001b[0m - \u001b[34m\u001b[1mUsing previously downloaded file at /data/atlas/brain_map/allen2021.natural_scenes/nsddata/ppdata/subj06/transforms/func1pt8-to-MNI.nii.gz instead of downloading nsddata/ppdata/subj06/transforms/func1pt8-to-MNI.nii.gz from S3 bucket natural-scenes-dataset\u001b[0m\n",
      "\u001b[32m2023-11-08 15:44:59.068\u001b[0m | \u001b[34m\u001b[1mDEBUG   \u001b[0m | \u001b[36mmodel_evaluation.results.predicting_brain_data.brain_map\u001b[0m:\u001b[36mdownload_from_s3\u001b[0m:\u001b[36m114\u001b[0m - \u001b[34m\u001b[1mUsing previously downloaded file at /data/atlas/brain_map/allen2021.natural_scenes/nsddata/ppdata/subj07/func1pt8mm/brainmask.nii.gz instead of downloading nsddata/ppdata/subj07/func1pt8mm/brainmask.nii.gz from S3 bucket natural-scenes-dataset\u001b[0m\n",
      "\u001b[32m2023-11-08 15:44:59.076\u001b[0m | \u001b[34m\u001b[1mDEBUG   \u001b[0m | \u001b[36mmodel_evaluation.results.predicting_brain_data.brain_map\u001b[0m:\u001b[36mdownload_from_s3\u001b[0m:\u001b[36m114\u001b[0m - \u001b[34m\u001b[1mUsing previously downloaded file at /data/atlas/brain_map/allen2021.natural_scenes/nsddata/ppdata/subj07/transforms/func1pt8-to-MNI.nii.gz instead of downloading nsddata/ppdata/subj07/transforms/func1pt8-to-MNI.nii.gz from S3 bucket natural-scenes-dataset\u001b[0m\n",
      "\u001b[32m2023-11-08 15:45:02.794\u001b[0m | \u001b[34m\u001b[1mDEBUG   \u001b[0m | \u001b[36mmodel_evaluation.results.predicting_brain_data.brain_map\u001b[0m:\u001b[36mdownload_from_s3\u001b[0m:\u001b[36m114\u001b[0m - \u001b[34m\u001b[1mUsing previously downloaded file at /data/atlas/brain_map/allen2021.natural_scenes/nsddata/ppdata/subj08/func1pt8mm/brainmask.nii.gz instead of downloading nsddata/ppdata/subj08/func1pt8mm/brainmask.nii.gz from S3 bucket natural-scenes-dataset\u001b[0m\n",
      "\u001b[32m2023-11-08 15:45:02.802\u001b[0m | \u001b[34m\u001b[1mDEBUG   \u001b[0m | \u001b[36mmodel_evaluation.results.predicting_brain_data.brain_map\u001b[0m:\u001b[36mdownload_from_s3\u001b[0m:\u001b[36m114\u001b[0m - \u001b[34m\u001b[1mUsing previously downloaded file at /data/atlas/brain_map/allen2021.natural_scenes/nsddata/ppdata/subj08/transforms/func1pt8-to-MNI.nii.gz instead of downloading nsddata/ppdata/subj08/transforms/func1pt8-to-MNI.nii.gz from S3 bucket natural-scenes-dataset\u001b[0m\n"
     ]
    },
    {
     "data": {
      "text/plain": [
       "<Figure size 640x480 with 0 Axes>"
      ]
     },
     "metadata": {},
     "output_type": "display_data"
    }
   ],
   "source": [
    "dataset = 'naturalscenes'\n",
    "\n",
    "#scores_iden_1 ='expansion_model_3_layers_10000_features_naturalscenes_general'\n",
    "scores_iden_1 ='scat_transfom_maxpool_J=5_L=8_M=224_N=224_gpool=False_naturalscenes_general'\n",
    "scores_iden_2 = 'alexnet_naturalscenes_general'\n",
    "\n",
    "plot_brain_map(data= None,\n",
    "            subject= None, \n",
    "            cond = 'difference_of_means',\n",
    "            scores_path = os.path.join(CACHE,'encoding_scores_torch',scores_iden_1),\n",
    "            scores_path_2 = os.path.join(CACHE,'encoding_scores_torch',scores_iden_2),\n",
    "            name=f'scattering_vs_alexnet_conv5',\n",
    "            vmax = 0.3)\n",
    "plt.clf()"
   ]
  },
  {
   "cell_type": "code",
   "execution_count": null,
   "id": "c3915d83-856d-49f8-a0f3-ffbe1db4ed33",
   "metadata": {},
   "outputs": [],
   "source": []
  }
 ],
 "metadata": {
  "kernelspec": {
   "display_name": "Python 3 (ipykernel)",
   "language": "python",
   "name": "python3"
  },
  "language_info": {
   "codemirror_mode": {
    "name": "ipython",
    "version": 3
   },
   "file_extension": ".py",
   "mimetype": "text/x-python",
   "name": "python",
   "nbconvert_exporter": "python",
   "pygments_lexer": "ipython3",
   "version": "3.10.9"
  }
 },
 "nbformat": 4,
 "nbformat_minor": 5
}
