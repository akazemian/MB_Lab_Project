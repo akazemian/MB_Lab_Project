{
 "cells": [
  {
   "cell_type": "code",
   "execution_count": 32,
   "id": "518ac500-1d45-47c2-9ee4-64ca4b810244",
   "metadata": {},
   "outputs": [],
   "source": [
    "import os\n",
    "import sys\n",
    "ROOT = os.getenv('BONNER_ROOT_PATH')\n",
    "sys.path.append(ROOT)\n",
    "from model_evaluation.results.predicting_brain_data.tools import plot_results\n",
    "from model_evaluation.utils import get_best_layer_iden, get_scores_iden\n",
    "from model_features.models.models import load_model_dict\n",
    "from config import CACHE\n",
    "import pandas as pd\n",
    "import xarray as xr\n",
    "import matplotlib.pyplot as plt\n",
    "import seaborn as sns\n",
    "from matplotlib import rcParams\n",
    "from model_features.models.learned_scaterring.main import load_model\n",
    "import torch"
   ]
  },
  {
   "cell_type": "markdown",
   "id": "5bfa75d9-a40c-417f-b086-46fb807cee91",
   "metadata": {
    "jp-MarkdownHeadingCollapsed": true,
    "tags": []
   },
   "source": [
    "# Simple ST"
   ]
  },
  {
   "cell_type": "code",
   "execution_count": null,
   "id": "b4c0731d-13c9-431b-ae8d-ae773498428f",
   "metadata": {},
   "outputs": [],
   "source": []
  },
  {
   "cell_type": "code",
   "execution_count": 2,
   "id": "6453ec89-c93c-4425-948c-09d64bcccaa5",
   "metadata": {},
   "outputs": [],
   "source": [
    "def make_pandas_df(dataset, regions, subjects, gpool, identifier):\n",
    "    \n",
    "    df = pd.DataFrame()\n",
    "    index = 0        \n",
    "    \n",
    "    for region in regions:\n",
    "        identifier = identifier + '_' + region\n",
    "\n",
    "        data = xr.open_dataset(os.path.join(CACHE,'encoding_scores_torch',identifier), engine='h5netcdf')\n",
    "\n",
    "        for subject in subjects:\n",
    "            subject_data = data.where(data.subject == subject, drop=True)\n",
    "            mean_r = subject_data.r_value.values.mean()\n",
    "\n",
    "            df_tmp =  pd.DataFrame({'score':mean_r,\n",
    "                                    'size':M,\n",
    "                                    'iden':identifier,\n",
    "                                    'J':J,\n",
    "                                    'L':L,\n",
    "                                    'region':region,\n",
    "                                    'subject':subject},index=[index])\n",
    "            df = pd.concat([df,df_tmp])\n",
    "            index+=1\n",
    "\n",
    "    return df"
   ]
  },
  {
   "cell_type": "code",
   "execution_count": 6,
   "id": "c35563b9-57ac-48bd-a11b-8f77b90e275c",
   "metadata": {},
   "outputs": [],
   "source": [
    "subjects = [i for i in range(8)]\n",
    "DATASET='naturalscenes'\n",
    "regions=['general']\n",
    "MAX_POOL = True\n",
    "RANDOM_PROJ = None\n",
    "GLOBAL_POOL = False \n",
    "M, N = 224, 224"
   ]
  },
  {
   "cell_type": "code",
   "execution_count": 7,
   "id": "6f34bec7-b9d3-48f8-90cb-decd8d9bd4ba",
   "metadata": {},
   "outputs": [],
   "source": [
    "dfs = []\n",
    "    \n",
    "for J in [5,6]:  \n",
    "    for L in [8]:\n",
    "\n",
    "        if GLOBAL_POOL:\n",
    "            activations_identifier = 'scat_transfom' + '_'+ f'J={J}_L={L}_M={M}_N={N}' + '_' + DATASET\n",
    "\n",
    "        elif RANDOM_PROJ is not None or (J== 5 and L==12):\n",
    "            RANDOM_PROJ = 1000\n",
    "            activations_identifier = 'scat_transfom' + '_' + f'randproj={RANDOM_PROJ}' + '_' + f'J={J}_L={L}_M={M}_N={N}' + '_' + 'gpool=False' + '_' + DATASET                \n",
    "\n",
    "        else:\n",
    "            activations_identifier = 'scat_transfom' + '_' + f'maxpool' + '_' +  f'J={J}_L={L}_M={M}_N={N}' + '_' + 'gpool=False' + '_' + DATASET\n",
    "\n",
    "        dfs.append(make_pandas_df(DATASET, regions, subjects, GLOBAL_POOL, activations_identifier))\n",
    "        RANDOM_PROJ = None\n"
   ]
  },
  {
   "cell_type": "code",
   "execution_count": 8,
   "id": "d8d9fec1-de70-45d2-bdc0-69d205f08cf3",
   "metadata": {},
   "outputs": [],
   "source": [
    "df = pd.concat(dfs)\n",
    "df['model'] = df[['J','L']].apply(lambda x: 'J=' + str(x.J) + '_' + 'L=' + str(x.L), axis=1)\n",
    "df = df.groupby(['L','J']).mean().reset_index()"
   ]
  },
  {
   "cell_type": "code",
   "execution_count": 9,
   "id": "153fee93-8ea4-41bd-931c-6e63fe4f0d89",
   "metadata": {},
   "outputs": [
    {
     "data": {
      "text/html": [
       "<div>\n",
       "<style scoped>\n",
       "    .dataframe tbody tr th:only-of-type {\n",
       "        vertical-align: middle;\n",
       "    }\n",
       "\n",
       "    .dataframe tbody tr th {\n",
       "        vertical-align: top;\n",
       "    }\n",
       "\n",
       "    .dataframe thead th {\n",
       "        text-align: right;\n",
       "    }\n",
       "</style>\n",
       "<table border=\"1\" class=\"dataframe\">\n",
       "  <thead>\n",
       "    <tr style=\"text-align: right;\">\n",
       "      <th></th>\n",
       "      <th>L</th>\n",
       "      <th>J</th>\n",
       "      <th>score</th>\n",
       "      <th>size</th>\n",
       "      <th>subject</th>\n",
       "    </tr>\n",
       "  </thead>\n",
       "  <tbody>\n",
       "    <tr>\n",
       "      <th>0</th>\n",
       "      <td>8</td>\n",
       "      <td>5</td>\n",
       "      <td>0.223353</td>\n",
       "      <td>224.0</td>\n",
       "      <td>3.5</td>\n",
       "    </tr>\n",
       "    <tr>\n",
       "      <th>1</th>\n",
       "      <td>8</td>\n",
       "      <td>6</td>\n",
       "      <td>0.221703</td>\n",
       "      <td>224.0</td>\n",
       "      <td>3.5</td>\n",
       "    </tr>\n",
       "  </tbody>\n",
       "</table>\n",
       "</div>"
      ],
      "text/plain": [
       "   L  J     score   size  subject\n",
       "0  8  5  0.223353  224.0      3.5\n",
       "1  8  6  0.221703  224.0      3.5"
      ]
     },
     "execution_count": 9,
     "metadata": {},
     "output_type": "execute_result"
    }
   ],
   "source": [
    "df"
   ]
  },
  {
   "cell_type": "code",
   "execution_count": 19,
   "id": "045e5775-df4c-4dff-a81d-88fb217524be",
   "metadata": {},
   "outputs": [],
   "source": []
  },
  {
   "cell_type": "code",
   "execution_count": 20,
   "id": "1bd63b43-5e81-451c-8969-f2130e546dca",
   "metadata": {},
   "outputs": [
    {
     "data": {
      "image/png": "[encoded data removed]",
      "text/plain": [
       "<Figure size 800x400 with 1 Axes>"
      ]
     },
     "metadata": {},
     "output_type": "display_data"
    }
   ],
   "source": [
    "region = 'V4'\n",
    "\n",
    "scores = []\n",
    "idens = [f'scat_transfom_maxpool_J=5_L=8_M=224_N=224_gpool=False_naturalscenes_{region}', \n",
    "         f'expansion_model_3_layers_10000_features_gpool=False_naturalscenes_{region}',\n",
    "         f'alexnet_untrained_gpool=False_naturalscenes_{region}',\n",
    "         f'alexnet_gpool=False_naturalscenes_{region}']\n",
    "\n",
    "for iden in idens:\n",
    "    scores.append(float(xr.open_dataset(os.path.join(CACHE,'encoding_scores_torch',iden), engine='h5netcdf').r_value.mean()))\n",
    "    \n",
    "    \n",
    "    \n",
    "    plt.clf()\n",
    "rcParams['figure.figsize'] = (8,4)  \n",
    "names = ['st_J=5_L=8', 'expansion_model','alexnet_untrained','alexnet']\n",
    "sns.barplot(x = names, y = scores)\n",
    "plt.savefig(f'comparison_{region}.png', bbox_inches='tight', dpi=100) "
   ]
  },
  {
   "cell_type": "code",
   "execution_count": 51,
   "id": "557582b2-b9cc-42a5-9ca5-d42f799687ad",
   "metadata": {},
   "outputs": [
    {
     "data": {
      "image/png": "[encoded data removed]",
      "text/plain": [
       "<Figure size 1200x600 with 1 Axes>"
      ]
     },
     "metadata": {},
     "output_type": "display_data"
    }
   ],
   "source": [
    "plt.clf()\n",
    "rcParams['figure.figsize'] = (12,6)  \n",
    "\n",
    "sns.barplot(x = df.J, y = df['score'], hue=df.L, errorbar=\"sd\")\n",
    "plt.savefig(f'scat_transform_avgpool.png', bbox_inches='tight', dpi=100) "
   ]
  },
  {
   "cell_type": "code",
   "execution_count": 17,
   "id": "0e8c7cd3-906f-44f9-a5d7-ac40ef2996b2",
   "metadata": {},
   "outputs": [
    {
     "ename": "AttributeError",
     "evalue": "'DataFrame' object has no attribute 'model'",
     "output_type": "error",
     "traceback": [
      "\u001b[0;31m---------------------------------------------------------------------------\u001b[0m",
      "\u001b[0;31mAttributeError\u001b[0m                            Traceback (most recent call last)",
      "Cell \u001b[0;32mIn[17], line 2\u001b[0m\n\u001b[1;32m      1\u001b[0m \u001b[38;5;28;01mimport\u001b[39;00m \u001b[38;5;21;01mseaborn\u001b[39;00m \u001b[38;5;28;01mas\u001b[39;00m \u001b[38;5;21;01msns\u001b[39;00m\n\u001b[0;32m----> 2\u001b[0m sns\u001b[38;5;241m.\u001b[39mbarplot(x \u001b[38;5;241m=\u001b[39m \u001b[43mdf\u001b[49m\u001b[38;5;241;43m.\u001b[39;49m\u001b[43mmodel\u001b[49m, y \u001b[38;5;241m=\u001b[39m df[\u001b[38;5;124m'\u001b[39m\u001b[38;5;124mscore\u001b[39m\u001b[38;5;124m'\u001b[39m], errorbar\u001b[38;5;241m=\u001b[39m\u001b[38;5;124m\"\u001b[39m\u001b[38;5;124msd\u001b[39m\u001b[38;5;124m\"\u001b[39m)\n",
      "File \u001b[0;32m~/miniconda3/envs/bonner-lab-new/lib/python3.10/site-packages/pandas/core/generic.py:5902\u001b[0m, in \u001b[0;36mNDFrame.__getattr__\u001b[0;34m(self, name)\u001b[0m\n\u001b[1;32m   5895\u001b[0m \u001b[38;5;28;01mif\u001b[39;00m (\n\u001b[1;32m   5896\u001b[0m     name \u001b[38;5;129;01mnot\u001b[39;00m \u001b[38;5;129;01min\u001b[39;00m \u001b[38;5;28mself\u001b[39m\u001b[38;5;241m.\u001b[39m_internal_names_set\n\u001b[1;32m   5897\u001b[0m     \u001b[38;5;129;01mand\u001b[39;00m name \u001b[38;5;129;01mnot\u001b[39;00m \u001b[38;5;129;01min\u001b[39;00m \u001b[38;5;28mself\u001b[39m\u001b[38;5;241m.\u001b[39m_metadata\n\u001b[1;32m   5898\u001b[0m     \u001b[38;5;129;01mand\u001b[39;00m name \u001b[38;5;129;01mnot\u001b[39;00m \u001b[38;5;129;01min\u001b[39;00m \u001b[38;5;28mself\u001b[39m\u001b[38;5;241m.\u001b[39m_accessors\n\u001b[1;32m   5899\u001b[0m     \u001b[38;5;129;01mand\u001b[39;00m \u001b[38;5;28mself\u001b[39m\u001b[38;5;241m.\u001b[39m_info_axis\u001b[38;5;241m.\u001b[39m_can_hold_identifiers_and_holds_name(name)\n\u001b[1;32m   5900\u001b[0m ):\n\u001b[1;32m   5901\u001b[0m     \u001b[38;5;28;01mreturn\u001b[39;00m \u001b[38;5;28mself\u001b[39m[name]\n\u001b[0;32m-> 5902\u001b[0m \u001b[38;5;28;01mreturn\u001b[39;00m \u001b[38;5;28;43mobject\u001b[39;49m\u001b[38;5;241;43m.\u001b[39;49m\u001b[38;5;21;43m__getattribute__\u001b[39;49m\u001b[43m(\u001b[49m\u001b[38;5;28;43mself\u001b[39;49m\u001b[43m,\u001b[49m\u001b[43m \u001b[49m\u001b[43mname\u001b[49m\u001b[43m)\u001b[49m\n",
      "\u001b[0;31mAttributeError\u001b[0m: 'DataFrame' object has no attribute 'model'"
     ]
    }
   ],
   "source": [
    "import seaborn as sns\n",
    "sns.barplot(x = df.model, y = df['score'], errorbar=\"sd\")"
   ]
  },
  {
   "cell_type": "markdown",
   "id": "4cc86a72-c340-4679-8bf8-4701628a1e5c",
   "metadata": {},
   "source": [
    "# Rainbow"
   ]
  },
  {
   "cell_type": "code",
   "execution_count": null,
   "id": "51b3ed6a-94b4-4c0a-8853-bbe381e8c858",
   "metadata": {},
   "outputs": [],
   "source": [
    "layer_names = []\n",
    "scores = []\n",
    "import re\n",
    "\n",
    "path = '/data/atlas/rainbow_models/Pr_Norm/batchsize_128_lrfreq_45_best.pth.tar'\n",
    "model = load_model()\n",
    "checkpoint = torch.load(path)\n",
    "state_dict = checkpoint[\"state_dict\"]\n",
    "state_dict = {key.replace(\"(0, 0)\", \"0\"): value for key, value in state_dict.items()}\n",
    "checkpoint[\"state_dict\"] = state_dict\n",
    "model.load_state_dict(checkpoint['state_dict'])\n",
    "\n",
    "label = []\n",
    "scores = []\n",
    "\n",
    "\n",
    "for num_layers in range(6,12):\n",
    "    \n",
    "    layer_names.append(f'layer {i}')\n",
    "    data = xr.open_dataset(f'/data/atlas/.cache/encoding_scores_torch/rainbow_trained_Pr_Norm_{num_layers}L_general',engine='netcdf4')\n",
    "    scores.append(float(data.r_value.mean()))\n",
    "    \n",
    "    m = model[:num_layers+1]\n",
    "\n",
    "\n",
    "    c = 0\n",
    "    for layer in range(1,num_layers+1):\n",
    "\n",
    "        module = str(m[layer][-2])\n",
    "        match = re.search(r'out_channels=(\\d+)R', module)\n",
    "        out_channels = int(match.group(1))\n",
    "        c += out_channels\n",
    "    \n",
    "    label.append(f'layer_number={num_layers}, num_params={c}')\n"
   ]
  },
  {
   "cell_type": "code",
   "execution_count": null,
   "id": "e30758aa-4c0a-4529-802d-0a2ac983dc81",
   "metadata": {},
   "outputs": [],
   "source": [
    "plt.clf()\n",
    "rcParams['figure.figsize'] = (12,6)  \n",
    "\n",
    "sns.barplot(x = label, y = scores)\n",
    "plt.savefig(f'rainbow_layers.png', bbox_inches='tight', dpi=100) "
   ]
  },
  {
   "cell_type": "code",
   "execution_count": 25,
   "id": "d678e171-20ad-4f16-9a5f-df51a324ef55",
   "metadata": {},
   "outputs": [
    {
     "data": {
      "image/png": "[encoded data removed]",
      "text/plain": [
       "<Figure size 800x400 with 1 Axes>"
      ]
     },
     "metadata": {},
     "output_type": "display_data"
    }
   ],
   "source": [
    "region = 'general'\n",
    "\n",
    "scores = []\n",
    "idens = [f'alexnet_untrained_gpool=False_naturalscenes_{region}',\n",
    "         f'scat_transform_J=5_L=8_M=224_N=224_gpool=False_naturalscenes_{region}', \n",
    "         f'expansion_model_3_layers_10000_features_gpool=False_naturalscenes_{region}',\n",
    "         f'alexnet_gpool=False_naturalscenes_{region}',\n",
    "         f'rainbow_trained_Pr_Norm_9L_{region}']\n",
    "\n",
    "for iden in idens:\n",
    "    scores.append(float(xr.open_dataset(os.path.join(CACHE,'encoding_scores_torch',iden), engine='h5netcdf').r_value.mean()))\n",
    "    \n",
    "    \n",
    "    plt.clf()\n",
    "rcParams['figure.figsize'] = (8,4)  \n",
    "names = ['alexnet_untrained','st_J=5_L=8','expansion_model','alexnet','rainbow']\n",
    "sns.barplot(x = names, y = scores)\n",
    "plt.savefig(f'comparison_{region}.png', bbox_inches='tight', dpi=100) "
   ]
  },
  {
   "cell_type": "code",
   "execution_count": null,
   "id": "4bc1e4ac-78b7-4e16-9248-ea699f10092e",
   "metadata": {},
   "outputs": [],
   "source": []
  }
 ],
 "metadata": {
  "kernelspec": {
   "display_name": "Python 3 (ipykernel)",
   "language": "python",
   "name": "python3"
  },
  "language_info": {
   "codemirror_mode": {
    "name": "ipython",
    "version": 3
   },
   "file_extension": ".py",
   "mimetype": "text/x-python",
   "name": "python",
   "nbconvert_exporter": "python",
   "pygments_lexer": "ipython3",
   "version": "3.10.9"
  }
 },
 "nbformat": 4,
 "nbformat_minor": 5
}
