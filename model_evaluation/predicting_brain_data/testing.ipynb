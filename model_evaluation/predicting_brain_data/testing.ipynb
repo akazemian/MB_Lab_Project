{
 "cells": [
  {
   "cell_type": "code",
   "execution_count": 1,
   "id": "22a1ee7d-6d42-4507-9758-a4bce1159508",
   "metadata": {},
   "outputs": [],
   "source": [
    "import os \n",
    "import sys\n",
    "sys.path.append(os.getenv('BONNER_ROOT_PATH'))\n",
    "import xarray as xr\n",
    "import torch\n",
    "import torchvision\n",
    "import warnings\n",
    "warnings.filterwarnings('ignore')\n",
    "\n",
    "from config import ACTIVATIONS_PATH\n",
    "from image_tools.processing import *\n",
    "from model_evaluation.predicting_brain_data.regression.scorer import scorer\n",
    "from model_evaluation.utils import get_activations_iden, get_scores_iden\n",
    "from model_features.activation_extractor import Activations\n",
    "\n",
    "# define local variables\n",
    "DATASET = 'naturalscenes'\n",
    "REGIONS = ['general']\n",
    "MAX_POOL = True\n",
    "MODE = 'ridgecv'\n",
    "HOOK = None\n",
    "ALPHA_RANGE = [10**i for i in range(1,10)]"
   ]
  },
  {
   "cell_type": "code",
   "execution_count": 6,
   "id": "f25a3324-afdb-4cdd-8a77-93b6e847ccb9",
   "metadata": {},
   "outputs": [
    {
     "data": {
      "text/plain": [
       "array(['image00002', 'image00003', 'image00007', ..., 'image72996',\n",
       "       'image72998', 'image72999'], dtype=object)"
      ]
     },
     "execution_count": 6,
     "metadata": {},
     "output_type": "execute_result"
    }
   ],
   "source": [
    "import xarray as xr\n",
    "xr.open_dataset('/data/atlas/.cache/activations/expansion_model_test_1_3_layers_10000_features_naturalscenes', \n",
    "                engine='netcdf4').stimulus_id.values"
   ]
  },
  {
   "cell_type": "code",
   "execution_count": 2,
   "id": "41f1e9b1-b1a1-42f3-b0b9-f0b65e7f63f1",
   "metadata": {},
   "outputs": [],
   "source": [
    "from model_features.models.expansion_3_layers import Expansion\n",
    "\n",
    "model_info = {\n",
    "                'iden':'expansion_model',\n",
    "                'model':Expansion(filters_3=10000).Build(),\n",
    "                'layers': ['last'], \n",
    "                'num_layers':3,\n",
    "                'num_features':10000,\n",
    "} "
   ]
  },
  {
   "cell_type": "code",
   "execution_count": 3,
   "id": "e0c0580e-cdcb-4fd5-9333-1b7196eaa34f",
   "metadata": {},
   "outputs": [
    {
     "name": "stdout",
     "output_type": "stream",
     "text": [
      "extracting activations\n"
     ]
    },
    {
     "name": "stderr",
     "output_type": "stream",
     "text": [
      "  0%|                                 | 1/730 [00:04<58:20,  4.80s/it]"
     ]
    },
    {
     "ename": "OutOfMemoryError",
     "evalue": "CUDA out of memory. Tried to allocate 2.02 GiB (GPU 0; 7.79 GiB total capacity; 4.05 GiB already allocated; 1.92 GiB free; 4.98 GiB reserved in total by PyTorch) If reserved memory is >> allocated memory try setting max_split_size_mb to avoid fragmentation.  See documentation for Memory Management and PYTORCH_CUDA_ALLOC_CONF",
     "output_type": "error",
     "traceback": [
      "\u001b[0;31m---------------------------------------------------------------------------\u001b[0m",
      "\u001b[0;31mOutOfMemoryError\u001b[0m                          Traceback (most recent call last)",
      "Cell \u001b[0;32mIn[3], line 13\u001b[0m\n\u001b[1;32m      3\u001b[0m activations_identifier \u001b[38;5;241m=\u001b[39m get_activations_iden(model_info, DATASET, MODE)\n\u001b[1;32m      5\u001b[0m activations \u001b[38;5;241m=\u001b[39m Activations(model\u001b[38;5;241m=\u001b[39mmodel_info[\u001b[38;5;124m'\u001b[39m\u001b[38;5;124mmodel\u001b[39m\u001b[38;5;124m'\u001b[39m],\n\u001b[1;32m      6\u001b[0m                         layer_names\u001b[38;5;241m=\u001b[39mmodel_info[\u001b[38;5;124m'\u001b[39m\u001b[38;5;124mlayers\u001b[39m\u001b[38;5;124m'\u001b[39m],\n\u001b[1;32m      7\u001b[0m                         dataset\u001b[38;5;241m=\u001b[39mDATASET,\n\u001b[0;32m   (...)\u001b[0m\n\u001b[1;32m     10\u001b[0m                         batch_size \u001b[38;5;241m=\u001b[39m \u001b[38;5;241m100\u001b[39m\n\u001b[1;32m     11\u001b[0m                     )           \n\u001b[0;32m---> 13\u001b[0m \u001b[43mactivations\u001b[49m\u001b[38;5;241;43m.\u001b[39;49m\u001b[43mget_array\u001b[49m\u001b[43m(\u001b[49m\u001b[43mACTIVATIONS_PATH\u001b[49m\u001b[43m,\u001b[49m\u001b[43mactivations_identifier\u001b[49m\u001b[43m)\u001b[49m   \n\u001b[1;32m     15\u001b[0m scores_identifier \u001b[38;5;241m=\u001b[39m get_scores_iden(model_info, activations_identifier, region, DATASET, MODE)\n\u001b[1;32m     17\u001b[0m scorer(model_name\u001b[38;5;241m=\u001b[39mmodel_info[\u001b[38;5;124m'\u001b[39m\u001b[38;5;124miden\u001b[39m\u001b[38;5;124m'\u001b[39m],\n\u001b[1;32m     18\u001b[0m        activations_identifier\u001b[38;5;241m=\u001b[39mactivations_identifier,\n\u001b[1;32m     19\u001b[0m        scores_identifier\u001b[38;5;241m=\u001b[39mscores_identifier,\n\u001b[0;32m   (...)\u001b[0m\n\u001b[1;32m     22\u001b[0m        region\u001b[38;5;241m=\u001b[39mregion,\n\u001b[1;32m     23\u001b[0m        alpha_values\u001b[38;5;241m=\u001b[39mALPHA_RANGE)\n",
      "File \u001b[0;32m~/Desktop/MB_Lab_Project/model_features/activation_extractor.py:193\u001b[0m, in \u001b[0;36mActivations.get_array\u001b[0;34m(self, path, identifier)\u001b[0m\n\u001b[1;32m    189\u001b[0m pbar \u001b[38;5;241m=\u001b[39m tqdm(total \u001b[38;5;241m=\u001b[39m \u001b[38;5;28mlen\u001b[39m(image_paths)\u001b[38;5;241m/\u001b[39m\u001b[38;5;241m/\u001b[39m\u001b[38;5;28mself\u001b[39m\u001b[38;5;241m.\u001b[39mbatch_size)\n\u001b[1;32m    191\u001b[0m \u001b[38;5;28;01mwhile\u001b[39;00m i \u001b[38;5;241m<\u001b[39m \u001b[38;5;28mlen\u001b[39m(image_paths):\n\u001b[0;32m--> 193\u001b[0m     batch_data_final \u001b[38;5;241m=\u001b[39m \u001b[43mbatch_activations\u001b[49m\u001b[43m(\u001b[49m\u001b[43mwrapped_model\u001b[49m\u001b[43m,\u001b[49m\n\u001b[1;32m    194\u001b[0m \u001b[43m                                         \u001b[49m\u001b[38;5;28;43mself\u001b[39;49m\u001b[38;5;241;43m.\u001b[39;49m\u001b[43mlayer_names\u001b[49m\u001b[43m,\u001b[49m\n\u001b[1;32m    195\u001b[0m \u001b[43m                                         \u001b[49m\u001b[43mimage_paths\u001b[49m\u001b[43m[\u001b[49m\u001b[43mi\u001b[49m\u001b[43m:\u001b[49m\u001b[43mi\u001b[49m\u001b[38;5;241;43m+\u001b[39;49m\u001b[38;5;28;43mself\u001b[39;49m\u001b[38;5;241;43m.\u001b[39;49m\u001b[43mbatch_size\u001b[49m\u001b[43m]\u001b[49m\u001b[43m,\u001b[49m\n\u001b[1;32m    196\u001b[0m \u001b[43m                                         \u001b[49m\u001b[43mlabels\u001b[49m\u001b[43m[\u001b[49m\u001b[43mi\u001b[49m\u001b[43m:\u001b[49m\u001b[43mi\u001b[49m\u001b[38;5;241;43m+\u001b[39;49m\u001b[38;5;28;43mself\u001b[39;49m\u001b[38;5;241;43m.\u001b[39;49m\u001b[43mbatch_size\u001b[49m\u001b[43m]\u001b[49m\u001b[43m,\u001b[49m\n\u001b[1;32m    197\u001b[0m \u001b[43m                                         \u001b[49m\u001b[43m_hook\u001b[49m\u001b[43m \u001b[49m\u001b[38;5;241;43m=\u001b[39;49m\u001b[43m \u001b[49m\u001b[38;5;28;43mself\u001b[39;49m\u001b[38;5;241;43m.\u001b[39;49m\u001b[43mhook\u001b[49m\u001b[43m)\u001b[49m\n\u001b[1;32m    199\u001b[0m     ds_list\u001b[38;5;241m.\u001b[39mappend(batch_data_final)    \n\u001b[1;32m    200\u001b[0m     i \u001b[38;5;241m+\u001b[39m\u001b[38;5;241m=\u001b[39m \u001b[38;5;28mself\u001b[39m\u001b[38;5;241m.\u001b[39mbatch_size\n",
      "File \u001b[0;32m~/Desktop/MB_Lab_Project/model_features/activation_extractor.py:123\u001b[0m, in \u001b[0;36mbatch_activations\u001b[0;34m(model, layer_names, image_paths, image_labels, _hook)\u001b[0m\n\u001b[1;32m    115\u001b[0m \u001b[38;5;28;01mdef\u001b[39;00m \u001b[38;5;21mbatch_activations\u001b[39m(model: nn\u001b[38;5;241m.\u001b[39mModule, \n\u001b[1;32m    116\u001b[0m                       layer_names: \u001b[38;5;28mlist\u001b[39m, \n\u001b[1;32m    117\u001b[0m                       image_paths: torch\u001b[38;5;241m.\u001b[39mTensor,\n\u001b[1;32m    118\u001b[0m                       image_labels: \u001b[38;5;28mlist\u001b[39m,\n\u001b[1;32m    119\u001b[0m                       _hook: \u001b[38;5;28mstr\u001b[39m) \u001b[38;5;241m-\u001b[39m\u001b[38;5;241m>\u001b[39m xr\u001b[38;5;241m.\u001b[39mDataset:\n\u001b[1;32m    122\u001b[0m         processed_images \u001b[38;5;241m=\u001b[39m preprocess(image_paths) \n\u001b[0;32m--> 123\u001b[0m         activations_dict \u001b[38;5;241m=\u001b[39m \u001b[43mmodel\u001b[49m\u001b[38;5;241;43m.\u001b[39;49m\u001b[43mget_activations\u001b[49m\u001b[43m(\u001b[49m\u001b[43mimages\u001b[49m\u001b[43m \u001b[49m\u001b[38;5;241;43m=\u001b[39;49m\u001b[43m \u001b[49m\u001b[43mprocessed_images\u001b[49m\u001b[43m,\u001b[49m\u001b[43m \u001b[49m\u001b[43mlayer_names\u001b[49m\u001b[43m \u001b[49m\u001b[38;5;241;43m=\u001b[39;49m\u001b[43m \u001b[49m\u001b[43mlayer_names\u001b[49m\u001b[43m,\u001b[49m\u001b[43m \u001b[49m\u001b[43m_hook\u001b[49m\u001b[43m \u001b[49m\u001b[38;5;241;43m=\u001b[39;49m\u001b[43m \u001b[49m\u001b[43m_hook\u001b[49m\u001b[43m)\u001b[49m\n\u001b[1;32m    124\u001b[0m         activations_final \u001b[38;5;241m=\u001b[39m []\n\u001b[1;32m    127\u001b[0m         \u001b[38;5;28;01mfor\u001b[39;00m layer \u001b[38;5;129;01min\u001b[39;00m layer_names:\n",
      "File \u001b[0;32m~/Desktop/MB_Lab_Project/model_features/activation_extractor.py:66\u001b[0m, in \u001b[0;36mPytorchWrapper.get_activations\u001b[0;34m(self, images, layer_names, _hook)\u001b[0m\n\u001b[1;32m     63\u001b[0m     hooks\u001b[38;5;241m.\u001b[39mappend(hook)\n\u001b[1;32m     65\u001b[0m \u001b[38;5;28;01mwith\u001b[39;00m torch\u001b[38;5;241m.\u001b[39mno_grad():\n\u001b[0;32m---> 66\u001b[0m     \u001b[38;5;28;43mself\u001b[39;49m\u001b[38;5;241;43m.\u001b[39;49m\u001b[43m_model\u001b[49m\u001b[43m(\u001b[49m\u001b[43mimages\u001b[49m\u001b[43m,\u001b[49m\u001b[43m \u001b[49m\u001b[38;5;241;43m*\u001b[39;49m\u001b[38;5;241;43m*\u001b[39;49m\u001b[38;5;28;43mself\u001b[39;49m\u001b[38;5;241;43m.\u001b[39;49m\u001b[43m_forward_kwargs\u001b[49m\u001b[43m)\u001b[49m\n\u001b[1;32m     67\u001b[0m \u001b[38;5;28;01mfor\u001b[39;00m hook \u001b[38;5;129;01min\u001b[39;00m hooks:\n\u001b[1;32m     68\u001b[0m     hook\u001b[38;5;241m.\u001b[39mremove()\n",
      "File \u001b[0;32m~/miniconda3/envs/bonner-lab-new/lib/python3.10/site-packages/torch/nn/modules/module.py:1501\u001b[0m, in \u001b[0;36mModule._call_impl\u001b[0;34m(self, *args, **kwargs)\u001b[0m\n\u001b[1;32m   1496\u001b[0m \u001b[38;5;66;03m# If we don't have any hooks, we want to skip the rest of the logic in\u001b[39;00m\n\u001b[1;32m   1497\u001b[0m \u001b[38;5;66;03m# this function, and just call forward.\u001b[39;00m\n\u001b[1;32m   1498\u001b[0m \u001b[38;5;28;01mif\u001b[39;00m \u001b[38;5;129;01mnot\u001b[39;00m (\u001b[38;5;28mself\u001b[39m\u001b[38;5;241m.\u001b[39m_backward_hooks \u001b[38;5;129;01mor\u001b[39;00m \u001b[38;5;28mself\u001b[39m\u001b[38;5;241m.\u001b[39m_backward_pre_hooks \u001b[38;5;129;01mor\u001b[39;00m \u001b[38;5;28mself\u001b[39m\u001b[38;5;241m.\u001b[39m_forward_hooks \u001b[38;5;129;01mor\u001b[39;00m \u001b[38;5;28mself\u001b[39m\u001b[38;5;241m.\u001b[39m_forward_pre_hooks\n\u001b[1;32m   1499\u001b[0m         \u001b[38;5;129;01mor\u001b[39;00m _global_backward_pre_hooks \u001b[38;5;129;01mor\u001b[39;00m _global_backward_hooks\n\u001b[1;32m   1500\u001b[0m         \u001b[38;5;129;01mor\u001b[39;00m _global_forward_hooks \u001b[38;5;129;01mor\u001b[39;00m _global_forward_pre_hooks):\n\u001b[0;32m-> 1501\u001b[0m     \u001b[38;5;28;01mreturn\u001b[39;00m \u001b[43mforward_call\u001b[49m\u001b[43m(\u001b[49m\u001b[38;5;241;43m*\u001b[39;49m\u001b[43margs\u001b[49m\u001b[43m,\u001b[49m\u001b[43m \u001b[49m\u001b[38;5;241;43m*\u001b[39;49m\u001b[38;5;241;43m*\u001b[39;49m\u001b[43mkwargs\u001b[49m\u001b[43m)\u001b[49m\n\u001b[1;32m   1502\u001b[0m \u001b[38;5;66;03m# Do not call functions when jit is used\u001b[39;00m\n\u001b[1;32m   1503\u001b[0m full_backward_hooks, non_full_backward_hooks \u001b[38;5;241m=\u001b[39m [], []\n",
      "File \u001b[0;32m~/Desktop/MB_Lab_Project/model_features/models/expansion_3_layers.py:58\u001b[0m, in \u001b[0;36mModel.forward\u001b[0;34m(self, x)\u001b[0m\n\u001b[1;32m     54\u001b[0m x \u001b[38;5;241m=\u001b[39m x\u001b[38;5;241m.\u001b[39mto(\u001b[38;5;124m'\u001b[39m\u001b[38;5;124mcuda\u001b[39m\u001b[38;5;124m'\u001b[39m)\n\u001b[1;32m     57\u001b[0m \u001b[38;5;66;03m#layer 1 \u001b[39;00m\n\u001b[0;32m---> 58\u001b[0m x \u001b[38;5;241m=\u001b[39m \u001b[38;5;28;43mself\u001b[39;49m\u001b[38;5;241;43m.\u001b[39;49m\u001b[43mconv1\u001b[49m\u001b[43m(\u001b[49m\u001b[43mx\u001b[49m\u001b[43m)\u001b[49m  \u001b[38;5;66;03m# conv \u001b[39;00m\n\u001b[1;32m     59\u001b[0m x \u001b[38;5;241m=\u001b[39m \u001b[38;5;28mself\u001b[39m\u001b[38;5;241m.\u001b[39mnl(x) \u001b[38;5;66;03m# non linearity \u001b[39;00m\n\u001b[1;32m     60\u001b[0m x \u001b[38;5;241m=\u001b[39m \u001b[38;5;28mself\u001b[39m\u001b[38;5;241m.\u001b[39mbpool1(x) \u001b[38;5;66;03m# anti-aliasing blurpool               \u001b[39;00m\n",
      "File \u001b[0;32m~/miniconda3/envs/bonner-lab-new/lib/python3.10/site-packages/torch/nn/modules/module.py:1501\u001b[0m, in \u001b[0;36mModule._call_impl\u001b[0;34m(self, *args, **kwargs)\u001b[0m\n\u001b[1;32m   1496\u001b[0m \u001b[38;5;66;03m# If we don't have any hooks, we want to skip the rest of the logic in\u001b[39;00m\n\u001b[1;32m   1497\u001b[0m \u001b[38;5;66;03m# this function, and just call forward.\u001b[39;00m\n\u001b[1;32m   1498\u001b[0m \u001b[38;5;28;01mif\u001b[39;00m \u001b[38;5;129;01mnot\u001b[39;00m (\u001b[38;5;28mself\u001b[39m\u001b[38;5;241m.\u001b[39m_backward_hooks \u001b[38;5;129;01mor\u001b[39;00m \u001b[38;5;28mself\u001b[39m\u001b[38;5;241m.\u001b[39m_backward_pre_hooks \u001b[38;5;129;01mor\u001b[39;00m \u001b[38;5;28mself\u001b[39m\u001b[38;5;241m.\u001b[39m_forward_hooks \u001b[38;5;129;01mor\u001b[39;00m \u001b[38;5;28mself\u001b[39m\u001b[38;5;241m.\u001b[39m_forward_pre_hooks\n\u001b[1;32m   1499\u001b[0m         \u001b[38;5;129;01mor\u001b[39;00m _global_backward_pre_hooks \u001b[38;5;129;01mor\u001b[39;00m _global_backward_hooks\n\u001b[1;32m   1500\u001b[0m         \u001b[38;5;129;01mor\u001b[39;00m _global_forward_hooks \u001b[38;5;129;01mor\u001b[39;00m _global_forward_pre_hooks):\n\u001b[0;32m-> 1501\u001b[0m     \u001b[38;5;28;01mreturn\u001b[39;00m \u001b[43mforward_call\u001b[49m\u001b[43m(\u001b[49m\u001b[38;5;241;43m*\u001b[39;49m\u001b[43margs\u001b[49m\u001b[43m,\u001b[49m\u001b[43m \u001b[49m\u001b[38;5;241;43m*\u001b[39;49m\u001b[38;5;241;43m*\u001b[39;49m\u001b[43mkwargs\u001b[49m\u001b[43m)\u001b[49m\n\u001b[1;32m   1502\u001b[0m \u001b[38;5;66;03m# Do not call functions when jit is used\u001b[39;00m\n\u001b[1;32m   1503\u001b[0m full_backward_hooks, non_full_backward_hooks \u001b[38;5;241m=\u001b[39m [], []\n",
      "File \u001b[0;32m~/Desktop/MB_Lab_Project/model_features/layer_operations/convolution.py:63\u001b[0m, in \u001b[0;36mConvolution.forward\u001b[0;34m(self, x)\u001b[0m\n\u001b[1;32m     61\u001b[0m     channel_convolved \u001b[38;5;241m=\u001b[39m F\u001b[38;5;241m.\u001b[39mconv2d(channel_image, weight\u001b[38;5;241m=\u001b[39m weights, padding\u001b[38;5;241m=\u001b[39mmath\u001b[38;5;241m.\u001b[39mfloor(weights\u001b[38;5;241m.\u001b[39mshape[\u001b[38;5;241m-\u001b[39m\u001b[38;5;241m1\u001b[39m] \u001b[38;5;241m/\u001b[39m \u001b[38;5;241m2\u001b[39m))\n\u001b[1;32m     62\u001b[0m     convolved_tensor\u001b[38;5;241m.\u001b[39mappend(channel_convolved)\n\u001b[0;32m---> 63\u001b[0m x \u001b[38;5;241m=\u001b[39m \u001b[43mtorch\u001b[49m\u001b[38;5;241;43m.\u001b[39;49m\u001b[43mcat\u001b[49m\u001b[43m(\u001b[49m\u001b[43mconvolved_tensor\u001b[49m\u001b[43m,\u001b[49m\u001b[43m \u001b[49m\u001b[43mdim\u001b[49m\u001b[38;5;241;43m=\u001b[39;49m\u001b[38;5;241;43m1\u001b[39;49m\u001b[43m)\u001b[49m    \n\u001b[1;32m     66\u001b[0m \u001b[38;5;28;01mreturn\u001b[39;00m x\n",
      "\u001b[0;31mOutOfMemoryError\u001b[0m: CUDA out of memory. Tried to allocate 2.02 GiB (GPU 0; 7.79 GiB total capacity; 4.05 GiB already allocated; 1.92 GiB free; 4.98 GiB reserved in total by PyTorch) If reserved memory is >> allocated memory try setting max_split_size_mb to avoid fragmentation.  See documentation for Memory Management and PYTORCH_CUDA_ALLOC_CONF"
     ]
    }
   ],
   "source": [
    "for region in REGIONS:\n",
    "        \n",
    "    activations_identifier = get_activations_iden(model_info, DATASET, MODE)\n",
    "    \n",
    "    activations = Activations(model=model_info['model'],\n",
    "                            layer_names=model_info['layers'],\n",
    "                            dataset=DATASET,\n",
    "                            mode = MODE,\n",
    "                            hook = HOOK,\n",
    "                            batch_size = 100\n",
    "                        )           \n",
    "\n",
    "    activations.get_array(ACTIVATIONS_PATH,activations_identifier)   \n",
    "\n",
    "    scores_identifier = get_scores_iden(model_info, activations_identifier, region, DATASET, MODE)\n",
    "    \n",
    "    scorer(model_name=model_info['iden'],\n",
    "           activations_identifier=activations_identifier,\n",
    "           scores_identifier=scores_identifier,\n",
    "           dataset=DATASET,\n",
    "           mode=MODE,\n",
    "           region=region,\n",
    "           alpha_values=ALPHA_RANGE)"
   ]
  },
  {
   "cell_type": "code",
   "execution_count": null,
   "id": "95332fbb-e0dc-400b-851c-aba2b0796c66",
   "metadata": {},
   "outputs": [],
   "source": []
  }
 ],
 "metadata": {
  "kernelspec": {
   "display_name": "Python 3 (ipykernel)",
   "language": "python",
   "name": "python3"
  },
  "language_info": {
   "codemirror_mode": {
    "name": "ipython",
    "version": 3
   },
   "file_extension": ".py",
   "mimetype": "text/x-python",
   "name": "python",
   "nbconvert_exporter": "python",
   "pygments_lexer": "ipython3",
   "version": "3.10.9"
  }
 },
 "nbformat": 4,
 "nbformat_minor": 5
}
