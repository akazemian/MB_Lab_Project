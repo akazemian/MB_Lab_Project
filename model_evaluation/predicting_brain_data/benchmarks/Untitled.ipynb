{
 "cells": [
  {
   "cell_type": "code",
   "execution_count": 3,
   "id": "2196c026-abfd-4ebb-9914-4c520b2a68c0",
   "metadata": {},
   "outputs": [],
   "source": [
    "import sys\n",
    "import xarray as xr\n",
    "import numpy as np\n",
    "import torch\n",
    "import os\n",
    "import random \n",
    "from tqdm import tqdm \n",
    "import pickle \n",
    "import warnings\n",
    "warnings.filterwarnings('ignore')\n",
    "import random    \n",
    "random.seed(0)\n",
    "import scipy.stats as st\n",
    "\n",
    "\n",
    "ROOT = os.getenv('BONNER_ROOT_PATH')\n",
    "sys.path.append(ROOT)\n",
    "from config import CACHE, MAJAJ_DATA   \n",
    "DATASET = 'majajhong'\n",
    "SUBJECTS = ['Chabo','Tito']\n",
    "ALPHA_RANGE = [10**i for i in range(10)]\n",
    "\n",
    "TRAIN_IDS =  pickle.load(open(os.path.join(ROOT,'model_evaluation/predicting_brain_data/benchmarks','majaj_train_ids'), \"rb\"))\n",
    "TEST_IDS =  pickle.load(open(os.path.join(ROOT,'model_evaluation/predicting_brain_data/benchmarks','majaj_test_ids'), \"rb\"))"
   ]
  },
  {
   "cell_type": "code",
   "execution_count": 5,
   "id": "4cb15fcd-7ee2-41d3-9fcd-36c845128516",
   "metadata": {},
   "outputs": [
    {
     "data": {
      "text/plain": [
       "640"
      ]
     },
     "execution_count": 5,
     "metadata": {},
     "output_type": "execute_result"
    }
   ],
   "source": [
    "len(TEST_IDS)"
   ]
  },
  {
   "cell_type": "code",
   "execution_count": null,
   "id": "88729697-3a74-4d29-853a-0ef6654276c1",
   "metadata": {},
   "outputs": [],
   "source": [
    "pickle.load()"
   ]
  }
 ],
 "metadata": {
  "kernelspec": {
   "display_name": "Python 3 (ipykernel)",
   "language": "python",
   "name": "python3"
  },
  "language_info": {
   "codemirror_mode": {
    "name": "ipython",
    "version": 3
   },
   "file_extension": ".py",
   "mimetype": "text/x-python",
   "name": "python",
   "nbconvert_exporter": "python",
   "pygments_lexer": "ipython3",
   "version": "3.10.9"
  }
 },
 "nbformat": 4,
 "nbformat_minor": 5
}
