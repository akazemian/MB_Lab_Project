{
 "cells": [
  {
   "cell_type": "code",
   "execution_count": 2,
   "id": "4138e21f-aee3-4932-9502-ff7b320080d3",
   "metadata": {},
   "outputs": [],
   "source": [
    "import xarray as xr\n",
    "import numpy as np\n",
    "import torch\n",
    "import matplotlib.pyplot as plt\n",
    "import sys\n",
    "import torchvision \n",
    "import pandas as pd\n",
    "import seaborn as sns\n",
    "import os \n",
    "ROOT = os.getenv('MB_ROOT_PATH')\n",
    "sys.path.append(ROOT)\n",
    "from analysis.encoding_model_analysis.tools.scorers.nsd import *\n",
    "DATA = os.getenv('MB_DATA_PATH')\n",
    "\n",
    "from tools.processing import *\n",
    "from tools.loading import *\n",
    "RESULTS_PATH = ''\n",
    "BEST_ALPHA_PATH = os.path.join(DATA,'regression_alphas')\n",
    "from analysis.encoding_model_analysis.tools.utils import get_activations_iden, get_scores_iden\n",
    "from matplotlib import rcParams\n",
    "from analysis.encoding_model_analysis.tools.regression import *\n",
    "from analysis.encoding_model_analysis.tools.scorers.function_types import Regression\n"
   ]
  },
  {
   "cell_type": "code",
   "execution_count": 3,
   "id": "8baca722-a227-44b9-888b-93db68a53046",
   "metadata": {},
   "outputs": [],
   "source": [
    "ACTIVATIONS_PATH = os.path.join(ROOT,'activations')\n",
    "NEURAL_DATA_PATH = os.path.join(ROOT,'neural_data')\n",
    "PATH_TO_NSD_SHARED_IDS = os.path.join(NEURAL_DATA_PATH,'nsd_shared_ids')\n",
    "file = open(PATH_TO_NSD_SHARED_IDS, 'rb')\n",
    "SHARED_IDS = pickle.load(file)"
   ]
  },
  {
   "cell_type": "code",
   "execution_count": 3,
   "id": "d94447b5-63ef-4d07-b311-dcf419319b75",
   "metadata": {},
   "outputs": [],
   "source": [
    "activations_identifier = 'expansion_model_rgb_test_mp_3_layers_10000_features_naturalscenes'"
   ]
  },
  {
   "cell_type": "code",
   "execution_count": 4,
   "id": "e3650c87-f9b7-4b74-ae5a-855431cf2ae9",
   "metadata": {},
   "outputs": [
    {
     "name": "stdout",
     "output_type": "stream",
     "text": [
      "\n"
     ]
    }
   ],
   "source": [
    "subject = 0\n",
    "region = 'V1'\n",
    "activations_data = xr.open_dataarray(os.path.join(ACTIVATIONS_PATH,activations_identifier))  \n",
    "\n",
    "\n",
    "alpha_values = [10**i for i in range(10)]\n",
    "\n",
    "\n",
    "\n",
    "ids_train, neural_data_train, var_name_train = load_nsd_data(mode ='unshared',\n",
    "                       subject = subject,\n",
    "                       region = region,\n",
    "                       return_ids = True)\n",
    "\n",
    "X_train = filter_activations(data = activations_data, ids = ids_train)       \n",
    "y_train = neural_data_train[var_name_train].values\n",
    "\n",
    "regression = RidgeCVMod(alphas=alpha_values, store_cv_values = False,\n",
    "                      alpha_per_target = True, scoring = 'pearson_r')\n",
    "regression.fit(X_train, y_train)\n",
    "\n",
    "\n",
    "\n",
    "ids_test, neural_data_test, var_name_test = load_nsd_data(mode ='shared',\n",
    "                       subject = subject,\n",
    "                       region = region,\n",
    "                       return_ids = True)           \n",
    "\n",
    "X_test = filter_activations(data = activations_data, ids = ids_test)                \n",
    "y_test = neural_data_test[var_name_test].values                    \n",
    "y_predicted = X_test.dot(regression.coef_.transpose()) + regression.intercept_\n",
    "\n",
    "r = pearson_r(torch.Tensor(y_test), torch.Tensor(y_predicted))\n"
   ]
  },
  {
   "cell_type": "code",
   "execution_count": 5,
   "id": "acd312d8-7172-41ec-9d08-da42269beddb",
   "metadata": {},
   "outputs": [
    {
     "data": {
      "text/plain": [
       "tensor([0.0020, 0.1511, 0.1259,  ..., 0.0641, 0.1603, 0.0117])"
      ]
     },
     "execution_count": 5,
     "metadata": {},
     "output_type": "execute_result"
    }
   ],
   "source": [
    "r"
   ]
  },
  {
   "cell_type": "code",
   "execution_count": 7,
   "id": "c843be3c-811e-42e3-82cc-85335ecf2a4d",
   "metadata": {},
   "outputs": [],
   "source": [
    "best_alpha_idx = np.array([alpha_values.index(alpha_) for alpha_ in regression.alpha_])\n"
   ]
  },
  {
   "cell_type": "code",
   "execution_count": 22,
   "id": "3c3fc08a-c618-40a6-b27d-a4412904fceb",
   "metadata": {},
   "outputs": [],
   "source": []
  },
  {
   "cell_type": "code",
   "execution_count": 25,
   "id": "f9a27b4e-b6f3-433e-a0cb-0e794a5ab930",
   "metadata": {},
   "outputs": [
    {
     "data": {
      "text/plain": [
       "100"
      ]
     },
     "execution_count": 25,
     "metadata": {},
     "output_type": "execute_result"
    }
   ],
   "source": []
  },
  {
   "cell_type": "code",
   "execution_count": null,
   "id": "e6923490-5ea6-46db-89b9-a3e44e205408",
   "metadata": {},
   "outputs": [],
   "source": []
  }
 ],
 "metadata": {
  "kernelspec": {
   "display_name": "Python 3",
   "language": "python",
   "name": "python3"
  },
  "language_info": {
   "codemirror_mode": {
    "name": "ipython",
    "version": 3
   },
   "file_extension": ".py",
   "mimetype": "text/x-python",
   "name": "python",
   "nbconvert_exporter": "python",
   "pygments_lexer": "ipython3",
   "version": "3.7.16"
  }
 },
 "nbformat": 4,
 "nbformat_minor": 5
}
