{
 "cells": [
  {
   "cell_type": "code",
   "execution_count": 2,
   "id": "c7118584-eb36-4216-838b-688d842c56d6",
   "metadata": {},
   "outputs": [
    {
     "name": "stdout",
     "output_type": "stream",
     "text": [
      "Third-party packages found: ['encoding_score.regression.get_betas', 'encoding_score.regression.scores_tools', '.layer_operations.output', 'model_activations.models.utils', '.expansion', 'numpy', 'timm', 'boto3', '.layer_operations.nonlinearity', 'nibabel', 'torchvision', 'scipy.sparse', '..benchmarks.majajhong', 'xarray', 'sklearn.utils.validation', 'torch', '.fully_connected', '.preset_filters', 'torch.autograd', 'tools.processing', 'scipy', 'sklearn.neighbors', 'sklearn.metrics', 'sklearn.linear_model', 'torchmetrics.functional', 'model_activations.utils', '.vit', 'eigen_analysis.compute_pcs', 'nilearn.plotting', '..regression.regression_tools', 'sklearn.metrics.pairwise', 'sklearn.linear_model._base', 'torch.nn.functional', 'scipy.special', 'sklearn', 'tqdm', 'sklearn.linear_model._ridge', 'model_activations.models.configs', 'model_activations.models.expansion', '.alexnet', 'seaborn', 'scipy.stats', 'sklearn.decomposition', '.utils', 'encoding_score.benchmarks.nsd', 'encoding_score.benchmarks.majajhong', 'sklearn.model_selection', 'config', 'models.layer_operations.output', 'torch.utils.data', 'scipy.spatial.distance', 'scipy.ndimage', 'tools.loading', 'dropbox', 'cupy', 'pandas', '..benchmarks.nsd', 'loguru', 'classification_tools', 'cv2', '..regression.torch_cv', 'matplotlib.pyplot', '.layer_operations.convolution', '.nsd_tools', 'sklearn.preprocessing', 'model_activations.activation_extractor', 'numpy.typing', 'PIL', 'torch.nn', 'eigen_analysis.utils']\n"
     ]
    }
   ],
   "source": [
    "import os\n",
    "import re\n",
    "from collections import defaultdict\n",
    "from stdlib_list import stdlib_list\n",
    "\n",
    "def find_python_packages(root_dir):\n",
    "    \"\"\"Scan through Python files and capture all unique imports.\"\"\"\n",
    "    imports = set()\n",
    "    python_file_pattern = re.compile(r'.*\\.py$')\n",
    "    import_pattern = re.compile(r'^\\s*(?:from\\s+([\\w\\.]+)\\s+import|import\\s+([\\w\\.]+))', re.M)\n",
    "\n",
    "    for subdir, dirs, files in os.walk(root_dir):\n",
    "        for file in files:\n",
    "            if python_file_pattern.match(file):\n",
    "                file_path = os.path.join(subdir, file)\n",
    "                with open(file_path, 'r', encoding='utf-8') as f:\n",
    "                    file_content = f.read()\n",
    "                    matches = import_pattern.findall(file_content)\n",
    "                    imports.update([match[0] or match[1] for match in matches])\n",
    "\n",
    "    # Remove Python standard library imports\n",
    "    # standard_libs = set(['os', 'sys', 're', 'json', 'time'])  # This is just a small sample; this list needs to be expanded\n",
    "    # third_party_imports = [imp for imp in imports if imp.split('.')[0] not in standard_libs]\n",
    "    libraries = stdlib_list(\"3.8\")  # Use the Python version you are checking against\n",
    "    third_party_imports = [imp for imp in imports if imp.split('.')[0] not in libraries]\n",
    "\n",
    "    return third_party_imports\n",
    "\n",
    "# Example usage\n",
    "root_dir = '/home/akazemi3/Desktop/untrained_models_of_visual_cortex'\n",
    "packages = find_python_packages(root_dir)\n",
    "print(\"Third-party packages found:\", packages)\n"
   ]
  },
  {
   "cell_type": "code",
   "execution_count": 7,
   "id": "351585c9-2275-432d-b423-2f5b3d1fc486",
   "metadata": {},
   "outputs": [
    {
     "name": "stdout",
     "output_type": "stream",
     "text": [
      ".expansion\n",
      "numpy\n",
      "timm\n",
      "boto3\n",
      "nibabel\n",
      "torchvision\n",
      "scipy.sparse\n",
      "xarray\n",
      "torch\n",
      ".preset_filters\n",
      "torch.autograd\n",
      "scipy\n",
      "sklearn.neighbors\n",
      "sklearn.metrics\n",
      "sklearn.linear_model\n",
      "torchmetrics.functional\n",
      "eigen_analysis.compute_pcs\n",
      "nilearn.plotting\n",
      "..regression.regression_tools\n",
      "sklearn.metrics.pairwise\n",
      "sklearn.linear_model._base\n",
      "torch.nn.functional\n",
      "scipy.special\n",
      "sklearn\n",
      "tqdm\n",
      "sklearn.linear_model._ridge\n",
      ".alexnet\n",
      "seaborn\n",
      "scipy.stats\n",
      "sklearn.decomposition\n",
      "sklearn.model_selection\n",
      "config\n",
      "scipy.spatial.distance\n",
      "scipy.ndimage\n",
      "dropbox\n",
      "cupy\n",
      "pandas\n",
      "loguru\n",
      "classification_tools\n",
      "cv2\n",
      "..regression.torch_cv\n",
      "matplotlib.pyplot\n",
      ".nsd_tools\n",
      "sklearn.preprocessing\n",
      "numpy.typing\n",
      "PIL\n",
      "torch.nn\n"
     ]
    }
   ],
   "source": [
    "for p in packages:\n",
    "    if 'encoding_score' in p or 'model_activations' in p or 'benchmarks' in p or 'tools.processing' in p or 'tools.loading' in p or 'activations' in p or 'utils' in p or 'layer_operations' in p or 'fully_connected' in p or 'vit' in p:\n",
    "        pass\n",
    "    else:\n",
    "        print(p)"
   ]
  },
  {
   "cell_type": "code",
   "execution_count": 9,
   "id": "ab698113-c969-420f-a525-44a791c94028",
   "metadata": {},
   "outputs": [],
   "source": [
    "s = {'numpy','timm','boto3','nibabel','torchvision','scipy','xarray','torch','sklearn','torchmetrics','nilearn','sklearn','tqdm','seaborn','dropbox','cupy','pandas','loguru','cv2','matplotlib','PIL'}\n"
   ]
  },
  {
   "cell_type": "code",
   "execution_count": 11,
   "id": "d292fbb2-4658-4d23-8120-e50d01ffbc48",
   "metadata": {},
   "outputs": [
    {
     "data": {
      "text/plain": [
       "{'PIL',\n",
       " 'boto3',\n",
       " 'cupy',\n",
       " 'cv2',\n",
       " 'dropbox',\n",
       " 'loguru',\n",
       " 'matplotlib',\n",
       " 'nibabel',\n",
       " 'nilearn',\n",
       " 'numpy',\n",
       " 'pandas',\n",
       " 'scipy',\n",
       " 'seaborn',\n",
       " 'sklearn',\n",
       " 'timm',\n",
       " 'torch',\n",
       " 'torchmetrics',\n",
       " 'torchvision',\n",
       " 'tqdm',\n",
       " 'xarray'}"
      ]
     },
     "execution_count": 11,
     "metadata": {},
     "output_type": "execute_result"
    }
   ],
   "source": [
    "s"
   ]
  },
  {
   "cell_type": "code",
   "execution_count": null,
   "id": "59062361-17d8-4dcf-b8f0-f8a8def306f2",
   "metadata": {},
   "outputs": [],
   "source": [
    "PIL\n",
    "boto3\n",
    "cupy\n",
    "opencv-python\n",
    "dropbox\n",
    "loguru\n",
    "matplotlib\n",
    "nibabel\n",
    "nilearn\n",
    "numpy\n",
    "pandas\n",
    "scipy\n",
    "seaborn\n",
    "sklearn\n",
    "timm\n",
    "torch\n",
    "torchmetrics\n",
    "torchvision\n",
    "tqdm\n",
    "xarray"
   ]
  }
 ],
 "metadata": {
  "kernelspec": {
   "display_name": "Python 3 (ipykernel)",
   "language": "python",
   "name": "python3"
  },
  "language_info": {
   "codemirror_mode": {
    "name": "ipython",
    "version": 3
   },
   "file_extension": ".py",
   "mimetype": "text/x-python",
   "name": "python",
   "nbconvert_exporter": "python",
   "pygments_lexer": "ipython3",
   "version": "3.10.13"
  }
 },
 "nbformat": 4,
 "nbformat_minor": 5
}
