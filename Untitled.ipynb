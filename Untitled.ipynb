{
 "cells": [
  {
   "cell_type": "code",
   "execution_count": 3,
   "id": "7f2dc424-e04b-4676-859d-0429e63ade88",
   "metadata": {},
   "outputs": [
    {
     "data": {
      "text/plain": [
       "array([[1.7724089e-02, 2.9563610e-02, 0.0000000e+00, ..., 0.0000000e+00,\n",
       "        9.9776089e-01, 0.0000000e+00],\n",
       "       [2.5157516e-03, 3.2051712e-02, 0.0000000e+00, ..., 0.0000000e+00,\n",
       "        5.3714156e-01, 0.0000000e+00],\n",
       "       [1.6784548e-03, 7.4486732e-03, 5.2207254e-04, ..., 0.0000000e+00,\n",
       "        4.0558872e-01, 0.0000000e+00],\n",
       "       ...,\n",
       "       [1.3709529e-03, 2.3007102e-02, 3.5714044e-04, ..., 0.0000000e+00,\n",
       "        5.1156068e-01, 2.5139609e-03],\n",
       "       [1.4958378e-02, 8.2514693e-05, 0.0000000e+00, ..., 0.0000000e+00,\n",
       "        7.1130884e-01, 0.0000000e+00],\n",
       "       [6.9152880e-03, 3.4302950e-02, 0.0000000e+00, ..., 0.0000000e+00,\n",
       "        2.1216895e-01, 0.0000000e+00]], dtype=float32)"
      ]
     },
     "execution_count": 3,
     "metadata": {},
     "output_type": "execute_result"
    }
   ],
   "source": [
    "import xarray as xr\n",
    "xr.open_dataset('/data/atlas/activations/expansion_model_test_3_layers_10000_features_places').x.values"
   ]
  },
  {
   "cell_type": "code",
   "execution_count": null,
   "id": "8ea68f7e-3dc5-44cc-85c0-2bec01f5969e",
   "metadata": {},
   "outputs": [],
   "source": []
  }
 ],
 "metadata": {
  "kernelspec": {
   "display_name": "Python 3 (ipykernel)",
   "language": "python",
   "name": "python3"
  },
  "language_info": {
   "codemirror_mode": {
    "name": "ipython",
    "version": 3
   },
   "file_extension": ".py",
   "mimetype": "text/x-python",
   "name": "python",
   "nbconvert_exporter": "python",
   "pygments_lexer": "ipython3",
   "version": "3.10.9"
  }
 },
 "nbformat": 4,
 "nbformat_minor": 5
}
